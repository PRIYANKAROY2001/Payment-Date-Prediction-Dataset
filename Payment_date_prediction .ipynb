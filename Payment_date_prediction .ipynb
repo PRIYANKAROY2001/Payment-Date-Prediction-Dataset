{
  "cells": [
    {
      "cell_type": "markdown",
      "metadata": {
        "id": "wcq6dWzy1ZR0"
      },
      "source": [
        "# Payment Date Prediction "
      ],
      "id": "wcq6dWzy1ZR0"
    },
    {
      "cell_type": "markdown",
      "metadata": {
        "id": "2778654e"
      },
      "source": [
        "\n",
        "### Importing related Libraries "
      ],
      "id": "2778654e"
    },
    {
      "cell_type": "code",
      "execution_count": null,
      "metadata": {
        "id": "304c9e38"
      },
      "outputs": [],
      "source": [
        "import pandas as pd\n",
        "import numpy as np\n",
        "import matplotlib.pyplot as plt\n",
        "from sklearn import preprocessing\n",
        "import seaborn as sns\n",
        "from sklearn.model_selection import train_test_split\n",
        "import datetime"
      ],
      "id": "304c9e38"
    },
    {
      "cell_type": "markdown",
      "metadata": {
        "id": "8724f5ee"
      },
      "source": [
        "### Store the dataset into the Dataframe\n"
      ],
      "id": "8724f5ee"
    },
    {
      "cell_type": "code",
      "execution_count": null,
      "metadata": {
        "colab": {
          "base_uri": "https://localhost:8080/",
          "height": 644
        },
        "id": "415db50a",
        "outputId": "37a7ad98-817d-4e47-c202-bf499ddc1610"
      },
      "outputs": [
        {
          "output_type": "execute_result",
          "data": {
            "text/plain": [
              "      business_code cust_number       name_customer           clear_date  \\\n",
              "0              U001  0200769623        WAL-MAR corp  2020-02-11 00:00:00   \n",
              "1              U001  0200980828              BEN E   2019-08-08 00:00:00   \n",
              "2              U001  0200792734          MDV/ trust  2019-12-30 00:00:00   \n",
              "3              CA02  0140105686            SYSC llc                  NaN   \n",
              "4              U001  0200769623  WAL-MAR foundation  2019-11-25 00:00:00   \n",
              "...             ...         ...                 ...                  ...   \n",
              "49995          U001  0200561861      CO corporation                  NaN   \n",
              "49996          U001  0200769623          WAL-MAR co  2019-09-03 00:00:00   \n",
              "49997          U001  0200772595    SAFEW associates  2020-03-05 00:00:00   \n",
              "49998          U001  0200726979           BJ'S  llc  2019-12-12 00:00:00   \n",
              "49999          U001  0200020431            DEC corp  2019-01-15 00:00:00   \n",
              "\n",
              "       buisness_year        doc_id posting_date  document_create_date  \\\n",
              "0             2020.0  1.930438e+09   2020-01-26              20200125   \n",
              "1             2019.0  1.929646e+09   2019-07-22              20190722   \n",
              "2             2019.0  1.929874e+09   2019-09-14              20190914   \n",
              "3             2020.0  2.960623e+09   2020-03-30              20200330   \n",
              "4             2019.0  1.930148e+09   2019-11-13              20191113   \n",
              "...              ...           ...          ...                   ...   \n",
              "49995         2020.0  1.930797e+09   2020-04-21              20200417   \n",
              "49996         2019.0  1.929744e+09   2019-08-15              20190814   \n",
              "49997         2020.0  1.930537e+09   2020-02-19              20200218   \n",
              "49998         2019.0  1.930199e+09   2019-11-27              20191126   \n",
              "49999         2019.0  1.928576e+09   2019-01-05              20190105   \n",
              "\n",
              "       document_create_date.1  due_in_date invoice_currency document type  \\\n",
              "0                    20200126   20200210.0              USD            RV   \n",
              "1                    20190722   20190811.0              USD            RV   \n",
              "2                    20190914   20190929.0              USD            RV   \n",
              "3                    20200330   20200410.0              CAD            RV   \n",
              "4                    20191113   20191128.0              USD            RV   \n",
              "...                       ...          ...              ...           ...   \n",
              "49995                20200421   20200506.0              USD            RV   \n",
              "49996                20190815   20190830.0              USD            RV   \n",
              "49997                20200219   20200305.0              USD            RV   \n",
              "49998                20191127   20191212.0              USD            RV   \n",
              "49999                20190105   20190124.0              USD            RV   \n",
              "\n",
              "       posting_id  area_business  total_open_amount  baseline_create_date  \\\n",
              "0             1.0            NaN           54273.28            20200126.0   \n",
              "1             1.0            NaN           79656.60            20190722.0   \n",
              "2             1.0            NaN            2253.86            20190914.0   \n",
              "3             1.0            NaN            3299.70            20200331.0   \n",
              "4             1.0            NaN           33133.29            20191113.0   \n",
              "...           ...            ...                ...                   ...   \n",
              "49995         1.0            NaN            3187.86            20200421.0   \n",
              "49996         1.0            NaN            6766.54            20190815.0   \n",
              "49997         1.0            NaN            6120.86            20200219.0   \n",
              "49998         1.0            NaN              63.48            20191127.0   \n",
              "49999         1.0            NaN            1790.30            20190101.0   \n",
              "\n",
              "      cust_payment_terms    invoice_id  isOpen  \n",
              "0                   NAH4  1.930438e+09       0  \n",
              "1                   NAD1  1.929646e+09       0  \n",
              "2                   NAA8  1.929874e+09       0  \n",
              "3                   CA10  2.960623e+09       1  \n",
              "4                   NAH4  1.930148e+09       0  \n",
              "...                  ...           ...     ...  \n",
              "49995               NAA8  1.930797e+09       1  \n",
              "49996               NAH4  1.929744e+09       0  \n",
              "49997               NAA8  1.930537e+09       0  \n",
              "49998               NAA8  1.930199e+09       0  \n",
              "49999               NAM4  1.928576e+09       0  \n",
              "\n",
              "[50000 rows x 19 columns]"
            ],
            "text/html": [
              "\n",
              "  <div id=\"df-078be241-6266-43e5-9a3a-0cec3581d61c\">\n",
              "    <div class=\"colab-df-container\">\n",
              "      <div>\n",
              "<style scoped>\n",
              "    .dataframe tbody tr th:only-of-type {\n",
              "        vertical-align: middle;\n",
              "    }\n",
              "\n",
              "    .dataframe tbody tr th {\n",
              "        vertical-align: top;\n",
              "    }\n",
              "\n",
              "    .dataframe thead th {\n",
              "        text-align: right;\n",
              "    }\n",
              "</style>\n",
              "<table border=\"1\" class=\"dataframe\">\n",
              "  <thead>\n",
              "    <tr style=\"text-align: right;\">\n",
              "      <th></th>\n",
              "      <th>business_code</th>\n",
              "      <th>cust_number</th>\n",
              "      <th>name_customer</th>\n",
              "      <th>clear_date</th>\n",
              "      <th>buisness_year</th>\n",
              "      <th>doc_id</th>\n",
              "      <th>posting_date</th>\n",
              "      <th>document_create_date</th>\n",
              "      <th>document_create_date.1</th>\n",
              "      <th>due_in_date</th>\n",
              "      <th>invoice_currency</th>\n",
              "      <th>document type</th>\n",
              "      <th>posting_id</th>\n",
              "      <th>area_business</th>\n",
              "      <th>total_open_amount</th>\n",
              "      <th>baseline_create_date</th>\n",
              "      <th>cust_payment_terms</th>\n",
              "      <th>invoice_id</th>\n",
              "      <th>isOpen</th>\n",
              "    </tr>\n",
              "  </thead>\n",
              "  <tbody>\n",
              "    <tr>\n",
              "      <th>0</th>\n",
              "      <td>U001</td>\n",
              "      <td>0200769623</td>\n",
              "      <td>WAL-MAR corp</td>\n",
              "      <td>2020-02-11 00:00:00</td>\n",
              "      <td>2020.0</td>\n",
              "      <td>1.930438e+09</td>\n",
              "      <td>2020-01-26</td>\n",
              "      <td>20200125</td>\n",
              "      <td>20200126</td>\n",
              "      <td>20200210.0</td>\n",
              "      <td>USD</td>\n",
              "      <td>RV</td>\n",
              "      <td>1.0</td>\n",
              "      <td>NaN</td>\n",
              "      <td>54273.28</td>\n",
              "      <td>20200126.0</td>\n",
              "      <td>NAH4</td>\n",
              "      <td>1.930438e+09</td>\n",
              "      <td>0</td>\n",
              "    </tr>\n",
              "    <tr>\n",
              "      <th>1</th>\n",
              "      <td>U001</td>\n",
              "      <td>0200980828</td>\n",
              "      <td>BEN E</td>\n",
              "      <td>2019-08-08 00:00:00</td>\n",
              "      <td>2019.0</td>\n",
              "      <td>1.929646e+09</td>\n",
              "      <td>2019-07-22</td>\n",
              "      <td>20190722</td>\n",
              "      <td>20190722</td>\n",
              "      <td>20190811.0</td>\n",
              "      <td>USD</td>\n",
              "      <td>RV</td>\n",
              "      <td>1.0</td>\n",
              "      <td>NaN</td>\n",
              "      <td>79656.60</td>\n",
              "      <td>20190722.0</td>\n",
              "      <td>NAD1</td>\n",
              "      <td>1.929646e+09</td>\n",
              "      <td>0</td>\n",
              "    </tr>\n",
              "    <tr>\n",
              "      <th>2</th>\n",
              "      <td>U001</td>\n",
              "      <td>0200792734</td>\n",
              "      <td>MDV/ trust</td>\n",
              "      <td>2019-12-30 00:00:00</td>\n",
              "      <td>2019.0</td>\n",
              "      <td>1.929874e+09</td>\n",
              "      <td>2019-09-14</td>\n",
              "      <td>20190914</td>\n",
              "      <td>20190914</td>\n",
              "      <td>20190929.0</td>\n",
              "      <td>USD</td>\n",
              "      <td>RV</td>\n",
              "      <td>1.0</td>\n",
              "      <td>NaN</td>\n",
              "      <td>2253.86</td>\n",
              "      <td>20190914.0</td>\n",
              "      <td>NAA8</td>\n",
              "      <td>1.929874e+09</td>\n",
              "      <td>0</td>\n",
              "    </tr>\n",
              "    <tr>\n",
              "      <th>3</th>\n",
              "      <td>CA02</td>\n",
              "      <td>0140105686</td>\n",
              "      <td>SYSC llc</td>\n",
              "      <td>NaN</td>\n",
              "      <td>2020.0</td>\n",
              "      <td>2.960623e+09</td>\n",
              "      <td>2020-03-30</td>\n",
              "      <td>20200330</td>\n",
              "      <td>20200330</td>\n",
              "      <td>20200410.0</td>\n",
              "      <td>CAD</td>\n",
              "      <td>RV</td>\n",
              "      <td>1.0</td>\n",
              "      <td>NaN</td>\n",
              "      <td>3299.70</td>\n",
              "      <td>20200331.0</td>\n",
              "      <td>CA10</td>\n",
              "      <td>2.960623e+09</td>\n",
              "      <td>1</td>\n",
              "    </tr>\n",
              "    <tr>\n",
              "      <th>4</th>\n",
              "      <td>U001</td>\n",
              "      <td>0200769623</td>\n",
              "      <td>WAL-MAR foundation</td>\n",
              "      <td>2019-11-25 00:00:00</td>\n",
              "      <td>2019.0</td>\n",
              "      <td>1.930148e+09</td>\n",
              "      <td>2019-11-13</td>\n",
              "      <td>20191113</td>\n",
              "      <td>20191113</td>\n",
              "      <td>20191128.0</td>\n",
              "      <td>USD</td>\n",
              "      <td>RV</td>\n",
              "      <td>1.0</td>\n",
              "      <td>NaN</td>\n",
              "      <td>33133.29</td>\n",
              "      <td>20191113.0</td>\n",
              "      <td>NAH4</td>\n",
              "      <td>1.930148e+09</td>\n",
              "      <td>0</td>\n",
              "    </tr>\n",
              "    <tr>\n",
              "      <th>...</th>\n",
              "      <td>...</td>\n",
              "      <td>...</td>\n",
              "      <td>...</td>\n",
              "      <td>...</td>\n",
              "      <td>...</td>\n",
              "      <td>...</td>\n",
              "      <td>...</td>\n",
              "      <td>...</td>\n",
              "      <td>...</td>\n",
              "      <td>...</td>\n",
              "      <td>...</td>\n",
              "      <td>...</td>\n",
              "      <td>...</td>\n",
              "      <td>...</td>\n",
              "      <td>...</td>\n",
              "      <td>...</td>\n",
              "      <td>...</td>\n",
              "      <td>...</td>\n",
              "      <td>...</td>\n",
              "    </tr>\n",
              "    <tr>\n",
              "      <th>49995</th>\n",
              "      <td>U001</td>\n",
              "      <td>0200561861</td>\n",
              "      <td>CO corporation</td>\n",
              "      <td>NaN</td>\n",
              "      <td>2020.0</td>\n",
              "      <td>1.930797e+09</td>\n",
              "      <td>2020-04-21</td>\n",
              "      <td>20200417</td>\n",
              "      <td>20200421</td>\n",
              "      <td>20200506.0</td>\n",
              "      <td>USD</td>\n",
              "      <td>RV</td>\n",
              "      <td>1.0</td>\n",
              "      <td>NaN</td>\n",
              "      <td>3187.86</td>\n",
              "      <td>20200421.0</td>\n",
              "      <td>NAA8</td>\n",
              "      <td>1.930797e+09</td>\n",
              "      <td>1</td>\n",
              "    </tr>\n",
              "    <tr>\n",
              "      <th>49996</th>\n",
              "      <td>U001</td>\n",
              "      <td>0200769623</td>\n",
              "      <td>WAL-MAR co</td>\n",
              "      <td>2019-09-03 00:00:00</td>\n",
              "      <td>2019.0</td>\n",
              "      <td>1.929744e+09</td>\n",
              "      <td>2019-08-15</td>\n",
              "      <td>20190814</td>\n",
              "      <td>20190815</td>\n",
              "      <td>20190830.0</td>\n",
              "      <td>USD</td>\n",
              "      <td>RV</td>\n",
              "      <td>1.0</td>\n",
              "      <td>NaN</td>\n",
              "      <td>6766.54</td>\n",
              "      <td>20190815.0</td>\n",
              "      <td>NAH4</td>\n",
              "      <td>1.929744e+09</td>\n",
              "      <td>0</td>\n",
              "    </tr>\n",
              "    <tr>\n",
              "      <th>49997</th>\n",
              "      <td>U001</td>\n",
              "      <td>0200772595</td>\n",
              "      <td>SAFEW associates</td>\n",
              "      <td>2020-03-05 00:00:00</td>\n",
              "      <td>2020.0</td>\n",
              "      <td>1.930537e+09</td>\n",
              "      <td>2020-02-19</td>\n",
              "      <td>20200218</td>\n",
              "      <td>20200219</td>\n",
              "      <td>20200305.0</td>\n",
              "      <td>USD</td>\n",
              "      <td>RV</td>\n",
              "      <td>1.0</td>\n",
              "      <td>NaN</td>\n",
              "      <td>6120.86</td>\n",
              "      <td>20200219.0</td>\n",
              "      <td>NAA8</td>\n",
              "      <td>1.930537e+09</td>\n",
              "      <td>0</td>\n",
              "    </tr>\n",
              "    <tr>\n",
              "      <th>49998</th>\n",
              "      <td>U001</td>\n",
              "      <td>0200726979</td>\n",
              "      <td>BJ'S  llc</td>\n",
              "      <td>2019-12-12 00:00:00</td>\n",
              "      <td>2019.0</td>\n",
              "      <td>1.930199e+09</td>\n",
              "      <td>2019-11-27</td>\n",
              "      <td>20191126</td>\n",
              "      <td>20191127</td>\n",
              "      <td>20191212.0</td>\n",
              "      <td>USD</td>\n",
              "      <td>RV</td>\n",
              "      <td>1.0</td>\n",
              "      <td>NaN</td>\n",
              "      <td>63.48</td>\n",
              "      <td>20191127.0</td>\n",
              "      <td>NAA8</td>\n",
              "      <td>1.930199e+09</td>\n",
              "      <td>0</td>\n",
              "    </tr>\n",
              "    <tr>\n",
              "      <th>49999</th>\n",
              "      <td>U001</td>\n",
              "      <td>0200020431</td>\n",
              "      <td>DEC corp</td>\n",
              "      <td>2019-01-15 00:00:00</td>\n",
              "      <td>2019.0</td>\n",
              "      <td>1.928576e+09</td>\n",
              "      <td>2019-01-05</td>\n",
              "      <td>20190105</td>\n",
              "      <td>20190105</td>\n",
              "      <td>20190124.0</td>\n",
              "      <td>USD</td>\n",
              "      <td>RV</td>\n",
              "      <td>1.0</td>\n",
              "      <td>NaN</td>\n",
              "      <td>1790.30</td>\n",
              "      <td>20190101.0</td>\n",
              "      <td>NAM4</td>\n",
              "      <td>1.928576e+09</td>\n",
              "      <td>0</td>\n",
              "    </tr>\n",
              "  </tbody>\n",
              "</table>\n",
              "<p>50000 rows × 19 columns</p>\n",
              "</div>\n",
              "      <button class=\"colab-df-convert\" onclick=\"convertToInteractive('df-078be241-6266-43e5-9a3a-0cec3581d61c')\"\n",
              "              title=\"Convert this dataframe to an interactive table.\"\n",
              "              style=\"display:none;\">\n",
              "        \n",
              "  <svg xmlns=\"http://www.w3.org/2000/svg\" height=\"24px\"viewBox=\"0 0 24 24\"\n",
              "       width=\"24px\">\n",
              "    <path d=\"M0 0h24v24H0V0z\" fill=\"none\"/>\n",
              "    <path d=\"M18.56 5.44l.94 2.06.94-2.06 2.06-.94-2.06-.94-.94-2.06-.94 2.06-2.06.94zm-11 1L8.5 8.5l.94-2.06 2.06-.94-2.06-.94L8.5 2.5l-.94 2.06-2.06.94zm10 10l.94 2.06.94-2.06 2.06-.94-2.06-.94-.94-2.06-.94 2.06-2.06.94z\"/><path d=\"M17.41 7.96l-1.37-1.37c-.4-.4-.92-.59-1.43-.59-.52 0-1.04.2-1.43.59L10.3 9.45l-7.72 7.72c-.78.78-.78 2.05 0 2.83L4 21.41c.39.39.9.59 1.41.59.51 0 1.02-.2 1.41-.59l7.78-7.78 2.81-2.81c.8-.78.8-2.07 0-2.86zM5.41 20L4 18.59l7.72-7.72 1.47 1.35L5.41 20z\"/>\n",
              "  </svg>\n",
              "      </button>\n",
              "      \n",
              "  <style>\n",
              "    .colab-df-container {\n",
              "      display:flex;\n",
              "      flex-wrap:wrap;\n",
              "      gap: 12px;\n",
              "    }\n",
              "\n",
              "    .colab-df-convert {\n",
              "      background-color: #E8F0FE;\n",
              "      border: none;\n",
              "      border-radius: 50%;\n",
              "      cursor: pointer;\n",
              "      display: none;\n",
              "      fill: #1967D2;\n",
              "      height: 32px;\n",
              "      padding: 0 0 0 0;\n",
              "      width: 32px;\n",
              "    }\n",
              "\n",
              "    .colab-df-convert:hover {\n",
              "      background-color: #E2EBFA;\n",
              "      box-shadow: 0px 1px 2px rgba(60, 64, 67, 0.3), 0px 1px 3px 1px rgba(60, 64, 67, 0.15);\n",
              "      fill: #174EA6;\n",
              "    }\n",
              "\n",
              "    [theme=dark] .colab-df-convert {\n",
              "      background-color: #3B4455;\n",
              "      fill: #D2E3FC;\n",
              "    }\n",
              "\n",
              "    [theme=dark] .colab-df-convert:hover {\n",
              "      background-color: #434B5C;\n",
              "      box-shadow: 0px 1px 3px 1px rgba(0, 0, 0, 0.15);\n",
              "      filter: drop-shadow(0px 1px 2px rgba(0, 0, 0, 0.3));\n",
              "      fill: #FFFFFF;\n",
              "    }\n",
              "  </style>\n",
              "\n",
              "      <script>\n",
              "        const buttonEl =\n",
              "          document.querySelector('#df-078be241-6266-43e5-9a3a-0cec3581d61c button.colab-df-convert');\n",
              "        buttonEl.style.display =\n",
              "          google.colab.kernel.accessAllowed ? 'block' : 'none';\n",
              "\n",
              "        async function convertToInteractive(key) {\n",
              "          const element = document.querySelector('#df-078be241-6266-43e5-9a3a-0cec3581d61c');\n",
              "          const dataTable =\n",
              "            await google.colab.kernel.invokeFunction('convertToInteractive',\n",
              "                                                     [key], {});\n",
              "          if (!dataTable) return;\n",
              "\n",
              "          const docLinkHtml = 'Like what you see? Visit the ' +\n",
              "            '<a target=\"_blank\" href=https://colab.research.google.com/notebooks/data_table.ipynb>data table notebook</a>'\n",
              "            + ' to learn more about interactive tables.';\n",
              "          element.innerHTML = '';\n",
              "          dataTable['output_type'] = 'display_data';\n",
              "          await google.colab.output.renderOutput(dataTable, element);\n",
              "          const docLink = document.createElement('div');\n",
              "          docLink.innerHTML = docLinkHtml;\n",
              "          element.appendChild(docLink);\n",
              "        }\n",
              "      </script>\n",
              "    </div>\n",
              "  </div>\n",
              "  "
            ]
          },
          "metadata": {},
          "execution_count": 2
        }
      ],
      "source": [
        "df=pd.read_csv('/content/dataset.csv')\n",
        "df"
      ],
      "id": "415db50a"
    },
    {
      "cell_type": "markdown",
      "metadata": {
        "id": "42e37f05"
      },
      "source": [
        "### Check the shape of the dataframe\n"
      ],
      "id": "42e37f05"
    },
    {
      "cell_type": "code",
      "execution_count": null,
      "metadata": {
        "colab": {
          "base_uri": "https://localhost:8080/"
        },
        "id": "27cc0907",
        "outputId": "199cda60-9534-47da-866f-48feb61fff3e"
      },
      "outputs": [
        {
          "output_type": "execute_result",
          "data": {
            "text/plain": [
              "(50000, 19)"
            ]
          },
          "metadata": {},
          "execution_count": 3
        }
      ],
      "source": [
        "df.shape"
      ],
      "id": "27cc0907"
    },
    {
      "cell_type": "markdown",
      "metadata": {
        "id": "b68c955d"
      },
      "source": [
        "### Check the Detail information of the dataframe"
      ],
      "id": "b68c955d"
    },
    {
      "cell_type": "code",
      "execution_count": null,
      "metadata": {
        "colab": {
          "base_uri": "https://localhost:8080/"
        },
        "id": "e092ec9e",
        "outputId": "b1a61bc2-8641-4b00-ecd3-7588bffe11f9"
      },
      "outputs": [
        {
          "output_type": "stream",
          "name": "stdout",
          "text": [
            "<class 'pandas.core.frame.DataFrame'>\n",
            "RangeIndex: 50000 entries, 0 to 49999\n",
            "Data columns (total 19 columns):\n",
            " #   Column                  Non-Null Count  Dtype  \n",
            "---  ------                  --------------  -----  \n",
            " 0   business_code           50000 non-null  object \n",
            " 1   cust_number             50000 non-null  object \n",
            " 2   name_customer           50000 non-null  object \n",
            " 3   clear_date              40000 non-null  object \n",
            " 4   buisness_year           50000 non-null  float64\n",
            " 5   doc_id                  50000 non-null  float64\n",
            " 6   posting_date            50000 non-null  object \n",
            " 7   document_create_date    50000 non-null  int64  \n",
            " 8   document_create_date.1  50000 non-null  int64  \n",
            " 9   due_in_date             50000 non-null  float64\n",
            " 10  invoice_currency        50000 non-null  object \n",
            " 11  document type           50000 non-null  object \n",
            " 12  posting_id              50000 non-null  float64\n",
            " 13  area_business           0 non-null      float64\n",
            " 14  total_open_amount       50000 non-null  float64\n",
            " 15  baseline_create_date    50000 non-null  float64\n",
            " 16  cust_payment_terms      50000 non-null  object \n",
            " 17  invoice_id              49994 non-null  float64\n",
            " 18  isOpen                  50000 non-null  int64  \n",
            "dtypes: float64(8), int64(3), object(8)\n",
            "memory usage: 7.2+ MB\n"
          ]
        }
      ],
      "source": [
        "df.info()"
      ],
      "id": "e092ec9e"
    },
    {
      "cell_type": "markdown",
      "metadata": {
        "id": "112f2d0e"
      },
      "source": [
        "### Display All the column names"
      ],
      "id": "112f2d0e"
    },
    {
      "cell_type": "code",
      "execution_count": null,
      "metadata": {
        "colab": {
          "base_uri": "https://localhost:8080/"
        },
        "id": "1416e2fd",
        "outputId": "869fdce9-cbc0-4501-9c1e-cd7c86e799a6"
      },
      "outputs": [
        {
          "output_type": "execute_result",
          "data": {
            "text/plain": [
              "Index(['business_code', 'cust_number', 'name_customer', 'clear_date',\n",
              "       'buisness_year', 'doc_id', 'posting_date', 'document_create_date',\n",
              "       'document_create_date.1', 'due_in_date', 'invoice_currency',\n",
              "       'document type', 'posting_id', 'area_business', 'total_open_amount',\n",
              "       'baseline_create_date', 'cust_payment_terms', 'invoice_id', 'isOpen'],\n",
              "      dtype='object')"
            ]
          },
          "metadata": {},
          "execution_count": 5
        }
      ],
      "source": [
        "df.columns"
      ],
      "id": "1416e2fd"
    },
    {
      "cell_type": "markdown",
      "metadata": {
        "id": "d465ed7a"
      },
      "source": [
        "### Describe the entire dataset"
      ],
      "id": "d465ed7a"
    },
    {
      "cell_type": "code",
      "execution_count": null,
      "metadata": {
        "colab": {
          "base_uri": "https://localhost:8080/",
          "height": 364
        },
        "id": "25f65e1b",
        "outputId": "41ae2a5e-da8c-45ff-df71-da3026193aaf"
      },
      "outputs": [
        {
          "output_type": "execute_result",
          "data": {
            "text/plain": [
              "       buisness_year        doc_id  document_create_date  \\\n",
              "count   50000.000000  5.000000e+04          5.000000e+04   \n",
              "mean     2019.305700  2.012238e+09          2.019351e+07   \n",
              "std         0.460708  2.885235e+08          4.496041e+03   \n",
              "min      2019.000000  1.928502e+09          2.018123e+07   \n",
              "25%      2019.000000  1.929342e+09          2.019050e+07   \n",
              "50%      2019.000000  1.929964e+09          2.019091e+07   \n",
              "75%      2020.000000  1.930619e+09          2.020013e+07   \n",
              "max      2020.000000  9.500000e+09          2.020052e+07   \n",
              "\n",
              "       document_create_date.1   due_in_date  posting_id  area_business  \\\n",
              "count            5.000000e+04  5.000000e+04     50000.0            0.0   \n",
              "mean             2.019354e+07  2.019368e+07         1.0            NaN   \n",
              "std              4.482134e+03  4.470614e+03         0.0            NaN   \n",
              "min              2.018123e+07  2.018122e+07         1.0            NaN   \n",
              "25%              2.019051e+07  2.019052e+07         1.0            NaN   \n",
              "50%              2.019091e+07  2.019093e+07         1.0            NaN   \n",
              "75%              2.020013e+07  2.020022e+07         1.0            NaN   \n",
              "max              2.020052e+07  2.020071e+07         1.0            NaN   \n",
              "\n",
              "       total_open_amount  baseline_create_date    invoice_id        isOpen  \n",
              "count       50000.000000          5.000000e+04  4.999400e+04  50000.000000  \n",
              "mean        32337.021651          2.019354e+07  2.011340e+09      0.200000  \n",
              "std         39205.975231          4.482701e+03  2.766335e+08      0.400004  \n",
              "min             0.720000          2.018121e+07  1.928502e+09      0.000000  \n",
              "25%          4928.312500          2.019050e+07  1.929342e+09      0.000000  \n",
              "50%         17609.010000          2.019091e+07  1.929964e+09      0.000000  \n",
              "75%         47133.635000          2.020013e+07  1.930619e+09      0.000000  \n",
              "max        668593.360000          2.020052e+07  2.960636e+09      1.000000  "
            ],
            "text/html": [
              "\n",
              "  <div id=\"df-fd73ef08-acc1-4f75-8e82-c72eb229b1fe\">\n",
              "    <div class=\"colab-df-container\">\n",
              "      <div>\n",
              "<style scoped>\n",
              "    .dataframe tbody tr th:only-of-type {\n",
              "        vertical-align: middle;\n",
              "    }\n",
              "\n",
              "    .dataframe tbody tr th {\n",
              "        vertical-align: top;\n",
              "    }\n",
              "\n",
              "    .dataframe thead th {\n",
              "        text-align: right;\n",
              "    }\n",
              "</style>\n",
              "<table border=\"1\" class=\"dataframe\">\n",
              "  <thead>\n",
              "    <tr style=\"text-align: right;\">\n",
              "      <th></th>\n",
              "      <th>buisness_year</th>\n",
              "      <th>doc_id</th>\n",
              "      <th>document_create_date</th>\n",
              "      <th>document_create_date.1</th>\n",
              "      <th>due_in_date</th>\n",
              "      <th>posting_id</th>\n",
              "      <th>area_business</th>\n",
              "      <th>total_open_amount</th>\n",
              "      <th>baseline_create_date</th>\n",
              "      <th>invoice_id</th>\n",
              "      <th>isOpen</th>\n",
              "    </tr>\n",
              "  </thead>\n",
              "  <tbody>\n",
              "    <tr>\n",
              "      <th>count</th>\n",
              "      <td>50000.000000</td>\n",
              "      <td>5.000000e+04</td>\n",
              "      <td>5.000000e+04</td>\n",
              "      <td>5.000000e+04</td>\n",
              "      <td>5.000000e+04</td>\n",
              "      <td>50000.0</td>\n",
              "      <td>0.0</td>\n",
              "      <td>50000.000000</td>\n",
              "      <td>5.000000e+04</td>\n",
              "      <td>4.999400e+04</td>\n",
              "      <td>50000.000000</td>\n",
              "    </tr>\n",
              "    <tr>\n",
              "      <th>mean</th>\n",
              "      <td>2019.305700</td>\n",
              "      <td>2.012238e+09</td>\n",
              "      <td>2.019351e+07</td>\n",
              "      <td>2.019354e+07</td>\n",
              "      <td>2.019368e+07</td>\n",
              "      <td>1.0</td>\n",
              "      <td>NaN</td>\n",
              "      <td>32337.021651</td>\n",
              "      <td>2.019354e+07</td>\n",
              "      <td>2.011340e+09</td>\n",
              "      <td>0.200000</td>\n",
              "    </tr>\n",
              "    <tr>\n",
              "      <th>std</th>\n",
              "      <td>0.460708</td>\n",
              "      <td>2.885235e+08</td>\n",
              "      <td>4.496041e+03</td>\n",
              "      <td>4.482134e+03</td>\n",
              "      <td>4.470614e+03</td>\n",
              "      <td>0.0</td>\n",
              "      <td>NaN</td>\n",
              "      <td>39205.975231</td>\n",
              "      <td>4.482701e+03</td>\n",
              "      <td>2.766335e+08</td>\n",
              "      <td>0.400004</td>\n",
              "    </tr>\n",
              "    <tr>\n",
              "      <th>min</th>\n",
              "      <td>2019.000000</td>\n",
              "      <td>1.928502e+09</td>\n",
              "      <td>2.018123e+07</td>\n",
              "      <td>2.018123e+07</td>\n",
              "      <td>2.018122e+07</td>\n",
              "      <td>1.0</td>\n",
              "      <td>NaN</td>\n",
              "      <td>0.720000</td>\n",
              "      <td>2.018121e+07</td>\n",
              "      <td>1.928502e+09</td>\n",
              "      <td>0.000000</td>\n",
              "    </tr>\n",
              "    <tr>\n",
              "      <th>25%</th>\n",
              "      <td>2019.000000</td>\n",
              "      <td>1.929342e+09</td>\n",
              "      <td>2.019050e+07</td>\n",
              "      <td>2.019051e+07</td>\n",
              "      <td>2.019052e+07</td>\n",
              "      <td>1.0</td>\n",
              "      <td>NaN</td>\n",
              "      <td>4928.312500</td>\n",
              "      <td>2.019050e+07</td>\n",
              "      <td>1.929342e+09</td>\n",
              "      <td>0.000000</td>\n",
              "    </tr>\n",
              "    <tr>\n",
              "      <th>50%</th>\n",
              "      <td>2019.000000</td>\n",
              "      <td>1.929964e+09</td>\n",
              "      <td>2.019091e+07</td>\n",
              "      <td>2.019091e+07</td>\n",
              "      <td>2.019093e+07</td>\n",
              "      <td>1.0</td>\n",
              "      <td>NaN</td>\n",
              "      <td>17609.010000</td>\n",
              "      <td>2.019091e+07</td>\n",
              "      <td>1.929964e+09</td>\n",
              "      <td>0.000000</td>\n",
              "    </tr>\n",
              "    <tr>\n",
              "      <th>75%</th>\n",
              "      <td>2020.000000</td>\n",
              "      <td>1.930619e+09</td>\n",
              "      <td>2.020013e+07</td>\n",
              "      <td>2.020013e+07</td>\n",
              "      <td>2.020022e+07</td>\n",
              "      <td>1.0</td>\n",
              "      <td>NaN</td>\n",
              "      <td>47133.635000</td>\n",
              "      <td>2.020013e+07</td>\n",
              "      <td>1.930619e+09</td>\n",
              "      <td>0.000000</td>\n",
              "    </tr>\n",
              "    <tr>\n",
              "      <th>max</th>\n",
              "      <td>2020.000000</td>\n",
              "      <td>9.500000e+09</td>\n",
              "      <td>2.020052e+07</td>\n",
              "      <td>2.020052e+07</td>\n",
              "      <td>2.020071e+07</td>\n",
              "      <td>1.0</td>\n",
              "      <td>NaN</td>\n",
              "      <td>668593.360000</td>\n",
              "      <td>2.020052e+07</td>\n",
              "      <td>2.960636e+09</td>\n",
              "      <td>1.000000</td>\n",
              "    </tr>\n",
              "  </tbody>\n",
              "</table>\n",
              "</div>\n",
              "      <button class=\"colab-df-convert\" onclick=\"convertToInteractive('df-fd73ef08-acc1-4f75-8e82-c72eb229b1fe')\"\n",
              "              title=\"Convert this dataframe to an interactive table.\"\n",
              "              style=\"display:none;\">\n",
              "        \n",
              "  <svg xmlns=\"http://www.w3.org/2000/svg\" height=\"24px\"viewBox=\"0 0 24 24\"\n",
              "       width=\"24px\">\n",
              "    <path d=\"M0 0h24v24H0V0z\" fill=\"none\"/>\n",
              "    <path d=\"M18.56 5.44l.94 2.06.94-2.06 2.06-.94-2.06-.94-.94-2.06-.94 2.06-2.06.94zm-11 1L8.5 8.5l.94-2.06 2.06-.94-2.06-.94L8.5 2.5l-.94 2.06-2.06.94zm10 10l.94 2.06.94-2.06 2.06-.94-2.06-.94-.94-2.06-.94 2.06-2.06.94z\"/><path d=\"M17.41 7.96l-1.37-1.37c-.4-.4-.92-.59-1.43-.59-.52 0-1.04.2-1.43.59L10.3 9.45l-7.72 7.72c-.78.78-.78 2.05 0 2.83L4 21.41c.39.39.9.59 1.41.59.51 0 1.02-.2 1.41-.59l7.78-7.78 2.81-2.81c.8-.78.8-2.07 0-2.86zM5.41 20L4 18.59l7.72-7.72 1.47 1.35L5.41 20z\"/>\n",
              "  </svg>\n",
              "      </button>\n",
              "      \n",
              "  <style>\n",
              "    .colab-df-container {\n",
              "      display:flex;\n",
              "      flex-wrap:wrap;\n",
              "      gap: 12px;\n",
              "    }\n",
              "\n",
              "    .colab-df-convert {\n",
              "      background-color: #E8F0FE;\n",
              "      border: none;\n",
              "      border-radius: 50%;\n",
              "      cursor: pointer;\n",
              "      display: none;\n",
              "      fill: #1967D2;\n",
              "      height: 32px;\n",
              "      padding: 0 0 0 0;\n",
              "      width: 32px;\n",
              "    }\n",
              "\n",
              "    .colab-df-convert:hover {\n",
              "      background-color: #E2EBFA;\n",
              "      box-shadow: 0px 1px 2px rgba(60, 64, 67, 0.3), 0px 1px 3px 1px rgba(60, 64, 67, 0.15);\n",
              "      fill: #174EA6;\n",
              "    }\n",
              "\n",
              "    [theme=dark] .colab-df-convert {\n",
              "      background-color: #3B4455;\n",
              "      fill: #D2E3FC;\n",
              "    }\n",
              "\n",
              "    [theme=dark] .colab-df-convert:hover {\n",
              "      background-color: #434B5C;\n",
              "      box-shadow: 0px 1px 3px 1px rgba(0, 0, 0, 0.15);\n",
              "      filter: drop-shadow(0px 1px 2px rgba(0, 0, 0, 0.3));\n",
              "      fill: #FFFFFF;\n",
              "    }\n",
              "  </style>\n",
              "\n",
              "      <script>\n",
              "        const buttonEl =\n",
              "          document.querySelector('#df-fd73ef08-acc1-4f75-8e82-c72eb229b1fe button.colab-df-convert');\n",
              "        buttonEl.style.display =\n",
              "          google.colab.kernel.accessAllowed ? 'block' : 'none';\n",
              "\n",
              "        async function convertToInteractive(key) {\n",
              "          const element = document.querySelector('#df-fd73ef08-acc1-4f75-8e82-c72eb229b1fe');\n",
              "          const dataTable =\n",
              "            await google.colab.kernel.invokeFunction('convertToInteractive',\n",
              "                                                     [key], {});\n",
              "          if (!dataTable) return;\n",
              "\n",
              "          const docLinkHtml = 'Like what you see? Visit the ' +\n",
              "            '<a target=\"_blank\" href=https://colab.research.google.com/notebooks/data_table.ipynb>data table notebook</a>'\n",
              "            + ' to learn more about interactive tables.';\n",
              "          element.innerHTML = '';\n",
              "          dataTable['output_type'] = 'display_data';\n",
              "          await google.colab.output.renderOutput(dataTable, element);\n",
              "          const docLink = document.createElement('div');\n",
              "          docLink.innerHTML = docLinkHtml;\n",
              "          element.appendChild(docLink);\n",
              "        }\n",
              "      </script>\n",
              "    </div>\n",
              "  </div>\n",
              "  "
            ]
          },
          "metadata": {},
          "execution_count": 6
        }
      ],
      "source": [
        "df.describe()"
      ],
      "id": "25f65e1b"
    },
    {
      "cell_type": "markdown",
      "metadata": {
        "id": "0f2c8d02"
      },
      "source": [
        "# Data Cleaning\n",
        "\n",
        "- Show top 5 records from the dataset"
      ],
      "id": "0f2c8d02"
    },
    {
      "cell_type": "code",
      "execution_count": null,
      "metadata": {
        "colab": {
          "base_uri": "https://localhost:8080/",
          "height": 357
        },
        "id": "8f876212",
        "outputId": "d1f72b67-875f-437b-95b4-bd7160e9048c"
      },
      "outputs": [
        {
          "output_type": "execute_result",
          "data": {
            "text/plain": [
              "  business_code cust_number       name_customer           clear_date  \\\n",
              "0          U001  0200769623        WAL-MAR corp  2020-02-11 00:00:00   \n",
              "1          U001  0200980828              BEN E   2019-08-08 00:00:00   \n",
              "2          U001  0200792734          MDV/ trust  2019-12-30 00:00:00   \n",
              "3          CA02  0140105686            SYSC llc                  NaN   \n",
              "4          U001  0200769623  WAL-MAR foundation  2019-11-25 00:00:00   \n",
              "\n",
              "   buisness_year        doc_id posting_date  document_create_date  \\\n",
              "0         2020.0  1.930438e+09   2020-01-26              20200125   \n",
              "1         2019.0  1.929646e+09   2019-07-22              20190722   \n",
              "2         2019.0  1.929874e+09   2019-09-14              20190914   \n",
              "3         2020.0  2.960623e+09   2020-03-30              20200330   \n",
              "4         2019.0  1.930148e+09   2019-11-13              20191113   \n",
              "\n",
              "   document_create_date.1  due_in_date invoice_currency document type  \\\n",
              "0                20200126   20200210.0              USD            RV   \n",
              "1                20190722   20190811.0              USD            RV   \n",
              "2                20190914   20190929.0              USD            RV   \n",
              "3                20200330   20200410.0              CAD            RV   \n",
              "4                20191113   20191128.0              USD            RV   \n",
              "\n",
              "   posting_id  area_business  total_open_amount  baseline_create_date  \\\n",
              "0         1.0            NaN           54273.28            20200126.0   \n",
              "1         1.0            NaN           79656.60            20190722.0   \n",
              "2         1.0            NaN            2253.86            20190914.0   \n",
              "3         1.0            NaN            3299.70            20200331.0   \n",
              "4         1.0            NaN           33133.29            20191113.0   \n",
              "\n",
              "  cust_payment_terms    invoice_id  isOpen  \n",
              "0               NAH4  1.930438e+09       0  \n",
              "1               NAD1  1.929646e+09       0  \n",
              "2               NAA8  1.929874e+09       0  \n",
              "3               CA10  2.960623e+09       1  \n",
              "4               NAH4  1.930148e+09       0  "
            ],
            "text/html": [
              "\n",
              "  <div id=\"df-16982ee6-4115-4a03-9b25-fc4dd7b5c209\">\n",
              "    <div class=\"colab-df-container\">\n",
              "      <div>\n",
              "<style scoped>\n",
              "    .dataframe tbody tr th:only-of-type {\n",
              "        vertical-align: middle;\n",
              "    }\n",
              "\n",
              "    .dataframe tbody tr th {\n",
              "        vertical-align: top;\n",
              "    }\n",
              "\n",
              "    .dataframe thead th {\n",
              "        text-align: right;\n",
              "    }\n",
              "</style>\n",
              "<table border=\"1\" class=\"dataframe\">\n",
              "  <thead>\n",
              "    <tr style=\"text-align: right;\">\n",
              "      <th></th>\n",
              "      <th>business_code</th>\n",
              "      <th>cust_number</th>\n",
              "      <th>name_customer</th>\n",
              "      <th>clear_date</th>\n",
              "      <th>buisness_year</th>\n",
              "      <th>doc_id</th>\n",
              "      <th>posting_date</th>\n",
              "      <th>document_create_date</th>\n",
              "      <th>document_create_date.1</th>\n",
              "      <th>due_in_date</th>\n",
              "      <th>invoice_currency</th>\n",
              "      <th>document type</th>\n",
              "      <th>posting_id</th>\n",
              "      <th>area_business</th>\n",
              "      <th>total_open_amount</th>\n",
              "      <th>baseline_create_date</th>\n",
              "      <th>cust_payment_terms</th>\n",
              "      <th>invoice_id</th>\n",
              "      <th>isOpen</th>\n",
              "    </tr>\n",
              "  </thead>\n",
              "  <tbody>\n",
              "    <tr>\n",
              "      <th>0</th>\n",
              "      <td>U001</td>\n",
              "      <td>0200769623</td>\n",
              "      <td>WAL-MAR corp</td>\n",
              "      <td>2020-02-11 00:00:00</td>\n",
              "      <td>2020.0</td>\n",
              "      <td>1.930438e+09</td>\n",
              "      <td>2020-01-26</td>\n",
              "      <td>20200125</td>\n",
              "      <td>20200126</td>\n",
              "      <td>20200210.0</td>\n",
              "      <td>USD</td>\n",
              "      <td>RV</td>\n",
              "      <td>1.0</td>\n",
              "      <td>NaN</td>\n",
              "      <td>54273.28</td>\n",
              "      <td>20200126.0</td>\n",
              "      <td>NAH4</td>\n",
              "      <td>1.930438e+09</td>\n",
              "      <td>0</td>\n",
              "    </tr>\n",
              "    <tr>\n",
              "      <th>1</th>\n",
              "      <td>U001</td>\n",
              "      <td>0200980828</td>\n",
              "      <td>BEN E</td>\n",
              "      <td>2019-08-08 00:00:00</td>\n",
              "      <td>2019.0</td>\n",
              "      <td>1.929646e+09</td>\n",
              "      <td>2019-07-22</td>\n",
              "      <td>20190722</td>\n",
              "      <td>20190722</td>\n",
              "      <td>20190811.0</td>\n",
              "      <td>USD</td>\n",
              "      <td>RV</td>\n",
              "      <td>1.0</td>\n",
              "      <td>NaN</td>\n",
              "      <td>79656.60</td>\n",
              "      <td>20190722.0</td>\n",
              "      <td>NAD1</td>\n",
              "      <td>1.929646e+09</td>\n",
              "      <td>0</td>\n",
              "    </tr>\n",
              "    <tr>\n",
              "      <th>2</th>\n",
              "      <td>U001</td>\n",
              "      <td>0200792734</td>\n",
              "      <td>MDV/ trust</td>\n",
              "      <td>2019-12-30 00:00:00</td>\n",
              "      <td>2019.0</td>\n",
              "      <td>1.929874e+09</td>\n",
              "      <td>2019-09-14</td>\n",
              "      <td>20190914</td>\n",
              "      <td>20190914</td>\n",
              "      <td>20190929.0</td>\n",
              "      <td>USD</td>\n",
              "      <td>RV</td>\n",
              "      <td>1.0</td>\n",
              "      <td>NaN</td>\n",
              "      <td>2253.86</td>\n",
              "      <td>20190914.0</td>\n",
              "      <td>NAA8</td>\n",
              "      <td>1.929874e+09</td>\n",
              "      <td>0</td>\n",
              "    </tr>\n",
              "    <tr>\n",
              "      <th>3</th>\n",
              "      <td>CA02</td>\n",
              "      <td>0140105686</td>\n",
              "      <td>SYSC llc</td>\n",
              "      <td>NaN</td>\n",
              "      <td>2020.0</td>\n",
              "      <td>2.960623e+09</td>\n",
              "      <td>2020-03-30</td>\n",
              "      <td>20200330</td>\n",
              "      <td>20200330</td>\n",
              "      <td>20200410.0</td>\n",
              "      <td>CAD</td>\n",
              "      <td>RV</td>\n",
              "      <td>1.0</td>\n",
              "      <td>NaN</td>\n",
              "      <td>3299.70</td>\n",
              "      <td>20200331.0</td>\n",
              "      <td>CA10</td>\n",
              "      <td>2.960623e+09</td>\n",
              "      <td>1</td>\n",
              "    </tr>\n",
              "    <tr>\n",
              "      <th>4</th>\n",
              "      <td>U001</td>\n",
              "      <td>0200769623</td>\n",
              "      <td>WAL-MAR foundation</td>\n",
              "      <td>2019-11-25 00:00:00</td>\n",
              "      <td>2019.0</td>\n",
              "      <td>1.930148e+09</td>\n",
              "      <td>2019-11-13</td>\n",
              "      <td>20191113</td>\n",
              "      <td>20191113</td>\n",
              "      <td>20191128.0</td>\n",
              "      <td>USD</td>\n",
              "      <td>RV</td>\n",
              "      <td>1.0</td>\n",
              "      <td>NaN</td>\n",
              "      <td>33133.29</td>\n",
              "      <td>20191113.0</td>\n",
              "      <td>NAH4</td>\n",
              "      <td>1.930148e+09</td>\n",
              "      <td>0</td>\n",
              "    </tr>\n",
              "  </tbody>\n",
              "</table>\n",
              "</div>\n",
              "      <button class=\"colab-df-convert\" onclick=\"convertToInteractive('df-16982ee6-4115-4a03-9b25-fc4dd7b5c209')\"\n",
              "              title=\"Convert this dataframe to an interactive table.\"\n",
              "              style=\"display:none;\">\n",
              "        \n",
              "  <svg xmlns=\"http://www.w3.org/2000/svg\" height=\"24px\"viewBox=\"0 0 24 24\"\n",
              "       width=\"24px\">\n",
              "    <path d=\"M0 0h24v24H0V0z\" fill=\"none\"/>\n",
              "    <path d=\"M18.56 5.44l.94 2.06.94-2.06 2.06-.94-2.06-.94-.94-2.06-.94 2.06-2.06.94zm-11 1L8.5 8.5l.94-2.06 2.06-.94-2.06-.94L8.5 2.5l-.94 2.06-2.06.94zm10 10l.94 2.06.94-2.06 2.06-.94-2.06-.94-.94-2.06-.94 2.06-2.06.94z\"/><path d=\"M17.41 7.96l-1.37-1.37c-.4-.4-.92-.59-1.43-.59-.52 0-1.04.2-1.43.59L10.3 9.45l-7.72 7.72c-.78.78-.78 2.05 0 2.83L4 21.41c.39.39.9.59 1.41.59.51 0 1.02-.2 1.41-.59l7.78-7.78 2.81-2.81c.8-.78.8-2.07 0-2.86zM5.41 20L4 18.59l7.72-7.72 1.47 1.35L5.41 20z\"/>\n",
              "  </svg>\n",
              "      </button>\n",
              "      \n",
              "  <style>\n",
              "    .colab-df-container {\n",
              "      display:flex;\n",
              "      flex-wrap:wrap;\n",
              "      gap: 12px;\n",
              "    }\n",
              "\n",
              "    .colab-df-convert {\n",
              "      background-color: #E8F0FE;\n",
              "      border: none;\n",
              "      border-radius: 50%;\n",
              "      cursor: pointer;\n",
              "      display: none;\n",
              "      fill: #1967D2;\n",
              "      height: 32px;\n",
              "      padding: 0 0 0 0;\n",
              "      width: 32px;\n",
              "    }\n",
              "\n",
              "    .colab-df-convert:hover {\n",
              "      background-color: #E2EBFA;\n",
              "      box-shadow: 0px 1px 2px rgba(60, 64, 67, 0.3), 0px 1px 3px 1px rgba(60, 64, 67, 0.15);\n",
              "      fill: #174EA6;\n",
              "    }\n",
              "\n",
              "    [theme=dark] .colab-df-convert {\n",
              "      background-color: #3B4455;\n",
              "      fill: #D2E3FC;\n",
              "    }\n",
              "\n",
              "    [theme=dark] .colab-df-convert:hover {\n",
              "      background-color: #434B5C;\n",
              "      box-shadow: 0px 1px 3px 1px rgba(0, 0, 0, 0.15);\n",
              "      filter: drop-shadow(0px 1px 2px rgba(0, 0, 0, 0.3));\n",
              "      fill: #FFFFFF;\n",
              "    }\n",
              "  </style>\n",
              "\n",
              "      <script>\n",
              "        const buttonEl =\n",
              "          document.querySelector('#df-16982ee6-4115-4a03-9b25-fc4dd7b5c209 button.colab-df-convert');\n",
              "        buttonEl.style.display =\n",
              "          google.colab.kernel.accessAllowed ? 'block' : 'none';\n",
              "\n",
              "        async function convertToInteractive(key) {\n",
              "          const element = document.querySelector('#df-16982ee6-4115-4a03-9b25-fc4dd7b5c209');\n",
              "          const dataTable =\n",
              "            await google.colab.kernel.invokeFunction('convertToInteractive',\n",
              "                                                     [key], {});\n",
              "          if (!dataTable) return;\n",
              "\n",
              "          const docLinkHtml = 'Like what you see? Visit the ' +\n",
              "            '<a target=\"_blank\" href=https://colab.research.google.com/notebooks/data_table.ipynb>data table notebook</a>'\n",
              "            + ' to learn more about interactive tables.';\n",
              "          element.innerHTML = '';\n",
              "          dataTable['output_type'] = 'display_data';\n",
              "          await google.colab.output.renderOutput(dataTable, element);\n",
              "          const docLink = document.createElement('div');\n",
              "          docLink.innerHTML = docLinkHtml;\n",
              "          element.appendChild(docLink);\n",
              "        }\n",
              "      </script>\n",
              "    </div>\n",
              "  </div>\n",
              "  "
            ]
          },
          "metadata": {},
          "execution_count": 7
        }
      ],
      "source": [
        "df.head()"
      ],
      "id": "8f876212"
    },
    {
      "cell_type": "markdown",
      "metadata": {
        "id": "92b044e4"
      },
      "source": [
        "### Display the Null values percentage against every columns (compare to the total number of records)\n",
        "\n",
        "- Output expected : area_business - 100% null, clear_data = 20% null, invoice_id = 0.12% null"
      ],
      "id": "92b044e4"
    },
    {
      "cell_type": "code",
      "execution_count": null,
      "metadata": {
        "colab": {
          "base_uri": "https://localhost:8080/"
        },
        "id": "24c7b13d",
        "outputId": "f6549804-4eb5-49db-c510-e1d32fddaef3"
      },
      "outputs": [
        {
          "output_type": "execute_result",
          "data": {
            "text/plain": [
              "business_code               0.000\n",
              "cust_number                 0.000\n",
              "name_customer               0.000\n",
              "clear_date                 20.000\n",
              "buisness_year               0.000\n",
              "doc_id                      0.000\n",
              "posting_date                0.000\n",
              "document_create_date        0.000\n",
              "document_create_date.1      0.000\n",
              "due_in_date                 0.000\n",
              "invoice_currency            0.000\n",
              "document type               0.000\n",
              "posting_id                  0.000\n",
              "area_business             100.000\n",
              "total_open_amount           0.000\n",
              "baseline_create_date        0.000\n",
              "cust_payment_terms          0.000\n",
              "invoice_id                  0.012\n",
              "isOpen                      0.000\n",
              "dtype: float64"
            ]
          },
          "metadata": {},
          "execution_count": 8
        }
      ],
      "source": [
        "df.isnull().sum()/((50000))*100"
      ],
      "id": "24c7b13d"
    },
    {
      "cell_type": "markdown",
      "metadata": {
        "id": "2c46a98b"
      },
      "source": [
        "### Display Invoice_id and Doc_Id\n",
        "\n",
        "- Note - Many of the would have same invoice_id and doc_id\n"
      ],
      "id": "2c46a98b"
    },
    {
      "cell_type": "code",
      "execution_count": null,
      "metadata": {
        "colab": {
          "base_uri": "https://localhost:8080/",
          "height": 424
        },
        "id": "038f24bb",
        "outputId": "38979928-3638-4ad4-cdc7-fe5926b0bcfa"
      },
      "outputs": [
        {
          "output_type": "execute_result",
          "data": {
            "text/plain": [
              "         invoice_id        doc_id\n",
              "0      1.930438e+09  1.930438e+09\n",
              "1      1.929646e+09  1.929646e+09\n",
              "2      1.929874e+09  1.929874e+09\n",
              "3      2.960623e+09  2.960623e+09\n",
              "4      1.930148e+09  1.930148e+09\n",
              "...             ...           ...\n",
              "49995  1.930797e+09  1.930797e+09\n",
              "49996  1.929744e+09  1.929744e+09\n",
              "49997  1.930537e+09  1.930537e+09\n",
              "49998  1.930199e+09  1.930199e+09\n",
              "49999  1.928576e+09  1.928576e+09\n",
              "\n",
              "[50000 rows x 2 columns]"
            ],
            "text/html": [
              "\n",
              "  <div id=\"df-5fb6204d-3d04-469b-aa0b-b446b6533ce4\">\n",
              "    <div class=\"colab-df-container\">\n",
              "      <div>\n",
              "<style scoped>\n",
              "    .dataframe tbody tr th:only-of-type {\n",
              "        vertical-align: middle;\n",
              "    }\n",
              "\n",
              "    .dataframe tbody tr th {\n",
              "        vertical-align: top;\n",
              "    }\n",
              "\n",
              "    .dataframe thead th {\n",
              "        text-align: right;\n",
              "    }\n",
              "</style>\n",
              "<table border=\"1\" class=\"dataframe\">\n",
              "  <thead>\n",
              "    <tr style=\"text-align: right;\">\n",
              "      <th></th>\n",
              "      <th>invoice_id</th>\n",
              "      <th>doc_id</th>\n",
              "    </tr>\n",
              "  </thead>\n",
              "  <tbody>\n",
              "    <tr>\n",
              "      <th>0</th>\n",
              "      <td>1.930438e+09</td>\n",
              "      <td>1.930438e+09</td>\n",
              "    </tr>\n",
              "    <tr>\n",
              "      <th>1</th>\n",
              "      <td>1.929646e+09</td>\n",
              "      <td>1.929646e+09</td>\n",
              "    </tr>\n",
              "    <tr>\n",
              "      <th>2</th>\n",
              "      <td>1.929874e+09</td>\n",
              "      <td>1.929874e+09</td>\n",
              "    </tr>\n",
              "    <tr>\n",
              "      <th>3</th>\n",
              "      <td>2.960623e+09</td>\n",
              "      <td>2.960623e+09</td>\n",
              "    </tr>\n",
              "    <tr>\n",
              "      <th>4</th>\n",
              "      <td>1.930148e+09</td>\n",
              "      <td>1.930148e+09</td>\n",
              "    </tr>\n",
              "    <tr>\n",
              "      <th>...</th>\n",
              "      <td>...</td>\n",
              "      <td>...</td>\n",
              "    </tr>\n",
              "    <tr>\n",
              "      <th>49995</th>\n",
              "      <td>1.930797e+09</td>\n",
              "      <td>1.930797e+09</td>\n",
              "    </tr>\n",
              "    <tr>\n",
              "      <th>49996</th>\n",
              "      <td>1.929744e+09</td>\n",
              "      <td>1.929744e+09</td>\n",
              "    </tr>\n",
              "    <tr>\n",
              "      <th>49997</th>\n",
              "      <td>1.930537e+09</td>\n",
              "      <td>1.930537e+09</td>\n",
              "    </tr>\n",
              "    <tr>\n",
              "      <th>49998</th>\n",
              "      <td>1.930199e+09</td>\n",
              "      <td>1.930199e+09</td>\n",
              "    </tr>\n",
              "    <tr>\n",
              "      <th>49999</th>\n",
              "      <td>1.928576e+09</td>\n",
              "      <td>1.928576e+09</td>\n",
              "    </tr>\n",
              "  </tbody>\n",
              "</table>\n",
              "<p>50000 rows × 2 columns</p>\n",
              "</div>\n",
              "      <button class=\"colab-df-convert\" onclick=\"convertToInteractive('df-5fb6204d-3d04-469b-aa0b-b446b6533ce4')\"\n",
              "              title=\"Convert this dataframe to an interactive table.\"\n",
              "              style=\"display:none;\">\n",
              "        \n",
              "  <svg xmlns=\"http://www.w3.org/2000/svg\" height=\"24px\"viewBox=\"0 0 24 24\"\n",
              "       width=\"24px\">\n",
              "    <path d=\"M0 0h24v24H0V0z\" fill=\"none\"/>\n",
              "    <path d=\"M18.56 5.44l.94 2.06.94-2.06 2.06-.94-2.06-.94-.94-2.06-.94 2.06-2.06.94zm-11 1L8.5 8.5l.94-2.06 2.06-.94-2.06-.94L8.5 2.5l-.94 2.06-2.06.94zm10 10l.94 2.06.94-2.06 2.06-.94-2.06-.94-.94-2.06-.94 2.06-2.06.94z\"/><path d=\"M17.41 7.96l-1.37-1.37c-.4-.4-.92-.59-1.43-.59-.52 0-1.04.2-1.43.59L10.3 9.45l-7.72 7.72c-.78.78-.78 2.05 0 2.83L4 21.41c.39.39.9.59 1.41.59.51 0 1.02-.2 1.41-.59l7.78-7.78 2.81-2.81c.8-.78.8-2.07 0-2.86zM5.41 20L4 18.59l7.72-7.72 1.47 1.35L5.41 20z\"/>\n",
              "  </svg>\n",
              "      </button>\n",
              "      \n",
              "  <style>\n",
              "    .colab-df-container {\n",
              "      display:flex;\n",
              "      flex-wrap:wrap;\n",
              "      gap: 12px;\n",
              "    }\n",
              "\n",
              "    .colab-df-convert {\n",
              "      background-color: #E8F0FE;\n",
              "      border: none;\n",
              "      border-radius: 50%;\n",
              "      cursor: pointer;\n",
              "      display: none;\n",
              "      fill: #1967D2;\n",
              "      height: 32px;\n",
              "      padding: 0 0 0 0;\n",
              "      width: 32px;\n",
              "    }\n",
              "\n",
              "    .colab-df-convert:hover {\n",
              "      background-color: #E2EBFA;\n",
              "      box-shadow: 0px 1px 2px rgba(60, 64, 67, 0.3), 0px 1px 3px 1px rgba(60, 64, 67, 0.15);\n",
              "      fill: #174EA6;\n",
              "    }\n",
              "\n",
              "    [theme=dark] .colab-df-convert {\n",
              "      background-color: #3B4455;\n",
              "      fill: #D2E3FC;\n",
              "    }\n",
              "\n",
              "    [theme=dark] .colab-df-convert:hover {\n",
              "      background-color: #434B5C;\n",
              "      box-shadow: 0px 1px 3px 1px rgba(0, 0, 0, 0.15);\n",
              "      filter: drop-shadow(0px 1px 2px rgba(0, 0, 0, 0.3));\n",
              "      fill: #FFFFFF;\n",
              "    }\n",
              "  </style>\n",
              "\n",
              "      <script>\n",
              "        const buttonEl =\n",
              "          document.querySelector('#df-5fb6204d-3d04-469b-aa0b-b446b6533ce4 button.colab-df-convert');\n",
              "        buttonEl.style.display =\n",
              "          google.colab.kernel.accessAllowed ? 'block' : 'none';\n",
              "\n",
              "        async function convertToInteractive(key) {\n",
              "          const element = document.querySelector('#df-5fb6204d-3d04-469b-aa0b-b446b6533ce4');\n",
              "          const dataTable =\n",
              "            await google.colab.kernel.invokeFunction('convertToInteractive',\n",
              "                                                     [key], {});\n",
              "          if (!dataTable) return;\n",
              "\n",
              "          const docLinkHtml = 'Like what you see? Visit the ' +\n",
              "            '<a target=\"_blank\" href=https://colab.research.google.com/notebooks/data_table.ipynb>data table notebook</a>'\n",
              "            + ' to learn more about interactive tables.';\n",
              "          element.innerHTML = '';\n",
              "          dataTable['output_type'] = 'display_data';\n",
              "          await google.colab.output.renderOutput(dataTable, element);\n",
              "          const docLink = document.createElement('div');\n",
              "          docLink.innerHTML = docLinkHtml;\n",
              "          element.appendChild(docLink);\n",
              "        }\n",
              "      </script>\n",
              "    </div>\n",
              "  </div>\n",
              "  "
            ]
          },
          "metadata": {},
          "execution_count": 9
        }
      ],
      "source": [
        "df[['invoice_id','doc_id']]"
      ],
      "id": "038f24bb"
    },
    {
      "cell_type": "markdown",
      "metadata": {
        "id": "18cfe10a"
      },
      "source": [
        "#### Write a code to check - 'baseline_create_date',\"document_create_date\",'document_create_date.1' - these columns are almost same.\n",
        "\n",
        "- Please note, if they are same, we need to drop them later\n",
        "\n"
      ],
      "id": "18cfe10a"
    },
    {
      "cell_type": "code",
      "execution_count": null,
      "metadata": {
        "id": "cf5b40ff"
      },
      "outputs": [],
      "source": [
        "df1=pd.DataFrame(df,columns=['baseline_create_date','document_create_date','document_create_date.1'])\n",
        "corr=df1.corr()\n"
      ],
      "id": "cf5b40ff"
    },
    {
      "cell_type": "code",
      "execution_count": null,
      "metadata": {
        "colab": {
          "base_uri": "https://localhost:8080/",
          "height": 400
        },
        "id": "S0Hs-xvyzQAi",
        "outputId": "5c6512c0-69ba-4552-eba6-cdfdac32ba1e"
      },
      "outputs": [
        {
          "output_type": "execute_result",
          "data": {
            "text/plain": [
              "<matplotlib.axes._subplots.AxesSubplot at 0x7f45ea48ce10>"
            ]
          },
          "metadata": {},
          "execution_count": 11
        },
        {
          "output_type": "display_data",
          "data": {
            "text/plain": [
              "<Figure size 432x288 with 2 Axes>"
            ],
            "image/png": "[encoded data removed]"
          },
          "metadata": {
            "needs_background": "light"
          }
        }
      ],
      "source": [
        "sns.heatmap(corr,annot=True)"
      ],
      "id": "S0Hs-xvyzQAi"
    },
    {
      "cell_type": "markdown",
      "metadata": {
        "id": "33110576"
      },
      "source": [
        "#### Please check, Column 'posting_id' is constant columns or not\n"
      ],
      "id": "33110576"
    },
    {
      "cell_type": "markdown",
      "metadata": {
        "id": "e5fb8daf"
      },
      "source": [
        "#### Please check 'isOpen' is a constant column and relevant column for this project or not"
      ],
      "id": "e5fb8daf"
    },
    {
      "cell_type": "code",
      "execution_count": null,
      "metadata": {
        "colab": {
          "base_uri": "https://localhost:8080/"
        },
        "id": "ecce2664",
        "outputId": "468508ff-a891-4ae1-b34c-ba52832e6524"
      },
      "outputs": [
        {
          "output_type": "execute_result",
          "data": {
            "text/plain": [
              "VarianceThreshold(threshold=0)"
            ]
          },
          "metadata": {},
          "execution_count": 12
        }
      ],
      "source": [
        "from sklearn.feature_selection import VarianceThreshold\n",
        "selector = VarianceThreshold(threshold = 0)\n",
        "selector.fit(df[['posting_id','isOpen']])"
      ],
      "id": "ecce2664"
    },
    {
      "cell_type": "code",
      "execution_count": null,
      "metadata": {
        "colab": {
          "base_uri": "https://localhost:8080/"
        },
        "id": "bG42NY5McOeJ",
        "outputId": "0303d92a-d427-41c1-f144-d17d4bee74de"
      },
      "outputs": [
        {
          "output_type": "stream",
          "name": "stdout",
          "text": [
            "[False  True]\n",
            "So here\n",
            " posting id does not carry 0 variance features but isOpen does.\n",
            " So posting id column is constant \n"
          ]
        }
      ],
      "source": [
        "print(selector.get_support())\n",
        "print('So here\\n posting id does not carry 0 variance features but isOpen does.\\n So posting id column is constant ')"
      ],
      "id": "bG42NY5McOeJ"
    },
    {
      "cell_type": "code",
      "execution_count": null,
      "metadata": {
        "colab": {
          "base_uri": "https://localhost:8080/"
        },
        "id": "QHffjop52AjY",
        "outputId": "6395f1f6-4005-45d5-d7c6-b8440cd74949"
      },
      "outputs": [
        {
          "output_type": "execute_result",
          "data": {
            "text/plain": [
              "0    40000\n",
              "1    10000\n",
              "Name: isOpen, dtype: int64"
            ]
          },
          "metadata": {},
          "execution_count": 14
        }
      ],
      "source": [
        "df.isOpen.value_counts()"
      ],
      "id": "QHffjop52AjY"
    },
    {
      "cell_type": "markdown",
      "metadata": {
        "id": "45a11a62"
      },
      "source": [
        "### Write the code to drop all the following columns from the dataframe\n",
        "\n",
        "- 'area_business'\n",
        "- \"posting_id\"\n",
        "- \"invoice_id\"\n",
        "- \"document_create_date\"\n",
        "- \"isOpen\"\n",
        "- 'document type' \n",
        "- 'document_create_date.1"
      ],
      "id": "45a11a62"
    },
    {
      "cell_type": "code",
      "execution_count": null,
      "metadata": {
        "id": "270d85d1"
      },
      "outputs": [],
      "source": [
        "df= df.drop(['area_business','posting_id','invoice_id','document_create_date','isOpen','document type','document_create_date.1'],axis=1)"
      ],
      "id": "270d85d1"
    },
    {
      "cell_type": "markdown",
      "metadata": {
        "id": "K5LHAM2XVGnk"
      },
      "source": [
        "### Please check from the dataframe whether all the columns are removed or not "
      ],
      "id": "K5LHAM2XVGnk"
    },
    {
      "cell_type": "code",
      "execution_count": null,
      "metadata": {
        "colab": {
          "base_uri": "https://localhost:8080/",
          "height": 627
        },
        "id": "ef3f7d2b",
        "outputId": "5284806c-30aa-4179-dd60-1762292f461a"
      },
      "outputs": [
        {
          "output_type": "execute_result",
          "data": {
            "text/plain": [
              "      business_code cust_number       name_customer           clear_date  \\\n",
              "0              U001  0200769623        WAL-MAR corp  2020-02-11 00:00:00   \n",
              "1              U001  0200980828              BEN E   2019-08-08 00:00:00   \n",
              "2              U001  0200792734          MDV/ trust  2019-12-30 00:00:00   \n",
              "3              CA02  0140105686            SYSC llc                  NaN   \n",
              "4              U001  0200769623  WAL-MAR foundation  2019-11-25 00:00:00   \n",
              "...             ...         ...                 ...                  ...   \n",
              "49995          U001  0200561861      CO corporation                  NaN   \n",
              "49996          U001  0200769623          WAL-MAR co  2019-09-03 00:00:00   \n",
              "49997          U001  0200772595    SAFEW associates  2020-03-05 00:00:00   \n",
              "49998          U001  0200726979           BJ'S  llc  2019-12-12 00:00:00   \n",
              "49999          U001  0200020431            DEC corp  2019-01-15 00:00:00   \n",
              "\n",
              "       buisness_year        doc_id posting_date  due_in_date invoice_currency  \\\n",
              "0             2020.0  1.930438e+09   2020-01-26   20200210.0              USD   \n",
              "1             2019.0  1.929646e+09   2019-07-22   20190811.0              USD   \n",
              "2             2019.0  1.929874e+09   2019-09-14   20190929.0              USD   \n",
              "3             2020.0  2.960623e+09   2020-03-30   20200410.0              CAD   \n",
              "4             2019.0  1.930148e+09   2019-11-13   20191128.0              USD   \n",
              "...              ...           ...          ...          ...              ...   \n",
              "49995         2020.0  1.930797e+09   2020-04-21   20200506.0              USD   \n",
              "49996         2019.0  1.929744e+09   2019-08-15   20190830.0              USD   \n",
              "49997         2020.0  1.930537e+09   2020-02-19   20200305.0              USD   \n",
              "49998         2019.0  1.930199e+09   2019-11-27   20191212.0              USD   \n",
              "49999         2019.0  1.928576e+09   2019-01-05   20190124.0              USD   \n",
              "\n",
              "       total_open_amount  baseline_create_date cust_payment_terms  \n",
              "0               54273.28            20200126.0               NAH4  \n",
              "1               79656.60            20190722.0               NAD1  \n",
              "2                2253.86            20190914.0               NAA8  \n",
              "3                3299.70            20200331.0               CA10  \n",
              "4               33133.29            20191113.0               NAH4  \n",
              "...                  ...                   ...                ...  \n",
              "49995            3187.86            20200421.0               NAA8  \n",
              "49996            6766.54            20190815.0               NAH4  \n",
              "49997            6120.86            20200219.0               NAA8  \n",
              "49998              63.48            20191127.0               NAA8  \n",
              "49999            1790.30            20190101.0               NAM4  \n",
              "\n",
              "[50000 rows x 12 columns]"
            ],
            "text/html": [
              "\n",
              "  <div id=\"df-f0e3e38e-6a1e-4e9a-ac4a-f82bca6fab18\">\n",
              "    <div class=\"colab-df-container\">\n",
              "      <div>\n",
              "<style scoped>\n",
              "    .dataframe tbody tr th:only-of-type {\n",
              "        vertical-align: middle;\n",
              "    }\n",
              "\n",
              "    .dataframe tbody tr th {\n",
              "        vertical-align: top;\n",
              "    }\n",
              "\n",
              "    .dataframe thead th {\n",
              "        text-align: right;\n",
              "    }\n",
              "</style>\n",
              "<table border=\"1\" class=\"dataframe\">\n",
              "  <thead>\n",
              "    <tr style=\"text-align: right;\">\n",
              "      <th></th>\n",
              "      <th>business_code</th>\n",
              "      <th>cust_number</th>\n",
              "      <th>name_customer</th>\n",
              "      <th>clear_date</th>\n",
              "      <th>buisness_year</th>\n",
              "      <th>doc_id</th>\n",
              "      <th>posting_date</th>\n",
              "      <th>due_in_date</th>\n",
              "      <th>invoice_currency</th>\n",
              "      <th>total_open_amount</th>\n",
              "      <th>baseline_create_date</th>\n",
              "      <th>cust_payment_terms</th>\n",
              "    </tr>\n",
              "  </thead>\n",
              "  <tbody>\n",
              "    <tr>\n",
              "      <th>0</th>\n",
              "      <td>U001</td>\n",
              "      <td>0200769623</td>\n",
              "      <td>WAL-MAR corp</td>\n",
              "      <td>2020-02-11 00:00:00</td>\n",
              "      <td>2020.0</td>\n",
              "      <td>1.930438e+09</td>\n",
              "      <td>2020-01-26</td>\n",
              "      <td>20200210.0</td>\n",
              "      <td>USD</td>\n",
              "      <td>54273.28</td>\n",
              "      <td>20200126.0</td>\n",
              "      <td>NAH4</td>\n",
              "    </tr>\n",
              "    <tr>\n",
              "      <th>1</th>\n",
              "      <td>U001</td>\n",
              "      <td>0200980828</td>\n",
              "      <td>BEN E</td>\n",
              "      <td>2019-08-08 00:00:00</td>\n",
              "      <td>2019.0</td>\n",
              "      <td>1.929646e+09</td>\n",
              "      <td>2019-07-22</td>\n",
              "      <td>20190811.0</td>\n",
              "      <td>USD</td>\n",
              "      <td>79656.60</td>\n",
              "      <td>20190722.0</td>\n",
              "      <td>NAD1</td>\n",
              "    </tr>\n",
              "    <tr>\n",
              "      <th>2</th>\n",
              "      <td>U001</td>\n",
              "      <td>0200792734</td>\n",
              "      <td>MDV/ trust</td>\n",
              "      <td>2019-12-30 00:00:00</td>\n",
              "      <td>2019.0</td>\n",
              "      <td>1.929874e+09</td>\n",
              "      <td>2019-09-14</td>\n",
              "      <td>20190929.0</td>\n",
              "      <td>USD</td>\n",
              "      <td>2253.86</td>\n",
              "      <td>20190914.0</td>\n",
              "      <td>NAA8</td>\n",
              "    </tr>\n",
              "    <tr>\n",
              "      <th>3</th>\n",
              "      <td>CA02</td>\n",
              "      <td>0140105686</td>\n",
              "      <td>SYSC llc</td>\n",
              "      <td>NaN</td>\n",
              "      <td>2020.0</td>\n",
              "      <td>2.960623e+09</td>\n",
              "      <td>2020-03-30</td>\n",
              "      <td>20200410.0</td>\n",
              "      <td>CAD</td>\n",
              "      <td>3299.70</td>\n",
              "      <td>20200331.0</td>\n",
              "      <td>CA10</td>\n",
              "    </tr>\n",
              "    <tr>\n",
              "      <th>4</th>\n",
              "      <td>U001</td>\n",
              "      <td>0200769623</td>\n",
              "      <td>WAL-MAR foundation</td>\n",
              "      <td>2019-11-25 00:00:00</td>\n",
              "      <td>2019.0</td>\n",
              "      <td>1.930148e+09</td>\n",
              "      <td>2019-11-13</td>\n",
              "      <td>20191128.0</td>\n",
              "      <td>USD</td>\n",
              "      <td>33133.29</td>\n",
              "      <td>20191113.0</td>\n",
              "      <td>NAH4</td>\n",
              "    </tr>\n",
              "    <tr>\n",
              "      <th>...</th>\n",
              "      <td>...</td>\n",
              "      <td>...</td>\n",
              "      <td>...</td>\n",
              "      <td>...</td>\n",
              "      <td>...</td>\n",
              "      <td>...</td>\n",
              "      <td>...</td>\n",
              "      <td>...</td>\n",
              "      <td>...</td>\n",
              "      <td>...</td>\n",
              "      <td>...</td>\n",
              "      <td>...</td>\n",
              "    </tr>\n",
              "    <tr>\n",
              "      <th>49995</th>\n",
              "      <td>U001</td>\n",
              "      <td>0200561861</td>\n",
              "      <td>CO corporation</td>\n",
              "      <td>NaN</td>\n",
              "      <td>2020.0</td>\n",
              "      <td>1.930797e+09</td>\n",
              "      <td>2020-04-21</td>\n",
              "      <td>20200506.0</td>\n",
              "      <td>USD</td>\n",
              "      <td>3187.86</td>\n",
              "      <td>20200421.0</td>\n",
              "      <td>NAA8</td>\n",
              "    </tr>\n",
              "    <tr>\n",
              "      <th>49996</th>\n",
              "      <td>U001</td>\n",
              "      <td>0200769623</td>\n",
              "      <td>WAL-MAR co</td>\n",
              "      <td>2019-09-03 00:00:00</td>\n",
              "      <td>2019.0</td>\n",
              "      <td>1.929744e+09</td>\n",
              "      <td>2019-08-15</td>\n",
              "      <td>20190830.0</td>\n",
              "      <td>USD</td>\n",
              "      <td>6766.54</td>\n",
              "      <td>20190815.0</td>\n",
              "      <td>NAH4</td>\n",
              "    </tr>\n",
              "    <tr>\n",
              "      <th>49997</th>\n",
              "      <td>U001</td>\n",
              "      <td>0200772595</td>\n",
              "      <td>SAFEW associates</td>\n",
              "      <td>2020-03-05 00:00:00</td>\n",
              "      <td>2020.0</td>\n",
              "      <td>1.930537e+09</td>\n",
              "      <td>2020-02-19</td>\n",
              "      <td>20200305.0</td>\n",
              "      <td>USD</td>\n",
              "      <td>6120.86</td>\n",
              "      <td>20200219.0</td>\n",
              "      <td>NAA8</td>\n",
              "    </tr>\n",
              "    <tr>\n",
              "      <th>49998</th>\n",
              "      <td>U001</td>\n",
              "      <td>0200726979</td>\n",
              "      <td>BJ'S  llc</td>\n",
              "      <td>2019-12-12 00:00:00</td>\n",
              "      <td>2019.0</td>\n",
              "      <td>1.930199e+09</td>\n",
              "      <td>2019-11-27</td>\n",
              "      <td>20191212.0</td>\n",
              "      <td>USD</td>\n",
              "      <td>63.48</td>\n",
              "      <td>20191127.0</td>\n",
              "      <td>NAA8</td>\n",
              "    </tr>\n",
              "    <tr>\n",
              "      <th>49999</th>\n",
              "      <td>U001</td>\n",
              "      <td>0200020431</td>\n",
              "      <td>DEC corp</td>\n",
              "      <td>2019-01-15 00:00:00</td>\n",
              "      <td>2019.0</td>\n",
              "      <td>1.928576e+09</td>\n",
              "      <td>2019-01-05</td>\n",
              "      <td>20190124.0</td>\n",
              "      <td>USD</td>\n",
              "      <td>1790.30</td>\n",
              "      <td>20190101.0</td>\n",
              "      <td>NAM4</td>\n",
              "    </tr>\n",
              "  </tbody>\n",
              "</table>\n",
              "<p>50000 rows × 12 columns</p>\n",
              "</div>\n",
              "      <button class=\"colab-df-convert\" onclick=\"convertToInteractive('df-f0e3e38e-6a1e-4e9a-ac4a-f82bca6fab18')\"\n",
              "              title=\"Convert this dataframe to an interactive table.\"\n",
              "              style=\"display:none;\">\n",
              "        \n",
              "  <svg xmlns=\"http://www.w3.org/2000/svg\" height=\"24px\"viewBox=\"0 0 24 24\"\n",
              "       width=\"24px\">\n",
              "    <path d=\"M0 0h24v24H0V0z\" fill=\"none\"/>\n",
              "    <path d=\"M18.56 5.44l.94 2.06.94-2.06 2.06-.94-2.06-.94-.94-2.06-.94 2.06-2.06.94zm-11 1L8.5 8.5l.94-2.06 2.06-.94-2.06-.94L8.5 2.5l-.94 2.06-2.06.94zm10 10l.94 2.06.94-2.06 2.06-.94-2.06-.94-.94-2.06-.94 2.06-2.06.94z\"/><path d=\"M17.41 7.96l-1.37-1.37c-.4-.4-.92-.59-1.43-.59-.52 0-1.04.2-1.43.59L10.3 9.45l-7.72 7.72c-.78.78-.78 2.05 0 2.83L4 21.41c.39.39.9.59 1.41.59.51 0 1.02-.2 1.41-.59l7.78-7.78 2.81-2.81c.8-.78.8-2.07 0-2.86zM5.41 20L4 18.59l7.72-7.72 1.47 1.35L5.41 20z\"/>\n",
              "  </svg>\n",
              "      </button>\n",
              "      \n",
              "  <style>\n",
              "    .colab-df-container {\n",
              "      display:flex;\n",
              "      flex-wrap:wrap;\n",
              "      gap: 12px;\n",
              "    }\n",
              "\n",
              "    .colab-df-convert {\n",
              "      background-color: #E8F0FE;\n",
              "      border: none;\n",
              "      border-radius: 50%;\n",
              "      cursor: pointer;\n",
              "      display: none;\n",
              "      fill: #1967D2;\n",
              "      height: 32px;\n",
              "      padding: 0 0 0 0;\n",
              "      width: 32px;\n",
              "    }\n",
              "\n",
              "    .colab-df-convert:hover {\n",
              "      background-color: #E2EBFA;\n",
              "      box-shadow: 0px 1px 2px rgba(60, 64, 67, 0.3), 0px 1px 3px 1px rgba(60, 64, 67, 0.15);\n",
              "      fill: #174EA6;\n",
              "    }\n",
              "\n",
              "    [theme=dark] .colab-df-convert {\n",
              "      background-color: #3B4455;\n",
              "      fill: #D2E3FC;\n",
              "    }\n",
              "\n",
              "    [theme=dark] .colab-df-convert:hover {\n",
              "      background-color: #434B5C;\n",
              "      box-shadow: 0px 1px 3px 1px rgba(0, 0, 0, 0.15);\n",
              "      filter: drop-shadow(0px 1px 2px rgba(0, 0, 0, 0.3));\n",
              "      fill: #FFFFFF;\n",
              "    }\n",
              "  </style>\n",
              "\n",
              "      <script>\n",
              "        const buttonEl =\n",
              "          document.querySelector('#df-f0e3e38e-6a1e-4e9a-ac4a-f82bca6fab18 button.colab-df-convert');\n",
              "        buttonEl.style.display =\n",
              "          google.colab.kernel.accessAllowed ? 'block' : 'none';\n",
              "\n",
              "        async function convertToInteractive(key) {\n",
              "          const element = document.querySelector('#df-f0e3e38e-6a1e-4e9a-ac4a-f82bca6fab18');\n",
              "          const dataTable =\n",
              "            await google.colab.kernel.invokeFunction('convertToInteractive',\n",
              "                                                     [key], {});\n",
              "          if (!dataTable) return;\n",
              "\n",
              "          const docLinkHtml = 'Like what you see? Visit the ' +\n",
              "            '<a target=\"_blank\" href=https://colab.research.google.com/notebooks/data_table.ipynb>data table notebook</a>'\n",
              "            + ' to learn more about interactive tables.';\n",
              "          element.innerHTML = '';\n",
              "          dataTable['output_type'] = 'display_data';\n",
              "          await google.colab.output.renderOutput(dataTable, element);\n",
              "          const docLink = document.createElement('div');\n",
              "          docLink.innerHTML = docLinkHtml;\n",
              "          element.appendChild(docLink);\n",
              "        }\n",
              "      </script>\n",
              "    </div>\n",
              "  </div>\n",
              "  "
            ]
          },
          "metadata": {},
          "execution_count": 16
        }
      ],
      "source": [
        "df"
      ],
      "id": "ef3f7d2b"
    },
    {
      "cell_type": "code",
      "execution_count": null,
      "metadata": {
        "colab": {
          "base_uri": "https://localhost:8080/"
        },
        "id": "_OgpOEGT3rJK",
        "outputId": "00f3b92b-7d7d-4149-88f6-8382244c388e"
      },
      "outputs": [
        {
          "output_type": "stream",
          "name": "stdout",
          "text": [
            "<class 'pandas.core.frame.DataFrame'>\n",
            "RangeIndex: 50000 entries, 0 to 49999\n",
            "Data columns (total 12 columns):\n",
            " #   Column                Non-Null Count  Dtype  \n",
            "---  ------                --------------  -----  \n",
            " 0   business_code         50000 non-null  object \n",
            " 1   cust_number           50000 non-null  object \n",
            " 2   name_customer         50000 non-null  object \n",
            " 3   clear_date            40000 non-null  object \n",
            " 4   buisness_year         50000 non-null  float64\n",
            " 5   doc_id                50000 non-null  float64\n",
            " 6   posting_date          50000 non-null  object \n",
            " 7   due_in_date           50000 non-null  float64\n",
            " 8   invoice_currency      50000 non-null  object \n",
            " 9   total_open_amount     50000 non-null  float64\n",
            " 10  baseline_create_date  50000 non-null  float64\n",
            " 11  cust_payment_terms    50000 non-null  object \n",
            "dtypes: float64(5), object(7)\n",
            "memory usage: 4.6+ MB\n"
          ]
        }
      ],
      "source": [
        "df.info()"
      ],
      "id": "_OgpOEGT3rJK"
    },
    {
      "cell_type": "markdown",
      "metadata": {
        "id": "6bc052c7"
      },
      "source": [
        "### Show all the Duplicate rows from the dataframe"
      ],
      "id": "6bc052c7"
    },
    {
      "cell_type": "code",
      "execution_count": null,
      "metadata": {
        "colab": {
          "base_uri": "https://localhost:8080/"
        },
        "id": "1ae3c7e4",
        "outputId": "745ecef1-3d62-4763-b20f-f486c322da6e"
      },
      "outputs": [
        {
          "output_type": "execute_result",
          "data": {
            "text/plain": [
              "0        False\n",
              "1        False\n",
              "2        False\n",
              "3        False\n",
              "4        False\n",
              "         ...  \n",
              "49995    False\n",
              "49996    False\n",
              "49997    False\n",
              "49998    False\n",
              "49999    False\n",
              "Length: 50000, dtype: bool"
            ]
          },
          "metadata": {},
          "execution_count": 18
        }
      ],
      "source": [
        "duplicate=df.duplicated(keep='first')\n",
        "duplicate"
      ],
      "id": "1ae3c7e4"
    },
    {
      "cell_type": "markdown",
      "metadata": {
        "id": "464fab09"
      },
      "source": [
        "### Display the Number of Duplicate Rows"
      ],
      "id": "464fab09"
    },
    {
      "cell_type": "code",
      "execution_count": null,
      "metadata": {
        "colab": {
          "base_uri": "https://localhost:8080/",
          "height": 644
        },
        "id": "b1ea2397",
        "outputId": "679e4970-1bfd-4179-da7a-91c6ce8dae3d"
      },
      "outputs": [
        {
          "output_type": "execute_result",
          "data": {
            "text/plain": [
              "      business_code cust_number        name_customer           clear_date  \\\n",
              "1041           U001  0200769623           WAL-MAR in  2019-03-12 00:00:00   \n",
              "2400           U001  0200769623        WAL-MAR trust  2019-08-28 00:00:00   \n",
              "2584           U001  0200769623  WAL-MAR corporation  2019-12-16 00:00:00   \n",
              "3755           U001  0200769623             WAL-MAR   2019-11-22 00:00:00   \n",
              "3873           CA02  0140104409       LOB associates                  NaN   \n",
              "...             ...         ...                  ...                  ...   \n",
              "49928          U001  0200915438           GROC trust  2019-08-15 00:00:00   \n",
              "49963          U001  0200759878                SA us  2019-01-29 00:00:00   \n",
              "49986          U001  0200772670  ASSOCIAT foundation  2019-06-12 00:00:00   \n",
              "49990          U001  0200765011           MAINES llc  2019-06-06 00:00:00   \n",
              "49991          U001  0200704045             RA trust  2019-10-25 00:00:00   \n",
              "\n",
              "       buisness_year        doc_id posting_date  due_in_date invoice_currency  \\\n",
              "1041          2019.0  1.928870e+09   2019-02-28   20190315.0              USD   \n",
              "2400          2019.0  1.929758e+09   2019-08-18   20190902.0              USD   \n",
              "2584          2019.0  1.930217e+09   2019-12-04   20191219.0              USD   \n",
              "3755          2019.0  1.930137e+09   2019-11-12   20191127.0              USD   \n",
              "3873          2020.0  2.960629e+09   2020-04-14   20200425.0              CAD   \n",
              "...              ...           ...          ...          ...              ...   \n",
              "49928         2019.0  1.929646e+09   2019-07-25   20190809.0              USD   \n",
              "49963         2019.0  1.928614e+09   2019-01-13   20190128.0              USD   \n",
              "49986         2019.0  1.929403e+09   2019-05-29   20190613.0              USD   \n",
              "49990         2019.0  1.929365e+09   2019-05-22   20190606.0              USD   \n",
              "49991         2019.0  1.930001e+09   2019-10-10   20191025.0              USD   \n",
              "\n",
              "       total_open_amount  baseline_create_date cust_payment_terms  \n",
              "1041            19557.41            20190228.0               NAH4  \n",
              "2400             5600.41            20190818.0               NAH4  \n",
              "2584            35352.17            20191204.0               NAH4  \n",
              "3755             2982.64            20191112.0               NAH4  \n",
              "3873            82975.82            20200415.0               CA10  \n",
              "...                  ...                   ...                ...  \n",
              "49928            6969.00            20190725.0               NAA8  \n",
              "49963           10968.24            20190113.0               NAH4  \n",
              "49986          155837.53            20190529.0               NAU5  \n",
              "49990            4008.05            20190522.0               NAA8  \n",
              "49991           73002.24            20191010.0               NAA8  \n",
              "\n",
              "[1161 rows x 12 columns]"
            ],
            "text/html": [
              "\n",
              "  <div id=\"df-b5aea3df-0ecb-4a32-bb28-9488392932dc\">\n",
              "    <div class=\"colab-df-container\">\n",
              "      <div>\n",
              "<style scoped>\n",
              "    .dataframe tbody tr th:only-of-type {\n",
              "        vertical-align: middle;\n",
              "    }\n",
              "\n",
              "    .dataframe tbody tr th {\n",
              "        vertical-align: top;\n",
              "    }\n",
              "\n",
              "    .dataframe thead th {\n",
              "        text-align: right;\n",
              "    }\n",
              "</style>\n",
              "<table border=\"1\" class=\"dataframe\">\n",
              "  <thead>\n",
              "    <tr style=\"text-align: right;\">\n",
              "      <th></th>\n",
              "      <th>business_code</th>\n",
              "      <th>cust_number</th>\n",
              "      <th>name_customer</th>\n",
              "      <th>clear_date</th>\n",
              "      <th>buisness_year</th>\n",
              "      <th>doc_id</th>\n",
              "      <th>posting_date</th>\n",
              "      <th>due_in_date</th>\n",
              "      <th>invoice_currency</th>\n",
              "      <th>total_open_amount</th>\n",
              "      <th>baseline_create_date</th>\n",
              "      <th>cust_payment_terms</th>\n",
              "    </tr>\n",
              "  </thead>\n",
              "  <tbody>\n",
              "    <tr>\n",
              "      <th>1041</th>\n",
              "      <td>U001</td>\n",
              "      <td>0200769623</td>\n",
              "      <td>WAL-MAR in</td>\n",
              "      <td>2019-03-12 00:00:00</td>\n",
              "      <td>2019.0</td>\n",
              "      <td>1.928870e+09</td>\n",
              "      <td>2019-02-28</td>\n",
              "      <td>20190315.0</td>\n",
              "      <td>USD</td>\n",
              "      <td>19557.41</td>\n",
              "      <td>20190228.0</td>\n",
              "      <td>NAH4</td>\n",
              "    </tr>\n",
              "    <tr>\n",
              "      <th>2400</th>\n",
              "      <td>U001</td>\n",
              "      <td>0200769623</td>\n",
              "      <td>WAL-MAR trust</td>\n",
              "      <td>2019-08-28 00:00:00</td>\n",
              "      <td>2019.0</td>\n",
              "      <td>1.929758e+09</td>\n",
              "      <td>2019-08-18</td>\n",
              "      <td>20190902.0</td>\n",
              "      <td>USD</td>\n",
              "      <td>5600.41</td>\n",
              "      <td>20190818.0</td>\n",
              "      <td>NAH4</td>\n",
              "    </tr>\n",
              "    <tr>\n",
              "      <th>2584</th>\n",
              "      <td>U001</td>\n",
              "      <td>0200769623</td>\n",
              "      <td>WAL-MAR corporation</td>\n",
              "      <td>2019-12-16 00:00:00</td>\n",
              "      <td>2019.0</td>\n",
              "      <td>1.930217e+09</td>\n",
              "      <td>2019-12-04</td>\n",
              "      <td>20191219.0</td>\n",
              "      <td>USD</td>\n",
              "      <td>35352.17</td>\n",
              "      <td>20191204.0</td>\n",
              "      <td>NAH4</td>\n",
              "    </tr>\n",
              "    <tr>\n",
              "      <th>3755</th>\n",
              "      <td>U001</td>\n",
              "      <td>0200769623</td>\n",
              "      <td>WAL-MAR</td>\n",
              "      <td>2019-11-22 00:00:00</td>\n",
              "      <td>2019.0</td>\n",
              "      <td>1.930137e+09</td>\n",
              "      <td>2019-11-12</td>\n",
              "      <td>20191127.0</td>\n",
              "      <td>USD</td>\n",
              "      <td>2982.64</td>\n",
              "      <td>20191112.0</td>\n",
              "      <td>NAH4</td>\n",
              "    </tr>\n",
              "    <tr>\n",
              "      <th>3873</th>\n",
              "      <td>CA02</td>\n",
              "      <td>0140104409</td>\n",
              "      <td>LOB associates</td>\n",
              "      <td>NaN</td>\n",
              "      <td>2020.0</td>\n",
              "      <td>2.960629e+09</td>\n",
              "      <td>2020-04-14</td>\n",
              "      <td>20200425.0</td>\n",
              "      <td>CAD</td>\n",
              "      <td>82975.82</td>\n",
              "      <td>20200415.0</td>\n",
              "      <td>CA10</td>\n",
              "    </tr>\n",
              "    <tr>\n",
              "      <th>...</th>\n",
              "      <td>...</td>\n",
              "      <td>...</td>\n",
              "      <td>...</td>\n",
              "      <td>...</td>\n",
              "      <td>...</td>\n",
              "      <td>...</td>\n",
              "      <td>...</td>\n",
              "      <td>...</td>\n",
              "      <td>...</td>\n",
              "      <td>...</td>\n",
              "      <td>...</td>\n",
              "      <td>...</td>\n",
              "    </tr>\n",
              "    <tr>\n",
              "      <th>49928</th>\n",
              "      <td>U001</td>\n",
              "      <td>0200915438</td>\n",
              "      <td>GROC trust</td>\n",
              "      <td>2019-08-15 00:00:00</td>\n",
              "      <td>2019.0</td>\n",
              "      <td>1.929646e+09</td>\n",
              "      <td>2019-07-25</td>\n",
              "      <td>20190809.0</td>\n",
              "      <td>USD</td>\n",
              "      <td>6969.00</td>\n",
              "      <td>20190725.0</td>\n",
              "      <td>NAA8</td>\n",
              "    </tr>\n",
              "    <tr>\n",
              "      <th>49963</th>\n",
              "      <td>U001</td>\n",
              "      <td>0200759878</td>\n",
              "      <td>SA us</td>\n",
              "      <td>2019-01-29 00:00:00</td>\n",
              "      <td>2019.0</td>\n",
              "      <td>1.928614e+09</td>\n",
              "      <td>2019-01-13</td>\n",
              "      <td>20190128.0</td>\n",
              "      <td>USD</td>\n",
              "      <td>10968.24</td>\n",
              "      <td>20190113.0</td>\n",
              "      <td>NAH4</td>\n",
              "    </tr>\n",
              "    <tr>\n",
              "      <th>49986</th>\n",
              "      <td>U001</td>\n",
              "      <td>0200772670</td>\n",
              "      <td>ASSOCIAT foundation</td>\n",
              "      <td>2019-06-12 00:00:00</td>\n",
              "      <td>2019.0</td>\n",
              "      <td>1.929403e+09</td>\n",
              "      <td>2019-05-29</td>\n",
              "      <td>20190613.0</td>\n",
              "      <td>USD</td>\n",
              "      <td>155837.53</td>\n",
              "      <td>20190529.0</td>\n",
              "      <td>NAU5</td>\n",
              "    </tr>\n",
              "    <tr>\n",
              "      <th>49990</th>\n",
              "      <td>U001</td>\n",
              "      <td>0200765011</td>\n",
              "      <td>MAINES llc</td>\n",
              "      <td>2019-06-06 00:00:00</td>\n",
              "      <td>2019.0</td>\n",
              "      <td>1.929365e+09</td>\n",
              "      <td>2019-05-22</td>\n",
              "      <td>20190606.0</td>\n",
              "      <td>USD</td>\n",
              "      <td>4008.05</td>\n",
              "      <td>20190522.0</td>\n",
              "      <td>NAA8</td>\n",
              "    </tr>\n",
              "    <tr>\n",
              "      <th>49991</th>\n",
              "      <td>U001</td>\n",
              "      <td>0200704045</td>\n",
              "      <td>RA trust</td>\n",
              "      <td>2019-10-25 00:00:00</td>\n",
              "      <td>2019.0</td>\n",
              "      <td>1.930001e+09</td>\n",
              "      <td>2019-10-10</td>\n",
              "      <td>20191025.0</td>\n",
              "      <td>USD</td>\n",
              "      <td>73002.24</td>\n",
              "      <td>20191010.0</td>\n",
              "      <td>NAA8</td>\n",
              "    </tr>\n",
              "  </tbody>\n",
              "</table>\n",
              "<p>1161 rows × 12 columns</p>\n",
              "</div>\n",
              "      <button class=\"colab-df-convert\" onclick=\"convertToInteractive('df-b5aea3df-0ecb-4a32-bb28-9488392932dc')\"\n",
              "              title=\"Convert this dataframe to an interactive table.\"\n",
              "              style=\"display:none;\">\n",
              "        \n",
              "  <svg xmlns=\"http://www.w3.org/2000/svg\" height=\"24px\"viewBox=\"0 0 24 24\"\n",
              "       width=\"24px\">\n",
              "    <path d=\"M0 0h24v24H0V0z\" fill=\"none\"/>\n",
              "    <path d=\"M18.56 5.44l.94 2.06.94-2.06 2.06-.94-2.06-.94-.94-2.06-.94 2.06-2.06.94zm-11 1L8.5 8.5l.94-2.06 2.06-.94-2.06-.94L8.5 2.5l-.94 2.06-2.06.94zm10 10l.94 2.06.94-2.06 2.06-.94-2.06-.94-.94-2.06-.94 2.06-2.06.94z\"/><path d=\"M17.41 7.96l-1.37-1.37c-.4-.4-.92-.59-1.43-.59-.52 0-1.04.2-1.43.59L10.3 9.45l-7.72 7.72c-.78.78-.78 2.05 0 2.83L4 21.41c.39.39.9.59 1.41.59.51 0 1.02-.2 1.41-.59l7.78-7.78 2.81-2.81c.8-.78.8-2.07 0-2.86zM5.41 20L4 18.59l7.72-7.72 1.47 1.35L5.41 20z\"/>\n",
              "  </svg>\n",
              "      </button>\n",
              "      \n",
              "  <style>\n",
              "    .colab-df-container {\n",
              "      display:flex;\n",
              "      flex-wrap:wrap;\n",
              "      gap: 12px;\n",
              "    }\n",
              "\n",
              "    .colab-df-convert {\n",
              "      background-color: #E8F0FE;\n",
              "      border: none;\n",
              "      border-radius: 50%;\n",
              "      cursor: pointer;\n",
              "      display: none;\n",
              "      fill: #1967D2;\n",
              "      height: 32px;\n",
              "      padding: 0 0 0 0;\n",
              "      width: 32px;\n",
              "    }\n",
              "\n",
              "    .colab-df-convert:hover {\n",
              "      background-color: #E2EBFA;\n",
              "      box-shadow: 0px 1px 2px rgba(60, 64, 67, 0.3), 0px 1px 3px 1px rgba(60, 64, 67, 0.15);\n",
              "      fill: #174EA6;\n",
              "    }\n",
              "\n",
              "    [theme=dark] .colab-df-convert {\n",
              "      background-color: #3B4455;\n",
              "      fill: #D2E3FC;\n",
              "    }\n",
              "\n",
              "    [theme=dark] .colab-df-convert:hover {\n",
              "      background-color: #434B5C;\n",
              "      box-shadow: 0px 1px 3px 1px rgba(0, 0, 0, 0.15);\n",
              "      filter: drop-shadow(0px 1px 2px rgba(0, 0, 0, 0.3));\n",
              "      fill: #FFFFFF;\n",
              "    }\n",
              "  </style>\n",
              "\n",
              "      <script>\n",
              "        const buttonEl =\n",
              "          document.querySelector('#df-b5aea3df-0ecb-4a32-bb28-9488392932dc button.colab-df-convert');\n",
              "        buttonEl.style.display =\n",
              "          google.colab.kernel.accessAllowed ? 'block' : 'none';\n",
              "\n",
              "        async function convertToInteractive(key) {\n",
              "          const element = document.querySelector('#df-b5aea3df-0ecb-4a32-bb28-9488392932dc');\n",
              "          const dataTable =\n",
              "            await google.colab.kernel.invokeFunction('convertToInteractive',\n",
              "                                                     [key], {});\n",
              "          if (!dataTable) return;\n",
              "\n",
              "          const docLinkHtml = 'Like what you see? Visit the ' +\n",
              "            '<a target=\"_blank\" href=https://colab.research.google.com/notebooks/data_table.ipynb>data table notebook</a>'\n",
              "            + ' to learn more about interactive tables.';\n",
              "          element.innerHTML = '';\n",
              "          dataTable['output_type'] = 'display_data';\n",
              "          await google.colab.output.renderOutput(dataTable, element);\n",
              "          const docLink = document.createElement('div');\n",
              "          docLink.innerHTML = docLinkHtml;\n",
              "          element.appendChild(docLink);\n",
              "        }\n",
              "      </script>\n",
              "    </div>\n",
              "  </div>\n",
              "  "
            ]
          },
          "metadata": {},
          "execution_count": 19
        }
      ],
      "source": [
        "duplicated_rows = df[duplicate]\n",
        "duplicated_rows"
      ],
      "id": "b1ea2397"
    },
    {
      "cell_type": "markdown",
      "metadata": {
        "id": "827a6718"
      },
      "source": [
        "### Drop all the Duplicate Rows"
      ],
      "id": "827a6718"
    },
    {
      "cell_type": "code",
      "execution_count": null,
      "metadata": {
        "id": "5d10151c"
      },
      "outputs": [],
      "source": [
        "df=df.drop_duplicates(keep='first')\n"
      ],
      "id": "5d10151c"
    },
    {
      "cell_type": "code",
      "execution_count": null,
      "metadata": {
        "colab": {
          "base_uri": "https://localhost:8080/",
          "height": 627
        },
        "id": "Sf0h1oqi5taC",
        "outputId": "ebb5bf33-fd9d-4f93-cdc1-998c9e503e08"
      },
      "outputs": [
        {
          "output_type": "execute_result",
          "data": {
            "text/plain": [
              "      business_code cust_number       name_customer           clear_date  \\\n",
              "0              U001  0200769623        WAL-MAR corp  2020-02-11 00:00:00   \n",
              "1              U001  0200980828              BEN E   2019-08-08 00:00:00   \n",
              "2              U001  0200792734          MDV/ trust  2019-12-30 00:00:00   \n",
              "3              CA02  0140105686            SYSC llc                  NaN   \n",
              "4              U001  0200769623  WAL-MAR foundation  2019-11-25 00:00:00   \n",
              "...             ...         ...                 ...                  ...   \n",
              "49995          U001  0200561861      CO corporation                  NaN   \n",
              "49996          U001  0200769623          WAL-MAR co  2019-09-03 00:00:00   \n",
              "49997          U001  0200772595    SAFEW associates  2020-03-05 00:00:00   \n",
              "49998          U001  0200726979           BJ'S  llc  2019-12-12 00:00:00   \n",
              "49999          U001  0200020431            DEC corp  2019-01-15 00:00:00   \n",
              "\n",
              "       buisness_year        doc_id posting_date  due_in_date invoice_currency  \\\n",
              "0             2020.0  1.930438e+09   2020-01-26   20200210.0              USD   \n",
              "1             2019.0  1.929646e+09   2019-07-22   20190811.0              USD   \n",
              "2             2019.0  1.929874e+09   2019-09-14   20190929.0              USD   \n",
              "3             2020.0  2.960623e+09   2020-03-30   20200410.0              CAD   \n",
              "4             2019.0  1.930148e+09   2019-11-13   20191128.0              USD   \n",
              "...              ...           ...          ...          ...              ...   \n",
              "49995         2020.0  1.930797e+09   2020-04-21   20200506.0              USD   \n",
              "49996         2019.0  1.929744e+09   2019-08-15   20190830.0              USD   \n",
              "49997         2020.0  1.930537e+09   2020-02-19   20200305.0              USD   \n",
              "49998         2019.0  1.930199e+09   2019-11-27   20191212.0              USD   \n",
              "49999         2019.0  1.928576e+09   2019-01-05   20190124.0              USD   \n",
              "\n",
              "       total_open_amount  baseline_create_date cust_payment_terms  \n",
              "0               54273.28            20200126.0               NAH4  \n",
              "1               79656.60            20190722.0               NAD1  \n",
              "2                2253.86            20190914.0               NAA8  \n",
              "3                3299.70            20200331.0               CA10  \n",
              "4               33133.29            20191113.0               NAH4  \n",
              "...                  ...                   ...                ...  \n",
              "49995            3187.86            20200421.0               NAA8  \n",
              "49996            6766.54            20190815.0               NAH4  \n",
              "49997            6120.86            20200219.0               NAA8  \n",
              "49998              63.48            20191127.0               NAA8  \n",
              "49999            1790.30            20190101.0               NAM4  \n",
              "\n",
              "[48839 rows x 12 columns]"
            ],
            "text/html": [
              "\n",
              "  <div id=\"df-5d8e6196-d5b1-4d8a-8641-f678b14817f7\">\n",
              "    <div class=\"colab-df-container\">\n",
              "      <div>\n",
              "<style scoped>\n",
              "    .dataframe tbody tr th:only-of-type {\n",
              "        vertical-align: middle;\n",
              "    }\n",
              "\n",
              "    .dataframe tbody tr th {\n",
              "        vertical-align: top;\n",
              "    }\n",
              "\n",
              "    .dataframe thead th {\n",
              "        text-align: right;\n",
              "    }\n",
              "</style>\n",
              "<table border=\"1\" class=\"dataframe\">\n",
              "  <thead>\n",
              "    <tr style=\"text-align: right;\">\n",
              "      <th></th>\n",
              "      <th>business_code</th>\n",
              "      <th>cust_number</th>\n",
              "      <th>name_customer</th>\n",
              "      <th>clear_date</th>\n",
              "      <th>buisness_year</th>\n",
              "      <th>doc_id</th>\n",
              "      <th>posting_date</th>\n",
              "      <th>due_in_date</th>\n",
              "      <th>invoice_currency</th>\n",
              "      <th>total_open_amount</th>\n",
              "      <th>baseline_create_date</th>\n",
              "      <th>cust_payment_terms</th>\n",
              "    </tr>\n",
              "  </thead>\n",
              "  <tbody>\n",
              "    <tr>\n",
              "      <th>0</th>\n",
              "      <td>U001</td>\n",
              "      <td>0200769623</td>\n",
              "      <td>WAL-MAR corp</td>\n",
              "      <td>2020-02-11 00:00:00</td>\n",
              "      <td>2020.0</td>\n",
              "      <td>1.930438e+09</td>\n",
              "      <td>2020-01-26</td>\n",
              "      <td>20200210.0</td>\n",
              "      <td>USD</td>\n",
              "      <td>54273.28</td>\n",
              "      <td>20200126.0</td>\n",
              "      <td>NAH4</td>\n",
              "    </tr>\n",
              "    <tr>\n",
              "      <th>1</th>\n",
              "      <td>U001</td>\n",
              "      <td>0200980828</td>\n",
              "      <td>BEN E</td>\n",
              "      <td>2019-08-08 00:00:00</td>\n",
              "      <td>2019.0</td>\n",
              "      <td>1.929646e+09</td>\n",
              "      <td>2019-07-22</td>\n",
              "      <td>20190811.0</td>\n",
              "      <td>USD</td>\n",
              "      <td>79656.60</td>\n",
              "      <td>20190722.0</td>\n",
              "      <td>NAD1</td>\n",
              "    </tr>\n",
              "    <tr>\n",
              "      <th>2</th>\n",
              "      <td>U001</td>\n",
              "      <td>0200792734</td>\n",
              "      <td>MDV/ trust</td>\n",
              "      <td>2019-12-30 00:00:00</td>\n",
              "      <td>2019.0</td>\n",
              "      <td>1.929874e+09</td>\n",
              "      <td>2019-09-14</td>\n",
              "      <td>20190929.0</td>\n",
              "      <td>USD</td>\n",
              "      <td>2253.86</td>\n",
              "      <td>20190914.0</td>\n",
              "      <td>NAA8</td>\n",
              "    </tr>\n",
              "    <tr>\n",
              "      <th>3</th>\n",
              "      <td>CA02</td>\n",
              "      <td>0140105686</td>\n",
              "      <td>SYSC llc</td>\n",
              "      <td>NaN</td>\n",
              "      <td>2020.0</td>\n",
              "      <td>2.960623e+09</td>\n",
              "      <td>2020-03-30</td>\n",
              "      <td>20200410.0</td>\n",
              "      <td>CAD</td>\n",
              "      <td>3299.70</td>\n",
              "      <td>20200331.0</td>\n",
              "      <td>CA10</td>\n",
              "    </tr>\n",
              "    <tr>\n",
              "      <th>4</th>\n",
              "      <td>U001</td>\n",
              "      <td>0200769623</td>\n",
              "      <td>WAL-MAR foundation</td>\n",
              "      <td>2019-11-25 00:00:00</td>\n",
              "      <td>2019.0</td>\n",
              "      <td>1.930148e+09</td>\n",
              "      <td>2019-11-13</td>\n",
              "      <td>20191128.0</td>\n",
              "      <td>USD</td>\n",
              "      <td>33133.29</td>\n",
              "      <td>20191113.0</td>\n",
              "      <td>NAH4</td>\n",
              "    </tr>\n",
              "    <tr>\n",
              "      <th>...</th>\n",
              "      <td>...</td>\n",
              "      <td>...</td>\n",
              "      <td>...</td>\n",
              "      <td>...</td>\n",
              "      <td>...</td>\n",
              "      <td>...</td>\n",
              "      <td>...</td>\n",
              "      <td>...</td>\n",
              "      <td>...</td>\n",
              "      <td>...</td>\n",
              "      <td>...</td>\n",
              "      <td>...</td>\n",
              "    </tr>\n",
              "    <tr>\n",
              "      <th>49995</th>\n",
              "      <td>U001</td>\n",
              "      <td>0200561861</td>\n",
              "      <td>CO corporation</td>\n",
              "      <td>NaN</td>\n",
              "      <td>2020.0</td>\n",
              "      <td>1.930797e+09</td>\n",
              "      <td>2020-04-21</td>\n",
              "      <td>20200506.0</td>\n",
              "      <td>USD</td>\n",
              "      <td>3187.86</td>\n",
              "      <td>20200421.0</td>\n",
              "      <td>NAA8</td>\n",
              "    </tr>\n",
              "    <tr>\n",
              "      <th>49996</th>\n",
              "      <td>U001</td>\n",
              "      <td>0200769623</td>\n",
              "      <td>WAL-MAR co</td>\n",
              "      <td>2019-09-03 00:00:00</td>\n",
              "      <td>2019.0</td>\n",
              "      <td>1.929744e+09</td>\n",
              "      <td>2019-08-15</td>\n",
              "      <td>20190830.0</td>\n",
              "      <td>USD</td>\n",
              "      <td>6766.54</td>\n",
              "      <td>20190815.0</td>\n",
              "      <td>NAH4</td>\n",
              "    </tr>\n",
              "    <tr>\n",
              "      <th>49997</th>\n",
              "      <td>U001</td>\n",
              "      <td>0200772595</td>\n",
              "      <td>SAFEW associates</td>\n",
              "      <td>2020-03-05 00:00:00</td>\n",
              "      <td>2020.0</td>\n",
              "      <td>1.930537e+09</td>\n",
              "      <td>2020-02-19</td>\n",
              "      <td>20200305.0</td>\n",
              "      <td>USD</td>\n",
              "      <td>6120.86</td>\n",
              "      <td>20200219.0</td>\n",
              "      <td>NAA8</td>\n",
              "    </tr>\n",
              "    <tr>\n",
              "      <th>49998</th>\n",
              "      <td>U001</td>\n",
              "      <td>0200726979</td>\n",
              "      <td>BJ'S  llc</td>\n",
              "      <td>2019-12-12 00:00:00</td>\n",
              "      <td>2019.0</td>\n",
              "      <td>1.930199e+09</td>\n",
              "      <td>2019-11-27</td>\n",
              "      <td>20191212.0</td>\n",
              "      <td>USD</td>\n",
              "      <td>63.48</td>\n",
              "      <td>20191127.0</td>\n",
              "      <td>NAA8</td>\n",
              "    </tr>\n",
              "    <tr>\n",
              "      <th>49999</th>\n",
              "      <td>U001</td>\n",
              "      <td>0200020431</td>\n",
              "      <td>DEC corp</td>\n",
              "      <td>2019-01-15 00:00:00</td>\n",
              "      <td>2019.0</td>\n",
              "      <td>1.928576e+09</td>\n",
              "      <td>2019-01-05</td>\n",
              "      <td>20190124.0</td>\n",
              "      <td>USD</td>\n",
              "      <td>1790.30</td>\n",
              "      <td>20190101.0</td>\n",
              "      <td>NAM4</td>\n",
              "    </tr>\n",
              "  </tbody>\n",
              "</table>\n",
              "<p>48839 rows × 12 columns</p>\n",
              "</div>\n",
              "      <button class=\"colab-df-convert\" onclick=\"convertToInteractive('df-5d8e6196-d5b1-4d8a-8641-f678b14817f7')\"\n",
              "              title=\"Convert this dataframe to an interactive table.\"\n",
              "              style=\"display:none;\">\n",
              "        \n",
              "  <svg xmlns=\"http://www.w3.org/2000/svg\" height=\"24px\"viewBox=\"0 0 24 24\"\n",
              "       width=\"24px\">\n",
              "    <path d=\"M0 0h24v24H0V0z\" fill=\"none\"/>\n",
              "    <path d=\"M18.56 5.44l.94 2.06.94-2.06 2.06-.94-2.06-.94-.94-2.06-.94 2.06-2.06.94zm-11 1L8.5 8.5l.94-2.06 2.06-.94-2.06-.94L8.5 2.5l-.94 2.06-2.06.94zm10 10l.94 2.06.94-2.06 2.06-.94-2.06-.94-.94-2.06-.94 2.06-2.06.94z\"/><path d=\"M17.41 7.96l-1.37-1.37c-.4-.4-.92-.59-1.43-.59-.52 0-1.04.2-1.43.59L10.3 9.45l-7.72 7.72c-.78.78-.78 2.05 0 2.83L4 21.41c.39.39.9.59 1.41.59.51 0 1.02-.2 1.41-.59l7.78-7.78 2.81-2.81c.8-.78.8-2.07 0-2.86zM5.41 20L4 18.59l7.72-7.72 1.47 1.35L5.41 20z\"/>\n",
              "  </svg>\n",
              "      </button>\n",
              "      \n",
              "  <style>\n",
              "    .colab-df-container {\n",
              "      display:flex;\n",
              "      flex-wrap:wrap;\n",
              "      gap: 12px;\n",
              "    }\n",
              "\n",
              "    .colab-df-convert {\n",
              "      background-color: #E8F0FE;\n",
              "      border: none;\n",
              "      border-radius: 50%;\n",
              "      cursor: pointer;\n",
              "      display: none;\n",
              "      fill: #1967D2;\n",
              "      height: 32px;\n",
              "      padding: 0 0 0 0;\n",
              "      width: 32px;\n",
              "    }\n",
              "\n",
              "    .colab-df-convert:hover {\n",
              "      background-color: #E2EBFA;\n",
              "      box-shadow: 0px 1px 2px rgba(60, 64, 67, 0.3), 0px 1px 3px 1px rgba(60, 64, 67, 0.15);\n",
              "      fill: #174EA6;\n",
              "    }\n",
              "\n",
              "    [theme=dark] .colab-df-convert {\n",
              "      background-color: #3B4455;\n",
              "      fill: #D2E3FC;\n",
              "    }\n",
              "\n",
              "    [theme=dark] .colab-df-convert:hover {\n",
              "      background-color: #434B5C;\n",
              "      box-shadow: 0px 1px 3px 1px rgba(0, 0, 0, 0.15);\n",
              "      filter: drop-shadow(0px 1px 2px rgba(0, 0, 0, 0.3));\n",
              "      fill: #FFFFFF;\n",
              "    }\n",
              "  </style>\n",
              "\n",
              "      <script>\n",
              "        const buttonEl =\n",
              "          document.querySelector('#df-5d8e6196-d5b1-4d8a-8641-f678b14817f7 button.colab-df-convert');\n",
              "        buttonEl.style.display =\n",
              "          google.colab.kernel.accessAllowed ? 'block' : 'none';\n",
              "\n",
              "        async function convertToInteractive(key) {\n",
              "          const element = document.querySelector('#df-5d8e6196-d5b1-4d8a-8641-f678b14817f7');\n",
              "          const dataTable =\n",
              "            await google.colab.kernel.invokeFunction('convertToInteractive',\n",
              "                                                     [key], {});\n",
              "          if (!dataTable) return;\n",
              "\n",
              "          const docLinkHtml = 'Like what you see? Visit the ' +\n",
              "            '<a target=\"_blank\" href=https://colab.research.google.com/notebooks/data_table.ipynb>data table notebook</a>'\n",
              "            + ' to learn more about interactive tables.';\n",
              "          element.innerHTML = '';\n",
              "          dataTable['output_type'] = 'display_data';\n",
              "          await google.colab.output.renderOutput(dataTable, element);\n",
              "          const docLink = document.createElement('div');\n",
              "          docLink.innerHTML = docLinkHtml;\n",
              "          element.appendChild(docLink);\n",
              "        }\n",
              "      </script>\n",
              "    </div>\n",
              "  </div>\n",
              "  "
            ]
          },
          "metadata": {},
          "execution_count": 21
        }
      ],
      "source": [
        "df"
      ],
      "id": "Sf0h1oqi5taC"
    },
    {
      "cell_type": "markdown",
      "metadata": {
        "id": "7e5d1f9b"
      },
      "source": [
        "#### Now check for all duplicate rows now\n",
        "\n",
        "- Note - It must be 0 by now"
      ],
      "id": "7e5d1f9b"
    },
    {
      "cell_type": "code",
      "execution_count": null,
      "metadata": {
        "colab": {
          "base_uri": "https://localhost:8080/"
        },
        "id": "9accc9fc",
        "outputId": "89ccf528-e4a7-4a2b-aadd-3ba1cd712ae0"
      },
      "outputs": [
        {
          "output_type": "execute_result",
          "data": {
            "text/plain": [
              "0"
            ]
          },
          "metadata": {},
          "execution_count": 22
        }
      ],
      "source": [
        "df.duplicated().sum()"
      ],
      "id": "9accc9fc"
    },
    {
      "cell_type": "markdown",
      "metadata": {
        "id": "d0704898"
      },
      "source": [
        "### Check for the number of Rows and Columns in your dataset"
      ],
      "id": "d0704898"
    },
    {
      "cell_type": "code",
      "execution_count": null,
      "metadata": {
        "colab": {
          "base_uri": "https://localhost:8080/"
        },
        "id": "582748a8",
        "outputId": "7fcc6914-3416-4038-8cc1-c30f38e46de2"
      },
      "outputs": [
        {
          "output_type": "execute_result",
          "data": {
            "text/plain": [
              "(48839, 12)"
            ]
          },
          "metadata": {},
          "execution_count": 23
        }
      ],
      "source": [
        "df.shape"
      ],
      "id": "582748a8"
    },
    {
      "cell_type": "markdown",
      "metadata": {
        "id": "4o9c5UodWRtl"
      },
      "source": [
        "### Find out the total count of null values in each columns"
      ],
      "id": "4o9c5UodWRtl"
    },
    {
      "cell_type": "code",
      "execution_count": null,
      "metadata": {
        "colab": {
          "base_uri": "https://localhost:8080/"
        },
        "id": "b0612cb5",
        "outputId": "c51c4bcc-e674-462d-df49-1302e6116da5"
      },
      "outputs": [
        {
          "output_type": "execute_result",
          "data": {
            "text/plain": [
              "business_code              0\n",
              "cust_number                0\n",
              "name_customer              0\n",
              "clear_date              9681\n",
              "buisness_year              0\n",
              "doc_id                     0\n",
              "posting_date               0\n",
              "due_in_date                0\n",
              "invoice_currency           0\n",
              "total_open_amount          0\n",
              "baseline_create_date       0\n",
              "cust_payment_terms         0\n",
              "dtype: int64"
            ]
          },
          "metadata": {},
          "execution_count": 24
        }
      ],
      "source": [
        "df.isnull().sum()"
      ],
      "id": "b0612cb5"
    },
    {
      "cell_type": "markdown",
      "metadata": {
        "id": "7abdb98b"
      },
      "source": [
        "#Data type Conversion "
      ],
      "id": "7abdb98b"
    },
    {
      "cell_type": "markdown",
      "metadata": {
        "id": "LPfSUSp-WpPj"
      },
      "source": [
        "### Please check the data type of each column of the dataframe"
      ],
      "id": "LPfSUSp-WpPj"
    },
    {
      "cell_type": "code",
      "execution_count": null,
      "metadata": {
        "colab": {
          "base_uri": "https://localhost:8080/"
        },
        "id": "689c8592",
        "outputId": "d771b690-e202-4434-a700-73afa3ff0ec4"
      },
      "outputs": [
        {
          "output_type": "execute_result",
          "data": {
            "text/plain": [
              "business_code            object\n",
              "cust_number              object\n",
              "name_customer            object\n",
              "clear_date               object\n",
              "buisness_year           float64\n",
              "doc_id                  float64\n",
              "posting_date             object\n",
              "due_in_date             float64\n",
              "invoice_currency         object\n",
              "total_open_amount       float64\n",
              "baseline_create_date    float64\n",
              "cust_payment_terms       object\n",
              "dtype: object"
            ]
          },
          "metadata": {},
          "execution_count": 25
        }
      ],
      "source": [
        "df.dtypes"
      ],
      "id": "689c8592"
    },
    {
      "cell_type": "code",
      "execution_count": null,
      "metadata": {
        "colab": {
          "base_uri": "https://localhost:8080/"
        },
        "id": "8Mf-IrNQ6vOb",
        "outputId": "cf661f4d-99a1-43b6-fd11-69ec9cb7788d"
      },
      "outputs": [
        {
          "output_type": "stream",
          "name": "stdout",
          "text": [
            "<class 'pandas.core.frame.DataFrame'>\n",
            "Int64Index: 48839 entries, 0 to 49999\n",
            "Data columns (total 12 columns):\n",
            " #   Column                Non-Null Count  Dtype  \n",
            "---  ------                --------------  -----  \n",
            " 0   business_code         48839 non-null  object \n",
            " 1   cust_number           48839 non-null  object \n",
            " 2   name_customer         48839 non-null  object \n",
            " 3   clear_date            39158 non-null  object \n",
            " 4   buisness_year         48839 non-null  float64\n",
            " 5   doc_id                48839 non-null  float64\n",
            " 6   posting_date          48839 non-null  object \n",
            " 7   due_in_date           48839 non-null  float64\n",
            " 8   invoice_currency      48839 non-null  object \n",
            " 9   total_open_amount     48839 non-null  float64\n",
            " 10  baseline_create_date  48839 non-null  float64\n",
            " 11  cust_payment_terms    48839 non-null  object \n",
            "dtypes: float64(5), object(7)\n",
            "memory usage: 4.8+ MB\n"
          ]
        }
      ],
      "source": [
        "df.info()"
      ],
      "id": "8Mf-IrNQ6vOb"
    },
    {
      "cell_type": "markdown",
      "metadata": {
        "id": "0nsem0_3XzOt"
      },
      "source": [
        "### Check the datatype format of below columns\n",
        "\n",
        "- clear_date  \n",
        "- posting_date\n",
        "- due_in_date \n",
        "- baseline_create_date"
      ],
      "id": "0nsem0_3XzOt"
    },
    {
      "cell_type": "code",
      "execution_count": null,
      "metadata": {
        "colab": {
          "base_uri": "https://localhost:8080/"
        },
        "id": "-yyODyW3X6pL",
        "outputId": "8e996be3-147f-4c87-b491-62aaef6902e3"
      },
      "outputs": [
        {
          "output_type": "execute_result",
          "data": {
            "text/plain": [
              "clear_date               object\n",
              "posting_date             object\n",
              "due_in_date             float64\n",
              "baseline_create_date    float64\n",
              "dtype: object"
            ]
          },
          "metadata": {},
          "execution_count": 27
        }
      ],
      "source": [
        "df[['clear_date','posting_date','due_in_date','baseline_create_date']].dtypes"
      ],
      "id": "-yyODyW3X6pL"
    },
    {
      "cell_type": "code",
      "execution_count": null,
      "metadata": {
        "colab": {
          "base_uri": "https://localhost:8080/",
          "height": 424
        },
        "id": "ENv7o2rK7jns",
        "outputId": "31d97128-4eb4-4cdc-8f5b-2be739f7abbb"
      },
      "outputs": [
        {
          "output_type": "execute_result",
          "data": {
            "text/plain": [
              "                clear_date posting_date  due_in_date  baseline_create_date\n",
              "0      2020-02-11 00:00:00   2020-01-26   20200210.0            20200126.0\n",
              "1      2019-08-08 00:00:00   2019-07-22   20190811.0            20190722.0\n",
              "2      2019-12-30 00:00:00   2019-09-14   20190929.0            20190914.0\n",
              "3                      NaN   2020-03-30   20200410.0            20200331.0\n",
              "4      2019-11-25 00:00:00   2019-11-13   20191128.0            20191113.0\n",
              "...                    ...          ...          ...                   ...\n",
              "49995                  NaN   2020-04-21   20200506.0            20200421.0\n",
              "49996  2019-09-03 00:00:00   2019-08-15   20190830.0            20190815.0\n",
              "49997  2020-03-05 00:00:00   2020-02-19   20200305.0            20200219.0\n",
              "49998  2019-12-12 00:00:00   2019-11-27   20191212.0            20191127.0\n",
              "49999  2019-01-15 00:00:00   2019-01-05   20190124.0            20190101.0\n",
              "\n",
              "[48839 rows x 4 columns]"
            ],
            "text/html": [
              "\n",
              "  <div id=\"df-4e92149b-f5dd-4748-aca2-a435ca479c8c\">\n",
              "    <div class=\"colab-df-container\">\n",
              "      <div>\n",
              "<style scoped>\n",
              "    .dataframe tbody tr th:only-of-type {\n",
              "        vertical-align: middle;\n",
              "    }\n",
              "\n",
              "    .dataframe tbody tr th {\n",
              "        vertical-align: top;\n",
              "    }\n",
              "\n",
              "    .dataframe thead th {\n",
              "        text-align: right;\n",
              "    }\n",
              "</style>\n",
              "<table border=\"1\" class=\"dataframe\">\n",
              "  <thead>\n",
              "    <tr style=\"text-align: right;\">\n",
              "      <th></th>\n",
              "      <th>clear_date</th>\n",
              "      <th>posting_date</th>\n",
              "      <th>due_in_date</th>\n",
              "      <th>baseline_create_date</th>\n",
              "    </tr>\n",
              "  </thead>\n",
              "  <tbody>\n",
              "    <tr>\n",
              "      <th>0</th>\n",
              "      <td>2020-02-11 00:00:00</td>\n",
              "      <td>2020-01-26</td>\n",
              "      <td>20200210.0</td>\n",
              "      <td>20200126.0</td>\n",
              "    </tr>\n",
              "    <tr>\n",
              "      <th>1</th>\n",
              "      <td>2019-08-08 00:00:00</td>\n",
              "      <td>2019-07-22</td>\n",
              "      <td>20190811.0</td>\n",
              "      <td>20190722.0</td>\n",
              "    </tr>\n",
              "    <tr>\n",
              "      <th>2</th>\n",
              "      <td>2019-12-30 00:00:00</td>\n",
              "      <td>2019-09-14</td>\n",
              "      <td>20190929.0</td>\n",
              "      <td>20190914.0</td>\n",
              "    </tr>\n",
              "    <tr>\n",
              "      <th>3</th>\n",
              "      <td>NaN</td>\n",
              "      <td>2020-03-30</td>\n",
              "      <td>20200410.0</td>\n",
              "      <td>20200331.0</td>\n",
              "    </tr>\n",
              "    <tr>\n",
              "      <th>4</th>\n",
              "      <td>2019-11-25 00:00:00</td>\n",
              "      <td>2019-11-13</td>\n",
              "      <td>20191128.0</td>\n",
              "      <td>20191113.0</td>\n",
              "    </tr>\n",
              "    <tr>\n",
              "      <th>...</th>\n",
              "      <td>...</td>\n",
              "      <td>...</td>\n",
              "      <td>...</td>\n",
              "      <td>...</td>\n",
              "    </tr>\n",
              "    <tr>\n",
              "      <th>49995</th>\n",
              "      <td>NaN</td>\n",
              "      <td>2020-04-21</td>\n",
              "      <td>20200506.0</td>\n",
              "      <td>20200421.0</td>\n",
              "    </tr>\n",
              "    <tr>\n",
              "      <th>49996</th>\n",
              "      <td>2019-09-03 00:00:00</td>\n",
              "      <td>2019-08-15</td>\n",
              "      <td>20190830.0</td>\n",
              "      <td>20190815.0</td>\n",
              "    </tr>\n",
              "    <tr>\n",
              "      <th>49997</th>\n",
              "      <td>2020-03-05 00:00:00</td>\n",
              "      <td>2020-02-19</td>\n",
              "      <td>20200305.0</td>\n",
              "      <td>20200219.0</td>\n",
              "    </tr>\n",
              "    <tr>\n",
              "      <th>49998</th>\n",
              "      <td>2019-12-12 00:00:00</td>\n",
              "      <td>2019-11-27</td>\n",
              "      <td>20191212.0</td>\n",
              "      <td>20191127.0</td>\n",
              "    </tr>\n",
              "    <tr>\n",
              "      <th>49999</th>\n",
              "      <td>2019-01-15 00:00:00</td>\n",
              "      <td>2019-01-05</td>\n",
              "      <td>20190124.0</td>\n",
              "      <td>20190101.0</td>\n",
              "    </tr>\n",
              "  </tbody>\n",
              "</table>\n",
              "<p>48839 rows × 4 columns</p>\n",
              "</div>\n",
              "      <button class=\"colab-df-convert\" onclick=\"convertToInteractive('df-4e92149b-f5dd-4748-aca2-a435ca479c8c')\"\n",
              "              title=\"Convert this dataframe to an interactive table.\"\n",
              "              style=\"display:none;\">\n",
              "        \n",
              "  <svg xmlns=\"http://www.w3.org/2000/svg\" height=\"24px\"viewBox=\"0 0 24 24\"\n",
              "       width=\"24px\">\n",
              "    <path d=\"M0 0h24v24H0V0z\" fill=\"none\"/>\n",
              "    <path d=\"M18.56 5.44l.94 2.06.94-2.06 2.06-.94-2.06-.94-.94-2.06-.94 2.06-2.06.94zm-11 1L8.5 8.5l.94-2.06 2.06-.94-2.06-.94L8.5 2.5l-.94 2.06-2.06.94zm10 10l.94 2.06.94-2.06 2.06-.94-2.06-.94-.94-2.06-.94 2.06-2.06.94z\"/><path d=\"M17.41 7.96l-1.37-1.37c-.4-.4-.92-.59-1.43-.59-.52 0-1.04.2-1.43.59L10.3 9.45l-7.72 7.72c-.78.78-.78 2.05 0 2.83L4 21.41c.39.39.9.59 1.41.59.51 0 1.02-.2 1.41-.59l7.78-7.78 2.81-2.81c.8-.78.8-2.07 0-2.86zM5.41 20L4 18.59l7.72-7.72 1.47 1.35L5.41 20z\"/>\n",
              "  </svg>\n",
              "      </button>\n",
              "      \n",
              "  <style>\n",
              "    .colab-df-container {\n",
              "      display:flex;\n",
              "      flex-wrap:wrap;\n",
              "      gap: 12px;\n",
              "    }\n",
              "\n",
              "    .colab-df-convert {\n",
              "      background-color: #E8F0FE;\n",
              "      border: none;\n",
              "      border-radius: 50%;\n",
              "      cursor: pointer;\n",
              "      display: none;\n",
              "      fill: #1967D2;\n",
              "      height: 32px;\n",
              "      padding: 0 0 0 0;\n",
              "      width: 32px;\n",
              "    }\n",
              "\n",
              "    .colab-df-convert:hover {\n",
              "      background-color: #E2EBFA;\n",
              "      box-shadow: 0px 1px 2px rgba(60, 64, 67, 0.3), 0px 1px 3px 1px rgba(60, 64, 67, 0.15);\n",
              "      fill: #174EA6;\n",
              "    }\n",
              "\n",
              "    [theme=dark] .colab-df-convert {\n",
              "      background-color: #3B4455;\n",
              "      fill: #D2E3FC;\n",
              "    }\n",
              "\n",
              "    [theme=dark] .colab-df-convert:hover {\n",
              "      background-color: #434B5C;\n",
              "      box-shadow: 0px 1px 3px 1px rgba(0, 0, 0, 0.15);\n",
              "      filter: drop-shadow(0px 1px 2px rgba(0, 0, 0, 0.3));\n",
              "      fill: #FFFFFF;\n",
              "    }\n",
              "  </style>\n",
              "\n",
              "      <script>\n",
              "        const buttonEl =\n",
              "          document.querySelector('#df-4e92149b-f5dd-4748-aca2-a435ca479c8c button.colab-df-convert');\n",
              "        buttonEl.style.display =\n",
              "          google.colab.kernel.accessAllowed ? 'block' : 'none';\n",
              "\n",
              "        async function convertToInteractive(key) {\n",
              "          const element = document.querySelector('#df-4e92149b-f5dd-4748-aca2-a435ca479c8c');\n",
              "          const dataTable =\n",
              "            await google.colab.kernel.invokeFunction('convertToInteractive',\n",
              "                                                     [key], {});\n",
              "          if (!dataTable) return;\n",
              "\n",
              "          const docLinkHtml = 'Like what you see? Visit the ' +\n",
              "            '<a target=\"_blank\" href=https://colab.research.google.com/notebooks/data_table.ipynb>data table notebook</a>'\n",
              "            + ' to learn more about interactive tables.';\n",
              "          element.innerHTML = '';\n",
              "          dataTable['output_type'] = 'display_data';\n",
              "          await google.colab.output.renderOutput(dataTable, element);\n",
              "          const docLink = document.createElement('div');\n",
              "          docLink.innerHTML = docLinkHtml;\n",
              "          element.appendChild(docLink);\n",
              "        }\n",
              "      </script>\n",
              "    </div>\n",
              "  </div>\n",
              "  "
            ]
          },
          "metadata": {},
          "execution_count": 28
        }
      ],
      "source": [
        "df[['clear_date','posting_date','due_in_date','baseline_create_date']]"
      ],
      "id": "ENv7o2rK7jns"
    },
    {
      "cell_type": "markdown",
      "metadata": {
        "id": "11cf9478"
      },
      "source": [
        "### converting date columns into date time formats\n",
        "\n",
        "- clear_date  \n",
        "- posting_date\n",
        "- due_in_date \n",
        "- baseline_create_date\n",
        "\n",
        "\n",
        "- **Note - You have to convert all these above columns into \"%Y%m%d\" format**"
      ],
      "id": "11cf9478"
    },
    {
      "cell_type": "code",
      "execution_count": null,
      "metadata": {
        "colab": {
          "base_uri": "https://localhost:8080/"
        },
        "id": "9a8c6c71",
        "outputId": "b56ee7c5-6a35-4bd7-a098-60baf952995c"
      },
      "outputs": [
        {
          "output_type": "stream",
          "name": "stderr",
          "text": [
            "/usr/local/lib/python3.7/dist-packages/ipykernel_launcher.py:1: SettingWithCopyWarning: \n",
            "A value is trying to be set on a copy of a slice from a DataFrame.\n",
            "Try using .loc[row_indexer,col_indexer] = value instead\n",
            "\n",
            "See the caveats in the documentation: https://pandas.pydata.org/pandas-docs/stable/user_guide/indexing.html#returning-a-view-versus-a-copy\n",
            "  \"\"\"Entry point for launching an IPython kernel.\n",
            "/usr/local/lib/python3.7/dist-packages/ipykernel_launcher.py:2: SettingWithCopyWarning: \n",
            "A value is trying to be set on a copy of a slice from a DataFrame.\n",
            "Try using .loc[row_indexer,col_indexer] = value instead\n",
            "\n",
            "See the caveats in the documentation: https://pandas.pydata.org/pandas-docs/stable/user_guide/indexing.html#returning-a-view-versus-a-copy\n",
            "  \n",
            "/usr/local/lib/python3.7/dist-packages/ipykernel_launcher.py:3: SettingWithCopyWarning: \n",
            "A value is trying to be set on a copy of a slice from a DataFrame.\n",
            "Try using .loc[row_indexer,col_indexer] = value instead\n",
            "\n",
            "See the caveats in the documentation: https://pandas.pydata.org/pandas-docs/stable/user_guide/indexing.html#returning-a-view-versus-a-copy\n",
            "  This is separate from the ipykernel package so we can avoid doing imports until\n",
            "/usr/local/lib/python3.7/dist-packages/ipykernel_launcher.py:4: SettingWithCopyWarning: \n",
            "A value is trying to be set on a copy of a slice from a DataFrame.\n",
            "Try using .loc[row_indexer,col_indexer] = value instead\n",
            "\n",
            "See the caveats in the documentation: https://pandas.pydata.org/pandas-docs/stable/user_guide/indexing.html#returning-a-view-versus-a-copy\n",
            "  after removing the cwd from sys.path.\n"
          ]
        }
      ],
      "source": [
        "df['clear_date']=pd.to_datetime(df['clear_date'])\n",
        "df['posting_date']=pd.to_datetime(df['posting_date'])\n",
        "df['due_in_date']=pd.to_datetime(df['due_in_date'],format='%Y%m%d')\n",
        "df['baseline_create_date']=pd.to_datetime(df['baseline_create_date'],format='%Y%m%d')"
      ],
      "id": "9a8c6c71"
    },
    {
      "cell_type": "code",
      "execution_count": null,
      "metadata": {
        "colab": {
          "base_uri": "https://localhost:8080/",
          "height": 522
        },
        "id": "CYgQ6e1k8SWY",
        "outputId": "f19313f6-69b3-4fac-8767-f1aa73734fd6"
      },
      "outputs": [
        {
          "output_type": "execute_result",
          "data": {
            "text/plain": [
              "      business_code cust_number       name_customer clear_date  buisness_year  \\\n",
              "0              U001  0200769623        WAL-MAR corp 2020-02-11         2020.0   \n",
              "1              U001  0200980828              BEN E  2019-08-08         2019.0   \n",
              "2              U001  0200792734          MDV/ trust 2019-12-30         2019.0   \n",
              "3              CA02  0140105686            SYSC llc        NaT         2020.0   \n",
              "4              U001  0200769623  WAL-MAR foundation 2019-11-25         2019.0   \n",
              "...             ...         ...                 ...        ...            ...   \n",
              "49995          U001  0200561861      CO corporation        NaT         2020.0   \n",
              "49996          U001  0200769623          WAL-MAR co 2019-09-03         2019.0   \n",
              "49997          U001  0200772595    SAFEW associates 2020-03-05         2020.0   \n",
              "49998          U001  0200726979           BJ'S  llc 2019-12-12         2019.0   \n",
              "49999          U001  0200020431            DEC corp 2019-01-15         2019.0   \n",
              "\n",
              "             doc_id posting_date due_in_date invoice_currency  \\\n",
              "0      1.930438e+09   2020-01-26  2020-02-10              USD   \n",
              "1      1.929646e+09   2019-07-22  2019-08-11              USD   \n",
              "2      1.929874e+09   2019-09-14  2019-09-29              USD   \n",
              "3      2.960623e+09   2020-03-30  2020-04-10              CAD   \n",
              "4      1.930148e+09   2019-11-13  2019-11-28              USD   \n",
              "...             ...          ...         ...              ...   \n",
              "49995  1.930797e+09   2020-04-21  2020-05-06              USD   \n",
              "49996  1.929744e+09   2019-08-15  2019-08-30              USD   \n",
              "49997  1.930537e+09   2020-02-19  2020-03-05              USD   \n",
              "49998  1.930199e+09   2019-11-27  2019-12-12              USD   \n",
              "49999  1.928576e+09   2019-01-05  2019-01-24              USD   \n",
              "\n",
              "       total_open_amount baseline_create_date cust_payment_terms  \n",
              "0               54273.28           2020-01-26               NAH4  \n",
              "1               79656.60           2019-07-22               NAD1  \n",
              "2                2253.86           2019-09-14               NAA8  \n",
              "3                3299.70           2020-03-31               CA10  \n",
              "4               33133.29           2019-11-13               NAH4  \n",
              "...                  ...                  ...                ...  \n",
              "49995            3187.86           2020-04-21               NAA8  \n",
              "49996            6766.54           2019-08-15               NAH4  \n",
              "49997            6120.86           2020-02-19               NAA8  \n",
              "49998              63.48           2019-11-27               NAA8  \n",
              "49999            1790.30           2019-01-01               NAM4  \n",
              "\n",
              "[48839 rows x 12 columns]"
            ],
            "text/html": [
              "\n",
              "  <div id=\"df-c57fa0fc-feb6-49d8-9511-759cc49d953c\">\n",
              "    <div class=\"colab-df-container\">\n",
              "      <div>\n",
              "<style scoped>\n",
              "    .dataframe tbody tr th:only-of-type {\n",
              "        vertical-align: middle;\n",
              "    }\n",
              "\n",
              "    .dataframe tbody tr th {\n",
              "        vertical-align: top;\n",
              "    }\n",
              "\n",
              "    .dataframe thead th {\n",
              "        text-align: right;\n",
              "    }\n",
              "</style>\n",
              "<table border=\"1\" class=\"dataframe\">\n",
              "  <thead>\n",
              "    <tr style=\"text-align: right;\">\n",
              "      <th></th>\n",
              "      <th>business_code</th>\n",
              "      <th>cust_number</th>\n",
              "      <th>name_customer</th>\n",
              "      <th>clear_date</th>\n",
              "      <th>buisness_year</th>\n",
              "      <th>doc_id</th>\n",
              "      <th>posting_date</th>\n",
              "      <th>due_in_date</th>\n",
              "      <th>invoice_currency</th>\n",
              "      <th>total_open_amount</th>\n",
              "      <th>baseline_create_date</th>\n",
              "      <th>cust_payment_terms</th>\n",
              "    </tr>\n",
              "  </thead>\n",
              "  <tbody>\n",
              "    <tr>\n",
              "      <th>0</th>\n",
              "      <td>U001</td>\n",
              "      <td>0200769623</td>\n",
              "      <td>WAL-MAR corp</td>\n",
              "      <td>2020-02-11</td>\n",
              "      <td>2020.0</td>\n",
              "      <td>1.930438e+09</td>\n",
              "      <td>2020-01-26</td>\n",
              "      <td>2020-02-10</td>\n",
              "      <td>USD</td>\n",
              "      <td>54273.28</td>\n",
              "      <td>2020-01-26</td>\n",
              "      <td>NAH4</td>\n",
              "    </tr>\n",
              "    <tr>\n",
              "      <th>1</th>\n",
              "      <td>U001</td>\n",
              "      <td>0200980828</td>\n",
              "      <td>BEN E</td>\n",
              "      <td>2019-08-08</td>\n",
              "      <td>2019.0</td>\n",
              "      <td>1.929646e+09</td>\n",
              "      <td>2019-07-22</td>\n",
              "      <td>2019-08-11</td>\n",
              "      <td>USD</td>\n",
              "      <td>79656.60</td>\n",
              "      <td>2019-07-22</td>\n",
              "      <td>NAD1</td>\n",
              "    </tr>\n",
              "    <tr>\n",
              "      <th>2</th>\n",
              "      <td>U001</td>\n",
              "      <td>0200792734</td>\n",
              "      <td>MDV/ trust</td>\n",
              "      <td>2019-12-30</td>\n",
              "      <td>2019.0</td>\n",
              "      <td>1.929874e+09</td>\n",
              "      <td>2019-09-14</td>\n",
              "      <td>2019-09-29</td>\n",
              "      <td>USD</td>\n",
              "      <td>2253.86</td>\n",
              "      <td>2019-09-14</td>\n",
              "      <td>NAA8</td>\n",
              "    </tr>\n",
              "    <tr>\n",
              "      <th>3</th>\n",
              "      <td>CA02</td>\n",
              "      <td>0140105686</td>\n",
              "      <td>SYSC llc</td>\n",
              "      <td>NaT</td>\n",
              "      <td>2020.0</td>\n",
              "      <td>2.960623e+09</td>\n",
              "      <td>2020-03-30</td>\n",
              "      <td>2020-04-10</td>\n",
              "      <td>CAD</td>\n",
              "      <td>3299.70</td>\n",
              "      <td>2020-03-31</td>\n",
              "      <td>CA10</td>\n",
              "    </tr>\n",
              "    <tr>\n",
              "      <th>4</th>\n",
              "      <td>U001</td>\n",
              "      <td>0200769623</td>\n",
              "      <td>WAL-MAR foundation</td>\n",
              "      <td>2019-11-25</td>\n",
              "      <td>2019.0</td>\n",
              "      <td>1.930148e+09</td>\n",
              "      <td>2019-11-13</td>\n",
              "      <td>2019-11-28</td>\n",
              "      <td>USD</td>\n",
              "      <td>33133.29</td>\n",
              "      <td>2019-11-13</td>\n",
              "      <td>NAH4</td>\n",
              "    </tr>\n",
              "    <tr>\n",
              "      <th>...</th>\n",
              "      <td>...</td>\n",
              "      <td>...</td>\n",
              "      <td>...</td>\n",
              "      <td>...</td>\n",
              "      <td>...</td>\n",
              "      <td>...</td>\n",
              "      <td>...</td>\n",
              "      <td>...</td>\n",
              "      <td>...</td>\n",
              "      <td>...</td>\n",
              "      <td>...</td>\n",
              "      <td>...</td>\n",
              "    </tr>\n",
              "    <tr>\n",
              "      <th>49995</th>\n",
              "      <td>U001</td>\n",
              "      <td>0200561861</td>\n",
              "      <td>CO corporation</td>\n",
              "      <td>NaT</td>\n",
              "      <td>2020.0</td>\n",
              "      <td>1.930797e+09</td>\n",
              "      <td>2020-04-21</td>\n",
              "      <td>2020-05-06</td>\n",
              "      <td>USD</td>\n",
              "      <td>3187.86</td>\n",
              "      <td>2020-04-21</td>\n",
              "      <td>NAA8</td>\n",
              "    </tr>\n",
              "    <tr>\n",
              "      <th>49996</th>\n",
              "      <td>U001</td>\n",
              "      <td>0200769623</td>\n",
              "      <td>WAL-MAR co</td>\n",
              "      <td>2019-09-03</td>\n",
              "      <td>2019.0</td>\n",
              "      <td>1.929744e+09</td>\n",
              "      <td>2019-08-15</td>\n",
              "      <td>2019-08-30</td>\n",
              "      <td>USD</td>\n",
              "      <td>6766.54</td>\n",
              "      <td>2019-08-15</td>\n",
              "      <td>NAH4</td>\n",
              "    </tr>\n",
              "    <tr>\n",
              "      <th>49997</th>\n",
              "      <td>U001</td>\n",
              "      <td>0200772595</td>\n",
              "      <td>SAFEW associates</td>\n",
              "      <td>2020-03-05</td>\n",
              "      <td>2020.0</td>\n",
              "      <td>1.930537e+09</td>\n",
              "      <td>2020-02-19</td>\n",
              "      <td>2020-03-05</td>\n",
              "      <td>USD</td>\n",
              "      <td>6120.86</td>\n",
              "      <td>2020-02-19</td>\n",
              "      <td>NAA8</td>\n",
              "    </tr>\n",
              "    <tr>\n",
              "      <th>49998</th>\n",
              "      <td>U001</td>\n",
              "      <td>0200726979</td>\n",
              "      <td>BJ'S  llc</td>\n",
              "      <td>2019-12-12</td>\n",
              "      <td>2019.0</td>\n",
              "      <td>1.930199e+09</td>\n",
              "      <td>2019-11-27</td>\n",
              "      <td>2019-12-12</td>\n",
              "      <td>USD</td>\n",
              "      <td>63.48</td>\n",
              "      <td>2019-11-27</td>\n",
              "      <td>NAA8</td>\n",
              "    </tr>\n",
              "    <tr>\n",
              "      <th>49999</th>\n",
              "      <td>U001</td>\n",
              "      <td>0200020431</td>\n",
              "      <td>DEC corp</td>\n",
              "      <td>2019-01-15</td>\n",
              "      <td>2019.0</td>\n",
              "      <td>1.928576e+09</td>\n",
              "      <td>2019-01-05</td>\n",
              "      <td>2019-01-24</td>\n",
              "      <td>USD</td>\n",
              "      <td>1790.30</td>\n",
              "      <td>2019-01-01</td>\n",
              "      <td>NAM4</td>\n",
              "    </tr>\n",
              "  </tbody>\n",
              "</table>\n",
              "<p>48839 rows × 12 columns</p>\n",
              "</div>\n",
              "      <button class=\"colab-df-convert\" onclick=\"convertToInteractive('df-c57fa0fc-feb6-49d8-9511-759cc49d953c')\"\n",
              "              title=\"Convert this dataframe to an interactive table.\"\n",
              "              style=\"display:none;\">\n",
              "        \n",
              "  <svg xmlns=\"http://www.w3.org/2000/svg\" height=\"24px\"viewBox=\"0 0 24 24\"\n",
              "       width=\"24px\">\n",
              "    <path d=\"M0 0h24v24H0V0z\" fill=\"none\"/>\n",
              "    <path d=\"M18.56 5.44l.94 2.06.94-2.06 2.06-.94-2.06-.94-.94-2.06-.94 2.06-2.06.94zm-11 1L8.5 8.5l.94-2.06 2.06-.94-2.06-.94L8.5 2.5l-.94 2.06-2.06.94zm10 10l.94 2.06.94-2.06 2.06-.94-2.06-.94-.94-2.06-.94 2.06-2.06.94z\"/><path d=\"M17.41 7.96l-1.37-1.37c-.4-.4-.92-.59-1.43-.59-.52 0-1.04.2-1.43.59L10.3 9.45l-7.72 7.72c-.78.78-.78 2.05 0 2.83L4 21.41c.39.39.9.59 1.41.59.51 0 1.02-.2 1.41-.59l7.78-7.78 2.81-2.81c.8-.78.8-2.07 0-2.86zM5.41 20L4 18.59l7.72-7.72 1.47 1.35L5.41 20z\"/>\n",
              "  </svg>\n",
              "      </button>\n",
              "      \n",
              "  <style>\n",
              "    .colab-df-container {\n",
              "      display:flex;\n",
              "      flex-wrap:wrap;\n",
              "      gap: 12px;\n",
              "    }\n",
              "\n",
              "    .colab-df-convert {\n",
              "      background-color: #E8F0FE;\n",
              "      border: none;\n",
              "      border-radius: 50%;\n",
              "      cursor: pointer;\n",
              "      display: none;\n",
              "      fill: #1967D2;\n",
              "      height: 32px;\n",
              "      padding: 0 0 0 0;\n",
              "      width: 32px;\n",
              "    }\n",
              "\n",
              "    .colab-df-convert:hover {\n",
              "      background-color: #E2EBFA;\n",
              "      box-shadow: 0px 1px 2px rgba(60, 64, 67, 0.3), 0px 1px 3px 1px rgba(60, 64, 67, 0.15);\n",
              "      fill: #174EA6;\n",
              "    }\n",
              "\n",
              "    [theme=dark] .colab-df-convert {\n",
              "      background-color: #3B4455;\n",
              "      fill: #D2E3FC;\n",
              "    }\n",
              "\n",
              "    [theme=dark] .colab-df-convert:hover {\n",
              "      background-color: #434B5C;\n",
              "      box-shadow: 0px 1px 3px 1px rgba(0, 0, 0, 0.15);\n",
              "      filter: drop-shadow(0px 1px 2px rgba(0, 0, 0, 0.3));\n",
              "      fill: #FFFFFF;\n",
              "    }\n",
              "  </style>\n",
              "\n",
              "      <script>\n",
              "        const buttonEl =\n",
              "          document.querySelector('#df-c57fa0fc-feb6-49d8-9511-759cc49d953c button.colab-df-convert');\n",
              "        buttonEl.style.display =\n",
              "          google.colab.kernel.accessAllowed ? 'block' : 'none';\n",
              "\n",
              "        async function convertToInteractive(key) {\n",
              "          const element = document.querySelector('#df-c57fa0fc-feb6-49d8-9511-759cc49d953c');\n",
              "          const dataTable =\n",
              "            await google.colab.kernel.invokeFunction('convertToInteractive',\n",
              "                                                     [key], {});\n",
              "          if (!dataTable) return;\n",
              "\n",
              "          const docLinkHtml = 'Like what you see? Visit the ' +\n",
              "            '<a target=\"_blank\" href=https://colab.research.google.com/notebooks/data_table.ipynb>data table notebook</a>'\n",
              "            + ' to learn more about interactive tables.';\n",
              "          element.innerHTML = '';\n",
              "          dataTable['output_type'] = 'display_data';\n",
              "          await google.colab.output.renderOutput(dataTable, element);\n",
              "          const docLink = document.createElement('div');\n",
              "          docLink.innerHTML = docLinkHtml;\n",
              "          element.appendChild(docLink);\n",
              "        }\n",
              "      </script>\n",
              "    </div>\n",
              "  </div>\n",
              "  "
            ]
          },
          "metadata": {},
          "execution_count": 30
        }
      ],
      "source": [
        "df"
      ],
      "id": "CYgQ6e1k8SWY"
    },
    {
      "cell_type": "markdown",
      "metadata": {
        "id": "7adq0wSIYSCS"
      },
      "source": [
        "### Please check the datatype of all the columns after conversion of the above 4 columns"
      ],
      "id": "7adq0wSIYSCS"
    },
    {
      "cell_type": "code",
      "execution_count": null,
      "metadata": {
        "colab": {
          "base_uri": "https://localhost:8080/"
        },
        "id": "fd028c61",
        "outputId": "7ca15bf4-4390-4785-8dcc-6c133aaf4ed1"
      },
      "outputs": [
        {
          "output_type": "stream",
          "name": "stdout",
          "text": [
            "<class 'pandas.core.frame.DataFrame'>\n",
            "Int64Index: 48839 entries, 0 to 49999\n",
            "Data columns (total 12 columns):\n",
            " #   Column                Non-Null Count  Dtype         \n",
            "---  ------                --------------  -----         \n",
            " 0   business_code         48839 non-null  object        \n",
            " 1   cust_number           48839 non-null  object        \n",
            " 2   name_customer         48839 non-null  object        \n",
            " 3   clear_date            39158 non-null  datetime64[ns]\n",
            " 4   buisness_year         48839 non-null  float64       \n",
            " 5   doc_id                48839 non-null  float64       \n",
            " 6   posting_date          48839 non-null  datetime64[ns]\n",
            " 7   due_in_date           48839 non-null  datetime64[ns]\n",
            " 8   invoice_currency      48839 non-null  object        \n",
            " 9   total_open_amount     48839 non-null  float64       \n",
            " 10  baseline_create_date  48839 non-null  datetime64[ns]\n",
            " 11  cust_payment_terms    48839 non-null  object        \n",
            "dtypes: datetime64[ns](4), float64(3), object(5)\n",
            "memory usage: 4.8+ MB\n"
          ]
        }
      ],
      "source": [
        "df.info()"
      ],
      "id": "fd028c61"
    },
    {
      "cell_type": "markdown",
      "metadata": {
        "id": "8c9882fa"
      },
      "source": [
        "#### the invoice_currency column contains two different categories, USD and CAD\n",
        "\n",
        "- Please do a count of each currency "
      ],
      "id": "8c9882fa"
    },
    {
      "cell_type": "code",
      "execution_count": null,
      "metadata": {
        "colab": {
          "base_uri": "https://localhost:8080/"
        },
        "id": "72085397",
        "outputId": "f0bc032c-fd2d-48e6-8f03-b402d23ebe9a"
      },
      "outputs": [
        {
          "output_type": "execute_result",
          "data": {
            "text/plain": [
              "USD    45011\n",
              "CAD     3828\n",
              "Name: invoice_currency, dtype: int64"
            ]
          },
          "metadata": {},
          "execution_count": 32
        }
      ],
      "source": [
        "df['invoice_currency'].value_counts()"
      ],
      "id": "72085397"
    },
    {
      "cell_type": "markdown",
      "metadata": {
        "id": "6cbe26ee"
      },
      "source": [
        "#### display the \"total_open_amount\" column value"
      ],
      "id": "6cbe26ee"
    },
    {
      "cell_type": "code",
      "execution_count": null,
      "metadata": {
        "colab": {
          "base_uri": "https://localhost:8080/"
        },
        "id": "6c49f2ab",
        "outputId": "3ec23b69-1751-40f6-dc18-4b24f5fcc411"
      },
      "outputs": [
        {
          "output_type": "execute_result",
          "data": {
            "text/plain": [
              "1897.50     101\n",
              "471.56       96\n",
              "1898.20      95\n",
              "943.12       63\n",
              "1328.25      57\n",
              "           ... \n",
              "2612.50       1\n",
              "4893.21       1\n",
              "585.91        1\n",
              "20493.12      1\n",
              "1790.30       1\n",
              "Name: total_open_amount, Length: 44349, dtype: int64"
            ]
          },
          "metadata": {},
          "execution_count": 33
        }
      ],
      "source": [
        "df['total_open_amount'].value_counts()"
      ],
      "id": "6c49f2ab"
    },
    {
      "cell_type": "markdown",
      "metadata": {
        "id": "df899966"
      },
      "source": [
        "### Convert all CAD into USD currency of \"total_open_amount\" column\n",
        "\n",
        "- 1 CAD = 0.7 USD\n",
        "- Create a new column i.e \"converted_usd\" and store USD and convered CAD to USD"
      ],
      "id": "df899966"
    },
    {
      "cell_type": "code",
      "execution_count": null,
      "metadata": {
        "colab": {
          "base_uri": "https://localhost:8080/",
          "height": 540
        },
        "id": "8eb2f1c5",
        "outputId": "3894551d-84a6-48b3-f601-92cd040c2209"
      },
      "outputs": [
        {
          "output_type": "execute_result",
          "data": {
            "text/plain": [
              "      business_code cust_number       name_customer clear_date  buisness_year  \\\n",
              "0              U001  0200769623        WAL-MAR corp 2020-02-11         2020.0   \n",
              "1              U001  0200980828              BEN E  2019-08-08         2019.0   \n",
              "2              U001  0200792734          MDV/ trust 2019-12-30         2019.0   \n",
              "3              U001  0200769623  WAL-MAR foundation 2019-11-25         2019.0   \n",
              "4              U001  0200769623          WAL-MAR in 2019-11-12         2019.0   \n",
              "...             ...         ...                 ...        ...            ...   \n",
              "48834          CA02  0140104472   MARTIN associates        NaT         2020.0   \n",
              "48835          CA02  0140105508     DOLLARA systems 2019-02-28         2019.0   \n",
              "48836          CA02  0140104440       SO foundation 2019-02-06         2019.0   \n",
              "48837          CA02  0140104409              LOB co        NaT         2020.0   \n",
              "48838          CA02  0140106408              WAL-M  2020-02-21         2020.0   \n",
              "\n",
              "             doc_id posting_date due_in_date invoice_currency  \\\n",
              "0      1.930438e+09   2020-01-26  2020-02-10              USD   \n",
              "1      1.929646e+09   2019-07-22  2019-08-11              USD   \n",
              "2      1.929874e+09   2019-09-14  2019-09-29              USD   \n",
              "3      1.930148e+09   2019-11-13  2019-11-28              USD   \n",
              "4      1.930083e+09   2019-11-01  2019-11-16              USD   \n",
              "...             ...          ...         ...              ...   \n",
              "48834  2.960628e+09   2020-04-17  2020-05-02              CAD   \n",
              "48835  2.960529e+09   2019-02-15  2019-02-26              CAD   \n",
              "48836  2.960523e+09   2019-01-21  2019-02-02              CAD   \n",
              "48837  2.960631e+09   2020-04-25  2020-05-15              CAD   \n",
              "48838  2.960611e+09   2020-01-28  2020-02-08              CAD   \n",
              "\n",
              "       total_open_amount baseline_create_date cust_payment_terms  \\\n",
              "0               54273.28           2020-01-26               NAH4   \n",
              "1               79656.60           2019-07-22               NAD1   \n",
              "2                2253.86           2019-09-14               NAA8   \n",
              "3               33133.29           2019-11-13               NAH4   \n",
              "4                7358.49           2019-11-01               NAH4   \n",
              "...                  ...                  ...                ...   \n",
              "48834            1647.36           2020-04-22               CA10   \n",
              "48835           46696.50           2019-02-16               CA10   \n",
              "48836            5727.30           2019-01-23               CA10   \n",
              "48837           93386.81           2020-05-05               CA10   \n",
              "48838            1082.69           2020-01-29               CA10   \n",
              "\n",
              "       converted_usd  \n",
              "0          54273.280  \n",
              "1          79656.600  \n",
              "2           2253.860  \n",
              "3          33133.290  \n",
              "4           7358.490  \n",
              "...              ...  \n",
              "48834       1153.152  \n",
              "48835      32687.550  \n",
              "48836       4009.110  \n",
              "48837      65370.767  \n",
              "48838        757.883  \n",
              "\n",
              "[48839 rows x 13 columns]"
            ],
            "text/html": [
              "\n",
              "  <div id=\"df-87500bc2-419d-492e-9ff8-a4306116de50\">\n",
              "    <div class=\"colab-df-container\">\n",
              "      <div>\n",
              "<style scoped>\n",
              "    .dataframe tbody tr th:only-of-type {\n",
              "        vertical-align: middle;\n",
              "    }\n",
              "\n",
              "    .dataframe tbody tr th {\n",
              "        vertical-align: top;\n",
              "    }\n",
              "\n",
              "    .dataframe thead th {\n",
              "        text-align: right;\n",
              "    }\n",
              "</style>\n",
              "<table border=\"1\" class=\"dataframe\">\n",
              "  <thead>\n",
              "    <tr style=\"text-align: right;\">\n",
              "      <th></th>\n",
              "      <th>business_code</th>\n",
              "      <th>cust_number</th>\n",
              "      <th>name_customer</th>\n",
              "      <th>clear_date</th>\n",
              "      <th>buisness_year</th>\n",
              "      <th>doc_id</th>\n",
              "      <th>posting_date</th>\n",
              "      <th>due_in_date</th>\n",
              "      <th>invoice_currency</th>\n",
              "      <th>total_open_amount</th>\n",
              "      <th>baseline_create_date</th>\n",
              "      <th>cust_payment_terms</th>\n",
              "      <th>converted_usd</th>\n",
              "    </tr>\n",
              "  </thead>\n",
              "  <tbody>\n",
              "    <tr>\n",
              "      <th>0</th>\n",
              "      <td>U001</td>\n",
              "      <td>0200769623</td>\n",
              "      <td>WAL-MAR corp</td>\n",
              "      <td>2020-02-11</td>\n",
              "      <td>2020.0</td>\n",
              "      <td>1.930438e+09</td>\n",
              "      <td>2020-01-26</td>\n",
              "      <td>2020-02-10</td>\n",
              "      <td>USD</td>\n",
              "      <td>54273.28</td>\n",
              "      <td>2020-01-26</td>\n",
              "      <td>NAH4</td>\n",
              "      <td>54273.280</td>\n",
              "    </tr>\n",
              "    <tr>\n",
              "      <th>1</th>\n",
              "      <td>U001</td>\n",
              "      <td>0200980828</td>\n",
              "      <td>BEN E</td>\n",
              "      <td>2019-08-08</td>\n",
              "      <td>2019.0</td>\n",
              "      <td>1.929646e+09</td>\n",
              "      <td>2019-07-22</td>\n",
              "      <td>2019-08-11</td>\n",
              "      <td>USD</td>\n",
              "      <td>79656.60</td>\n",
              "      <td>2019-07-22</td>\n",
              "      <td>NAD1</td>\n",
              "      <td>79656.600</td>\n",
              "    </tr>\n",
              "    <tr>\n",
              "      <th>2</th>\n",
              "      <td>U001</td>\n",
              "      <td>0200792734</td>\n",
              "      <td>MDV/ trust</td>\n",
              "      <td>2019-12-30</td>\n",
              "      <td>2019.0</td>\n",
              "      <td>1.929874e+09</td>\n",
              "      <td>2019-09-14</td>\n",
              "      <td>2019-09-29</td>\n",
              "      <td>USD</td>\n",
              "      <td>2253.86</td>\n",
              "      <td>2019-09-14</td>\n",
              "      <td>NAA8</td>\n",
              "      <td>2253.860</td>\n",
              "    </tr>\n",
              "    <tr>\n",
              "      <th>3</th>\n",
              "      <td>U001</td>\n",
              "      <td>0200769623</td>\n",
              "      <td>WAL-MAR foundation</td>\n",
              "      <td>2019-11-25</td>\n",
              "      <td>2019.0</td>\n",
              "      <td>1.930148e+09</td>\n",
              "      <td>2019-11-13</td>\n",
              "      <td>2019-11-28</td>\n",
              "      <td>USD</td>\n",
              "      <td>33133.29</td>\n",
              "      <td>2019-11-13</td>\n",
              "      <td>NAH4</td>\n",
              "      <td>33133.290</td>\n",
              "    </tr>\n",
              "    <tr>\n",
              "      <th>4</th>\n",
              "      <td>U001</td>\n",
              "      <td>0200769623</td>\n",
              "      <td>WAL-MAR in</td>\n",
              "      <td>2019-11-12</td>\n",
              "      <td>2019.0</td>\n",
              "      <td>1.930083e+09</td>\n",
              "      <td>2019-11-01</td>\n",
              "      <td>2019-11-16</td>\n",
              "      <td>USD</td>\n",
              "      <td>7358.49</td>\n",
              "      <td>2019-11-01</td>\n",
              "      <td>NAH4</td>\n",
              "      <td>7358.490</td>\n",
              "    </tr>\n",
              "    <tr>\n",
              "      <th>...</th>\n",
              "      <td>...</td>\n",
              "      <td>...</td>\n",
              "      <td>...</td>\n",
              "      <td>...</td>\n",
              "      <td>...</td>\n",
              "      <td>...</td>\n",
              "      <td>...</td>\n",
              "      <td>...</td>\n",
              "      <td>...</td>\n",
              "      <td>...</td>\n",
              "      <td>...</td>\n",
              "      <td>...</td>\n",
              "      <td>...</td>\n",
              "    </tr>\n",
              "    <tr>\n",
              "      <th>48834</th>\n",
              "      <td>CA02</td>\n",
              "      <td>0140104472</td>\n",
              "      <td>MARTIN associates</td>\n",
              "      <td>NaT</td>\n",
              "      <td>2020.0</td>\n",
              "      <td>2.960628e+09</td>\n",
              "      <td>2020-04-17</td>\n",
              "      <td>2020-05-02</td>\n",
              "      <td>CAD</td>\n",
              "      <td>1647.36</td>\n",
              "      <td>2020-04-22</td>\n",
              "      <td>CA10</td>\n",
              "      <td>1153.152</td>\n",
              "    </tr>\n",
              "    <tr>\n",
              "      <th>48835</th>\n",
              "      <td>CA02</td>\n",
              "      <td>0140105508</td>\n",
              "      <td>DOLLARA systems</td>\n",
              "      <td>2019-02-28</td>\n",
              "      <td>2019.0</td>\n",
              "      <td>2.960529e+09</td>\n",
              "      <td>2019-02-15</td>\n",
              "      <td>2019-02-26</td>\n",
              "      <td>CAD</td>\n",
              "      <td>46696.50</td>\n",
              "      <td>2019-02-16</td>\n",
              "      <td>CA10</td>\n",
              "      <td>32687.550</td>\n",
              "    </tr>\n",
              "    <tr>\n",
              "      <th>48836</th>\n",
              "      <td>CA02</td>\n",
              "      <td>0140104440</td>\n",
              "      <td>SO foundation</td>\n",
              "      <td>2019-02-06</td>\n",
              "      <td>2019.0</td>\n",
              "      <td>2.960523e+09</td>\n",
              "      <td>2019-01-21</td>\n",
              "      <td>2019-02-02</td>\n",
              "      <td>CAD</td>\n",
              "      <td>5727.30</td>\n",
              "      <td>2019-01-23</td>\n",
              "      <td>CA10</td>\n",
              "      <td>4009.110</td>\n",
              "    </tr>\n",
              "    <tr>\n",
              "      <th>48837</th>\n",
              "      <td>CA02</td>\n",
              "      <td>0140104409</td>\n",
              "      <td>LOB co</td>\n",
              "      <td>NaT</td>\n",
              "      <td>2020.0</td>\n",
              "      <td>2.960631e+09</td>\n",
              "      <td>2020-04-25</td>\n",
              "      <td>2020-05-15</td>\n",
              "      <td>CAD</td>\n",
              "      <td>93386.81</td>\n",
              "      <td>2020-05-05</td>\n",
              "      <td>CA10</td>\n",
              "      <td>65370.767</td>\n",
              "    </tr>\n",
              "    <tr>\n",
              "      <th>48838</th>\n",
              "      <td>CA02</td>\n",
              "      <td>0140106408</td>\n",
              "      <td>WAL-M</td>\n",
              "      <td>2020-02-21</td>\n",
              "      <td>2020.0</td>\n",
              "      <td>2.960611e+09</td>\n",
              "      <td>2020-01-28</td>\n",
              "      <td>2020-02-08</td>\n",
              "      <td>CAD</td>\n",
              "      <td>1082.69</td>\n",
              "      <td>2020-01-29</td>\n",
              "      <td>CA10</td>\n",
              "      <td>757.883</td>\n",
              "    </tr>\n",
              "  </tbody>\n",
              "</table>\n",
              "<p>48839 rows × 13 columns</p>\n",
              "</div>\n",
              "      <button class=\"colab-df-convert\" onclick=\"convertToInteractive('df-87500bc2-419d-492e-9ff8-a4306116de50')\"\n",
              "              title=\"Convert this dataframe to an interactive table.\"\n",
              "              style=\"display:none;\">\n",
              "        \n",
              "  <svg xmlns=\"http://www.w3.org/2000/svg\" height=\"24px\"viewBox=\"0 0 24 24\"\n",
              "       width=\"24px\">\n",
              "    <path d=\"M0 0h24v24H0V0z\" fill=\"none\"/>\n",
              "    <path d=\"M18.56 5.44l.94 2.06.94-2.06 2.06-.94-2.06-.94-.94-2.06-.94 2.06-2.06.94zm-11 1L8.5 8.5l.94-2.06 2.06-.94-2.06-.94L8.5 2.5l-.94 2.06-2.06.94zm10 10l.94 2.06.94-2.06 2.06-.94-2.06-.94-.94-2.06-.94 2.06-2.06.94z\"/><path d=\"M17.41 7.96l-1.37-1.37c-.4-.4-.92-.59-1.43-.59-.52 0-1.04.2-1.43.59L10.3 9.45l-7.72 7.72c-.78.78-.78 2.05 0 2.83L4 21.41c.39.39.9.59 1.41.59.51 0 1.02-.2 1.41-.59l7.78-7.78 2.81-2.81c.8-.78.8-2.07 0-2.86zM5.41 20L4 18.59l7.72-7.72 1.47 1.35L5.41 20z\"/>\n",
              "  </svg>\n",
              "      </button>\n",
              "      \n",
              "  <style>\n",
              "    .colab-df-container {\n",
              "      display:flex;\n",
              "      flex-wrap:wrap;\n",
              "      gap: 12px;\n",
              "    }\n",
              "\n",
              "    .colab-df-convert {\n",
              "      background-color: #E8F0FE;\n",
              "      border: none;\n",
              "      border-radius: 50%;\n",
              "      cursor: pointer;\n",
              "      display: none;\n",
              "      fill: #1967D2;\n",
              "      height: 32px;\n",
              "      padding: 0 0 0 0;\n",
              "      width: 32px;\n",
              "    }\n",
              "\n",
              "    .colab-df-convert:hover {\n",
              "      background-color: #E2EBFA;\n",
              "      box-shadow: 0px 1px 2px rgba(60, 64, 67, 0.3), 0px 1px 3px 1px rgba(60, 64, 67, 0.15);\n",
              "      fill: #174EA6;\n",
              "    }\n",
              "\n",
              "    [theme=dark] .colab-df-convert {\n",
              "      background-color: #3B4455;\n",
              "      fill: #D2E3FC;\n",
              "    }\n",
              "\n",
              "    [theme=dark] .colab-df-convert:hover {\n",
              "      background-color: #434B5C;\n",
              "      box-shadow: 0px 1px 3px 1px rgba(0, 0, 0, 0.15);\n",
              "      filter: drop-shadow(0px 1px 2px rgba(0, 0, 0, 0.3));\n",
              "      fill: #FFFFFF;\n",
              "    }\n",
              "  </style>\n",
              "\n",
              "      <script>\n",
              "        const buttonEl =\n",
              "          document.querySelector('#df-87500bc2-419d-492e-9ff8-a4306116de50 button.colab-df-convert');\n",
              "        buttonEl.style.display =\n",
              "          google.colab.kernel.accessAllowed ? 'block' : 'none';\n",
              "\n",
              "        async function convertToInteractive(key) {\n",
              "          const element = document.querySelector('#df-87500bc2-419d-492e-9ff8-a4306116de50');\n",
              "          const dataTable =\n",
              "            await google.colab.kernel.invokeFunction('convertToInteractive',\n",
              "                                                     [key], {});\n",
              "          if (!dataTable) return;\n",
              "\n",
              "          const docLinkHtml = 'Like what you see? Visit the ' +\n",
              "            '<a target=\"_blank\" href=https://colab.research.google.com/notebooks/data_table.ipynb>data table notebook</a>'\n",
              "            + ' to learn more about interactive tables.';\n",
              "          element.innerHTML = '';\n",
              "          dataTable['output_type'] = 'display_data';\n",
              "          await google.colab.output.renderOutput(dataTable, element);\n",
              "          const docLink = document.createElement('div');\n",
              "          docLink.innerHTML = docLinkHtml;\n",
              "          element.appendChild(docLink);\n",
              "        }\n",
              "      </script>\n",
              "    </div>\n",
              "  </div>\n",
              "  "
            ]
          },
          "metadata": {},
          "execution_count": 34
        }
      ],
      "source": [
        "dfnew=df.groupby('invoice_currency',axis=0)\n",
        "converted_usd1=dfnew.get_group('USD').total_open_amount.apply(lambda x:x).to_frame()\n",
        "converted_usd2=dfnew.get_group('CAD').total_open_amount.apply(lambda x:x*0.7).to_frame()\n",
        "df3=pd.concat([dfnew.get_group('USD'),dfnew.get_group('CAD')],ignore_index=True)\n",
        "df4=pd.concat([converted_usd1,converted_usd2],ignore_index=True)\n",
        "df3['converted_usd']=df4\n",
        "df=df3\n",
        "df"
      ],
      "id": "8eb2f1c5"
    },
    {
      "cell_type": "markdown",
      "metadata": {
        "id": "f9f6ef1d"
      },
      "source": [
        "### Display the new \"converted_usd\" column values"
      ],
      "id": "f9f6ef1d"
    },
    {
      "cell_type": "code",
      "execution_count": null,
      "metadata": {
        "colab": {
          "base_uri": "https://localhost:8080/"
        },
        "id": "1fc1a178",
        "outputId": "e207ffec-cad4-4021-adb1-8239c854fc0e"
      },
      "outputs": [
        {
          "output_type": "execute_result",
          "data": {
            "text/plain": [
              "1897.500     101\n",
              "471.560       96\n",
              "1898.200      95\n",
              "943.120       63\n",
              "1328.250      57\n",
              "            ... \n",
              "51938.700      1\n",
              "86503.790      1\n",
              "35657.440      1\n",
              "72471.830      1\n",
              "757.883        1\n",
              "Name: converted_usd, Length: 44379, dtype: int64"
            ]
          },
          "metadata": {},
          "execution_count": 35
        }
      ],
      "source": [
        "df['converted_usd'].value_counts()"
      ],
      "id": "1fc1a178"
    },
    {
      "cell_type": "markdown",
      "metadata": {
        "id": "6XLXX17kayuy"
      },
      "source": [
        "### Display year wise total number of record \n",
        "\n",
        "- Note -  use \"buisness_year\" column for this "
      ],
      "id": "6XLXX17kayuy"
    },
    {
      "cell_type": "code",
      "execution_count": null,
      "metadata": {
        "colab": {
          "base_uri": "https://localhost:8080/"
        },
        "id": "00c9f6ee",
        "outputId": "318f1734-87b6-4610-e454-325e47a1f8eb"
      },
      "outputs": [
        {
          "output_type": "execute_result",
          "data": {
            "text/plain": [
              "2019.0    33975\n",
              "2020.0    14864\n",
              "Name: buisness_year, dtype: int64"
            ]
          },
          "metadata": {},
          "execution_count": 36
        }
      ],
      "source": [
        "df['buisness_year'].value_counts()"
      ],
      "id": "00c9f6ee"
    },
    {
      "cell_type": "markdown",
      "metadata": {
        "id": "05c35904"
      },
      "source": [
        "### Write the code to delete the following columns \n",
        "\n",
        "- 'invoice_currency'\n",
        "- 'total_open_amount', "
      ],
      "id": "05c35904"
    },
    {
      "cell_type": "code",
      "execution_count": null,
      "metadata": {
        "colab": {
          "base_uri": "https://localhost:8080/",
          "height": 540
        },
        "id": "4ac28aa5",
        "outputId": "3621a170-f1b1-44a6-c316-1e07891c2a97"
      },
      "outputs": [
        {
          "output_type": "execute_result",
          "data": {
            "text/plain": [
              "      business_code cust_number       name_customer clear_date  buisness_year  \\\n",
              "0              U001  0200769623        WAL-MAR corp 2020-02-11         2020.0   \n",
              "1              U001  0200980828              BEN E  2019-08-08         2019.0   \n",
              "2              U001  0200792734          MDV/ trust 2019-12-30         2019.0   \n",
              "3              U001  0200769623  WAL-MAR foundation 2019-11-25         2019.0   \n",
              "4              U001  0200769623          WAL-MAR in 2019-11-12         2019.0   \n",
              "...             ...         ...                 ...        ...            ...   \n",
              "48834          CA02  0140104472   MARTIN associates        NaT         2020.0   \n",
              "48835          CA02  0140105508     DOLLARA systems 2019-02-28         2019.0   \n",
              "48836          CA02  0140104440       SO foundation 2019-02-06         2019.0   \n",
              "48837          CA02  0140104409              LOB co        NaT         2020.0   \n",
              "48838          CA02  0140106408              WAL-M  2020-02-21         2020.0   \n",
              "\n",
              "             doc_id posting_date due_in_date baseline_create_date  \\\n",
              "0      1.930438e+09   2020-01-26  2020-02-10           2020-01-26   \n",
              "1      1.929646e+09   2019-07-22  2019-08-11           2019-07-22   \n",
              "2      1.929874e+09   2019-09-14  2019-09-29           2019-09-14   \n",
              "3      1.930148e+09   2019-11-13  2019-11-28           2019-11-13   \n",
              "4      1.930083e+09   2019-11-01  2019-11-16           2019-11-01   \n",
              "...             ...          ...         ...                  ...   \n",
              "48834  2.960628e+09   2020-04-17  2020-05-02           2020-04-22   \n",
              "48835  2.960529e+09   2019-02-15  2019-02-26           2019-02-16   \n",
              "48836  2.960523e+09   2019-01-21  2019-02-02           2019-01-23   \n",
              "48837  2.960631e+09   2020-04-25  2020-05-15           2020-05-05   \n",
              "48838  2.960611e+09   2020-01-28  2020-02-08           2020-01-29   \n",
              "\n",
              "      cust_payment_terms  converted_usd  \n",
              "0                   NAH4      54273.280  \n",
              "1                   NAD1      79656.600  \n",
              "2                   NAA8       2253.860  \n",
              "3                   NAH4      33133.290  \n",
              "4                   NAH4       7358.490  \n",
              "...                  ...            ...  \n",
              "48834               CA10       1153.152  \n",
              "48835               CA10      32687.550  \n",
              "48836               CA10       4009.110  \n",
              "48837               CA10      65370.767  \n",
              "48838               CA10        757.883  \n",
              "\n",
              "[48839 rows x 11 columns]"
            ],
            "text/html": [
              "\n",
              "  <div id=\"df-8001c2c4-c92d-4275-81ba-c48401d3d07a\">\n",
              "    <div class=\"colab-df-container\">\n",
              "      <div>\n",
              "<style scoped>\n",
              "    .dataframe tbody tr th:only-of-type {\n",
              "        vertical-align: middle;\n",
              "    }\n",
              "\n",
              "    .dataframe tbody tr th {\n",
              "        vertical-align: top;\n",
              "    }\n",
              "\n",
              "    .dataframe thead th {\n",
              "        text-align: right;\n",
              "    }\n",
              "</style>\n",
              "<table border=\"1\" class=\"dataframe\">\n",
              "  <thead>\n",
              "    <tr style=\"text-align: right;\">\n",
              "      <th></th>\n",
              "      <th>business_code</th>\n",
              "      <th>cust_number</th>\n",
              "      <th>name_customer</th>\n",
              "      <th>clear_date</th>\n",
              "      <th>buisness_year</th>\n",
              "      <th>doc_id</th>\n",
              "      <th>posting_date</th>\n",
              "      <th>due_in_date</th>\n",
              "      <th>baseline_create_date</th>\n",
              "      <th>cust_payment_terms</th>\n",
              "      <th>converted_usd</th>\n",
              "    </tr>\n",
              "  </thead>\n",
              "  <tbody>\n",
              "    <tr>\n",
              "      <th>0</th>\n",
              "      <td>U001</td>\n",
              "      <td>0200769623</td>\n",
              "      <td>WAL-MAR corp</td>\n",
              "      <td>2020-02-11</td>\n",
              "      <td>2020.0</td>\n",
              "      <td>1.930438e+09</td>\n",
              "      <td>2020-01-26</td>\n",
              "      <td>2020-02-10</td>\n",
              "      <td>2020-01-26</td>\n",
              "      <td>NAH4</td>\n",
              "      <td>54273.280</td>\n",
              "    </tr>\n",
              "    <tr>\n",
              "      <th>1</th>\n",
              "      <td>U001</td>\n",
              "      <td>0200980828</td>\n",
              "      <td>BEN E</td>\n",
              "      <td>2019-08-08</td>\n",
              "      <td>2019.0</td>\n",
              "      <td>1.929646e+09</td>\n",
              "      <td>2019-07-22</td>\n",
              "      <td>2019-08-11</td>\n",
              "      <td>2019-07-22</td>\n",
              "      <td>NAD1</td>\n",
              "      <td>79656.600</td>\n",
              "    </tr>\n",
              "    <tr>\n",
              "      <th>2</th>\n",
              "      <td>U001</td>\n",
              "      <td>0200792734</td>\n",
              "      <td>MDV/ trust</td>\n",
              "      <td>2019-12-30</td>\n",
              "      <td>2019.0</td>\n",
              "      <td>1.929874e+09</td>\n",
              "      <td>2019-09-14</td>\n",
              "      <td>2019-09-29</td>\n",
              "      <td>2019-09-14</td>\n",
              "      <td>NAA8</td>\n",
              "      <td>2253.860</td>\n",
              "    </tr>\n",
              "    <tr>\n",
              "      <th>3</th>\n",
              "      <td>U001</td>\n",
              "      <td>0200769623</td>\n",
              "      <td>WAL-MAR foundation</td>\n",
              "      <td>2019-11-25</td>\n",
              "      <td>2019.0</td>\n",
              "      <td>1.930148e+09</td>\n",
              "      <td>2019-11-13</td>\n",
              "      <td>2019-11-28</td>\n",
              "      <td>2019-11-13</td>\n",
              "      <td>NAH4</td>\n",
              "      <td>33133.290</td>\n",
              "    </tr>\n",
              "    <tr>\n",
              "      <th>4</th>\n",
              "      <td>U001</td>\n",
              "      <td>0200769623</td>\n",
              "      <td>WAL-MAR in</td>\n",
              "      <td>2019-11-12</td>\n",
              "      <td>2019.0</td>\n",
              "      <td>1.930083e+09</td>\n",
              "      <td>2019-11-01</td>\n",
              "      <td>2019-11-16</td>\n",
              "      <td>2019-11-01</td>\n",
              "      <td>NAH4</td>\n",
              "      <td>7358.490</td>\n",
              "    </tr>\n",
              "    <tr>\n",
              "      <th>...</th>\n",
              "      <td>...</td>\n",
              "      <td>...</td>\n",
              "      <td>...</td>\n",
              "      <td>...</td>\n",
              "      <td>...</td>\n",
              "      <td>...</td>\n",
              "      <td>...</td>\n",
              "      <td>...</td>\n",
              "      <td>...</td>\n",
              "      <td>...</td>\n",
              "      <td>...</td>\n",
              "    </tr>\n",
              "    <tr>\n",
              "      <th>48834</th>\n",
              "      <td>CA02</td>\n",
              "      <td>0140104472</td>\n",
              "      <td>MARTIN associates</td>\n",
              "      <td>NaT</td>\n",
              "      <td>2020.0</td>\n",
              "      <td>2.960628e+09</td>\n",
              "      <td>2020-04-17</td>\n",
              "      <td>2020-05-02</td>\n",
              "      <td>2020-04-22</td>\n",
              "      <td>CA10</td>\n",
              "      <td>1153.152</td>\n",
              "    </tr>\n",
              "    <tr>\n",
              "      <th>48835</th>\n",
              "      <td>CA02</td>\n",
              "      <td>0140105508</td>\n",
              "      <td>DOLLARA systems</td>\n",
              "      <td>2019-02-28</td>\n",
              "      <td>2019.0</td>\n",
              "      <td>2.960529e+09</td>\n",
              "      <td>2019-02-15</td>\n",
              "      <td>2019-02-26</td>\n",
              "      <td>2019-02-16</td>\n",
              "      <td>CA10</td>\n",
              "      <td>32687.550</td>\n",
              "    </tr>\n",
              "    <tr>\n",
              "      <th>48836</th>\n",
              "      <td>CA02</td>\n",
              "      <td>0140104440</td>\n",
              "      <td>SO foundation</td>\n",
              "      <td>2019-02-06</td>\n",
              "      <td>2019.0</td>\n",
              "      <td>2.960523e+09</td>\n",
              "      <td>2019-01-21</td>\n",
              "      <td>2019-02-02</td>\n",
              "      <td>2019-01-23</td>\n",
              "      <td>CA10</td>\n",
              "      <td>4009.110</td>\n",
              "    </tr>\n",
              "    <tr>\n",
              "      <th>48837</th>\n",
              "      <td>CA02</td>\n",
              "      <td>0140104409</td>\n",
              "      <td>LOB co</td>\n",
              "      <td>NaT</td>\n",
              "      <td>2020.0</td>\n",
              "      <td>2.960631e+09</td>\n",
              "      <td>2020-04-25</td>\n",
              "      <td>2020-05-15</td>\n",
              "      <td>2020-05-05</td>\n",
              "      <td>CA10</td>\n",
              "      <td>65370.767</td>\n",
              "    </tr>\n",
              "    <tr>\n",
              "      <th>48838</th>\n",
              "      <td>CA02</td>\n",
              "      <td>0140106408</td>\n",
              "      <td>WAL-M</td>\n",
              "      <td>2020-02-21</td>\n",
              "      <td>2020.0</td>\n",
              "      <td>2.960611e+09</td>\n",
              "      <td>2020-01-28</td>\n",
              "      <td>2020-02-08</td>\n",
              "      <td>2020-01-29</td>\n",
              "      <td>CA10</td>\n",
              "      <td>757.883</td>\n",
              "    </tr>\n",
              "  </tbody>\n",
              "</table>\n",
              "<p>48839 rows × 11 columns</p>\n",
              "</div>\n",
              "      <button class=\"colab-df-convert\" onclick=\"convertToInteractive('df-8001c2c4-c92d-4275-81ba-c48401d3d07a')\"\n",
              "              title=\"Convert this dataframe to an interactive table.\"\n",
              "              style=\"display:none;\">\n",
              "        \n",
              "  <svg xmlns=\"http://www.w3.org/2000/svg\" height=\"24px\"viewBox=\"0 0 24 24\"\n",
              "       width=\"24px\">\n",
              "    <path d=\"M0 0h24v24H0V0z\" fill=\"none\"/>\n",
              "    <path d=\"M18.56 5.44l.94 2.06.94-2.06 2.06-.94-2.06-.94-.94-2.06-.94 2.06-2.06.94zm-11 1L8.5 8.5l.94-2.06 2.06-.94-2.06-.94L8.5 2.5l-.94 2.06-2.06.94zm10 10l.94 2.06.94-2.06 2.06-.94-2.06-.94-.94-2.06-.94 2.06-2.06.94z\"/><path d=\"M17.41 7.96l-1.37-1.37c-.4-.4-.92-.59-1.43-.59-.52 0-1.04.2-1.43.59L10.3 9.45l-7.72 7.72c-.78.78-.78 2.05 0 2.83L4 21.41c.39.39.9.59 1.41.59.51 0 1.02-.2 1.41-.59l7.78-7.78 2.81-2.81c.8-.78.8-2.07 0-2.86zM5.41 20L4 18.59l7.72-7.72 1.47 1.35L5.41 20z\"/>\n",
              "  </svg>\n",
              "      </button>\n",
              "      \n",
              "  <style>\n",
              "    .colab-df-container {\n",
              "      display:flex;\n",
              "      flex-wrap:wrap;\n",
              "      gap: 12px;\n",
              "    }\n",
              "\n",
              "    .colab-df-convert {\n",
              "      background-color: #E8F0FE;\n",
              "      border: none;\n",
              "      border-radius: 50%;\n",
              "      cursor: pointer;\n",
              "      display: none;\n",
              "      fill: #1967D2;\n",
              "      height: 32px;\n",
              "      padding: 0 0 0 0;\n",
              "      width: 32px;\n",
              "    }\n",
              "\n",
              "    .colab-df-convert:hover {\n",
              "      background-color: #E2EBFA;\n",
              "      box-shadow: 0px 1px 2px rgba(60, 64, 67, 0.3), 0px 1px 3px 1px rgba(60, 64, 67, 0.15);\n",
              "      fill: #174EA6;\n",
              "    }\n",
              "\n",
              "    [theme=dark] .colab-df-convert {\n",
              "      background-color: #3B4455;\n",
              "      fill: #D2E3FC;\n",
              "    }\n",
              "\n",
              "    [theme=dark] .colab-df-convert:hover {\n",
              "      background-color: #434B5C;\n",
              "      box-shadow: 0px 1px 3px 1px rgba(0, 0, 0, 0.15);\n",
              "      filter: drop-shadow(0px 1px 2px rgba(0, 0, 0, 0.3));\n",
              "      fill: #FFFFFF;\n",
              "    }\n",
              "  </style>\n",
              "\n",
              "      <script>\n",
              "        const buttonEl =\n",
              "          document.querySelector('#df-8001c2c4-c92d-4275-81ba-c48401d3d07a button.colab-df-convert');\n",
              "        buttonEl.style.display =\n",
              "          google.colab.kernel.accessAllowed ? 'block' : 'none';\n",
              "\n",
              "        async function convertToInteractive(key) {\n",
              "          const element = document.querySelector('#df-8001c2c4-c92d-4275-81ba-c48401d3d07a');\n",
              "          const dataTable =\n",
              "            await google.colab.kernel.invokeFunction('convertToInteractive',\n",
              "                                                     [key], {});\n",
              "          if (!dataTable) return;\n",
              "\n",
              "          const docLinkHtml = 'Like what you see? Visit the ' +\n",
              "            '<a target=\"_blank\" href=https://colab.research.google.com/notebooks/data_table.ipynb>data table notebook</a>'\n",
              "            + ' to learn more about interactive tables.';\n",
              "          element.innerHTML = '';\n",
              "          dataTable['output_type'] = 'display_data';\n",
              "          await google.colab.output.renderOutput(dataTable, element);\n",
              "          const docLink = document.createElement('div');\n",
              "          docLink.innerHTML = docLinkHtml;\n",
              "          element.appendChild(docLink);\n",
              "        }\n",
              "      </script>\n",
              "    </div>\n",
              "  </div>\n",
              "  "
            ]
          },
          "metadata": {},
          "execution_count": 37
        }
      ],
      "source": [
        "df=df.drop(['invoice_currency','total_open_amount'],axis=1)\n",
        "df"
      ],
      "id": "4ac28aa5"
    },
    {
      "cell_type": "markdown",
      "metadata": {
        "id": "bDBJ_Kvwc086"
      },
      "source": [
        "### Write a code to check the number of columns in dataframe"
      ],
      "id": "bDBJ_Kvwc086"
    },
    {
      "cell_type": "code",
      "execution_count": null,
      "metadata": {
        "colab": {
          "base_uri": "https://localhost:8080/"
        },
        "id": "ea360a8c",
        "outputId": "d9af68f4-0b6f-427c-a21d-3e3be1b71f11"
      },
      "outputs": [
        {
          "output_type": "execute_result",
          "data": {
            "text/plain": [
              "11"
            ]
          },
          "metadata": {},
          "execution_count": 38
        }
      ],
      "source": [
        "df.shape[1]"
      ],
      "id": "ea360a8c"
    },
    {
      "cell_type": "markdown",
      "metadata": {
        "id": "b8f63655"
      },
      "source": [
        "# Splitting the Dataset "
      ],
      "id": "b8f63655"
    },
    {
      "cell_type": "markdown",
      "metadata": {
        "id": "a00f749d"
      },
      "source": [
        "### Look for all columns containing null value\n",
        "\n",
        "- Note - Output expected is only one column "
      ],
      "id": "a00f749d"
    },
    {
      "cell_type": "code",
      "execution_count": null,
      "metadata": {
        "colab": {
          "base_uri": "https://localhost:8080/"
        },
        "id": "148c801e",
        "outputId": "0802ac8b-2c9f-474c-c7c5-f43eab51864f"
      },
      "outputs": [
        {
          "output_type": "execute_result",
          "data": {
            "text/plain": [
              "business_code              0\n",
              "cust_number                0\n",
              "name_customer              0\n",
              "clear_date              9681\n",
              "buisness_year              0\n",
              "doc_id                     0\n",
              "posting_date               0\n",
              "due_in_date                0\n",
              "baseline_create_date       0\n",
              "cust_payment_terms         0\n",
              "converted_usd              0\n",
              "dtype: int64"
            ]
          },
          "metadata": {},
          "execution_count": 39
        }
      ],
      "source": [
        "df.isna().sum()"
      ],
      "id": "148c801e"
    },
    {
      "cell_type": "markdown",
      "metadata": {
        "id": "a094a290"
      },
      "source": [
        "#### Find out the number of null values from the column that you got from the above code"
      ],
      "id": "a094a290"
    },
    {
      "cell_type": "code",
      "execution_count": null,
      "metadata": {
        "colab": {
          "base_uri": "https://localhost:8080/"
        },
        "id": "30bfb113",
        "outputId": "44ec88f1-722c-4a1e-9e3f-3c16b840d840"
      },
      "outputs": [
        {
          "output_type": "execute_result",
          "data": {
            "text/plain": [
              "9681"
            ]
          },
          "metadata": {},
          "execution_count": 40
        }
      ],
      "source": [
        "df['clear_date'].isnull().sum()"
      ],
      "id": "30bfb113"
    },
    {
      "cell_type": "markdown",
      "metadata": {
        "id": "7f6d939b"
      },
      "source": [
        "### On basis of the above column we are spliting data into dataset\n",
        "\n",
        "- First dataframe (refer that as maindata) only containing the rows, that have NO NULL data in that column ( This is going to be our train dataset ) \n",
        "- Second dataframe (refer that as nulldata) that contains the columns, that have Null data in that column ( This is going to be our test dataset ) "
      ],
      "id": "7f6d939b"
    },
    {
      "cell_type": "code",
      "execution_count": null,
      "metadata": {
        "id": "c8764c33"
      },
      "outputs": [],
      "source": [
        "main_data=df.dropna(axis=0)"
      ],
      "id": "c8764c33"
    },
    {
      "cell_type": "markdown",
      "metadata": {
        "id": "3P8riRBHd_r6"
      },
      "source": [
        "### Check the number of Rows and Columns for both the dataframes "
      ],
      "id": "3P8riRBHd_r6"
    },
    {
      "cell_type": "code",
      "execution_count": null,
      "metadata": {
        "colab": {
          "base_uri": "https://localhost:8080/"
        },
        "id": "0693a464",
        "outputId": "fa6771f3-9d4e-466a-cee7-2d8b0594fcef"
      },
      "outputs": [
        {
          "output_type": "execute_result",
          "data": {
            "text/plain": [
              "(39158, 11)"
            ]
          },
          "metadata": {},
          "execution_count": 42
        }
      ],
      "source": [
        "main_data.shape"
      ],
      "id": "0693a464"
    },
    {
      "cell_type": "code",
      "execution_count": null,
      "metadata": {
        "id": "7f86bc74"
      },
      "outputs": [],
      "source": [
        "null_data=df[df.isnull().any(axis=1)]"
      ],
      "id": "7f86bc74"
    },
    {
      "cell_type": "code",
      "execution_count": null,
      "metadata": {
        "colab": {
          "base_uri": "https://localhost:8080/"
        },
        "id": "LJfgehIAeDAr",
        "outputId": "d86ebdca-24c9-4d09-cae7-369d6940445f"
      },
      "outputs": [
        {
          "output_type": "execute_result",
          "data": {
            "text/plain": [
              "(9681, 11)"
            ]
          },
          "metadata": {},
          "execution_count": 44
        }
      ],
      "source": [
        "null_data.shape"
      ],
      "id": "LJfgehIAeDAr"
    },
    {
      "cell_type": "markdown",
      "metadata": {
        "id": "0747165d"
      },
      "source": [
        "### Display the 5 records from maindata and nulldata dataframes"
      ],
      "id": "0747165d"
    },
    {
      "cell_type": "code",
      "execution_count": null,
      "metadata": {
        "colab": {
          "base_uri": "https://localhost:8080/",
          "height": 288
        },
        "id": "dec2ec36",
        "outputId": "56d75926-a014-4909-e53f-f8ade7e08a68"
      },
      "outputs": [
        {
          "output_type": "execute_result",
          "data": {
            "text/plain": [
              "  business_code cust_number       name_customer clear_date  buisness_year  \\\n",
              "0          U001  0200769623        WAL-MAR corp 2020-02-11         2020.0   \n",
              "1          U001  0200980828              BEN E  2019-08-08         2019.0   \n",
              "2          U001  0200792734          MDV/ trust 2019-12-30         2019.0   \n",
              "3          U001  0200769623  WAL-MAR foundation 2019-11-25         2019.0   \n",
              "4          U001  0200769623          WAL-MAR in 2019-11-12         2019.0   \n",
              "\n",
              "         doc_id posting_date due_in_date baseline_create_date  \\\n",
              "0  1.930438e+09   2020-01-26  2020-02-10           2020-01-26   \n",
              "1  1.929646e+09   2019-07-22  2019-08-11           2019-07-22   \n",
              "2  1.929874e+09   2019-09-14  2019-09-29           2019-09-14   \n",
              "3  1.930148e+09   2019-11-13  2019-11-28           2019-11-13   \n",
              "4  1.930083e+09   2019-11-01  2019-11-16           2019-11-01   \n",
              "\n",
              "  cust_payment_terms  converted_usd  \n",
              "0               NAH4       54273.28  \n",
              "1               NAD1       79656.60  \n",
              "2               NAA8        2253.86  \n",
              "3               NAH4       33133.29  \n",
              "4               NAH4        7358.49  "
            ],
            "text/html": [
              "\n",
              "  <div id=\"df-68a68e04-0a3b-46d0-b1d0-52822edcfc28\">\n",
              "    <div class=\"colab-df-container\">\n",
              "      <div>\n",
              "<style scoped>\n",
              "    .dataframe tbody tr th:only-of-type {\n",
              "        vertical-align: middle;\n",
              "    }\n",
              "\n",
              "    .dataframe tbody tr th {\n",
              "        vertical-align: top;\n",
              "    }\n",
              "\n",
              "    .dataframe thead th {\n",
              "        text-align: right;\n",
              "    }\n",
              "</style>\n",
              "<table border=\"1\" class=\"dataframe\">\n",
              "  <thead>\n",
              "    <tr style=\"text-align: right;\">\n",
              "      <th></th>\n",
              "      <th>business_code</th>\n",
              "      <th>cust_number</th>\n",
              "      <th>name_customer</th>\n",
              "      <th>clear_date</th>\n",
              "      <th>buisness_year</th>\n",
              "      <th>doc_id</th>\n",
              "      <th>posting_date</th>\n",
              "      <th>due_in_date</th>\n",
              "      <th>baseline_create_date</th>\n",
              "      <th>cust_payment_terms</th>\n",
              "      <th>converted_usd</th>\n",
              "    </tr>\n",
              "  </thead>\n",
              "  <tbody>\n",
              "    <tr>\n",
              "      <th>0</th>\n",
              "      <td>U001</td>\n",
              "      <td>0200769623</td>\n",
              "      <td>WAL-MAR corp</td>\n",
              "      <td>2020-02-11</td>\n",
              "      <td>2020.0</td>\n",
              "      <td>1.930438e+09</td>\n",
              "      <td>2020-01-26</td>\n",
              "      <td>2020-02-10</td>\n",
              "      <td>2020-01-26</td>\n",
              "      <td>NAH4</td>\n",
              "      <td>54273.28</td>\n",
              "    </tr>\n",
              "    <tr>\n",
              "      <th>1</th>\n",
              "      <td>U001</td>\n",
              "      <td>0200980828</td>\n",
              "      <td>BEN E</td>\n",
              "      <td>2019-08-08</td>\n",
              "      <td>2019.0</td>\n",
              "      <td>1.929646e+09</td>\n",
              "      <td>2019-07-22</td>\n",
              "      <td>2019-08-11</td>\n",
              "      <td>2019-07-22</td>\n",
              "      <td>NAD1</td>\n",
              "      <td>79656.60</td>\n",
              "    </tr>\n",
              "    <tr>\n",
              "      <th>2</th>\n",
              "      <td>U001</td>\n",
              "      <td>0200792734</td>\n",
              "      <td>MDV/ trust</td>\n",
              "      <td>2019-12-30</td>\n",
              "      <td>2019.0</td>\n",
              "      <td>1.929874e+09</td>\n",
              "      <td>2019-09-14</td>\n",
              "      <td>2019-09-29</td>\n",
              "      <td>2019-09-14</td>\n",
              "      <td>NAA8</td>\n",
              "      <td>2253.86</td>\n",
              "    </tr>\n",
              "    <tr>\n",
              "      <th>3</th>\n",
              "      <td>U001</td>\n",
              "      <td>0200769623</td>\n",
              "      <td>WAL-MAR foundation</td>\n",
              "      <td>2019-11-25</td>\n",
              "      <td>2019.0</td>\n",
              "      <td>1.930148e+09</td>\n",
              "      <td>2019-11-13</td>\n",
              "      <td>2019-11-28</td>\n",
              "      <td>2019-11-13</td>\n",
              "      <td>NAH4</td>\n",
              "      <td>33133.29</td>\n",
              "    </tr>\n",
              "    <tr>\n",
              "      <th>4</th>\n",
              "      <td>U001</td>\n",
              "      <td>0200769623</td>\n",
              "      <td>WAL-MAR in</td>\n",
              "      <td>2019-11-12</td>\n",
              "      <td>2019.0</td>\n",
              "      <td>1.930083e+09</td>\n",
              "      <td>2019-11-01</td>\n",
              "      <td>2019-11-16</td>\n",
              "      <td>2019-11-01</td>\n",
              "      <td>NAH4</td>\n",
              "      <td>7358.49</td>\n",
              "    </tr>\n",
              "  </tbody>\n",
              "</table>\n",
              "</div>\n",
              "      <button class=\"colab-df-convert\" onclick=\"convertToInteractive('df-68a68e04-0a3b-46d0-b1d0-52822edcfc28')\"\n",
              "              title=\"Convert this dataframe to an interactive table.\"\n",
              "              style=\"display:none;\">\n",
              "        \n",
              "  <svg xmlns=\"http://www.w3.org/2000/svg\" height=\"24px\"viewBox=\"0 0 24 24\"\n",
              "       width=\"24px\">\n",
              "    <path d=\"M0 0h24v24H0V0z\" fill=\"none\"/>\n",
              "    <path d=\"M18.56 5.44l.94 2.06.94-2.06 2.06-.94-2.06-.94-.94-2.06-.94 2.06-2.06.94zm-11 1L8.5 8.5l.94-2.06 2.06-.94-2.06-.94L8.5 2.5l-.94 2.06-2.06.94zm10 10l.94 2.06.94-2.06 2.06-.94-2.06-.94-.94-2.06-.94 2.06-2.06.94z\"/><path d=\"M17.41 7.96l-1.37-1.37c-.4-.4-.92-.59-1.43-.59-.52 0-1.04.2-1.43.59L10.3 9.45l-7.72 7.72c-.78.78-.78 2.05 0 2.83L4 21.41c.39.39.9.59 1.41.59.51 0 1.02-.2 1.41-.59l7.78-7.78 2.81-2.81c.8-.78.8-2.07 0-2.86zM5.41 20L4 18.59l7.72-7.72 1.47 1.35L5.41 20z\"/>\n",
              "  </svg>\n",
              "      </button>\n",
              "      \n",
              "  <style>\n",
              "    .colab-df-container {\n",
              "      display:flex;\n",
              "      flex-wrap:wrap;\n",
              "      gap: 12px;\n",
              "    }\n",
              "\n",
              "    .colab-df-convert {\n",
              "      background-color: #E8F0FE;\n",
              "      border: none;\n",
              "      border-radius: 50%;\n",
              "      cursor: pointer;\n",
              "      display: none;\n",
              "      fill: #1967D2;\n",
              "      height: 32px;\n",
              "      padding: 0 0 0 0;\n",
              "      width: 32px;\n",
              "    }\n",
              "\n",
              "    .colab-df-convert:hover {\n",
              "      background-color: #E2EBFA;\n",
              "      box-shadow: 0px 1px 2px rgba(60, 64, 67, 0.3), 0px 1px 3px 1px rgba(60, 64, 67, 0.15);\n",
              "      fill: #174EA6;\n",
              "    }\n",
              "\n",
              "    [theme=dark] .colab-df-convert {\n",
              "      background-color: #3B4455;\n",
              "      fill: #D2E3FC;\n",
              "    }\n",
              "\n",
              "    [theme=dark] .colab-df-convert:hover {\n",
              "      background-color: #434B5C;\n",
              "      box-shadow: 0px 1px 3px 1px rgba(0, 0, 0, 0.15);\n",
              "      filter: drop-shadow(0px 1px 2px rgba(0, 0, 0, 0.3));\n",
              "      fill: #FFFFFF;\n",
              "    }\n",
              "  </style>\n",
              "\n",
              "      <script>\n",
              "        const buttonEl =\n",
              "          document.querySelector('#df-68a68e04-0a3b-46d0-b1d0-52822edcfc28 button.colab-df-convert');\n",
              "        buttonEl.style.display =\n",
              "          google.colab.kernel.accessAllowed ? 'block' : 'none';\n",
              "\n",
              "        async function convertToInteractive(key) {\n",
              "          const element = document.querySelector('#df-68a68e04-0a3b-46d0-b1d0-52822edcfc28');\n",
              "          const dataTable =\n",
              "            await google.colab.kernel.invokeFunction('convertToInteractive',\n",
              "                                                     [key], {});\n",
              "          if (!dataTable) return;\n",
              "\n",
              "          const docLinkHtml = 'Like what you see? Visit the ' +\n",
              "            '<a target=\"_blank\" href=https://colab.research.google.com/notebooks/data_table.ipynb>data table notebook</a>'\n",
              "            + ' to learn more about interactive tables.';\n",
              "          element.innerHTML = '';\n",
              "          dataTable['output_type'] = 'display_data';\n",
              "          await google.colab.output.renderOutput(dataTable, element);\n",
              "          const docLink = document.createElement('div');\n",
              "          docLink.innerHTML = docLinkHtml;\n",
              "          element.appendChild(docLink);\n",
              "        }\n",
              "      </script>\n",
              "    </div>\n",
              "  </div>\n",
              "  "
            ]
          },
          "metadata": {},
          "execution_count": 45
        }
      ],
      "source": [
        "main_data.head()"
      ],
      "id": "dec2ec36"
    },
    {
      "cell_type": "code",
      "execution_count": null,
      "metadata": {
        "colab": {
          "base_uri": "https://localhost:8080/",
          "height": 305
        },
        "id": "eee2d68a",
        "outputId": "3aeaef0b-eb9d-47e4-a584-75fa94529a5f"
      },
      "outputs": [
        {
          "output_type": "execute_result",
          "data": {
            "text/plain": [
              "   business_code cust_number     name_customer clear_date  buisness_year  \\\n",
              "5           U001  0200744019           TARG us        NaT         2020.0   \n",
              "8           U001  0200418007               AM         NaT         2020.0   \n",
              "12          U001  0200739534        OK systems        NaT         2020.0   \n",
              "13          U001  0200353024  DECA corporation        NaT         2020.0   \n",
              "20          U001  0200744019   TARG associates        NaT         2020.0   \n",
              "\n",
              "          doc_id posting_date due_in_date baseline_create_date  \\\n",
              "5   1.930659e+09   2020-03-19  2020-04-03           2020-03-19   \n",
              "8   1.930611e+09   2020-03-11  2020-03-26           2020-03-11   \n",
              "12  1.930788e+09   2020-04-15  2020-04-30           2020-04-15   \n",
              "13  1.930817e+09   2020-04-23  2020-04-26           2020-04-16   \n",
              "20  1.930676e+09   2020-03-21  2020-04-05           2020-03-21   \n",
              "\n",
              "   cust_payment_terms  converted_usd  \n",
              "5                NAA8       11173.02  \n",
              "8                NAA8        3525.59  \n",
              "12               NAA8      121105.65  \n",
              "13               NAM2        3726.06  \n",
              "20               NAA8        5893.01  "
            ],
            "text/html": [
              "\n",
              "  <div id=\"df-195878c0-113c-4dd1-9d41-096825471fb7\">\n",
              "    <div class=\"colab-df-container\">\n",
              "      <div>\n",
              "<style scoped>\n",
              "    .dataframe tbody tr th:only-of-type {\n",
              "        vertical-align: middle;\n",
              "    }\n",
              "\n",
              "    .dataframe tbody tr th {\n",
              "        vertical-align: top;\n",
              "    }\n",
              "\n",
              "    .dataframe thead th {\n",
              "        text-align: right;\n",
              "    }\n",
              "</style>\n",
              "<table border=\"1\" class=\"dataframe\">\n",
              "  <thead>\n",
              "    <tr style=\"text-align: right;\">\n",
              "      <th></th>\n",
              "      <th>business_code</th>\n",
              "      <th>cust_number</th>\n",
              "      <th>name_customer</th>\n",
              "      <th>clear_date</th>\n",
              "      <th>buisness_year</th>\n",
              "      <th>doc_id</th>\n",
              "      <th>posting_date</th>\n",
              "      <th>due_in_date</th>\n",
              "      <th>baseline_create_date</th>\n",
              "      <th>cust_payment_terms</th>\n",
              "      <th>converted_usd</th>\n",
              "    </tr>\n",
              "  </thead>\n",
              "  <tbody>\n",
              "    <tr>\n",
              "      <th>5</th>\n",
              "      <td>U001</td>\n",
              "      <td>0200744019</td>\n",
              "      <td>TARG us</td>\n",
              "      <td>NaT</td>\n",
              "      <td>2020.0</td>\n",
              "      <td>1.930659e+09</td>\n",
              "      <td>2020-03-19</td>\n",
              "      <td>2020-04-03</td>\n",
              "      <td>2020-03-19</td>\n",
              "      <td>NAA8</td>\n",
              "      <td>11173.02</td>\n",
              "    </tr>\n",
              "    <tr>\n",
              "      <th>8</th>\n",
              "      <td>U001</td>\n",
              "      <td>0200418007</td>\n",
              "      <td>AM</td>\n",
              "      <td>NaT</td>\n",
              "      <td>2020.0</td>\n",
              "      <td>1.930611e+09</td>\n",
              "      <td>2020-03-11</td>\n",
              "      <td>2020-03-26</td>\n",
              "      <td>2020-03-11</td>\n",
              "      <td>NAA8</td>\n",
              "      <td>3525.59</td>\n",
              "    </tr>\n",
              "    <tr>\n",
              "      <th>12</th>\n",
              "      <td>U001</td>\n",
              "      <td>0200739534</td>\n",
              "      <td>OK systems</td>\n",
              "      <td>NaT</td>\n",
              "      <td>2020.0</td>\n",
              "      <td>1.930788e+09</td>\n",
              "      <td>2020-04-15</td>\n",
              "      <td>2020-04-30</td>\n",
              "      <td>2020-04-15</td>\n",
              "      <td>NAA8</td>\n",
              "      <td>121105.65</td>\n",
              "    </tr>\n",
              "    <tr>\n",
              "      <th>13</th>\n",
              "      <td>U001</td>\n",
              "      <td>0200353024</td>\n",
              "      <td>DECA corporation</td>\n",
              "      <td>NaT</td>\n",
              "      <td>2020.0</td>\n",
              "      <td>1.930817e+09</td>\n",
              "      <td>2020-04-23</td>\n",
              "      <td>2020-04-26</td>\n",
              "      <td>2020-04-16</td>\n",
              "      <td>NAM2</td>\n",
              "      <td>3726.06</td>\n",
              "    </tr>\n",
              "    <tr>\n",
              "      <th>20</th>\n",
              "      <td>U001</td>\n",
              "      <td>0200744019</td>\n",
              "      <td>TARG associates</td>\n",
              "      <td>NaT</td>\n",
              "      <td>2020.0</td>\n",
              "      <td>1.930676e+09</td>\n",
              "      <td>2020-03-21</td>\n",
              "      <td>2020-04-05</td>\n",
              "      <td>2020-03-21</td>\n",
              "      <td>NAA8</td>\n",
              "      <td>5893.01</td>\n",
              "    </tr>\n",
              "  </tbody>\n",
              "</table>\n",
              "</div>\n",
              "      <button class=\"colab-df-convert\" onclick=\"convertToInteractive('df-195878c0-113c-4dd1-9d41-096825471fb7')\"\n",
              "              title=\"Convert this dataframe to an interactive table.\"\n",
              "              style=\"display:none;\">\n",
              "        \n",
              "  <svg xmlns=\"http://www.w3.org/2000/svg\" height=\"24px\"viewBox=\"0 0 24 24\"\n",
              "       width=\"24px\">\n",
              "    <path d=\"M0 0h24v24H0V0z\" fill=\"none\"/>\n",
              "    <path d=\"M18.56 5.44l.94 2.06.94-2.06 2.06-.94-2.06-.94-.94-2.06-.94 2.06-2.06.94zm-11 1L8.5 8.5l.94-2.06 2.06-.94-2.06-.94L8.5 2.5l-.94 2.06-2.06.94zm10 10l.94 2.06.94-2.06 2.06-.94-2.06-.94-.94-2.06-.94 2.06-2.06.94z\"/><path d=\"M17.41 7.96l-1.37-1.37c-.4-.4-.92-.59-1.43-.59-.52 0-1.04.2-1.43.59L10.3 9.45l-7.72 7.72c-.78.78-.78 2.05 0 2.83L4 21.41c.39.39.9.59 1.41.59.51 0 1.02-.2 1.41-.59l7.78-7.78 2.81-2.81c.8-.78.8-2.07 0-2.86zM5.41 20L4 18.59l7.72-7.72 1.47 1.35L5.41 20z\"/>\n",
              "  </svg>\n",
              "      </button>\n",
              "      \n",
              "  <style>\n",
              "    .colab-df-container {\n",
              "      display:flex;\n",
              "      flex-wrap:wrap;\n",
              "      gap: 12px;\n",
              "    }\n",
              "\n",
              "    .colab-df-convert {\n",
              "      background-color: #E8F0FE;\n",
              "      border: none;\n",
              "      border-radius: 50%;\n",
              "      cursor: pointer;\n",
              "      display: none;\n",
              "      fill: #1967D2;\n",
              "      height: 32px;\n",
              "      padding: 0 0 0 0;\n",
              "      width: 32px;\n",
              "    }\n",
              "\n",
              "    .colab-df-convert:hover {\n",
              "      background-color: #E2EBFA;\n",
              "      box-shadow: 0px 1px 2px rgba(60, 64, 67, 0.3), 0px 1px 3px 1px rgba(60, 64, 67, 0.15);\n",
              "      fill: #174EA6;\n",
              "    }\n",
              "\n",
              "    [theme=dark] .colab-df-convert {\n",
              "      background-color: #3B4455;\n",
              "      fill: #D2E3FC;\n",
              "    }\n",
              "\n",
              "    [theme=dark] .colab-df-convert:hover {\n",
              "      background-color: #434B5C;\n",
              "      box-shadow: 0px 1px 3px 1px rgba(0, 0, 0, 0.15);\n",
              "      filter: drop-shadow(0px 1px 2px rgba(0, 0, 0, 0.3));\n",
              "      fill: #FFFFFF;\n",
              "    }\n",
              "  </style>\n",
              "\n",
              "      <script>\n",
              "        const buttonEl =\n",
              "          document.querySelector('#df-195878c0-113c-4dd1-9d41-096825471fb7 button.colab-df-convert');\n",
              "        buttonEl.style.display =\n",
              "          google.colab.kernel.accessAllowed ? 'block' : 'none';\n",
              "\n",
              "        async function convertToInteractive(key) {\n",
              "          const element = document.querySelector('#df-195878c0-113c-4dd1-9d41-096825471fb7');\n",
              "          const dataTable =\n",
              "            await google.colab.kernel.invokeFunction('convertToInteractive',\n",
              "                                                     [key], {});\n",
              "          if (!dataTable) return;\n",
              "\n",
              "          const docLinkHtml = 'Like what you see? Visit the ' +\n",
              "            '<a target=\"_blank\" href=https://colab.research.google.com/notebooks/data_table.ipynb>data table notebook</a>'\n",
              "            + ' to learn more about interactive tables.';\n",
              "          element.innerHTML = '';\n",
              "          dataTable['output_type'] = 'display_data';\n",
              "          await google.colab.output.renderOutput(dataTable, element);\n",
              "          const docLink = document.createElement('div');\n",
              "          docLink.innerHTML = docLinkHtml;\n",
              "          element.appendChild(docLink);\n",
              "        }\n",
              "      </script>\n",
              "    </div>\n",
              "  </div>\n",
              "  "
            ]
          },
          "metadata": {},
          "execution_count": 46
        }
      ],
      "source": [
        "null_data.head()"
      ],
      "id": "eee2d68a"
    },
    {
      "cell_type": "markdown",
      "metadata": {
        "id": "24aa6746"
      },
      "source": [
        "## Considering the **maindata**"
      ],
      "id": "24aa6746"
    },
    {
      "cell_type": "markdown",
      "metadata": {
        "id": "f92c4aa7"
      },
      "source": [
        "#### Generate a new column \"Delay\" from the existing columns\n",
        "\n",
        "- Note - You are expected to create a new column 'Delay' from two existing columns, \"clear_date\" and \"due_in_date\" \n",
        "- Formula - Delay = clear_date - due_in_date"
      ],
      "id": "f92c4aa7"
    },
    {
      "cell_type": "code",
      "execution_count": null,
      "metadata": {
        "colab": {
          "base_uri": "https://localhost:8080/"
        },
        "id": "8eeceb9c",
        "outputId": "a9a00d66-ea01-4d81-d725-16857161c9bc"
      },
      "outputs": [
        {
          "output_type": "stream",
          "name": "stderr",
          "text": [
            "/usr/local/lib/python3.7/dist-packages/ipykernel_launcher.py:1: SettingWithCopyWarning: \n",
            "A value is trying to be set on a copy of a slice from a DataFrame.\n",
            "Try using .loc[row_indexer,col_indexer] = value instead\n",
            "\n",
            "See the caveats in the documentation: https://pandas.pydata.org/pandas-docs/stable/user_guide/indexing.html#returning-a-view-versus-a-copy\n",
            "  \"\"\"Entry point for launching an IPython kernel.\n"
          ]
        }
      ],
      "source": [
        "main_data['delay']=main_data['clear_date'] -main_data['due_in_date']"
      ],
      "id": "8eeceb9c"
    },
    {
      "cell_type": "code",
      "execution_count": null,
      "metadata": {
        "colab": {
          "base_uri": "https://localhost:8080/",
          "height": 661
        },
        "id": "E_WVUTq6fKtI",
        "outputId": "46f0fabc-1641-4aa1-976e-ea5d9c3f9e7e"
      },
      "outputs": [
        {
          "output_type": "execute_result",
          "data": {
            "text/plain": [
              "      business_code cust_number       name_customer clear_date  buisness_year  \\\n",
              "0              U001  0200769623        WAL-MAR corp 2020-02-11         2020.0   \n",
              "1              U001  0200980828              BEN E  2019-08-08         2019.0   \n",
              "2              U001  0200792734          MDV/ trust 2019-12-30         2019.0   \n",
              "3              U001  0200769623  WAL-MAR foundation 2019-11-25         2019.0   \n",
              "4              U001  0200769623          WAL-MAR in 2019-11-12         2019.0   \n",
              "...             ...         ...                 ...        ...            ...   \n",
              "48831          CA02  0140104429           COSTCO co 2019-09-30         2019.0   \n",
              "48832          CA02  0140104340           COLABOR   2019-12-19         2019.0   \n",
              "48835          CA02  0140105508     DOLLARA systems 2019-02-28         2019.0   \n",
              "48836          CA02  0140104440       SO foundation 2019-02-06         2019.0   \n",
              "48838          CA02  0140106408              WAL-M  2020-02-21         2020.0   \n",
              "\n",
              "             doc_id posting_date due_in_date baseline_create_date  \\\n",
              "0      1.930438e+09   2020-01-26  2020-02-10           2020-01-26   \n",
              "1      1.929646e+09   2019-07-22  2019-08-11           2019-07-22   \n",
              "2      1.929874e+09   2019-09-14  2019-09-29           2019-09-14   \n",
              "3      1.930148e+09   2019-11-13  2019-11-28           2019-11-13   \n",
              "4      1.930083e+09   2019-11-01  2019-11-16           2019-11-01   \n",
              "...             ...          ...         ...                  ...   \n",
              "48831  2.960581e+09   2019-09-16  2019-09-26           2019-09-16   \n",
              "48832  2.960598e+09   2019-12-04  2019-12-16           2019-12-06   \n",
              "48835  2.960529e+09   2019-02-15  2019-02-26           2019-02-16   \n",
              "48836  2.960523e+09   2019-01-21  2019-02-02           2019-01-23   \n",
              "48838  2.960611e+09   2020-01-28  2020-02-08           2020-01-29   \n",
              "\n",
              "      cust_payment_terms  converted_usd   delay  \n",
              "0                   NAH4      54273.280  1 days  \n",
              "1                   NAD1      79656.600 -3 days  \n",
              "2                   NAA8       2253.860 92 days  \n",
              "3                   NAH4      33133.290 -3 days  \n",
              "4                   NAH4       7358.490 -4 days  \n",
              "...                  ...            ...     ...  \n",
              "48831               CA10      30507.512  4 days  \n",
              "48832               CA10     117054.672  3 days  \n",
              "48835               CA10      32687.550  2 days  \n",
              "48836               CA10       4009.110  4 days  \n",
              "48838               CA10        757.883 13 days  \n",
              "\n",
              "[39158 rows x 12 columns]"
            ],
            "text/html": [
              "\n",
              "  <div id=\"df-acc6210e-2e3a-42e2-98e9-fdcc14a74f70\">\n",
              "    <div class=\"colab-df-container\">\n",
              "      <div>\n",
              "<style scoped>\n",
              "    .dataframe tbody tr th:only-of-type {\n",
              "        vertical-align: middle;\n",
              "    }\n",
              "\n",
              "    .dataframe tbody tr th {\n",
              "        vertical-align: top;\n",
              "    }\n",
              "\n",
              "    .dataframe thead th {\n",
              "        text-align: right;\n",
              "    }\n",
              "</style>\n",
              "<table border=\"1\" class=\"dataframe\">\n",
              "  <thead>\n",
              "    <tr style=\"text-align: right;\">\n",
              "      <th></th>\n",
              "      <th>business_code</th>\n",
              "      <th>cust_number</th>\n",
              "      <th>name_customer</th>\n",
              "      <th>clear_date</th>\n",
              "      <th>buisness_year</th>\n",
              "      <th>doc_id</th>\n",
              "      <th>posting_date</th>\n",
              "      <th>due_in_date</th>\n",
              "      <th>baseline_create_date</th>\n",
              "      <th>cust_payment_terms</th>\n",
              "      <th>converted_usd</th>\n",
              "      <th>delay</th>\n",
              "    </tr>\n",
              "  </thead>\n",
              "  <tbody>\n",
              "    <tr>\n",
              "      <th>0</th>\n",
              "      <td>U001</td>\n",
              "      <td>0200769623</td>\n",
              "      <td>WAL-MAR corp</td>\n",
              "      <td>2020-02-11</td>\n",
              "      <td>2020.0</td>\n",
              "      <td>1.930438e+09</td>\n",
              "      <td>2020-01-26</td>\n",
              "      <td>2020-02-10</td>\n",
              "      <td>2020-01-26</td>\n",
              "      <td>NAH4</td>\n",
              "      <td>54273.280</td>\n",
              "      <td>1 days</td>\n",
              "    </tr>\n",
              "    <tr>\n",
              "      <th>1</th>\n",
              "      <td>U001</td>\n",
              "      <td>0200980828</td>\n",
              "      <td>BEN E</td>\n",
              "      <td>2019-08-08</td>\n",
              "      <td>2019.0</td>\n",
              "      <td>1.929646e+09</td>\n",
              "      <td>2019-07-22</td>\n",
              "      <td>2019-08-11</td>\n",
              "      <td>2019-07-22</td>\n",
              "      <td>NAD1</td>\n",
              "      <td>79656.600</td>\n",
              "      <td>-3 days</td>\n",
              "    </tr>\n",
              "    <tr>\n",
              "      <th>2</th>\n",
              "      <td>U001</td>\n",
              "      <td>0200792734</td>\n",
              "      <td>MDV/ trust</td>\n",
              "      <td>2019-12-30</td>\n",
              "      <td>2019.0</td>\n",
              "      <td>1.929874e+09</td>\n",
              "      <td>2019-09-14</td>\n",
              "      <td>2019-09-29</td>\n",
              "      <td>2019-09-14</td>\n",
              "      <td>NAA8</td>\n",
              "      <td>2253.860</td>\n",
              "      <td>92 days</td>\n",
              "    </tr>\n",
              "    <tr>\n",
              "      <th>3</th>\n",
              "      <td>U001</td>\n",
              "      <td>0200769623</td>\n",
              "      <td>WAL-MAR foundation</td>\n",
              "      <td>2019-11-25</td>\n",
              "      <td>2019.0</td>\n",
              "      <td>1.930148e+09</td>\n",
              "      <td>2019-11-13</td>\n",
              "      <td>2019-11-28</td>\n",
              "      <td>2019-11-13</td>\n",
              "      <td>NAH4</td>\n",
              "      <td>33133.290</td>\n",
              "      <td>-3 days</td>\n",
              "    </tr>\n",
              "    <tr>\n",
              "      <th>4</th>\n",
              "      <td>U001</td>\n",
              "      <td>0200769623</td>\n",
              "      <td>WAL-MAR in</td>\n",
              "      <td>2019-11-12</td>\n",
              "      <td>2019.0</td>\n",
              "      <td>1.930083e+09</td>\n",
              "      <td>2019-11-01</td>\n",
              "      <td>2019-11-16</td>\n",
              "      <td>2019-11-01</td>\n",
              "      <td>NAH4</td>\n",
              "      <td>7358.490</td>\n",
              "      <td>-4 days</td>\n",
              "    </tr>\n",
              "    <tr>\n",
              "      <th>...</th>\n",
              "      <td>...</td>\n",
              "      <td>...</td>\n",
              "      <td>...</td>\n",
              "      <td>...</td>\n",
              "      <td>...</td>\n",
              "      <td>...</td>\n",
              "      <td>...</td>\n",
              "      <td>...</td>\n",
              "      <td>...</td>\n",
              "      <td>...</td>\n",
              "      <td>...</td>\n",
              "      <td>...</td>\n",
              "    </tr>\n",
              "    <tr>\n",
              "      <th>48831</th>\n",
              "      <td>CA02</td>\n",
              "      <td>0140104429</td>\n",
              "      <td>COSTCO co</td>\n",
              "      <td>2019-09-30</td>\n",
              "      <td>2019.0</td>\n",
              "      <td>2.960581e+09</td>\n",
              "      <td>2019-09-16</td>\n",
              "      <td>2019-09-26</td>\n",
              "      <td>2019-09-16</td>\n",
              "      <td>CA10</td>\n",
              "      <td>30507.512</td>\n",
              "      <td>4 days</td>\n",
              "    </tr>\n",
              "    <tr>\n",
              "      <th>48832</th>\n",
              "      <td>CA02</td>\n",
              "      <td>0140104340</td>\n",
              "      <td>COLABOR</td>\n",
              "      <td>2019-12-19</td>\n",
              "      <td>2019.0</td>\n",
              "      <td>2.960598e+09</td>\n",
              "      <td>2019-12-04</td>\n",
              "      <td>2019-12-16</td>\n",
              "      <td>2019-12-06</td>\n",
              "      <td>CA10</td>\n",
              "      <td>117054.672</td>\n",
              "      <td>3 days</td>\n",
              "    </tr>\n",
              "    <tr>\n",
              "      <th>48835</th>\n",
              "      <td>CA02</td>\n",
              "      <td>0140105508</td>\n",
              "      <td>DOLLARA systems</td>\n",
              "      <td>2019-02-28</td>\n",
              "      <td>2019.0</td>\n",
              "      <td>2.960529e+09</td>\n",
              "      <td>2019-02-15</td>\n",
              "      <td>2019-02-26</td>\n",
              "      <td>2019-02-16</td>\n",
              "      <td>CA10</td>\n",
              "      <td>32687.550</td>\n",
              "      <td>2 days</td>\n",
              "    </tr>\n",
              "    <tr>\n",
              "      <th>48836</th>\n",
              "      <td>CA02</td>\n",
              "      <td>0140104440</td>\n",
              "      <td>SO foundation</td>\n",
              "      <td>2019-02-06</td>\n",
              "      <td>2019.0</td>\n",
              "      <td>2.960523e+09</td>\n",
              "      <td>2019-01-21</td>\n",
              "      <td>2019-02-02</td>\n",
              "      <td>2019-01-23</td>\n",
              "      <td>CA10</td>\n",
              "      <td>4009.110</td>\n",
              "      <td>4 days</td>\n",
              "    </tr>\n",
              "    <tr>\n",
              "      <th>48838</th>\n",
              "      <td>CA02</td>\n",
              "      <td>0140106408</td>\n",
              "      <td>WAL-M</td>\n",
              "      <td>2020-02-21</td>\n",
              "      <td>2020.0</td>\n",
              "      <td>2.960611e+09</td>\n",
              "      <td>2020-01-28</td>\n",
              "      <td>2020-02-08</td>\n",
              "      <td>2020-01-29</td>\n",
              "      <td>CA10</td>\n",
              "      <td>757.883</td>\n",
              "      <td>13 days</td>\n",
              "    </tr>\n",
              "  </tbody>\n",
              "</table>\n",
              "<p>39158 rows × 12 columns</p>\n",
              "</div>\n",
              "      <button class=\"colab-df-convert\" onclick=\"convertToInteractive('df-acc6210e-2e3a-42e2-98e9-fdcc14a74f70')\"\n",
              "              title=\"Convert this dataframe to an interactive table.\"\n",
              "              style=\"display:none;\">\n",
              "        \n",
              "  <svg xmlns=\"http://www.w3.org/2000/svg\" height=\"24px\"viewBox=\"0 0 24 24\"\n",
              "       width=\"24px\">\n",
              "    <path d=\"M0 0h24v24H0V0z\" fill=\"none\"/>\n",
              "    <path d=\"M18.56 5.44l.94 2.06.94-2.06 2.06-.94-2.06-.94-.94-2.06-.94 2.06-2.06.94zm-11 1L8.5 8.5l.94-2.06 2.06-.94-2.06-.94L8.5 2.5l-.94 2.06-2.06.94zm10 10l.94 2.06.94-2.06 2.06-.94-2.06-.94-.94-2.06-.94 2.06-2.06.94z\"/><path d=\"M17.41 7.96l-1.37-1.37c-.4-.4-.92-.59-1.43-.59-.52 0-1.04.2-1.43.59L10.3 9.45l-7.72 7.72c-.78.78-.78 2.05 0 2.83L4 21.41c.39.39.9.59 1.41.59.51 0 1.02-.2 1.41-.59l7.78-7.78 2.81-2.81c.8-.78.8-2.07 0-2.86zM5.41 20L4 18.59l7.72-7.72 1.47 1.35L5.41 20z\"/>\n",
              "  </svg>\n",
              "      </button>\n",
              "      \n",
              "  <style>\n",
              "    .colab-df-container {\n",
              "      display:flex;\n",
              "      flex-wrap:wrap;\n",
              "      gap: 12px;\n",
              "    }\n",
              "\n",
              "    .colab-df-convert {\n",
              "      background-color: #E8F0FE;\n",
              "      border: none;\n",
              "      border-radius: 50%;\n",
              "      cursor: pointer;\n",
              "      display: none;\n",
              "      fill: #1967D2;\n",
              "      height: 32px;\n",
              "      padding: 0 0 0 0;\n",
              "      width: 32px;\n",
              "    }\n",
              "\n",
              "    .colab-df-convert:hover {\n",
              "      background-color: #E2EBFA;\n",
              "      box-shadow: 0px 1px 2px rgba(60, 64, 67, 0.3), 0px 1px 3px 1px rgba(60, 64, 67, 0.15);\n",
              "      fill: #174EA6;\n",
              "    }\n",
              "\n",
              "    [theme=dark] .colab-df-convert {\n",
              "      background-color: #3B4455;\n",
              "      fill: #D2E3FC;\n",
              "    }\n",
              "\n",
              "    [theme=dark] .colab-df-convert:hover {\n",
              "      background-color: #434B5C;\n",
              "      box-shadow: 0px 1px 3px 1px rgba(0, 0, 0, 0.15);\n",
              "      filter: drop-shadow(0px 1px 2px rgba(0, 0, 0, 0.3));\n",
              "      fill: #FFFFFF;\n",
              "    }\n",
              "  </style>\n",
              "\n",
              "      <script>\n",
              "        const buttonEl =\n",
              "          document.querySelector('#df-acc6210e-2e3a-42e2-98e9-fdcc14a74f70 button.colab-df-convert');\n",
              "        buttonEl.style.display =\n",
              "          google.colab.kernel.accessAllowed ? 'block' : 'none';\n",
              "\n",
              "        async function convertToInteractive(key) {\n",
              "          const element = document.querySelector('#df-acc6210e-2e3a-42e2-98e9-fdcc14a74f70');\n",
              "          const dataTable =\n",
              "            await google.colab.kernel.invokeFunction('convertToInteractive',\n",
              "                                                     [key], {});\n",
              "          if (!dataTable) return;\n",
              "\n",
              "          const docLinkHtml = 'Like what you see? Visit the ' +\n",
              "            '<a target=\"_blank\" href=https://colab.research.google.com/notebooks/data_table.ipynb>data table notebook</a>'\n",
              "            + ' to learn more about interactive tables.';\n",
              "          element.innerHTML = '';\n",
              "          dataTable['output_type'] = 'display_data';\n",
              "          await google.colab.output.renderOutput(dataTable, element);\n",
              "          const docLink = document.createElement('div');\n",
              "          docLink.innerHTML = docLinkHtml;\n",
              "          element.appendChild(docLink);\n",
              "        }\n",
              "      </script>\n",
              "    </div>\n",
              "  </div>\n",
              "  "
            ]
          },
          "metadata": {},
          "execution_count": 48
        }
      ],
      "source": [
        "main_data"
      ],
      "id": "E_WVUTq6fKtI"
    },
    {
      "cell_type": "markdown",
      "metadata": {
        "id": "f482144e"
      },
      "source": [
        "### Generate a new column \"avgdelay\" from the existing columns\n",
        "\n",
        "- Note - You are expected to make a new column \"avgdelay\" by grouping \"name_customer\" column with reapect to mean of the \"Delay\" column.\n",
        "- This new column \"avg_delay\" is meant to store \"customer_name\" wise delay\n",
        "- groupby('name_customer')['Delay'].mean(numeric_only=False)\n",
        "- Display the new \"avg_delay\" column"
      ],
      "id": "f482144e"
    },
    {
      "cell_type": "code",
      "execution_count": null,
      "metadata": {
        "colab": {
          "base_uri": "https://localhost:8080/",
          "height": 461
        },
        "id": "d18d2f8d",
        "outputId": "bd021136-ee43-4b6a-a5a2-a6ca537a41eb"
      },
      "outputs": [
        {
          "output_type": "stream",
          "name": "stderr",
          "text": [
            "/usr/local/lib/python3.7/dist-packages/ipykernel_launcher.py:1: SettingWithCopyWarning: \n",
            "A value is trying to be set on a copy of a slice from a DataFrame.\n",
            "Try using .loc[row_indexer,col_indexer] = value instead\n",
            "\n",
            "See the caveats in the documentation: https://pandas.pydata.org/pandas-docs/stable/user_guide/indexing.html#returning-a-view-versus-a-copy\n",
            "  \"\"\"Entry point for launching an IPython kernel.\n"
          ]
        },
        {
          "output_type": "execute_result",
          "data": {
            "text/plain": [
              "  business_code cust_number       name_customer clear_date  buisness_year  \\\n",
              "0          U001  0200769623        WAL-MAR corp 2020-02-11         2020.0   \n",
              "1          U001  0200980828              BEN E  2019-08-08         2019.0   \n",
              "2          U001  0200792734          MDV/ trust 2019-12-30         2019.0   \n",
              "3          U001  0200769623  WAL-MAR foundation 2019-11-25         2019.0   \n",
              "4          U001  0200769623          WAL-MAR in 2019-11-12         2019.0   \n",
              "\n",
              "         doc_id posting_date due_in_date baseline_create_date  \\\n",
              "0  1.930438e+09   2020-01-26  2020-02-10           2020-01-26   \n",
              "1  1.929646e+09   2019-07-22  2019-08-11           2019-07-22   \n",
              "2  1.929874e+09   2019-09-14  2019-09-29           2019-09-14   \n",
              "3  1.930148e+09   2019-11-13  2019-11-28           2019-11-13   \n",
              "4  1.930083e+09   2019-11-01  2019-11-16           2019-11-01   \n",
              "\n",
              "  cust_payment_terms  converted_usd   delay                   avg_delay  \n",
              "0               NAH4       54273.28  1 days -3 days +07:08:49.779837776  \n",
              "1               NAD1       79656.60 -3 days            19 days 00:00:00  \n",
              "2               NAA8        2253.86 92 days   8 days 02:10:54.545454545  \n",
              "3               NAH4       33133.29 -3 days -3 days +19:33:27.692307693  \n",
              "4               NAH4        7358.49 -4 days -3 days +11:31:31.525423729  "
            ],
            "text/html": [
              "\n",
              "  <div id=\"df-43c3a3e1-8fb0-46d7-9468-48fdad56aeb3\">\n",
              "    <div class=\"colab-df-container\">\n",
              "      <div>\n",
              "<style scoped>\n",
              "    .dataframe tbody tr th:only-of-type {\n",
              "        vertical-align: middle;\n",
              "    }\n",
              "\n",
              "    .dataframe tbody tr th {\n",
              "        vertical-align: top;\n",
              "    }\n",
              "\n",
              "    .dataframe thead th {\n",
              "        text-align: right;\n",
              "    }\n",
              "</style>\n",
              "<table border=\"1\" class=\"dataframe\">\n",
              "  <thead>\n",
              "    <tr style=\"text-align: right;\">\n",
              "      <th></th>\n",
              "      <th>business_code</th>\n",
              "      <th>cust_number</th>\n",
              "      <th>name_customer</th>\n",
              "      <th>clear_date</th>\n",
              "      <th>buisness_year</th>\n",
              "      <th>doc_id</th>\n",
              "      <th>posting_date</th>\n",
              "      <th>due_in_date</th>\n",
              "      <th>baseline_create_date</th>\n",
              "      <th>cust_payment_terms</th>\n",
              "      <th>converted_usd</th>\n",
              "      <th>delay</th>\n",
              "      <th>avg_delay</th>\n",
              "    </tr>\n",
              "  </thead>\n",
              "  <tbody>\n",
              "    <tr>\n",
              "      <th>0</th>\n",
              "      <td>U001</td>\n",
              "      <td>0200769623</td>\n",
              "      <td>WAL-MAR corp</td>\n",
              "      <td>2020-02-11</td>\n",
              "      <td>2020.0</td>\n",
              "      <td>1.930438e+09</td>\n",
              "      <td>2020-01-26</td>\n",
              "      <td>2020-02-10</td>\n",
              "      <td>2020-01-26</td>\n",
              "      <td>NAH4</td>\n",
              "      <td>54273.28</td>\n",
              "      <td>1 days</td>\n",
              "      <td>-3 days +07:08:49.779837776</td>\n",
              "    </tr>\n",
              "    <tr>\n",
              "      <th>1</th>\n",
              "      <td>U001</td>\n",
              "      <td>0200980828</td>\n",
              "      <td>BEN E</td>\n",
              "      <td>2019-08-08</td>\n",
              "      <td>2019.0</td>\n",
              "      <td>1.929646e+09</td>\n",
              "      <td>2019-07-22</td>\n",
              "      <td>2019-08-11</td>\n",
              "      <td>2019-07-22</td>\n",
              "      <td>NAD1</td>\n",
              "      <td>79656.60</td>\n",
              "      <td>-3 days</td>\n",
              "      <td>19 days 00:00:00</td>\n",
              "    </tr>\n",
              "    <tr>\n",
              "      <th>2</th>\n",
              "      <td>U001</td>\n",
              "      <td>0200792734</td>\n",
              "      <td>MDV/ trust</td>\n",
              "      <td>2019-12-30</td>\n",
              "      <td>2019.0</td>\n",
              "      <td>1.929874e+09</td>\n",
              "      <td>2019-09-14</td>\n",
              "      <td>2019-09-29</td>\n",
              "      <td>2019-09-14</td>\n",
              "      <td>NAA8</td>\n",
              "      <td>2253.86</td>\n",
              "      <td>92 days</td>\n",
              "      <td>8 days 02:10:54.545454545</td>\n",
              "    </tr>\n",
              "    <tr>\n",
              "      <th>3</th>\n",
              "      <td>U001</td>\n",
              "      <td>0200769623</td>\n",
              "      <td>WAL-MAR foundation</td>\n",
              "      <td>2019-11-25</td>\n",
              "      <td>2019.0</td>\n",
              "      <td>1.930148e+09</td>\n",
              "      <td>2019-11-13</td>\n",
              "      <td>2019-11-28</td>\n",
              "      <td>2019-11-13</td>\n",
              "      <td>NAH4</td>\n",
              "      <td>33133.29</td>\n",
              "      <td>-3 days</td>\n",
              "      <td>-3 days +19:33:27.692307693</td>\n",
              "    </tr>\n",
              "    <tr>\n",
              "      <th>4</th>\n",
              "      <td>U001</td>\n",
              "      <td>0200769623</td>\n",
              "      <td>WAL-MAR in</td>\n",
              "      <td>2019-11-12</td>\n",
              "      <td>2019.0</td>\n",
              "      <td>1.930083e+09</td>\n",
              "      <td>2019-11-01</td>\n",
              "      <td>2019-11-16</td>\n",
              "      <td>2019-11-01</td>\n",
              "      <td>NAH4</td>\n",
              "      <td>7358.49</td>\n",
              "      <td>-4 days</td>\n",
              "      <td>-3 days +11:31:31.525423729</td>\n",
              "    </tr>\n",
              "  </tbody>\n",
              "</table>\n",
              "</div>\n",
              "      <button class=\"colab-df-convert\" onclick=\"convertToInteractive('df-43c3a3e1-8fb0-46d7-9468-48fdad56aeb3')\"\n",
              "              title=\"Convert this dataframe to an interactive table.\"\n",
              "              style=\"display:none;\">\n",
              "        \n",
              "  <svg xmlns=\"http://www.w3.org/2000/svg\" height=\"24px\"viewBox=\"0 0 24 24\"\n",
              "       width=\"24px\">\n",
              "    <path d=\"M0 0h24v24H0V0z\" fill=\"none\"/>\n",
              "    <path d=\"M18.56 5.44l.94 2.06.94-2.06 2.06-.94-2.06-.94-.94-2.06-.94 2.06-2.06.94zm-11 1L8.5 8.5l.94-2.06 2.06-.94-2.06-.94L8.5 2.5l-.94 2.06-2.06.94zm10 10l.94 2.06.94-2.06 2.06-.94-2.06-.94-.94-2.06-.94 2.06-2.06.94z\"/><path d=\"M17.41 7.96l-1.37-1.37c-.4-.4-.92-.59-1.43-.59-.52 0-1.04.2-1.43.59L10.3 9.45l-7.72 7.72c-.78.78-.78 2.05 0 2.83L4 21.41c.39.39.9.59 1.41.59.51 0 1.02-.2 1.41-.59l7.78-7.78 2.81-2.81c.8-.78.8-2.07 0-2.86zM5.41 20L4 18.59l7.72-7.72 1.47 1.35L5.41 20z\"/>\n",
              "  </svg>\n",
              "      </button>\n",
              "      \n",
              "  <style>\n",
              "    .colab-df-container {\n",
              "      display:flex;\n",
              "      flex-wrap:wrap;\n",
              "      gap: 12px;\n",
              "    }\n",
              "\n",
              "    .colab-df-convert {\n",
              "      background-color: #E8F0FE;\n",
              "      border: none;\n",
              "      border-radius: 50%;\n",
              "      cursor: pointer;\n",
              "      display: none;\n",
              "      fill: #1967D2;\n",
              "      height: 32px;\n",
              "      padding: 0 0 0 0;\n",
              "      width: 32px;\n",
              "    }\n",
              "\n",
              "    .colab-df-convert:hover {\n",
              "      background-color: #E2EBFA;\n",
              "      box-shadow: 0px 1px 2px rgba(60, 64, 67, 0.3), 0px 1px 3px 1px rgba(60, 64, 67, 0.15);\n",
              "      fill: #174EA6;\n",
              "    }\n",
              "\n",
              "    [theme=dark] .colab-df-convert {\n",
              "      background-color: #3B4455;\n",
              "      fill: #D2E3FC;\n",
              "    }\n",
              "\n",
              "    [theme=dark] .colab-df-convert:hover {\n",
              "      background-color: #434B5C;\n",
              "      box-shadow: 0px 1px 3px 1px rgba(0, 0, 0, 0.15);\n",
              "      filter: drop-shadow(0px 1px 2px rgba(0, 0, 0, 0.3));\n",
              "      fill: #FFFFFF;\n",
              "    }\n",
              "  </style>\n",
              "\n",
              "      <script>\n",
              "        const buttonEl =\n",
              "          document.querySelector('#df-43c3a3e1-8fb0-46d7-9468-48fdad56aeb3 button.colab-df-convert');\n",
              "        buttonEl.style.display =\n",
              "          google.colab.kernel.accessAllowed ? 'block' : 'none';\n",
              "\n",
              "        async function convertToInteractive(key) {\n",
              "          const element = document.querySelector('#df-43c3a3e1-8fb0-46d7-9468-48fdad56aeb3');\n",
              "          const dataTable =\n",
              "            await google.colab.kernel.invokeFunction('convertToInteractive',\n",
              "                                                     [key], {});\n",
              "          if (!dataTable) return;\n",
              "\n",
              "          const docLinkHtml = 'Like what you see? Visit the ' +\n",
              "            '<a target=\"_blank\" href=https://colab.research.google.com/notebooks/data_table.ipynb>data table notebook</a>'\n",
              "            + ' to learn more about interactive tables.';\n",
              "          element.innerHTML = '';\n",
              "          dataTable['output_type'] = 'display_data';\n",
              "          await google.colab.output.renderOutput(dataTable, element);\n",
              "          const docLink = document.createElement('div');\n",
              "          docLink.innerHTML = docLinkHtml;\n",
              "          element.appendChild(docLink);\n",
              "        }\n",
              "      </script>\n",
              "    </div>\n",
              "  </div>\n",
              "  "
            ]
          },
          "metadata": {},
          "execution_count": 49
        }
      ],
      "source": [
        "main_data['avg_delay']=main_data.groupby('name_customer')['delay'].transform('mean')\n",
        "main_data.head()"
      ],
      "id": "d18d2f8d"
    },
    {
      "cell_type": "markdown",
      "metadata": {
        "id": "64b995e8"
      },
      "source": [
        "You need to add the \"avg_delay\" column with the maindata, mapped with \"name_customer\" column\n",
        "\n",
        " - Note - You need to use map function to map the avgdelay with respect to \"name_customer\" column"
      ],
      "id": "64b995e8"
    },
    {
      "cell_type": "code",
      "execution_count": null,
      "metadata": {
        "colab": {
          "base_uri": "https://localhost:8080/",
          "height": 357
        },
        "id": "e1e1f3d9",
        "outputId": "f8df845f-d865-41f1-c6b7-14940dce6227"
      },
      "outputs": [
        {
          "output_type": "execute_result",
          "data": {
            "text/plain": [
              "      business_code cust_number         name_customer clear_date  \\\n",
              "12796          U013  0100017600             ZIYAD  us 2019-08-05   \n",
              "47916          CA02  0100034823              ZARCO co 2019-05-22   \n",
              "46773          CA02  0140106212          YEN BROS llc 2019-09-26   \n",
              "48281          CA02  0140106212  YEN BROS corporation 2019-11-29   \n",
              "45423          CA02  0140106212  YEN BROS corporation 2019-06-28   \n",
              "\n",
              "       buisness_year        doc_id posting_date due_in_date  \\\n",
              "12796         2019.0  1.991825e+09   2019-05-01  2019-07-30   \n",
              "47916         2019.0  2.960548e+09   2019-05-10  2019-05-23   \n",
              "46773         2019.0  2.960579e+09   2019-09-09  2019-09-28   \n",
              "48281         2019.0  2.960593e+09   2019-11-11  2019-11-30   \n",
              "45423         2019.0  2.960553e+09   2019-06-08  2019-06-28   \n",
              "\n",
              "      baseline_create_date cust_payment_terms  converted_usd   delay  \\\n",
              "12796           2019-05-01               NAUY     106067.500  6 days   \n",
              "47916           2019-05-13               CA10      22685.089 -1 days   \n",
              "46773           2019-09-18               CA10       2514.253 -2 days   \n",
              "48281           2019-11-20               CA10      22521.604 -1 days   \n",
              "45423           2019-06-18               CA10      16549.400  0 days   \n",
              "\n",
              "              avg_delay  \n",
              "12796   6 days 00:00:00  \n",
              "47916 -1 days +00:00:00  \n",
              "46773 -2 days +00:00:00  \n",
              "48281 -1 days +12:00:00  \n",
              "45423 -1 days +12:00:00  "
            ],
            "text/html": [
              "\n",
              "  <div id=\"df-6cb6c2e6-8a04-40bd-9cad-a2640d3a1c30\">\n",
              "    <div class=\"colab-df-container\">\n",
              "      <div>\n",
              "<style scoped>\n",
              "    .dataframe tbody tr th:only-of-type {\n",
              "        vertical-align: middle;\n",
              "    }\n",
              "\n",
              "    .dataframe tbody tr th {\n",
              "        vertical-align: top;\n",
              "    }\n",
              "\n",
              "    .dataframe thead th {\n",
              "        text-align: right;\n",
              "    }\n",
              "</style>\n",
              "<table border=\"1\" class=\"dataframe\">\n",
              "  <thead>\n",
              "    <tr style=\"text-align: right;\">\n",
              "      <th></th>\n",
              "      <th>business_code</th>\n",
              "      <th>cust_number</th>\n",
              "      <th>name_customer</th>\n",
              "      <th>clear_date</th>\n",
              "      <th>buisness_year</th>\n",
              "      <th>doc_id</th>\n",
              "      <th>posting_date</th>\n",
              "      <th>due_in_date</th>\n",
              "      <th>baseline_create_date</th>\n",
              "      <th>cust_payment_terms</th>\n",
              "      <th>converted_usd</th>\n",
              "      <th>delay</th>\n",
              "      <th>avg_delay</th>\n",
              "    </tr>\n",
              "  </thead>\n",
              "  <tbody>\n",
              "    <tr>\n",
              "      <th>12796</th>\n",
              "      <td>U013</td>\n",
              "      <td>0100017600</td>\n",
              "      <td>ZIYAD  us</td>\n",
              "      <td>2019-08-05</td>\n",
              "      <td>2019.0</td>\n",
              "      <td>1.991825e+09</td>\n",
              "      <td>2019-05-01</td>\n",
              "      <td>2019-07-30</td>\n",
              "      <td>2019-05-01</td>\n",
              "      <td>NAUY</td>\n",
              "      <td>106067.500</td>\n",
              "      <td>6 days</td>\n",
              "      <td>6 days 00:00:00</td>\n",
              "    </tr>\n",
              "    <tr>\n",
              "      <th>47916</th>\n",
              "      <td>CA02</td>\n",
              "      <td>0100034823</td>\n",
              "      <td>ZARCO co</td>\n",
              "      <td>2019-05-22</td>\n",
              "      <td>2019.0</td>\n",
              "      <td>2.960548e+09</td>\n",
              "      <td>2019-05-10</td>\n",
              "      <td>2019-05-23</td>\n",
              "      <td>2019-05-13</td>\n",
              "      <td>CA10</td>\n",
              "      <td>22685.089</td>\n",
              "      <td>-1 days</td>\n",
              "      <td>-1 days +00:00:00</td>\n",
              "    </tr>\n",
              "    <tr>\n",
              "      <th>46773</th>\n",
              "      <td>CA02</td>\n",
              "      <td>0140106212</td>\n",
              "      <td>YEN BROS llc</td>\n",
              "      <td>2019-09-26</td>\n",
              "      <td>2019.0</td>\n",
              "      <td>2.960579e+09</td>\n",
              "      <td>2019-09-09</td>\n",
              "      <td>2019-09-28</td>\n",
              "      <td>2019-09-18</td>\n",
              "      <td>CA10</td>\n",
              "      <td>2514.253</td>\n",
              "      <td>-2 days</td>\n",
              "      <td>-2 days +00:00:00</td>\n",
              "    </tr>\n",
              "    <tr>\n",
              "      <th>48281</th>\n",
              "      <td>CA02</td>\n",
              "      <td>0140106212</td>\n",
              "      <td>YEN BROS corporation</td>\n",
              "      <td>2019-11-29</td>\n",
              "      <td>2019.0</td>\n",
              "      <td>2.960593e+09</td>\n",
              "      <td>2019-11-11</td>\n",
              "      <td>2019-11-30</td>\n",
              "      <td>2019-11-20</td>\n",
              "      <td>CA10</td>\n",
              "      <td>22521.604</td>\n",
              "      <td>-1 days</td>\n",
              "      <td>-1 days +12:00:00</td>\n",
              "    </tr>\n",
              "    <tr>\n",
              "      <th>45423</th>\n",
              "      <td>CA02</td>\n",
              "      <td>0140106212</td>\n",
              "      <td>YEN BROS corporation</td>\n",
              "      <td>2019-06-28</td>\n",
              "      <td>2019.0</td>\n",
              "      <td>2.960553e+09</td>\n",
              "      <td>2019-06-08</td>\n",
              "      <td>2019-06-28</td>\n",
              "      <td>2019-06-18</td>\n",
              "      <td>CA10</td>\n",
              "      <td>16549.400</td>\n",
              "      <td>0 days</td>\n",
              "      <td>-1 days +12:00:00</td>\n",
              "    </tr>\n",
              "  </tbody>\n",
              "</table>\n",
              "</div>\n",
              "      <button class=\"colab-df-convert\" onclick=\"convertToInteractive('df-6cb6c2e6-8a04-40bd-9cad-a2640d3a1c30')\"\n",
              "              title=\"Convert this dataframe to an interactive table.\"\n",
              "              style=\"display:none;\">\n",
              "        \n",
              "  <svg xmlns=\"http://www.w3.org/2000/svg\" height=\"24px\"viewBox=\"0 0 24 24\"\n",
              "       width=\"24px\">\n",
              "    <path d=\"M0 0h24v24H0V0z\" fill=\"none\"/>\n",
              "    <path d=\"M18.56 5.44l.94 2.06.94-2.06 2.06-.94-2.06-.94-.94-2.06-.94 2.06-2.06.94zm-11 1L8.5 8.5l.94-2.06 2.06-.94-2.06-.94L8.5 2.5l-.94 2.06-2.06.94zm10 10l.94 2.06.94-2.06 2.06-.94-2.06-.94-.94-2.06-.94 2.06-2.06.94z\"/><path d=\"M17.41 7.96l-1.37-1.37c-.4-.4-.92-.59-1.43-.59-.52 0-1.04.2-1.43.59L10.3 9.45l-7.72 7.72c-.78.78-.78 2.05 0 2.83L4 21.41c.39.39.9.59 1.41.59.51 0 1.02-.2 1.41-.59l7.78-7.78 2.81-2.81c.8-.78.8-2.07 0-2.86zM5.41 20L4 18.59l7.72-7.72 1.47 1.35L5.41 20z\"/>\n",
              "  </svg>\n",
              "      </button>\n",
              "      \n",
              "  <style>\n",
              "    .colab-df-container {\n",
              "      display:flex;\n",
              "      flex-wrap:wrap;\n",
              "      gap: 12px;\n",
              "    }\n",
              "\n",
              "    .colab-df-convert {\n",
              "      background-color: #E8F0FE;\n",
              "      border: none;\n",
              "      border-radius: 50%;\n",
              "      cursor: pointer;\n",
              "      display: none;\n",
              "      fill: #1967D2;\n",
              "      height: 32px;\n",
              "      padding: 0 0 0 0;\n",
              "      width: 32px;\n",
              "    }\n",
              "\n",
              "    .colab-df-convert:hover {\n",
              "      background-color: #E2EBFA;\n",
              "      box-shadow: 0px 1px 2px rgba(60, 64, 67, 0.3), 0px 1px 3px 1px rgba(60, 64, 67, 0.15);\n",
              "      fill: #174EA6;\n",
              "    }\n",
              "\n",
              "    [theme=dark] .colab-df-convert {\n",
              "      background-color: #3B4455;\n",
              "      fill: #D2E3FC;\n",
              "    }\n",
              "\n",
              "    [theme=dark] .colab-df-convert:hover {\n",
              "      background-color: #434B5C;\n",
              "      box-shadow: 0px 1px 3px 1px rgba(0, 0, 0, 0.15);\n",
              "      filter: drop-shadow(0px 1px 2px rgba(0, 0, 0, 0.3));\n",
              "      fill: #FFFFFF;\n",
              "    }\n",
              "  </style>\n",
              "\n",
              "      <script>\n",
              "        const buttonEl =\n",
              "          document.querySelector('#df-6cb6c2e6-8a04-40bd-9cad-a2640d3a1c30 button.colab-df-convert');\n",
              "        buttonEl.style.display =\n",
              "          google.colab.kernel.accessAllowed ? 'block' : 'none';\n",
              "\n",
              "        async function convertToInteractive(key) {\n",
              "          const element = document.querySelector('#df-6cb6c2e6-8a04-40bd-9cad-a2640d3a1c30');\n",
              "          const dataTable =\n",
              "            await google.colab.kernel.invokeFunction('convertToInteractive',\n",
              "                                                     [key], {});\n",
              "          if (!dataTable) return;\n",
              "\n",
              "          const docLinkHtml = 'Like what you see? Visit the ' +\n",
              "            '<a target=\"_blank\" href=https://colab.research.google.com/notebooks/data_table.ipynb>data table notebook</a>'\n",
              "            + ' to learn more about interactive tables.';\n",
              "          element.innerHTML = '';\n",
              "          dataTable['output_type'] = 'display_data';\n",
              "          await google.colab.output.renderOutput(dataTable, element);\n",
              "          const docLink = document.createElement('div');\n",
              "          docLink.innerHTML = docLinkHtml;\n",
              "          element.appendChild(docLink);\n",
              "        }\n",
              "      </script>\n",
              "    </div>\n",
              "  </div>\n",
              "  "
            ]
          },
          "metadata": {},
          "execution_count": 50
        }
      ],
      "source": [
        "\n",
        "main_data = main_data.sort_values(by='name_customer',ascending=False)\n",
        "main_data.head()"
      ],
      "id": "e1e1f3d9"
    },
    {
      "cell_type": "markdown",
      "metadata": {
        "id": "1d332525"
      },
      "source": [
        "### Observe that the \"avg_delay\" column is in days format. You need to change the format into seconds\n",
        "\n",
        "- Days_format :  17 days 00:00:00\n",
        "- Format in seconds : 1641600.0"
      ],
      "id": "1d332525"
    },
    {
      "cell_type": "code",
      "execution_count": null,
      "metadata": {
        "id": "d5f1041e"
      },
      "outputs": [],
      "source": [
        "main_data['avg_delay']=main_data['avg_delay'].dt.total_seconds()\n"
      ],
      "id": "d5f1041e"
    },
    {
      "cell_type": "code",
      "execution_count": null,
      "metadata": {
        "colab": {
          "base_uri": "https://localhost:8080/",
          "height": 661
        },
        "id": "2KgRWBgQW6Mz",
        "outputId": "8b059e78-33ca-4a78-9165-b5748906301e"
      },
      "outputs": [
        {
          "output_type": "execute_result",
          "data": {
            "text/plain": [
              "      business_code cust_number         name_customer clear_date  \\\n",
              "12796          U013  0100017600             ZIYAD  us 2019-08-05   \n",
              "47916          CA02  0100034823              ZARCO co 2019-05-22   \n",
              "46773          CA02  0140106212          YEN BROS llc 2019-09-26   \n",
              "48281          CA02  0140106212  YEN BROS corporation 2019-11-29   \n",
              "45423          CA02  0140106212  YEN BROS corporation 2019-06-28   \n",
              "...             ...         ...                   ...        ...   \n",
              "25730          U001  0100012638                99 CE  2020-02-24   \n",
              "45077          CA02  0100027281     236008 associates 2019-11-25   \n",
              "48478          CA02  0100034821             17135 llc 2020-02-20   \n",
              "45996          CA02  0100034821      17135 associates 2019-10-22   \n",
              "45408          CA02  0100054234              11078 us 2019-05-02   \n",
              "\n",
              "       buisness_year        doc_id posting_date due_in_date  \\\n",
              "12796         2019.0  1.991825e+09   2019-05-01  2019-07-30   \n",
              "47916         2019.0  2.960548e+09   2019-05-10  2019-05-23   \n",
              "46773         2019.0  2.960579e+09   2019-09-09  2019-09-28   \n",
              "48281         2019.0  2.960593e+09   2019-11-11  2019-11-30   \n",
              "45423         2019.0  2.960553e+09   2019-06-08  2019-06-28   \n",
              "...              ...           ...          ...         ...   \n",
              "25730         2020.0  1.930500e+09   2020-02-07  2020-02-22   \n",
              "45077         2019.0  2.960594e+09   2019-11-15  2019-11-28   \n",
              "48478         2020.0  2.960609e+09   2020-02-11  2020-02-23   \n",
              "45996         2019.0  2.960588e+09   2019-10-21  2019-11-01   \n",
              "45408         2019.0  2.960539e+09   2019-04-04  2019-04-15   \n",
              "\n",
              "      baseline_create_date cust_payment_terms  converted_usd    delay  \\\n",
              "12796           2019-05-01               NAUY     106067.500   6 days   \n",
              "47916           2019-05-13               CA10      22685.089  -1 days   \n",
              "46773           2019-09-18               CA10       2514.253  -2 days   \n",
              "48281           2019-11-20               CA10      22521.604  -1 days   \n",
              "45423           2019-06-18               CA10      16549.400   0 days   \n",
              "...                    ...                ...            ...      ...   \n",
              "25730           2020-02-07               NAA8      14029.460   2 days   \n",
              "45077           2019-11-18               CA10      25313.162  -3 days   \n",
              "48478           2020-02-13               CA10        789.600  -3 days   \n",
              "45996           2019-10-22               CA10      55802.600 -10 days   \n",
              "45408           2019-04-05               CA10       7180.950  17 days   \n",
              "\n",
              "       avg_delay  \n",
              "12796   518400.0  \n",
              "47916   -86400.0  \n",
              "46773  -172800.0  \n",
              "48281   -43200.0  \n",
              "45423   -43200.0  \n",
              "...          ...  \n",
              "25730   172800.0  \n",
              "45077  -259200.0  \n",
              "48478  -259200.0  \n",
              "45996  -864000.0  \n",
              "45408  1468800.0  \n",
              "\n",
              "[39158 rows x 13 columns]"
            ],
            "text/html": [
              "\n",
              "  <div id=\"df-7e6ac735-b037-4b4a-9156-e4bd4f32b6bb\">\n",
              "    <div class=\"colab-df-container\">\n",
              "      <div>\n",
              "<style scoped>\n",
              "    .dataframe tbody tr th:only-of-type {\n",
              "        vertical-align: middle;\n",
              "    }\n",
              "\n",
              "    .dataframe tbody tr th {\n",
              "        vertical-align: top;\n",
              "    }\n",
              "\n",
              "    .dataframe thead th {\n",
              "        text-align: right;\n",
              "    }\n",
              "</style>\n",
              "<table border=\"1\" class=\"dataframe\">\n",
              "  <thead>\n",
              "    <tr style=\"text-align: right;\">\n",
              "      <th></th>\n",
              "      <th>business_code</th>\n",
              "      <th>cust_number</th>\n",
              "      <th>name_customer</th>\n",
              "      <th>clear_date</th>\n",
              "      <th>buisness_year</th>\n",
              "      <th>doc_id</th>\n",
              "      <th>posting_date</th>\n",
              "      <th>due_in_date</th>\n",
              "      <th>baseline_create_date</th>\n",
              "      <th>cust_payment_terms</th>\n",
              "      <th>converted_usd</th>\n",
              "      <th>delay</th>\n",
              "      <th>avg_delay</th>\n",
              "    </tr>\n",
              "  </thead>\n",
              "  <tbody>\n",
              "    <tr>\n",
              "      <th>12796</th>\n",
              "      <td>U013</td>\n",
              "      <td>0100017600</td>\n",
              "      <td>ZIYAD  us</td>\n",
              "      <td>2019-08-05</td>\n",
              "      <td>2019.0</td>\n",
              "      <td>1.991825e+09</td>\n",
              "      <td>2019-05-01</td>\n",
              "      <td>2019-07-30</td>\n",
              "      <td>2019-05-01</td>\n",
              "      <td>NAUY</td>\n",
              "      <td>106067.500</td>\n",
              "      <td>6 days</td>\n",
              "      <td>518400.0</td>\n",
              "    </tr>\n",
              "    <tr>\n",
              "      <th>47916</th>\n",
              "      <td>CA02</td>\n",
              "      <td>0100034823</td>\n",
              "      <td>ZARCO co</td>\n",
              "      <td>2019-05-22</td>\n",
              "      <td>2019.0</td>\n",
              "      <td>2.960548e+09</td>\n",
              "      <td>2019-05-10</td>\n",
              "      <td>2019-05-23</td>\n",
              "      <td>2019-05-13</td>\n",
              "      <td>CA10</td>\n",
              "      <td>22685.089</td>\n",
              "      <td>-1 days</td>\n",
              "      <td>-86400.0</td>\n",
              "    </tr>\n",
              "    <tr>\n",
              "      <th>46773</th>\n",
              "      <td>CA02</td>\n",
              "      <td>0140106212</td>\n",
              "      <td>YEN BROS llc</td>\n",
              "      <td>2019-09-26</td>\n",
              "      <td>2019.0</td>\n",
              "      <td>2.960579e+09</td>\n",
              "      <td>2019-09-09</td>\n",
              "      <td>2019-09-28</td>\n",
              "      <td>2019-09-18</td>\n",
              "      <td>CA10</td>\n",
              "      <td>2514.253</td>\n",
              "      <td>-2 days</td>\n",
              "      <td>-172800.0</td>\n",
              "    </tr>\n",
              "    <tr>\n",
              "      <th>48281</th>\n",
              "      <td>CA02</td>\n",
              "      <td>0140106212</td>\n",
              "      <td>YEN BROS corporation</td>\n",
              "      <td>2019-11-29</td>\n",
              "      <td>2019.0</td>\n",
              "      <td>2.960593e+09</td>\n",
              "      <td>2019-11-11</td>\n",
              "      <td>2019-11-30</td>\n",
              "      <td>2019-11-20</td>\n",
              "      <td>CA10</td>\n",
              "      <td>22521.604</td>\n",
              "      <td>-1 days</td>\n",
              "      <td>-43200.0</td>\n",
              "    </tr>\n",
              "    <tr>\n",
              "      <th>45423</th>\n",
              "      <td>CA02</td>\n",
              "      <td>0140106212</td>\n",
              "      <td>YEN BROS corporation</td>\n",
              "      <td>2019-06-28</td>\n",
              "      <td>2019.0</td>\n",
              "      <td>2.960553e+09</td>\n",
              "      <td>2019-06-08</td>\n",
              "      <td>2019-06-28</td>\n",
              "      <td>2019-06-18</td>\n",
              "      <td>CA10</td>\n",
              "      <td>16549.400</td>\n",
              "      <td>0 days</td>\n",
              "      <td>-43200.0</td>\n",
              "    </tr>\n",
              "    <tr>\n",
              "      <th>...</th>\n",
              "      <td>...</td>\n",
              "      <td>...</td>\n",
              "      <td>...</td>\n",
              "      <td>...</td>\n",
              "      <td>...</td>\n",
              "      <td>...</td>\n",
              "      <td>...</td>\n",
              "      <td>...</td>\n",
              "      <td>...</td>\n",
              "      <td>...</td>\n",
              "      <td>...</td>\n",
              "      <td>...</td>\n",
              "      <td>...</td>\n",
              "    </tr>\n",
              "    <tr>\n",
              "      <th>25730</th>\n",
              "      <td>U001</td>\n",
              "      <td>0100012638</td>\n",
              "      <td>99 CE</td>\n",
              "      <td>2020-02-24</td>\n",
              "      <td>2020.0</td>\n",
              "      <td>1.930500e+09</td>\n",
              "      <td>2020-02-07</td>\n",
              "      <td>2020-02-22</td>\n",
              "      <td>2020-02-07</td>\n",
              "      <td>NAA8</td>\n",
              "      <td>14029.460</td>\n",
              "      <td>2 days</td>\n",
              "      <td>172800.0</td>\n",
              "    </tr>\n",
              "    <tr>\n",
              "      <th>45077</th>\n",
              "      <td>CA02</td>\n",
              "      <td>0100027281</td>\n",
              "      <td>236008 associates</td>\n",
              "      <td>2019-11-25</td>\n",
              "      <td>2019.0</td>\n",
              "      <td>2.960594e+09</td>\n",
              "      <td>2019-11-15</td>\n",
              "      <td>2019-11-28</td>\n",
              "      <td>2019-11-18</td>\n",
              "      <td>CA10</td>\n",
              "      <td>25313.162</td>\n",
              "      <td>-3 days</td>\n",
              "      <td>-259200.0</td>\n",
              "    </tr>\n",
              "    <tr>\n",
              "      <th>48478</th>\n",
              "      <td>CA02</td>\n",
              "      <td>0100034821</td>\n",
              "      <td>17135 llc</td>\n",
              "      <td>2020-02-20</td>\n",
              "      <td>2020.0</td>\n",
              "      <td>2.960609e+09</td>\n",
              "      <td>2020-02-11</td>\n",
              "      <td>2020-02-23</td>\n",
              "      <td>2020-02-13</td>\n",
              "      <td>CA10</td>\n",
              "      <td>789.600</td>\n",
              "      <td>-3 days</td>\n",
              "      <td>-259200.0</td>\n",
              "    </tr>\n",
              "    <tr>\n",
              "      <th>45996</th>\n",
              "      <td>CA02</td>\n",
              "      <td>0100034821</td>\n",
              "      <td>17135 associates</td>\n",
              "      <td>2019-10-22</td>\n",
              "      <td>2019.0</td>\n",
              "      <td>2.960588e+09</td>\n",
              "      <td>2019-10-21</td>\n",
              "      <td>2019-11-01</td>\n",
              "      <td>2019-10-22</td>\n",
              "      <td>CA10</td>\n",
              "      <td>55802.600</td>\n",
              "      <td>-10 days</td>\n",
              "      <td>-864000.0</td>\n",
              "    </tr>\n",
              "    <tr>\n",
              "      <th>45408</th>\n",
              "      <td>CA02</td>\n",
              "      <td>0100054234</td>\n",
              "      <td>11078 us</td>\n",
              "      <td>2019-05-02</td>\n",
              "      <td>2019.0</td>\n",
              "      <td>2.960539e+09</td>\n",
              "      <td>2019-04-04</td>\n",
              "      <td>2019-04-15</td>\n",
              "      <td>2019-04-05</td>\n",
              "      <td>CA10</td>\n",
              "      <td>7180.950</td>\n",
              "      <td>17 days</td>\n",
              "      <td>1468800.0</td>\n",
              "    </tr>\n",
              "  </tbody>\n",
              "</table>\n",
              "<p>39158 rows × 13 columns</p>\n",
              "</div>\n",
              "      <button class=\"colab-df-convert\" onclick=\"convertToInteractive('df-7e6ac735-b037-4b4a-9156-e4bd4f32b6bb')\"\n",
              "              title=\"Convert this dataframe to an interactive table.\"\n",
              "              style=\"display:none;\">\n",
              "        \n",
              "  <svg xmlns=\"http://www.w3.org/2000/svg\" height=\"24px\"viewBox=\"0 0 24 24\"\n",
              "       width=\"24px\">\n",
              "    <path d=\"M0 0h24v24H0V0z\" fill=\"none\"/>\n",
              "    <path d=\"M18.56 5.44l.94 2.06.94-2.06 2.06-.94-2.06-.94-.94-2.06-.94 2.06-2.06.94zm-11 1L8.5 8.5l.94-2.06 2.06-.94-2.06-.94L8.5 2.5l-.94 2.06-2.06.94zm10 10l.94 2.06.94-2.06 2.06-.94-2.06-.94-.94-2.06-.94 2.06-2.06.94z\"/><path d=\"M17.41 7.96l-1.37-1.37c-.4-.4-.92-.59-1.43-.59-.52 0-1.04.2-1.43.59L10.3 9.45l-7.72 7.72c-.78.78-.78 2.05 0 2.83L4 21.41c.39.39.9.59 1.41.59.51 0 1.02-.2 1.41-.59l7.78-7.78 2.81-2.81c.8-.78.8-2.07 0-2.86zM5.41 20L4 18.59l7.72-7.72 1.47 1.35L5.41 20z\"/>\n",
              "  </svg>\n",
              "      </button>\n",
              "      \n",
              "  <style>\n",
              "    .colab-df-container {\n",
              "      display:flex;\n",
              "      flex-wrap:wrap;\n",
              "      gap: 12px;\n",
              "    }\n",
              "\n",
              "    .colab-df-convert {\n",
              "      background-color: #E8F0FE;\n",
              "      border: none;\n",
              "      border-radius: 50%;\n",
              "      cursor: pointer;\n",
              "      display: none;\n",
              "      fill: #1967D2;\n",
              "      height: 32px;\n",
              "      padding: 0 0 0 0;\n",
              "      width: 32px;\n",
              "    }\n",
              "\n",
              "    .colab-df-convert:hover {\n",
              "      background-color: #E2EBFA;\n",
              "      box-shadow: 0px 1px 2px rgba(60, 64, 67, 0.3), 0px 1px 3px 1px rgba(60, 64, 67, 0.15);\n",
              "      fill: #174EA6;\n",
              "    }\n",
              "\n",
              "    [theme=dark] .colab-df-convert {\n",
              "      background-color: #3B4455;\n",
              "      fill: #D2E3FC;\n",
              "    }\n",
              "\n",
              "    [theme=dark] .colab-df-convert:hover {\n",
              "      background-color: #434B5C;\n",
              "      box-shadow: 0px 1px 3px 1px rgba(0, 0, 0, 0.15);\n",
              "      filter: drop-shadow(0px 1px 2px rgba(0, 0, 0, 0.3));\n",
              "      fill: #FFFFFF;\n",
              "    }\n",
              "  </style>\n",
              "\n",
              "      <script>\n",
              "        const buttonEl =\n",
              "          document.querySelector('#df-7e6ac735-b037-4b4a-9156-e4bd4f32b6bb button.colab-df-convert');\n",
              "        buttonEl.style.display =\n",
              "          google.colab.kernel.accessAllowed ? 'block' : 'none';\n",
              "\n",
              "        async function convertToInteractive(key) {\n",
              "          const element = document.querySelector('#df-7e6ac735-b037-4b4a-9156-e4bd4f32b6bb');\n",
              "          const dataTable =\n",
              "            await google.colab.kernel.invokeFunction('convertToInteractive',\n",
              "                                                     [key], {});\n",
              "          if (!dataTable) return;\n",
              "\n",
              "          const docLinkHtml = 'Like what you see? Visit the ' +\n",
              "            '<a target=\"_blank\" href=https://colab.research.google.com/notebooks/data_table.ipynb>data table notebook</a>'\n",
              "            + ' to learn more about interactive tables.';\n",
              "          element.innerHTML = '';\n",
              "          dataTable['output_type'] = 'display_data';\n",
              "          await google.colab.output.renderOutput(dataTable, element);\n",
              "          const docLink = document.createElement('div');\n",
              "          docLink.innerHTML = docLinkHtml;\n",
              "          element.appendChild(docLink);\n",
              "        }\n",
              "      </script>\n",
              "    </div>\n",
              "  </div>\n",
              "  "
            ]
          },
          "metadata": {},
          "execution_count": 52
        }
      ],
      "source": [
        "main_data"
      ],
      "id": "2KgRWBgQW6Mz"
    },
    {
      "cell_type": "markdown",
      "metadata": {
        "id": "OvgtHSsx_O-n"
      },
      "source": [
        "### Display the maindata dataframe "
      ],
      "id": "OvgtHSsx_O-n"
    },
    {
      "cell_type": "code",
      "execution_count": null,
      "metadata": {
        "colab": {
          "base_uri": "https://localhost:8080/",
          "height": 661
        },
        "id": "97ca9c45",
        "outputId": "5144fde7-8c23-4d99-dd04-9f898208ab87"
      },
      "outputs": [
        {
          "output_type": "execute_result",
          "data": {
            "text/plain": [
              "      business_code cust_number         name_customer clear_date  \\\n",
              "12796          U013  0100017600             ZIYAD  us 2019-08-05   \n",
              "47916          CA02  0100034823              ZARCO co 2019-05-22   \n",
              "46773          CA02  0140106212          YEN BROS llc 2019-09-26   \n",
              "48281          CA02  0140106212  YEN BROS corporation 2019-11-29   \n",
              "45423          CA02  0140106212  YEN BROS corporation 2019-06-28   \n",
              "...             ...         ...                   ...        ...   \n",
              "25730          U001  0100012638                99 CE  2020-02-24   \n",
              "45077          CA02  0100027281     236008 associates 2019-11-25   \n",
              "48478          CA02  0100034821             17135 llc 2020-02-20   \n",
              "45996          CA02  0100034821      17135 associates 2019-10-22   \n",
              "45408          CA02  0100054234              11078 us 2019-05-02   \n",
              "\n",
              "       buisness_year        doc_id posting_date due_in_date  \\\n",
              "12796         2019.0  1.991825e+09   2019-05-01  2019-07-30   \n",
              "47916         2019.0  2.960548e+09   2019-05-10  2019-05-23   \n",
              "46773         2019.0  2.960579e+09   2019-09-09  2019-09-28   \n",
              "48281         2019.0  2.960593e+09   2019-11-11  2019-11-30   \n",
              "45423         2019.0  2.960553e+09   2019-06-08  2019-06-28   \n",
              "...              ...           ...          ...         ...   \n",
              "25730         2020.0  1.930500e+09   2020-02-07  2020-02-22   \n",
              "45077         2019.0  2.960594e+09   2019-11-15  2019-11-28   \n",
              "48478         2020.0  2.960609e+09   2020-02-11  2020-02-23   \n",
              "45996         2019.0  2.960588e+09   2019-10-21  2019-11-01   \n",
              "45408         2019.0  2.960539e+09   2019-04-04  2019-04-15   \n",
              "\n",
              "      baseline_create_date cust_payment_terms  converted_usd    delay  \\\n",
              "12796           2019-05-01               NAUY     106067.500   6 days   \n",
              "47916           2019-05-13               CA10      22685.089  -1 days   \n",
              "46773           2019-09-18               CA10       2514.253  -2 days   \n",
              "48281           2019-11-20               CA10      22521.604  -1 days   \n",
              "45423           2019-06-18               CA10      16549.400   0 days   \n",
              "...                    ...                ...            ...      ...   \n",
              "25730           2020-02-07               NAA8      14029.460   2 days   \n",
              "45077           2019-11-18               CA10      25313.162  -3 days   \n",
              "48478           2020-02-13               CA10        789.600  -3 days   \n",
              "45996           2019-10-22               CA10      55802.600 -10 days   \n",
              "45408           2019-04-05               CA10       7180.950  17 days   \n",
              "\n",
              "       avg_delay  \n",
              "12796   518400.0  \n",
              "47916   -86400.0  \n",
              "46773  -172800.0  \n",
              "48281   -43200.0  \n",
              "45423   -43200.0  \n",
              "...          ...  \n",
              "25730   172800.0  \n",
              "45077  -259200.0  \n",
              "48478  -259200.0  \n",
              "45996  -864000.0  \n",
              "45408  1468800.0  \n",
              "\n",
              "[39158 rows x 13 columns]"
            ],
            "text/html": [
              "\n",
              "  <div id=\"df-265ce2de-627c-4948-b545-7d6f90c8d350\">\n",
              "    <div class=\"colab-df-container\">\n",
              "      <div>\n",
              "<style scoped>\n",
              "    .dataframe tbody tr th:only-of-type {\n",
              "        vertical-align: middle;\n",
              "    }\n",
              "\n",
              "    .dataframe tbody tr th {\n",
              "        vertical-align: top;\n",
              "    }\n",
              "\n",
              "    .dataframe thead th {\n",
              "        text-align: right;\n",
              "    }\n",
              "</style>\n",
              "<table border=\"1\" class=\"dataframe\">\n",
              "  <thead>\n",
              "    <tr style=\"text-align: right;\">\n",
              "      <th></th>\n",
              "      <th>business_code</th>\n",
              "      <th>cust_number</th>\n",
              "      <th>name_customer</th>\n",
              "      <th>clear_date</th>\n",
              "      <th>buisness_year</th>\n",
              "      <th>doc_id</th>\n",
              "      <th>posting_date</th>\n",
              "      <th>due_in_date</th>\n",
              "      <th>baseline_create_date</th>\n",
              "      <th>cust_payment_terms</th>\n",
              "      <th>converted_usd</th>\n",
              "      <th>delay</th>\n",
              "      <th>avg_delay</th>\n",
              "    </tr>\n",
              "  </thead>\n",
              "  <tbody>\n",
              "    <tr>\n",
              "      <th>12796</th>\n",
              "      <td>U013</td>\n",
              "      <td>0100017600</td>\n",
              "      <td>ZIYAD  us</td>\n",
              "      <td>2019-08-05</td>\n",
              "      <td>2019.0</td>\n",
              "      <td>1.991825e+09</td>\n",
              "      <td>2019-05-01</td>\n",
              "      <td>2019-07-30</td>\n",
              "      <td>2019-05-01</td>\n",
              "      <td>NAUY</td>\n",
              "      <td>106067.500</td>\n",
              "      <td>6 days</td>\n",
              "      <td>518400.0</td>\n",
              "    </tr>\n",
              "    <tr>\n",
              "      <th>47916</th>\n",
              "      <td>CA02</td>\n",
              "      <td>0100034823</td>\n",
              "      <td>ZARCO co</td>\n",
              "      <td>2019-05-22</td>\n",
              "      <td>2019.0</td>\n",
              "      <td>2.960548e+09</td>\n",
              "      <td>2019-05-10</td>\n",
              "      <td>2019-05-23</td>\n",
              "      <td>2019-05-13</td>\n",
              "      <td>CA10</td>\n",
              "      <td>22685.089</td>\n",
              "      <td>-1 days</td>\n",
              "      <td>-86400.0</td>\n",
              "    </tr>\n",
              "    <tr>\n",
              "      <th>46773</th>\n",
              "      <td>CA02</td>\n",
              "      <td>0140106212</td>\n",
              "      <td>YEN BROS llc</td>\n",
              "      <td>2019-09-26</td>\n",
              "      <td>2019.0</td>\n",
              "      <td>2.960579e+09</td>\n",
              "      <td>2019-09-09</td>\n",
              "      <td>2019-09-28</td>\n",
              "      <td>2019-09-18</td>\n",
              "      <td>CA10</td>\n",
              "      <td>2514.253</td>\n",
              "      <td>-2 days</td>\n",
              "      <td>-172800.0</td>\n",
              "    </tr>\n",
              "    <tr>\n",
              "      <th>48281</th>\n",
              "      <td>CA02</td>\n",
              "      <td>0140106212</td>\n",
              "      <td>YEN BROS corporation</td>\n",
              "      <td>2019-11-29</td>\n",
              "      <td>2019.0</td>\n",
              "      <td>2.960593e+09</td>\n",
              "      <td>2019-11-11</td>\n",
              "      <td>2019-11-30</td>\n",
              "      <td>2019-11-20</td>\n",
              "      <td>CA10</td>\n",
              "      <td>22521.604</td>\n",
              "      <td>-1 days</td>\n",
              "      <td>-43200.0</td>\n",
              "    </tr>\n",
              "    <tr>\n",
              "      <th>45423</th>\n",
              "      <td>CA02</td>\n",
              "      <td>0140106212</td>\n",
              "      <td>YEN BROS corporation</td>\n",
              "      <td>2019-06-28</td>\n",
              "      <td>2019.0</td>\n",
              "      <td>2.960553e+09</td>\n",
              "      <td>2019-06-08</td>\n",
              "      <td>2019-06-28</td>\n",
              "      <td>2019-06-18</td>\n",
              "      <td>CA10</td>\n",
              "      <td>16549.400</td>\n",
              "      <td>0 days</td>\n",
              "      <td>-43200.0</td>\n",
              "    </tr>\n",
              "    <tr>\n",
              "      <th>...</th>\n",
              "      <td>...</td>\n",
              "      <td>...</td>\n",
              "      <td>...</td>\n",
              "      <td>...</td>\n",
              "      <td>...</td>\n",
              "      <td>...</td>\n",
              "      <td>...</td>\n",
              "      <td>...</td>\n",
              "      <td>...</td>\n",
              "      <td>...</td>\n",
              "      <td>...</td>\n",
              "      <td>...</td>\n",
              "      <td>...</td>\n",
              "    </tr>\n",
              "    <tr>\n",
              "      <th>25730</th>\n",
              "      <td>U001</td>\n",
              "      <td>0100012638</td>\n",
              "      <td>99 CE</td>\n",
              "      <td>2020-02-24</td>\n",
              "      <td>2020.0</td>\n",
              "      <td>1.930500e+09</td>\n",
              "      <td>2020-02-07</td>\n",
              "      <td>2020-02-22</td>\n",
              "      <td>2020-02-07</td>\n",
              "      <td>NAA8</td>\n",
              "      <td>14029.460</td>\n",
              "      <td>2 days</td>\n",
              "      <td>172800.0</td>\n",
              "    </tr>\n",
              "    <tr>\n",
              "      <th>45077</th>\n",
              "      <td>CA02</td>\n",
              "      <td>0100027281</td>\n",
              "      <td>236008 associates</td>\n",
              "      <td>2019-11-25</td>\n",
              "      <td>2019.0</td>\n",
              "      <td>2.960594e+09</td>\n",
              "      <td>2019-11-15</td>\n",
              "      <td>2019-11-28</td>\n",
              "      <td>2019-11-18</td>\n",
              "      <td>CA10</td>\n",
              "      <td>25313.162</td>\n",
              "      <td>-3 days</td>\n",
              "      <td>-259200.0</td>\n",
              "    </tr>\n",
              "    <tr>\n",
              "      <th>48478</th>\n",
              "      <td>CA02</td>\n",
              "      <td>0100034821</td>\n",
              "      <td>17135 llc</td>\n",
              "      <td>2020-02-20</td>\n",
              "      <td>2020.0</td>\n",
              "      <td>2.960609e+09</td>\n",
              "      <td>2020-02-11</td>\n",
              "      <td>2020-02-23</td>\n",
              "      <td>2020-02-13</td>\n",
              "      <td>CA10</td>\n",
              "      <td>789.600</td>\n",
              "      <td>-3 days</td>\n",
              "      <td>-259200.0</td>\n",
              "    </tr>\n",
              "    <tr>\n",
              "      <th>45996</th>\n",
              "      <td>CA02</td>\n",
              "      <td>0100034821</td>\n",
              "      <td>17135 associates</td>\n",
              "      <td>2019-10-22</td>\n",
              "      <td>2019.0</td>\n",
              "      <td>2.960588e+09</td>\n",
              "      <td>2019-10-21</td>\n",
              "      <td>2019-11-01</td>\n",
              "      <td>2019-10-22</td>\n",
              "      <td>CA10</td>\n",
              "      <td>55802.600</td>\n",
              "      <td>-10 days</td>\n",
              "      <td>-864000.0</td>\n",
              "    </tr>\n",
              "    <tr>\n",
              "      <th>45408</th>\n",
              "      <td>CA02</td>\n",
              "      <td>0100054234</td>\n",
              "      <td>11078 us</td>\n",
              "      <td>2019-05-02</td>\n",
              "      <td>2019.0</td>\n",
              "      <td>2.960539e+09</td>\n",
              "      <td>2019-04-04</td>\n",
              "      <td>2019-04-15</td>\n",
              "      <td>2019-04-05</td>\n",
              "      <td>CA10</td>\n",
              "      <td>7180.950</td>\n",
              "      <td>17 days</td>\n",
              "      <td>1468800.0</td>\n",
              "    </tr>\n",
              "  </tbody>\n",
              "</table>\n",
              "<p>39158 rows × 13 columns</p>\n",
              "</div>\n",
              "      <button class=\"colab-df-convert\" onclick=\"convertToInteractive('df-265ce2de-627c-4948-b545-7d6f90c8d350')\"\n",
              "              title=\"Convert this dataframe to an interactive table.\"\n",
              "              style=\"display:none;\">\n",
              "        \n",
              "  <svg xmlns=\"http://www.w3.org/2000/svg\" height=\"24px\"viewBox=\"0 0 24 24\"\n",
              "       width=\"24px\">\n",
              "    <path d=\"M0 0h24v24H0V0z\" fill=\"none\"/>\n",
              "    <path d=\"M18.56 5.44l.94 2.06.94-2.06 2.06-.94-2.06-.94-.94-2.06-.94 2.06-2.06.94zm-11 1L8.5 8.5l.94-2.06 2.06-.94-2.06-.94L8.5 2.5l-.94 2.06-2.06.94zm10 10l.94 2.06.94-2.06 2.06-.94-2.06-.94-.94-2.06-.94 2.06-2.06.94z\"/><path d=\"M17.41 7.96l-1.37-1.37c-.4-.4-.92-.59-1.43-.59-.52 0-1.04.2-1.43.59L10.3 9.45l-7.72 7.72c-.78.78-.78 2.05 0 2.83L4 21.41c.39.39.9.59 1.41.59.51 0 1.02-.2 1.41-.59l7.78-7.78 2.81-2.81c.8-.78.8-2.07 0-2.86zM5.41 20L4 18.59l7.72-7.72 1.47 1.35L5.41 20z\"/>\n",
              "  </svg>\n",
              "      </button>\n",
              "      \n",
              "  <style>\n",
              "    .colab-df-container {\n",
              "      display:flex;\n",
              "      flex-wrap:wrap;\n",
              "      gap: 12px;\n",
              "    }\n",
              "\n",
              "    .colab-df-convert {\n",
              "      background-color: #E8F0FE;\n",
              "      border: none;\n",
              "      border-radius: 50%;\n",
              "      cursor: pointer;\n",
              "      display: none;\n",
              "      fill: #1967D2;\n",
              "      height: 32px;\n",
              "      padding: 0 0 0 0;\n",
              "      width: 32px;\n",
              "    }\n",
              "\n",
              "    .colab-df-convert:hover {\n",
              "      background-color: #E2EBFA;\n",
              "      box-shadow: 0px 1px 2px rgba(60, 64, 67, 0.3), 0px 1px 3px 1px rgba(60, 64, 67, 0.15);\n",
              "      fill: #174EA6;\n",
              "    }\n",
              "\n",
              "    [theme=dark] .colab-df-convert {\n",
              "      background-color: #3B4455;\n",
              "      fill: #D2E3FC;\n",
              "    }\n",
              "\n",
              "    [theme=dark] .colab-df-convert:hover {\n",
              "      background-color: #434B5C;\n",
              "      box-shadow: 0px 1px 3px 1px rgba(0, 0, 0, 0.15);\n",
              "      filter: drop-shadow(0px 1px 2px rgba(0, 0, 0, 0.3));\n",
              "      fill: #FFFFFF;\n",
              "    }\n",
              "  </style>\n",
              "\n",
              "      <script>\n",
              "        const buttonEl =\n",
              "          document.querySelector('#df-265ce2de-627c-4948-b545-7d6f90c8d350 button.colab-df-convert');\n",
              "        buttonEl.style.display =\n",
              "          google.colab.kernel.accessAllowed ? 'block' : 'none';\n",
              "\n",
              "        async function convertToInteractive(key) {\n",
              "          const element = document.querySelector('#df-265ce2de-627c-4948-b545-7d6f90c8d350');\n",
              "          const dataTable =\n",
              "            await google.colab.kernel.invokeFunction('convertToInteractive',\n",
              "                                                     [key], {});\n",
              "          if (!dataTable) return;\n",
              "\n",
              "          const docLinkHtml = 'Like what you see? Visit the ' +\n",
              "            '<a target=\"_blank\" href=https://colab.research.google.com/notebooks/data_table.ipynb>data table notebook</a>'\n",
              "            + ' to learn more about interactive tables.';\n",
              "          element.innerHTML = '';\n",
              "          dataTable['output_type'] = 'display_data';\n",
              "          await google.colab.output.renderOutput(dataTable, element);\n",
              "          const docLink = document.createElement('div');\n",
              "          docLink.innerHTML = docLinkHtml;\n",
              "          element.appendChild(docLink);\n",
              "        }\n",
              "      </script>\n",
              "    </div>\n",
              "  </div>\n",
              "  "
            ]
          },
          "metadata": {},
          "execution_count": 53
        }
      ],
      "source": [
        "main_data"
      ],
      "id": "97ca9c45"
    },
    {
      "cell_type": "markdown",
      "metadata": {
        "id": "ae24c7bb"
      },
      "source": [
        "### Since you have created the \"avg_delay\" column from \"Delay\" and \"clear_date\" column, there is no need of these two columns anymore \n",
        "\n",
        "- You are expected to drop \"Delay\" and \"clear_date\" columns from maindata dataframe "
      ],
      "id": "ae24c7bb"
    },
    {
      "cell_type": "code",
      "execution_count": null,
      "metadata": {
        "id": "78a61ab9"
      },
      "outputs": [],
      "source": [
        "main_data=main_data.drop(['delay','clear_date'],axis=1)"
      ],
      "id": "78a61ab9"
    },
    {
      "cell_type": "code",
      "execution_count": null,
      "metadata": {
        "colab": {
          "base_uri": "https://localhost:8080/",
          "height": 557
        },
        "id": "48ERr_-ym13w",
        "outputId": "c8522c39-d136-437a-e3a1-16d0619ac279"
      },
      "outputs": [
        {
          "output_type": "execute_result",
          "data": {
            "text/plain": [
              "      business_code cust_number         name_customer  buisness_year  \\\n",
              "12796          U013  0100017600             ZIYAD  us         2019.0   \n",
              "47916          CA02  0100034823              ZARCO co         2019.0   \n",
              "46773          CA02  0140106212          YEN BROS llc         2019.0   \n",
              "48281          CA02  0140106212  YEN BROS corporation         2019.0   \n",
              "45423          CA02  0140106212  YEN BROS corporation         2019.0   \n",
              "...             ...         ...                   ...            ...   \n",
              "25730          U001  0100012638                99 CE          2020.0   \n",
              "45077          CA02  0100027281     236008 associates         2019.0   \n",
              "48478          CA02  0100034821             17135 llc         2020.0   \n",
              "45996          CA02  0100034821      17135 associates         2019.0   \n",
              "45408          CA02  0100054234              11078 us         2019.0   \n",
              "\n",
              "             doc_id posting_date due_in_date baseline_create_date  \\\n",
              "12796  1.991825e+09   2019-05-01  2019-07-30           2019-05-01   \n",
              "47916  2.960548e+09   2019-05-10  2019-05-23           2019-05-13   \n",
              "46773  2.960579e+09   2019-09-09  2019-09-28           2019-09-18   \n",
              "48281  2.960593e+09   2019-11-11  2019-11-30           2019-11-20   \n",
              "45423  2.960553e+09   2019-06-08  2019-06-28           2019-06-18   \n",
              "...             ...          ...         ...                  ...   \n",
              "25730  1.930500e+09   2020-02-07  2020-02-22           2020-02-07   \n",
              "45077  2.960594e+09   2019-11-15  2019-11-28           2019-11-18   \n",
              "48478  2.960609e+09   2020-02-11  2020-02-23           2020-02-13   \n",
              "45996  2.960588e+09   2019-10-21  2019-11-01           2019-10-22   \n",
              "45408  2.960539e+09   2019-04-04  2019-04-15           2019-04-05   \n",
              "\n",
              "      cust_payment_terms  converted_usd  avg_delay  \n",
              "12796               NAUY     106067.500   518400.0  \n",
              "47916               CA10      22685.089   -86400.0  \n",
              "46773               CA10       2514.253  -172800.0  \n",
              "48281               CA10      22521.604   -43200.0  \n",
              "45423               CA10      16549.400   -43200.0  \n",
              "...                  ...            ...        ...  \n",
              "25730               NAA8      14029.460   172800.0  \n",
              "45077               CA10      25313.162  -259200.0  \n",
              "48478               CA10        789.600  -259200.0  \n",
              "45996               CA10      55802.600  -864000.0  \n",
              "45408               CA10       7180.950  1468800.0  \n",
              "\n",
              "[39158 rows x 11 columns]"
            ],
            "text/html": [
              "\n",
              "  <div id=\"df-429a1017-69d4-49f5-b4ea-9ba3c9c65840\">\n",
              "    <div class=\"colab-df-container\">\n",
              "      <div>\n",
              "<style scoped>\n",
              "    .dataframe tbody tr th:only-of-type {\n",
              "        vertical-align: middle;\n",
              "    }\n",
              "\n",
              "    .dataframe tbody tr th {\n",
              "        vertical-align: top;\n",
              "    }\n",
              "\n",
              "    .dataframe thead th {\n",
              "        text-align: right;\n",
              "    }\n",
              "</style>\n",
              "<table border=\"1\" class=\"dataframe\">\n",
              "  <thead>\n",
              "    <tr style=\"text-align: right;\">\n",
              "      <th></th>\n",
              "      <th>business_code</th>\n",
              "      <th>cust_number</th>\n",
              "      <th>name_customer</th>\n",
              "      <th>buisness_year</th>\n",
              "      <th>doc_id</th>\n",
              "      <th>posting_date</th>\n",
              "      <th>due_in_date</th>\n",
              "      <th>baseline_create_date</th>\n",
              "      <th>cust_payment_terms</th>\n",
              "      <th>converted_usd</th>\n",
              "      <th>avg_delay</th>\n",
              "    </tr>\n",
              "  </thead>\n",
              "  <tbody>\n",
              "    <tr>\n",
              "      <th>12796</th>\n",
              "      <td>U013</td>\n",
              "      <td>0100017600</td>\n",
              "      <td>ZIYAD  us</td>\n",
              "      <td>2019.0</td>\n",
              "      <td>1.991825e+09</td>\n",
              "      <td>2019-05-01</td>\n",
              "      <td>2019-07-30</td>\n",
              "      <td>2019-05-01</td>\n",
              "      <td>NAUY</td>\n",
              "      <td>106067.500</td>\n",
              "      <td>518400.0</td>\n",
              "    </tr>\n",
              "    <tr>\n",
              "      <th>47916</th>\n",
              "      <td>CA02</td>\n",
              "      <td>0100034823</td>\n",
              "      <td>ZARCO co</td>\n",
              "      <td>2019.0</td>\n",
              "      <td>2.960548e+09</td>\n",
              "      <td>2019-05-10</td>\n",
              "      <td>2019-05-23</td>\n",
              "      <td>2019-05-13</td>\n",
              "      <td>CA10</td>\n",
              "      <td>22685.089</td>\n",
              "      <td>-86400.0</td>\n",
              "    </tr>\n",
              "    <tr>\n",
              "      <th>46773</th>\n",
              "      <td>CA02</td>\n",
              "      <td>0140106212</td>\n",
              "      <td>YEN BROS llc</td>\n",
              "      <td>2019.0</td>\n",
              "      <td>2.960579e+09</td>\n",
              "      <td>2019-09-09</td>\n",
              "      <td>2019-09-28</td>\n",
              "      <td>2019-09-18</td>\n",
              "      <td>CA10</td>\n",
              "      <td>2514.253</td>\n",
              "      <td>-172800.0</td>\n",
              "    </tr>\n",
              "    <tr>\n",
              "      <th>48281</th>\n",
              "      <td>CA02</td>\n",
              "      <td>0140106212</td>\n",
              "      <td>YEN BROS corporation</td>\n",
              "      <td>2019.0</td>\n",
              "      <td>2.960593e+09</td>\n",
              "      <td>2019-11-11</td>\n",
              "      <td>2019-11-30</td>\n",
              "      <td>2019-11-20</td>\n",
              "      <td>CA10</td>\n",
              "      <td>22521.604</td>\n",
              "      <td>-43200.0</td>\n",
              "    </tr>\n",
              "    <tr>\n",
              "      <th>45423</th>\n",
              "      <td>CA02</td>\n",
              "      <td>0140106212</td>\n",
              "      <td>YEN BROS corporation</td>\n",
              "      <td>2019.0</td>\n",
              "      <td>2.960553e+09</td>\n",
              "      <td>2019-06-08</td>\n",
              "      <td>2019-06-28</td>\n",
              "      <td>2019-06-18</td>\n",
              "      <td>CA10</td>\n",
              "      <td>16549.400</td>\n",
              "      <td>-43200.0</td>\n",
              "    </tr>\n",
              "    <tr>\n",
              "      <th>...</th>\n",
              "      <td>...</td>\n",
              "      <td>...</td>\n",
              "      <td>...</td>\n",
              "      <td>...</td>\n",
              "      <td>...</td>\n",
              "      <td>...</td>\n",
              "      <td>...</td>\n",
              "      <td>...</td>\n",
              "      <td>...</td>\n",
              "      <td>...</td>\n",
              "      <td>...</td>\n",
              "    </tr>\n",
              "    <tr>\n",
              "      <th>25730</th>\n",
              "      <td>U001</td>\n",
              "      <td>0100012638</td>\n",
              "      <td>99 CE</td>\n",
              "      <td>2020.0</td>\n",
              "      <td>1.930500e+09</td>\n",
              "      <td>2020-02-07</td>\n",
              "      <td>2020-02-22</td>\n",
              "      <td>2020-02-07</td>\n",
              "      <td>NAA8</td>\n",
              "      <td>14029.460</td>\n",
              "      <td>172800.0</td>\n",
              "    </tr>\n",
              "    <tr>\n",
              "      <th>45077</th>\n",
              "      <td>CA02</td>\n",
              "      <td>0100027281</td>\n",
              "      <td>236008 associates</td>\n",
              "      <td>2019.0</td>\n",
              "      <td>2.960594e+09</td>\n",
              "      <td>2019-11-15</td>\n",
              "      <td>2019-11-28</td>\n",
              "      <td>2019-11-18</td>\n",
              "      <td>CA10</td>\n",
              "      <td>25313.162</td>\n",
              "      <td>-259200.0</td>\n",
              "    </tr>\n",
              "    <tr>\n",
              "      <th>48478</th>\n",
              "      <td>CA02</td>\n",
              "      <td>0100034821</td>\n",
              "      <td>17135 llc</td>\n",
              "      <td>2020.0</td>\n",
              "      <td>2.960609e+09</td>\n",
              "      <td>2020-02-11</td>\n",
              "      <td>2020-02-23</td>\n",
              "      <td>2020-02-13</td>\n",
              "      <td>CA10</td>\n",
              "      <td>789.600</td>\n",
              "      <td>-259200.0</td>\n",
              "    </tr>\n",
              "    <tr>\n",
              "      <th>45996</th>\n",
              "      <td>CA02</td>\n",
              "      <td>0100034821</td>\n",
              "      <td>17135 associates</td>\n",
              "      <td>2019.0</td>\n",
              "      <td>2.960588e+09</td>\n",
              "      <td>2019-10-21</td>\n",
              "      <td>2019-11-01</td>\n",
              "      <td>2019-10-22</td>\n",
              "      <td>CA10</td>\n",
              "      <td>55802.600</td>\n",
              "      <td>-864000.0</td>\n",
              "    </tr>\n",
              "    <tr>\n",
              "      <th>45408</th>\n",
              "      <td>CA02</td>\n",
              "      <td>0100054234</td>\n",
              "      <td>11078 us</td>\n",
              "      <td>2019.0</td>\n",
              "      <td>2.960539e+09</td>\n",
              "      <td>2019-04-04</td>\n",
              "      <td>2019-04-15</td>\n",
              "      <td>2019-04-05</td>\n",
              "      <td>CA10</td>\n",
              "      <td>7180.950</td>\n",
              "      <td>1468800.0</td>\n",
              "    </tr>\n",
              "  </tbody>\n",
              "</table>\n",
              "<p>39158 rows × 11 columns</p>\n",
              "</div>\n",
              "      <button class=\"colab-df-convert\" onclick=\"convertToInteractive('df-429a1017-69d4-49f5-b4ea-9ba3c9c65840')\"\n",
              "              title=\"Convert this dataframe to an interactive table.\"\n",
              "              style=\"display:none;\">\n",
              "        \n",
              "  <svg xmlns=\"http://www.w3.org/2000/svg\" height=\"24px\"viewBox=\"0 0 24 24\"\n",
              "       width=\"24px\">\n",
              "    <path d=\"M0 0h24v24H0V0z\" fill=\"none\"/>\n",
              "    <path d=\"M18.56 5.44l.94 2.06.94-2.06 2.06-.94-2.06-.94-.94-2.06-.94 2.06-2.06.94zm-11 1L8.5 8.5l.94-2.06 2.06-.94-2.06-.94L8.5 2.5l-.94 2.06-2.06.94zm10 10l.94 2.06.94-2.06 2.06-.94-2.06-.94-.94-2.06-.94 2.06-2.06.94z\"/><path d=\"M17.41 7.96l-1.37-1.37c-.4-.4-.92-.59-1.43-.59-.52 0-1.04.2-1.43.59L10.3 9.45l-7.72 7.72c-.78.78-.78 2.05 0 2.83L4 21.41c.39.39.9.59 1.41.59.51 0 1.02-.2 1.41-.59l7.78-7.78 2.81-2.81c.8-.78.8-2.07 0-2.86zM5.41 20L4 18.59l7.72-7.72 1.47 1.35L5.41 20z\"/>\n",
              "  </svg>\n",
              "      </button>\n",
              "      \n",
              "  <style>\n",
              "    .colab-df-container {\n",
              "      display:flex;\n",
              "      flex-wrap:wrap;\n",
              "      gap: 12px;\n",
              "    }\n",
              "\n",
              "    .colab-df-convert {\n",
              "      background-color: #E8F0FE;\n",
              "      border: none;\n",
              "      border-radius: 50%;\n",
              "      cursor: pointer;\n",
              "      display: none;\n",
              "      fill: #1967D2;\n",
              "      height: 32px;\n",
              "      padding: 0 0 0 0;\n",
              "      width: 32px;\n",
              "    }\n",
              "\n",
              "    .colab-df-convert:hover {\n",
              "      background-color: #E2EBFA;\n",
              "      box-shadow: 0px 1px 2px rgba(60, 64, 67, 0.3), 0px 1px 3px 1px rgba(60, 64, 67, 0.15);\n",
              "      fill: #174EA6;\n",
              "    }\n",
              "\n",
              "    [theme=dark] .colab-df-convert {\n",
              "      background-color: #3B4455;\n",
              "      fill: #D2E3FC;\n",
              "    }\n",
              "\n",
              "    [theme=dark] .colab-df-convert:hover {\n",
              "      background-color: #434B5C;\n",
              "      box-shadow: 0px 1px 3px 1px rgba(0, 0, 0, 0.15);\n",
              "      filter: drop-shadow(0px 1px 2px rgba(0, 0, 0, 0.3));\n",
              "      fill: #FFFFFF;\n",
              "    }\n",
              "  </style>\n",
              "\n",
              "      <script>\n",
              "        const buttonEl =\n",
              "          document.querySelector('#df-429a1017-69d4-49f5-b4ea-9ba3c9c65840 button.colab-df-convert');\n",
              "        buttonEl.style.display =\n",
              "          google.colab.kernel.accessAllowed ? 'block' : 'none';\n",
              "\n",
              "        async function convertToInteractive(key) {\n",
              "          const element = document.querySelector('#df-429a1017-69d4-49f5-b4ea-9ba3c9c65840');\n",
              "          const dataTable =\n",
              "            await google.colab.kernel.invokeFunction('convertToInteractive',\n",
              "                                                     [key], {});\n",
              "          if (!dataTable) return;\n",
              "\n",
              "          const docLinkHtml = 'Like what you see? Visit the ' +\n",
              "            '<a target=\"_blank\" href=https://colab.research.google.com/notebooks/data_table.ipynb>data table notebook</a>'\n",
              "            + ' to learn more about interactive tables.';\n",
              "          element.innerHTML = '';\n",
              "          dataTable['output_type'] = 'display_data';\n",
              "          await google.colab.output.renderOutput(dataTable, element);\n",
              "          const docLink = document.createElement('div');\n",
              "          docLink.innerHTML = docLinkHtml;\n",
              "          element.appendChild(docLink);\n",
              "        }\n",
              "      </script>\n",
              "    </div>\n",
              "  </div>\n",
              "  "
            ]
          },
          "metadata": {},
          "execution_count": 55
        }
      ],
      "source": [
        "main_data\n"
      ],
      "id": "48ERr_-ym13w"
    },
    {
      "cell_type": "markdown",
      "metadata": {
        "id": "ae724bfc"
      },
      "source": [
        "# Splitting of Train and the Test Data"
      ],
      "id": "ae724bfc"
    },
    {
      "cell_type": "markdown",
      "metadata": {
        "id": "cb6f0264"
      },
      "source": [
        "### You need to split the \"maindata\" columns into X and y dataframe\n",
        "\n",
        "- Note - y should have the target column i.e. \"avg_delay\" and the other column should be in X\n",
        "\n",
        "- X is going to hold the source fields and y will be going to hold the target fields"
      ],
      "id": "cb6f0264"
    },
    {
      "cell_type": "code",
      "execution_count": null,
      "metadata": {
        "id": "75ab29ab"
      },
      "outputs": [],
      "source": [
        "X=main_data.drop(['avg_delay'],axis=1)\n",
        "Y=main_data[['avg_delay']]"
      ],
      "id": "75ab29ab"
    },
    {
      "cell_type": "code",
      "execution_count": null,
      "metadata": {
        "colab": {
          "base_uri": "https://localhost:8080/"
        },
        "id": "6412c62b",
        "outputId": "61e90212-8e5f-4d3f-8784-4f95b230d4d2"
      },
      "outputs": [
        {
          "output_type": "stream",
          "name": "stdout",
          "text": [
            "(39158, 10)\n",
            "(39158, 1)\n"
          ]
        }
      ],
      "source": [
        "print(X.shape)\n",
        "print(Y.shape)"
      ],
      "id": "6412c62b"
    },
    {
      "cell_type": "markdown",
      "metadata": {
        "id": "1c2942bf"
      },
      "source": [
        "#### You are expected to split both the dataframes into train and test format in 60:40 ratio \n",
        "\n",
        "- Note - The expected output should be in \"X_train\", \"X_loc_test\", \"y_train\", \"y_loc_test\" format "
      ],
      "id": "1c2942bf"
    },
    {
      "cell_type": "code",
      "execution_count": null,
      "metadata": {
        "id": "d92160a5"
      },
      "outputs": [],
      "source": [
        "X_train,X_loc_test,Y_train,Y_loc_test = train_test_split(X,Y,test_size=0.4,random_state=42)"
      ],
      "id": "d92160a5"
    },
    {
      "cell_type": "markdown",
      "metadata": {
        "id": "p4OME62pDufR"
      },
      "source": [
        "### Please check for the number of rows and columns of all the new dataframes (all 4)"
      ],
      "id": "p4OME62pDufR"
    },
    {
      "cell_type": "code",
      "execution_count": null,
      "metadata": {
        "colab": {
          "base_uri": "https://localhost:8080/"
        },
        "id": "48328d0a",
        "outputId": "9e79d20d-9fa5-4dc2-8a1f-2131e24fe772"
      },
      "outputs": [
        {
          "output_type": "stream",
          "name": "stdout",
          "text": [
            "(23494, 10)\n",
            "(23494, 1)\n",
            "(15664, 10)\n",
            "(15664, 1)\n"
          ]
        }
      ],
      "source": [
        "print(X_train.shape)\n",
        "print(Y_train.shape)\n",
        "print(X_loc_test.shape)\n",
        "print(Y_loc_test.shape)"
      ],
      "id": "48328d0a"
    },
    {
      "cell_type": "markdown",
      "metadata": {
        "id": "4a68ed71"
      },
      "source": [
        "### Now you are expected to split the \"X_loc_test\" and \"y_loc_test\" dataset into \"Test\" and \"Validation\" (as the names given below) dataframe with 50:50 format \n",
        "\n",
        "- Note - The expected output should be in \"X_val\", \"X_test\", \"y_val\", \"y_test\" format"
      ],
      "id": "4a68ed71"
    },
    {
      "cell_type": "code",
      "execution_count": null,
      "metadata": {
        "id": "b56c62f2"
      },
      "outputs": [],
      "source": [
        "X_val,X_test,Y_val,Y_test=train_test_split(X_loc_test,Y_loc_test,test_size=0.5,random_state=42)"
      ],
      "id": "b56c62f2"
    },
    {
      "cell_type": "markdown",
      "metadata": {
        "id": "bJTSAskvERH1"
      },
      "source": [
        "### Please check for the number of rows and columns of all the 4 dataframes "
      ],
      "id": "bJTSAskvERH1"
    },
    {
      "cell_type": "code",
      "execution_count": null,
      "metadata": {
        "colab": {
          "base_uri": "https://localhost:8080/"
        },
        "id": "845d7564",
        "outputId": "2aa354b1-b7e5-4fc9-9736-447588681484"
      },
      "outputs": [
        {
          "output_type": "stream",
          "name": "stdout",
          "text": [
            "(7832, 10)\n",
            "(7832, 10)\n",
            "(7832, 1)\n",
            "(7832, 1)\n"
          ]
        }
      ],
      "source": [
        "print(X_val.shape)\n",
        "print(X_test.shape)\n",
        "print(Y_val.shape)\n",
        "print(Y_test.shape)"
      ],
      "id": "845d7564"
    },
    {
      "cell_type": "markdown",
      "metadata": {
        "id": "110fa872"
      },
      "source": [
        "# Exploratory Data Analysis (EDA) "
      ],
      "id": "110fa872"
    },
    {
      "cell_type": "markdown",
      "metadata": {
        "id": "ffc8fe0f"
      },
      "source": [
        "### Distribution Plot of the target variable (use the dataframe which contains the target field)\n",
        "\n",
        "- Note - You are expected to make a distribution plot for the target variable "
      ],
      "id": "ffc8fe0f"
    },
    {
      "cell_type": "code",
      "execution_count": null,
      "metadata": {
        "colab": {
          "base_uri": "https://localhost:8080/",
          "height": 361
        },
        "id": "ba2bf8ed",
        "outputId": "5a2e81d9-5db4-4f55-998f-ae312006d2b4"
      },
      "outputs": [
        {
          "output_type": "stream",
          "name": "stderr",
          "text": [
            "/usr/local/lib/python3.7/dist-packages/seaborn/distributions.py:2619: FutureWarning: `distplot` is a deprecated function and will be removed in a future version. Please adapt your code to use either `displot` (a figure-level function with similar flexibility) or `histplot` (an axes-level function for histograms).\n",
            "  warnings.warn(msg, FutureWarning)\n"
          ]
        },
        {
          "output_type": "execute_result",
          "data": {
            "text/plain": [
              "<matplotlib.axes._subplots.AxesSubplot at 0x7f45e7058ad0>"
            ]
          },
          "metadata": {},
          "execution_count": 62
        },
        {
          "output_type": "display_data",
          "data": {
            "text/plain": [
              "<Figure size 432x288 with 1 Axes>"
            ],
            "image/png": "[encoded data removed]"
          },
          "metadata": {
            "needs_background": "light"
          }
        }
      ],
      "source": [
        "sns.distplot(Y)"
      ],
      "id": "ba2bf8ed"
    },
    {
      "cell_type": "markdown",
      "metadata": {
        "id": "d0e323a3"
      },
      "source": [
        "### You are expected to group the X_train dataset on 'name_customer' column with 'doc_id' in the x_train set\n",
        "\n",
        "### Need to store the outcome into a new dataframe \n",
        "\n",
        "- Note code given for groupby statement- X_train.groupby(by=['name_customer'], as_index=False)['doc_id'].count()"
      ],
      "id": "d0e323a3"
    },
    {
      "cell_type": "code",
      "execution_count": null,
      "metadata": {
        "colab": {
          "base_uri": "https://localhost:8080/",
          "height": 424
        },
        "id": "f7acf0ee",
        "outputId": "b5759875-b184-4135-e7d6-41e36078dd63"
      },
      "outputs": [
        {
          "output_type": "execute_result",
          "data": {
            "text/plain": [
              "             name_customer  doc_id\n",
              "0                 11078 us       1\n",
              "1                17135 llc       1\n",
              "2        236008 associates       1\n",
              "3                   99 CE        1\n",
              "4         99 CE associates       1\n",
              "...                    ...     ...\n",
              "3103           YAEGER corp       1\n",
              "3104         YEN BROS corp       1\n",
              "3105  YEN BROS corporation       1\n",
              "3106          YEN BROS llc       1\n",
              "3107              ZARCO co       1\n",
              "\n",
              "[3108 rows x 2 columns]"
            ],
            "text/html": [
              "\n",
              "  <div id=\"df-68e4a9b4-3113-466f-b13e-e442400149b1\">\n",
              "    <div class=\"colab-df-container\">\n",
              "      <div>\n",
              "<style scoped>\n",
              "    .dataframe tbody tr th:only-of-type {\n",
              "        vertical-align: middle;\n",
              "    }\n",
              "\n",
              "    .dataframe tbody tr th {\n",
              "        vertical-align: top;\n",
              "    }\n",
              "\n",
              "    .dataframe thead th {\n",
              "        text-align: right;\n",
              "    }\n",
              "</style>\n",
              "<table border=\"1\" class=\"dataframe\">\n",
              "  <thead>\n",
              "    <tr style=\"text-align: right;\">\n",
              "      <th></th>\n",
              "      <th>name_customer</th>\n",
              "      <th>doc_id</th>\n",
              "    </tr>\n",
              "  </thead>\n",
              "  <tbody>\n",
              "    <tr>\n",
              "      <th>0</th>\n",
              "      <td>11078 us</td>\n",
              "      <td>1</td>\n",
              "    </tr>\n",
              "    <tr>\n",
              "      <th>1</th>\n",
              "      <td>17135 llc</td>\n",
              "      <td>1</td>\n",
              "    </tr>\n",
              "    <tr>\n",
              "      <th>2</th>\n",
              "      <td>236008 associates</td>\n",
              "      <td>1</td>\n",
              "    </tr>\n",
              "    <tr>\n",
              "      <th>3</th>\n",
              "      <td>99 CE</td>\n",
              "      <td>1</td>\n",
              "    </tr>\n",
              "    <tr>\n",
              "      <th>4</th>\n",
              "      <td>99 CE associates</td>\n",
              "      <td>1</td>\n",
              "    </tr>\n",
              "    <tr>\n",
              "      <th>...</th>\n",
              "      <td>...</td>\n",
              "      <td>...</td>\n",
              "    </tr>\n",
              "    <tr>\n",
              "      <th>3103</th>\n",
              "      <td>YAEGER corp</td>\n",
              "      <td>1</td>\n",
              "    </tr>\n",
              "    <tr>\n",
              "      <th>3104</th>\n",
              "      <td>YEN BROS corp</td>\n",
              "      <td>1</td>\n",
              "    </tr>\n",
              "    <tr>\n",
              "      <th>3105</th>\n",
              "      <td>YEN BROS corporation</td>\n",
              "      <td>1</td>\n",
              "    </tr>\n",
              "    <tr>\n",
              "      <th>3106</th>\n",
              "      <td>YEN BROS llc</td>\n",
              "      <td>1</td>\n",
              "    </tr>\n",
              "    <tr>\n",
              "      <th>3107</th>\n",
              "      <td>ZARCO co</td>\n",
              "      <td>1</td>\n",
              "    </tr>\n",
              "  </tbody>\n",
              "</table>\n",
              "<p>3108 rows × 2 columns</p>\n",
              "</div>\n",
              "      <button class=\"colab-df-convert\" onclick=\"convertToInteractive('df-68e4a9b4-3113-466f-b13e-e442400149b1')\"\n",
              "              title=\"Convert this dataframe to an interactive table.\"\n",
              "              style=\"display:none;\">\n",
              "        \n",
              "  <svg xmlns=\"http://www.w3.org/2000/svg\" height=\"24px\"viewBox=\"0 0 24 24\"\n",
              "       width=\"24px\">\n",
              "    <path d=\"M0 0h24v24H0V0z\" fill=\"none\"/>\n",
              "    <path d=\"M18.56 5.44l.94 2.06.94-2.06 2.06-.94-2.06-.94-.94-2.06-.94 2.06-2.06.94zm-11 1L8.5 8.5l.94-2.06 2.06-.94-2.06-.94L8.5 2.5l-.94 2.06-2.06.94zm10 10l.94 2.06.94-2.06 2.06-.94-2.06-.94-.94-2.06-.94 2.06-2.06.94z\"/><path d=\"M17.41 7.96l-1.37-1.37c-.4-.4-.92-.59-1.43-.59-.52 0-1.04.2-1.43.59L10.3 9.45l-7.72 7.72c-.78.78-.78 2.05 0 2.83L4 21.41c.39.39.9.59 1.41.59.51 0 1.02-.2 1.41-.59l7.78-7.78 2.81-2.81c.8-.78.8-2.07 0-2.86zM5.41 20L4 18.59l7.72-7.72 1.47 1.35L5.41 20z\"/>\n",
              "  </svg>\n",
              "      </button>\n",
              "      \n",
              "  <style>\n",
              "    .colab-df-container {\n",
              "      display:flex;\n",
              "      flex-wrap:wrap;\n",
              "      gap: 12px;\n",
              "    }\n",
              "\n",
              "    .colab-df-convert {\n",
              "      background-color: #E8F0FE;\n",
              "      border: none;\n",
              "      border-radius: 50%;\n",
              "      cursor: pointer;\n",
              "      display: none;\n",
              "      fill: #1967D2;\n",
              "      height: 32px;\n",
              "      padding: 0 0 0 0;\n",
              "      width: 32px;\n",
              "    }\n",
              "\n",
              "    .colab-df-convert:hover {\n",
              "      background-color: #E2EBFA;\n",
              "      box-shadow: 0px 1px 2px rgba(60, 64, 67, 0.3), 0px 1px 3px 1px rgba(60, 64, 67, 0.15);\n",
              "      fill: #174EA6;\n",
              "    }\n",
              "\n",
              "    [theme=dark] .colab-df-convert {\n",
              "      background-color: #3B4455;\n",
              "      fill: #D2E3FC;\n",
              "    }\n",
              "\n",
              "    [theme=dark] .colab-df-convert:hover {\n",
              "      background-color: #434B5C;\n",
              "      box-shadow: 0px 1px 3px 1px rgba(0, 0, 0, 0.15);\n",
              "      filter: drop-shadow(0px 1px 2px rgba(0, 0, 0, 0.3));\n",
              "      fill: #FFFFFF;\n",
              "    }\n",
              "  </style>\n",
              "\n",
              "      <script>\n",
              "        const buttonEl =\n",
              "          document.querySelector('#df-68e4a9b4-3113-466f-b13e-e442400149b1 button.colab-df-convert');\n",
              "        buttonEl.style.display =\n",
              "          google.colab.kernel.accessAllowed ? 'block' : 'none';\n",
              "\n",
              "        async function convertToInteractive(key) {\n",
              "          const element = document.querySelector('#df-68e4a9b4-3113-466f-b13e-e442400149b1');\n",
              "          const dataTable =\n",
              "            await google.colab.kernel.invokeFunction('convertToInteractive',\n",
              "                                                     [key], {});\n",
              "          if (!dataTable) return;\n",
              "\n",
              "          const docLinkHtml = 'Like what you see? Visit the ' +\n",
              "            '<a target=\"_blank\" href=https://colab.research.google.com/notebooks/data_table.ipynb>data table notebook</a>'\n",
              "            + ' to learn more about interactive tables.';\n",
              "          element.innerHTML = '';\n",
              "          dataTable['output_type'] = 'display_data';\n",
              "          await google.colab.output.renderOutput(dataTable, element);\n",
              "          const docLink = document.createElement('div');\n",
              "          docLink.innerHTML = docLinkHtml;\n",
              "          element.appendChild(docLink);\n",
              "        }\n",
              "      </script>\n",
              "    </div>\n",
              "  </div>\n",
              "  "
            ]
          },
          "metadata": {},
          "execution_count": 63
        }
      ],
      "source": [
        "df_new=X_train.groupby(by=['name_customer'], as_index=False)['doc_id'].count()\n",
        "df_new"
      ],
      "id": "f7acf0ee"
    },
    {
      "cell_type": "markdown",
      "metadata": {
        "id": "cA43bFffFt6i"
      },
      "source": [
        "### You can make another distribution plot of the \"doc_id\" column from x_train"
      ],
      "id": "cA43bFffFt6i"
    },
    {
      "cell_type": "code",
      "execution_count": null,
      "metadata": {
        "colab": {
          "base_uri": "https://localhost:8080/",
          "height": 363
        },
        "id": "9576bf33",
        "outputId": "24c3ad59-cf8e-4408-b147-3d6aaf964cfe"
      },
      "outputs": [
        {
          "output_type": "stream",
          "name": "stderr",
          "text": [
            "/usr/local/lib/python3.7/dist-packages/seaborn/distributions.py:2619: FutureWarning: `distplot` is a deprecated function and will be removed in a future version. Please adapt your code to use either `displot` (a figure-level function with similar flexibility) or `histplot` (an axes-level function for histograms).\n",
            "  warnings.warn(msg, FutureWarning)\n"
          ]
        },
        {
          "output_type": "execute_result",
          "data": {
            "text/plain": [
              "(0.0, 1e-12)"
            ]
          },
          "metadata": {},
          "execution_count": 64
        },
        {
          "output_type": "display_data",
          "data": {
            "text/plain": [
              "<Figure size 432x288 with 1 Axes>"
            ],
            "image/png": "[encoded data removed]"
          },
          "metadata": {
            "needs_background": "light"
          }
        }
      ],
      "source": [
        "sns.distplot(X_train['doc_id'])\n",
        "plt.ylim(0)\n"
      ],
      "id": "9576bf33"
    },
    {
      "cell_type": "markdown",
      "metadata": {
        "id": "fba2c44f"
      },
      "source": [
        "#### Create a Distribution plot only for business_year and a seperate distribution plot of \"business_year\" column along with the doc_id\" column\n"
      ],
      "id": "fba2c44f"
    },
    {
      "cell_type": "code",
      "execution_count": null,
      "metadata": {
        "colab": {
          "base_uri": "https://localhost:8080/",
          "height": 354
        },
        "id": "4fecec77",
        "outputId": "1be46921-318b-49fe-b8a0-70e8bb1d6077"
      },
      "outputs": [
        {
          "output_type": "stream",
          "name": "stderr",
          "text": [
            "/usr/local/lib/python3.7/dist-packages/seaborn/distributions.py:2619: FutureWarning: `distplot` is a deprecated function and will be removed in a future version. Please adapt your code to use either `displot` (a figure-level function with similar flexibility) or `kdeplot` (an axes-level function for kernel density plots).\n",
            "  warnings.warn(msg, FutureWarning)\n"
          ]
        },
        {
          "output_type": "execute_result",
          "data": {
            "text/plain": [
              "<matplotlib.axes._subplots.AxesSubplot at 0x7f45e4e8e510>"
            ]
          },
          "metadata": {},
          "execution_count": 65
        },
        {
          "output_type": "display_data",
          "data": {
            "text/plain": [
              "<Figure size 432x288 with 1 Axes>"
            ],
            "image/png": "[encoded data removed]"
          },
          "metadata": {
            "needs_background": "light"
          }
        }
      ],
      "source": [
        "sns.distplot(X_train['buisness_year'],hist=False)"
      ],
      "id": "4fecec77"
    },
    {
      "cell_type": "code",
      "execution_count": null,
      "metadata": {
        "colab": {
          "base_uri": "https://localhost:8080/",
          "height": 580
        },
        "id": "ugEFXUnFbvbX",
        "outputId": "6852ae96-1e7a-43fc-bcae-93f34482a234"
      },
      "outputs": [
        {
          "output_type": "stream",
          "name": "stdout",
          "text": [
            "              0\n",
            "0      1.963333\n",
            "1     -0.593952\n",
            "2      0.808978\n",
            "3     -0.832962\n",
            "4      1.209980\n",
            "...         ...\n",
            "23489  0.832298\n",
            "23490  0.013836\n",
            "23491 -1.960127\n",
            "23492 -0.137308\n",
            "23493 -0.305729\n",
            "\n",
            "[23494 rows x 1 columns]\n"
          ]
        },
        {
          "output_type": "stream",
          "name": "stderr",
          "text": [
            "/usr/local/lib/python3.7/dist-packages/seaborn/distributions.py:2619: FutureWarning: `distplot` is a deprecated function and will be removed in a future version. Please adapt your code to use either `displot` (a figure-level function with similar flexibility) or `histplot` (an axes-level function for histograms).\n",
            "  warnings.warn(msg, FutureWarning)\n"
          ]
        },
        {
          "output_type": "execute_result",
          "data": {
            "text/plain": [
              "<matplotlib.axes._subplots.AxesSubplot at 0x7f45e4e09c10>"
            ]
          },
          "metadata": {},
          "execution_count": 66
        },
        {
          "output_type": "display_data",
          "data": {
            "text/plain": [
              "<Figure size 432x288 with 1 Axes>"
            ],
            "image/png": "[encoded data removed]"
          },
          "metadata": {
            "needs_background": "light"
          }
        }
      ],
      "source": [
        "from sklearn.preprocessing import QuantileTransformer\n",
        "qt=QuantileTransformer(output_distribution='normal')\n",
        "no=qt.fit_transform(X_train[['doc_id']])\n",
        "dfk=pd.DataFrame(no)\n",
        "print(dfk)\n",
        "sns.distplot(dfk)"
      ],
      "id": "ugEFXUnFbvbX"
    },
    {
      "cell_type": "code",
      "execution_count": null,
      "metadata": {
        "colab": {
          "base_uri": "https://localhost:8080/",
          "height": 387
        },
        "id": "qr1jGhfOKjnw",
        "outputId": "5a5513d7-139d-4452-ddf1-c829389bb023"
      },
      "outputs": [
        {
          "output_type": "stream",
          "name": "stderr",
          "text": [
            "/usr/local/lib/python3.7/dist-packages/seaborn/distributions.py:2619: FutureWarning: `distplot` is a deprecated function and will be removed in a future version. Please adapt your code to use either `displot` (a figure-level function with similar flexibility) or `histplot` (an axes-level function for histograms).\n",
            "  warnings.warn(msg, FutureWarning)\n",
            "/usr/local/lib/python3.7/dist-packages/seaborn/distributions.py:2619: FutureWarning: `distplot` is a deprecated function and will be removed in a future version. Please adapt your code to use either `displot` (a figure-level function with similar flexibility) or `kdeplot` (an axes-level function for kernel density plots).\n",
            "  warnings.warn(msg, FutureWarning)\n"
          ]
        },
        {
          "output_type": "execute_result",
          "data": {
            "text/plain": [
              "(0.0, 0.4150593045209496)"
            ]
          },
          "metadata": {},
          "execution_count": 67
        },
        {
          "output_type": "display_data",
          "data": {
            "text/plain": [
              "<Figure size 432x288 with 1 Axes>"
            ],
            "image/png": "[encoded data removed]"
          },
          "metadata": {
            "needs_background": "light"
          }
        }
      ],
      "source": [
        "sns.distplot(X_train['doc_id'])\n",
        "sns.distplot(no,hist=False)\n",
        "plt.ylim(0)"
      ],
      "id": "qr1jGhfOKjnw"
    },
    {
      "cell_type": "markdown",
      "metadata": {
        "id": "968fbcc9"
      },
      "source": [
        "\n",
        "\n",
        "\n",
        "\n",
        "\n",
        "\n",
        "\n",
        "\n",
        "\n",
        "\n",
        "\n",
        "\n",
        "\n",
        "\n",
        "\n",
        "\n",
        "\n",
        "# Feature Engineering "
      ],
      "id": "968fbcc9"
    },
    {
      "cell_type": "markdown",
      "metadata": {
        "id": "jbh6CyGqH3XE"
      },
      "source": [
        "### Display and describe the X_train dataframe "
      ],
      "id": "jbh6CyGqH3XE"
    },
    {
      "cell_type": "code",
      "execution_count": null,
      "metadata": {
        "colab": {
          "base_uri": "https://localhost:8080/",
          "height": 300
        },
        "id": "e6bcf307",
        "outputId": "d4b443c4-4a6f-4071-d7f1-56b1d0738004"
      },
      "outputs": [
        {
          "output_type": "execute_result",
          "data": {
            "text/plain": [
              "       buisness_year        doc_id  converted_usd\n",
              "count   23494.000000  2.349400e+04   23494.000000\n",
              "mean     2019.130416  2.014921e+09   30792.216012\n",
              "std         0.336768  2.934335e+08   36704.495348\n",
              "min      2019.000000  1.928513e+09       5.680000\n",
              "25%      2019.000000  1.929183e+09    4474.850000\n",
              "50%      2019.000000  1.929733e+09   16925.600000\n",
              "75%      2019.000000  1.930208e+09   45385.350000\n",
              "max      2020.000000  9.500000e+09  668593.360000"
            ],
            "text/html": [
              "\n",
              "  <div id=\"df-2ae9ec7c-79fe-4615-9612-b03f427f33ea\">\n",
              "    <div class=\"colab-df-container\">\n",
              "      <div>\n",
              "<style scoped>\n",
              "    .dataframe tbody tr th:only-of-type {\n",
              "        vertical-align: middle;\n",
              "    }\n",
              "\n",
              "    .dataframe tbody tr th {\n",
              "        vertical-align: top;\n",
              "    }\n",
              "\n",
              "    .dataframe thead th {\n",
              "        text-align: right;\n",
              "    }\n",
              "</style>\n",
              "<table border=\"1\" class=\"dataframe\">\n",
              "  <thead>\n",
              "    <tr style=\"text-align: right;\">\n",
              "      <th></th>\n",
              "      <th>buisness_year</th>\n",
              "      <th>doc_id</th>\n",
              "      <th>converted_usd</th>\n",
              "    </tr>\n",
              "  </thead>\n",
              "  <tbody>\n",
              "    <tr>\n",
              "      <th>count</th>\n",
              "      <td>23494.000000</td>\n",
              "      <td>2.349400e+04</td>\n",
              "      <td>23494.000000</td>\n",
              "    </tr>\n",
              "    <tr>\n",
              "      <th>mean</th>\n",
              "      <td>2019.130416</td>\n",
              "      <td>2.014921e+09</td>\n",
              "      <td>30792.216012</td>\n",
              "    </tr>\n",
              "    <tr>\n",
              "      <th>std</th>\n",
              "      <td>0.336768</td>\n",
              "      <td>2.934335e+08</td>\n",
              "      <td>36704.495348</td>\n",
              "    </tr>\n",
              "    <tr>\n",
              "      <th>min</th>\n",
              "      <td>2019.000000</td>\n",
              "      <td>1.928513e+09</td>\n",
              "      <td>5.680000</td>\n",
              "    </tr>\n",
              "    <tr>\n",
              "      <th>25%</th>\n",
              "      <td>2019.000000</td>\n",
              "      <td>1.929183e+09</td>\n",
              "      <td>4474.850000</td>\n",
              "    </tr>\n",
              "    <tr>\n",
              "      <th>50%</th>\n",
              "      <td>2019.000000</td>\n",
              "      <td>1.929733e+09</td>\n",
              "      <td>16925.600000</td>\n",
              "    </tr>\n",
              "    <tr>\n",
              "      <th>75%</th>\n",
              "      <td>2019.000000</td>\n",
              "      <td>1.930208e+09</td>\n",
              "      <td>45385.350000</td>\n",
              "    </tr>\n",
              "    <tr>\n",
              "      <th>max</th>\n",
              "      <td>2020.000000</td>\n",
              "      <td>9.500000e+09</td>\n",
              "      <td>668593.360000</td>\n",
              "    </tr>\n",
              "  </tbody>\n",
              "</table>\n",
              "</div>\n",
              "      <button class=\"colab-df-convert\" onclick=\"convertToInteractive('df-2ae9ec7c-79fe-4615-9612-b03f427f33ea')\"\n",
              "              title=\"Convert this dataframe to an interactive table.\"\n",
              "              style=\"display:none;\">\n",
              "        \n",
              "  <svg xmlns=\"http://www.w3.org/2000/svg\" height=\"24px\"viewBox=\"0 0 24 24\"\n",
              "       width=\"24px\">\n",
              "    <path d=\"M0 0h24v24H0V0z\" fill=\"none\"/>\n",
              "    <path d=\"M18.56 5.44l.94 2.06.94-2.06 2.06-.94-2.06-.94-.94-2.06-.94 2.06-2.06.94zm-11 1L8.5 8.5l.94-2.06 2.06-.94-2.06-.94L8.5 2.5l-.94 2.06-2.06.94zm10 10l.94 2.06.94-2.06 2.06-.94-2.06-.94-.94-2.06-.94 2.06-2.06.94z\"/><path d=\"M17.41 7.96l-1.37-1.37c-.4-.4-.92-.59-1.43-.59-.52 0-1.04.2-1.43.59L10.3 9.45l-7.72 7.72c-.78.78-.78 2.05 0 2.83L4 21.41c.39.39.9.59 1.41.59.51 0 1.02-.2 1.41-.59l7.78-7.78 2.81-2.81c.8-.78.8-2.07 0-2.86zM5.41 20L4 18.59l7.72-7.72 1.47 1.35L5.41 20z\"/>\n",
              "  </svg>\n",
              "      </button>\n",
              "      \n",
              "  <style>\n",
              "    .colab-df-container {\n",
              "      display:flex;\n",
              "      flex-wrap:wrap;\n",
              "      gap: 12px;\n",
              "    }\n",
              "\n",
              "    .colab-df-convert {\n",
              "      background-color: #E8F0FE;\n",
              "      border: none;\n",
              "      border-radius: 50%;\n",
              "      cursor: pointer;\n",
              "      display: none;\n",
              "      fill: #1967D2;\n",
              "      height: 32px;\n",
              "      padding: 0 0 0 0;\n",
              "      width: 32px;\n",
              "    }\n",
              "\n",
              "    .colab-df-convert:hover {\n",
              "      background-color: #E2EBFA;\n",
              "      box-shadow: 0px 1px 2px rgba(60, 64, 67, 0.3), 0px 1px 3px 1px rgba(60, 64, 67, 0.15);\n",
              "      fill: #174EA6;\n",
              "    }\n",
              "\n",
              "    [theme=dark] .colab-df-convert {\n",
              "      background-color: #3B4455;\n",
              "      fill: #D2E3FC;\n",
              "    }\n",
              "\n",
              "    [theme=dark] .colab-df-convert:hover {\n",
              "      background-color: #434B5C;\n",
              "      box-shadow: 0px 1px 3px 1px rgba(0, 0, 0, 0.15);\n",
              "      filter: drop-shadow(0px 1px 2px rgba(0, 0, 0, 0.3));\n",
              "      fill: #FFFFFF;\n",
              "    }\n",
              "  </style>\n",
              "\n",
              "      <script>\n",
              "        const buttonEl =\n",
              "          document.querySelector('#df-2ae9ec7c-79fe-4615-9612-b03f427f33ea button.colab-df-convert');\n",
              "        buttonEl.style.display =\n",
              "          google.colab.kernel.accessAllowed ? 'block' : 'none';\n",
              "\n",
              "        async function convertToInteractive(key) {\n",
              "          const element = document.querySelector('#df-2ae9ec7c-79fe-4615-9612-b03f427f33ea');\n",
              "          const dataTable =\n",
              "            await google.colab.kernel.invokeFunction('convertToInteractive',\n",
              "                                                     [key], {});\n",
              "          if (!dataTable) return;\n",
              "\n",
              "          const docLinkHtml = 'Like what you see? Visit the ' +\n",
              "            '<a target=\"_blank\" href=https://colab.research.google.com/notebooks/data_table.ipynb>data table notebook</a>'\n",
              "            + ' to learn more about interactive tables.';\n",
              "          element.innerHTML = '';\n",
              "          dataTable['output_type'] = 'display_data';\n",
              "          await google.colab.output.renderOutput(dataTable, element);\n",
              "          const docLink = document.createElement('div');\n",
              "          docLink.innerHTML = docLinkHtml;\n",
              "          element.appendChild(docLink);\n",
              "        }\n",
              "      </script>\n",
              "    </div>\n",
              "  </div>\n",
              "  "
            ]
          },
          "metadata": {},
          "execution_count": 68
        }
      ],
      "source": [
        "X_train.describe()"
      ],
      "id": "e6bcf307"
    },
    {
      "cell_type": "code",
      "execution_count": null,
      "metadata": {
        "colab": {
          "base_uri": "https://localhost:8080/",
          "height": 522
        },
        "id": "08ccc819",
        "outputId": "9d4131b1-a910-4ae1-f349-8eecbd8d4755"
      },
      "outputs": [
        {
          "output_type": "execute_result",
          "data": {
            "text/plain": [
              "      business_code cust_number        name_customer  buisness_year  \\\n",
              "46191          CA02  0140104508     BULK  foundation         2019.0   \n",
              "32908          U001  0200148860             DOLLA in         2019.0   \n",
              "40723          U001  0200769623        WAL-MAR trust         2020.0   \n",
              "35653          U001  0200739006                AL us         2019.0   \n",
              "31477          U001  0200726979          BJ'S  trust         2020.0   \n",
              "...             ...         ...                  ...            ...   \n",
              "44240          U001  0200769623  WAL-MAR corporation         2020.0   \n",
              "13334          U001  0200778355               US  co         2019.0   \n",
              "20166          U001  0200418007                AM us         2019.0   \n",
              "18847          U001   200769623           WAL-MAR us         2019.0   \n",
              "29011          U001  0200707741       SMART &  trust         2019.0   \n",
              "\n",
              "             doc_id posting_date due_in_date baseline_create_date  \\\n",
              "46191  2.960584e+09   2019-10-02  2019-10-13           2019-10-03   \n",
              "32908  1.929246e+09   2019-05-04  2019-05-19           2019-05-04   \n",
              "40723  1.930341e+09   2020-01-03  2020-01-18           2020-01-03   \n",
              "35653  1.929064e+09   2019-04-04  2019-04-19           2019-04-04   \n",
              "31477  1.930542e+09   2020-02-19  2020-03-05           2020-02-19   \n",
              "...             ...          ...         ...                  ...   \n",
              "44240  1.930357e+09   2020-01-06  2020-01-21           2020-01-06   \n",
              "13334  1.929739e+09   2019-08-13  2019-08-28           2019-08-13   \n",
              "20166  1.928612e+09   2019-01-18  2019-02-02           2019-01-18   \n",
              "18847  1.929628e+09   2019-07-19  2019-08-03           2019-07-19   \n",
              "29011  1.929514e+09   2019-06-18  2019-07-03           2019-06-18   \n",
              "\n",
              "      cust_payment_terms  converted_usd  \n",
              "46191               CA10       5717.439  \n",
              "32908               NAA8      17088.000  \n",
              "40723               NAH4         32.360  \n",
              "35653               NAA8      19912.320  \n",
              "31477               NAA8        486.050  \n",
              "...                  ...            ...  \n",
              "44240               NAH4      64036.990  \n",
              "13334               NAA8      54466.440  \n",
              "20166               NAA8        847.520  \n",
              "18847               NAH4      52750.170  \n",
              "29011               NAA8      19521.750  \n",
              "\n",
              "[23494 rows x 10 columns]"
            ],
            "text/html": [
              "\n",
              "  <div id=\"df-25a300bf-a230-48e5-a04f-2d55d32aa5e0\">\n",
              "    <div class=\"colab-df-container\">\n",
              "      <div>\n",
              "<style scoped>\n",
              "    .dataframe tbody tr th:only-of-type {\n",
              "        vertical-align: middle;\n",
              "    }\n",
              "\n",
              "    .dataframe tbody tr th {\n",
              "        vertical-align: top;\n",
              "    }\n",
              "\n",
              "    .dataframe thead th {\n",
              "        text-align: right;\n",
              "    }\n",
              "</style>\n",
              "<table border=\"1\" class=\"dataframe\">\n",
              "  <thead>\n",
              "    <tr style=\"text-align: right;\">\n",
              "      <th></th>\n",
              "      <th>business_code</th>\n",
              "      <th>cust_number</th>\n",
              "      <th>name_customer</th>\n",
              "      <th>buisness_year</th>\n",
              "      <th>doc_id</th>\n",
              "      <th>posting_date</th>\n",
              "      <th>due_in_date</th>\n",
              "      <th>baseline_create_date</th>\n",
              "      <th>cust_payment_terms</th>\n",
              "      <th>converted_usd</th>\n",
              "    </tr>\n",
              "  </thead>\n",
              "  <tbody>\n",
              "    <tr>\n",
              "      <th>46191</th>\n",
              "      <td>CA02</td>\n",
              "      <td>0140104508</td>\n",
              "      <td>BULK  foundation</td>\n",
              "      <td>2019.0</td>\n",
              "      <td>2.960584e+09</td>\n",
              "      <td>2019-10-02</td>\n",
              "      <td>2019-10-13</td>\n",
              "      <td>2019-10-03</td>\n",
              "      <td>CA10</td>\n",
              "      <td>5717.439</td>\n",
              "    </tr>\n",
              "    <tr>\n",
              "      <th>32908</th>\n",
              "      <td>U001</td>\n",
              "      <td>0200148860</td>\n",
              "      <td>DOLLA in</td>\n",
              "      <td>2019.0</td>\n",
              "      <td>1.929246e+09</td>\n",
              "      <td>2019-05-04</td>\n",
              "      <td>2019-05-19</td>\n",
              "      <td>2019-05-04</td>\n",
              "      <td>NAA8</td>\n",
              "      <td>17088.000</td>\n",
              "    </tr>\n",
              "    <tr>\n",
              "      <th>40723</th>\n",
              "      <td>U001</td>\n",
              "      <td>0200769623</td>\n",
              "      <td>WAL-MAR trust</td>\n",
              "      <td>2020.0</td>\n",
              "      <td>1.930341e+09</td>\n",
              "      <td>2020-01-03</td>\n",
              "      <td>2020-01-18</td>\n",
              "      <td>2020-01-03</td>\n",
              "      <td>NAH4</td>\n",
              "      <td>32.360</td>\n",
              "    </tr>\n",
              "    <tr>\n",
              "      <th>35653</th>\n",
              "      <td>U001</td>\n",
              "      <td>0200739006</td>\n",
              "      <td>AL us</td>\n",
              "      <td>2019.0</td>\n",
              "      <td>1.929064e+09</td>\n",
              "      <td>2019-04-04</td>\n",
              "      <td>2019-04-19</td>\n",
              "      <td>2019-04-04</td>\n",
              "      <td>NAA8</td>\n",
              "      <td>19912.320</td>\n",
              "    </tr>\n",
              "    <tr>\n",
              "      <th>31477</th>\n",
              "      <td>U001</td>\n",
              "      <td>0200726979</td>\n",
              "      <td>BJ'S  trust</td>\n",
              "      <td>2020.0</td>\n",
              "      <td>1.930542e+09</td>\n",
              "      <td>2020-02-19</td>\n",
              "      <td>2020-03-05</td>\n",
              "      <td>2020-02-19</td>\n",
              "      <td>NAA8</td>\n",
              "      <td>486.050</td>\n",
              "    </tr>\n",
              "    <tr>\n",
              "      <th>...</th>\n",
              "      <td>...</td>\n",
              "      <td>...</td>\n",
              "      <td>...</td>\n",
              "      <td>...</td>\n",
              "      <td>...</td>\n",
              "      <td>...</td>\n",
              "      <td>...</td>\n",
              "      <td>...</td>\n",
              "      <td>...</td>\n",
              "      <td>...</td>\n",
              "    </tr>\n",
              "    <tr>\n",
              "      <th>44240</th>\n",
              "      <td>U001</td>\n",
              "      <td>0200769623</td>\n",
              "      <td>WAL-MAR corporation</td>\n",
              "      <td>2020.0</td>\n",
              "      <td>1.930357e+09</td>\n",
              "      <td>2020-01-06</td>\n",
              "      <td>2020-01-21</td>\n",
              "      <td>2020-01-06</td>\n",
              "      <td>NAH4</td>\n",
              "      <td>64036.990</td>\n",
              "    </tr>\n",
              "    <tr>\n",
              "      <th>13334</th>\n",
              "      <td>U001</td>\n",
              "      <td>0200778355</td>\n",
              "      <td>US  co</td>\n",
              "      <td>2019.0</td>\n",
              "      <td>1.929739e+09</td>\n",
              "      <td>2019-08-13</td>\n",
              "      <td>2019-08-28</td>\n",
              "      <td>2019-08-13</td>\n",
              "      <td>NAA8</td>\n",
              "      <td>54466.440</td>\n",
              "    </tr>\n",
              "    <tr>\n",
              "      <th>20166</th>\n",
              "      <td>U001</td>\n",
              "      <td>0200418007</td>\n",
              "      <td>AM us</td>\n",
              "      <td>2019.0</td>\n",
              "      <td>1.928612e+09</td>\n",
              "      <td>2019-01-18</td>\n",
              "      <td>2019-02-02</td>\n",
              "      <td>2019-01-18</td>\n",
              "      <td>NAA8</td>\n",
              "      <td>847.520</td>\n",
              "    </tr>\n",
              "    <tr>\n",
              "      <th>18847</th>\n",
              "      <td>U001</td>\n",
              "      <td>200769623</td>\n",
              "      <td>WAL-MAR us</td>\n",
              "      <td>2019.0</td>\n",
              "      <td>1.929628e+09</td>\n",
              "      <td>2019-07-19</td>\n",
              "      <td>2019-08-03</td>\n",
              "      <td>2019-07-19</td>\n",
              "      <td>NAH4</td>\n",
              "      <td>52750.170</td>\n",
              "    </tr>\n",
              "    <tr>\n",
              "      <th>29011</th>\n",
              "      <td>U001</td>\n",
              "      <td>0200707741</td>\n",
              "      <td>SMART &amp;  trust</td>\n",
              "      <td>2019.0</td>\n",
              "      <td>1.929514e+09</td>\n",
              "      <td>2019-06-18</td>\n",
              "      <td>2019-07-03</td>\n",
              "      <td>2019-06-18</td>\n",
              "      <td>NAA8</td>\n",
              "      <td>19521.750</td>\n",
              "    </tr>\n",
              "  </tbody>\n",
              "</table>\n",
              "<p>23494 rows × 10 columns</p>\n",
              "</div>\n",
              "      <button class=\"colab-df-convert\" onclick=\"convertToInteractive('df-25a300bf-a230-48e5-a04f-2d55d32aa5e0')\"\n",
              "              title=\"Convert this dataframe to an interactive table.\"\n",
              "              style=\"display:none;\">\n",
              "        \n",
              "  <svg xmlns=\"http://www.w3.org/2000/svg\" height=\"24px\"viewBox=\"0 0 24 24\"\n",
              "       width=\"24px\">\n",
              "    <path d=\"M0 0h24v24H0V0z\" fill=\"none\"/>\n",
              "    <path d=\"M18.56 5.44l.94 2.06.94-2.06 2.06-.94-2.06-.94-.94-2.06-.94 2.06-2.06.94zm-11 1L8.5 8.5l.94-2.06 2.06-.94-2.06-.94L8.5 2.5l-.94 2.06-2.06.94zm10 10l.94 2.06.94-2.06 2.06-.94-2.06-.94-.94-2.06-.94 2.06-2.06.94z\"/><path d=\"M17.41 7.96l-1.37-1.37c-.4-.4-.92-.59-1.43-.59-.52 0-1.04.2-1.43.59L10.3 9.45l-7.72 7.72c-.78.78-.78 2.05 0 2.83L4 21.41c.39.39.9.59 1.41.59.51 0 1.02-.2 1.41-.59l7.78-7.78 2.81-2.81c.8-.78.8-2.07 0-2.86zM5.41 20L4 18.59l7.72-7.72 1.47 1.35L5.41 20z\"/>\n",
              "  </svg>\n",
              "      </button>\n",
              "      \n",
              "  <style>\n",
              "    .colab-df-container {\n",
              "      display:flex;\n",
              "      flex-wrap:wrap;\n",
              "      gap: 12px;\n",
              "    }\n",
              "\n",
              "    .colab-df-convert {\n",
              "      background-color: #E8F0FE;\n",
              "      border: none;\n",
              "      border-radius: 50%;\n",
              "      cursor: pointer;\n",
              "      display: none;\n",
              "      fill: #1967D2;\n",
              "      height: 32px;\n",
              "      padding: 0 0 0 0;\n",
              "      width: 32px;\n",
              "    }\n",
              "\n",
              "    .colab-df-convert:hover {\n",
              "      background-color: #E2EBFA;\n",
              "      box-shadow: 0px 1px 2px rgba(60, 64, 67, 0.3), 0px 1px 3px 1px rgba(60, 64, 67, 0.15);\n",
              "      fill: #174EA6;\n",
              "    }\n",
              "\n",
              "    [theme=dark] .colab-df-convert {\n",
              "      background-color: #3B4455;\n",
              "      fill: #D2E3FC;\n",
              "    }\n",
              "\n",
              "    [theme=dark] .colab-df-convert:hover {\n",
              "      background-color: #434B5C;\n",
              "      box-shadow: 0px 1px 3px 1px rgba(0, 0, 0, 0.15);\n",
              "      filter: drop-shadow(0px 1px 2px rgba(0, 0, 0, 0.3));\n",
              "      fill: #FFFFFF;\n",
              "    }\n",
              "  </style>\n",
              "\n",
              "      <script>\n",
              "        const buttonEl =\n",
              "          document.querySelector('#df-25a300bf-a230-48e5-a04f-2d55d32aa5e0 button.colab-df-convert');\n",
              "        buttonEl.style.display =\n",
              "          google.colab.kernel.accessAllowed ? 'block' : 'none';\n",
              "\n",
              "        async function convertToInteractive(key) {\n",
              "          const element = document.querySelector('#df-25a300bf-a230-48e5-a04f-2d55d32aa5e0');\n",
              "          const dataTable =\n",
              "            await google.colab.kernel.invokeFunction('convertToInteractive',\n",
              "                                                     [key], {});\n",
              "          if (!dataTable) return;\n",
              "\n",
              "          const docLinkHtml = 'Like what you see? Visit the ' +\n",
              "            '<a target=\"_blank\" href=https://colab.research.google.com/notebooks/data_table.ipynb>data table notebook</a>'\n",
              "            + ' to learn more about interactive tables.';\n",
              "          element.innerHTML = '';\n",
              "          dataTable['output_type'] = 'display_data';\n",
              "          await google.colab.output.renderOutput(dataTable, element);\n",
              "          const docLink = document.createElement('div');\n",
              "          docLink.innerHTML = docLinkHtml;\n",
              "          element.appendChild(docLink);\n",
              "        }\n",
              "      </script>\n",
              "    </div>\n",
              "  </div>\n",
              "  "
            ]
          },
          "metadata": {},
          "execution_count": 69
        }
      ],
      "source": [
        "X_train"
      ],
      "id": "08ccc819"
    },
    {
      "cell_type": "markdown",
      "metadata": {
        "id": "abd7ac8b"
      },
      "source": [
        "#### The \"business_code\" column inside X_train, is a categorical column, so you need to perform Labelencoder on that particular column\n",
        "\n",
        "- Note - call the Label Encoder from sklearn library and use the fit() function on \"business_code\" column\n",
        "- Note - Please fill in the blanks (two) to complete this code"
      ],
      "id": "abd7ac8b"
    },
    {
      "cell_type": "code",
      "execution_count": null,
      "metadata": {
        "colab": {
          "base_uri": "https://localhost:8080/"
        },
        "id": "7c223545",
        "outputId": "dad9bf80-1cb5-49ef-bde9-cea46739bbc9"
      },
      "outputs": [
        {
          "output_type": "execute_result",
          "data": {
            "text/plain": [
              "LabelEncoder()"
            ]
          },
          "metadata": {},
          "execution_count": 70
        }
      ],
      "source": [
        "from sklearn.preprocessing import LabelEncoder\n",
        "business_coder = LabelEncoder()\n",
        "business_coder.fit(X_train['business_code'])"
      ],
      "id": "7c223545"
    },
    {
      "cell_type": "markdown",
      "metadata": {
        "id": "f86f7d9c"
      },
      "source": [
        "#### You are expected to store the value into a new column i.e. \"business_code_enc\"\n",
        "\n",
        "- Note - For Training set you are expected to use fit_trainsform()\n",
        "- Note - For Test set you are expected to use the trainsform()\n",
        "- Note - For Validation set you are expected to use the trainsform()\n",
        "\n",
        "\n",
        "- Partial code is provided, please fill in the blanks "
      ],
      "id": "f86f7d9c"
    },
    {
      "cell_type": "code",
      "execution_count": null,
      "metadata": {
        "id": "4269c307"
      },
      "outputs": [],
      "source": [
        "X_train['business_code_enc'] = business_coder.fit_transform(X_train['business_code'])"
      ],
      "id": "4269c307"
    },
    {
      "cell_type": "code",
      "execution_count": null,
      "metadata": {
        "id": "70a53712"
      },
      "outputs": [],
      "source": [
        "X_val['business_code_enc'] = business_coder.transform(X_val['business_code'])\n",
        "X_test['business_code_enc'] = business_coder.transform(X_test['business_code'])"
      ],
      "id": "70a53712"
    },
    {
      "cell_type": "markdown",
      "metadata": {
        "id": "gdNYxTkqNfmz"
      },
      "source": [
        "### Display \"business_code\" and \"business_code_enc\" together from X_train dataframe "
      ],
      "id": "gdNYxTkqNfmz"
    },
    {
      "cell_type": "code",
      "execution_count": null,
      "metadata": {
        "colab": {
          "base_uri": "https://localhost:8080/",
          "height": 424
        },
        "id": "1196a002",
        "outputId": "8f9086d6-091a-4e52-e9ac-36574d869962"
      },
      "outputs": [
        {
          "output_type": "execute_result",
          "data": {
            "text/plain": [
              "      business_code  business_code_enc\n",
              "46191          CA02                  0\n",
              "32908          U001                  1\n",
              "40723          U001                  1\n",
              "35653          U001                  1\n",
              "31477          U001                  1\n",
              "...             ...                ...\n",
              "44240          U001                  1\n",
              "13334          U001                  1\n",
              "20166          U001                  1\n",
              "18847          U001                  1\n",
              "29011          U001                  1\n",
              "\n",
              "[23494 rows x 2 columns]"
            ],
            "text/html": [
              "\n",
              "  <div id=\"df-225ce16c-a040-45ff-9504-72851ec679fd\">\n",
              "    <div class=\"colab-df-container\">\n",
              "      <div>\n",
              "<style scoped>\n",
              "    .dataframe tbody tr th:only-of-type {\n",
              "        vertical-align: middle;\n",
              "    }\n",
              "\n",
              "    .dataframe tbody tr th {\n",
              "        vertical-align: top;\n",
              "    }\n",
              "\n",
              "    .dataframe thead th {\n",
              "        text-align: right;\n",
              "    }\n",
              "</style>\n",
              "<table border=\"1\" class=\"dataframe\">\n",
              "  <thead>\n",
              "    <tr style=\"text-align: right;\">\n",
              "      <th></th>\n",
              "      <th>business_code</th>\n",
              "      <th>business_code_enc</th>\n",
              "    </tr>\n",
              "  </thead>\n",
              "  <tbody>\n",
              "    <tr>\n",
              "      <th>46191</th>\n",
              "      <td>CA02</td>\n",
              "      <td>0</td>\n",
              "    </tr>\n",
              "    <tr>\n",
              "      <th>32908</th>\n",
              "      <td>U001</td>\n",
              "      <td>1</td>\n",
              "    </tr>\n",
              "    <tr>\n",
              "      <th>40723</th>\n",
              "      <td>U001</td>\n",
              "      <td>1</td>\n",
              "    </tr>\n",
              "    <tr>\n",
              "      <th>35653</th>\n",
              "      <td>U001</td>\n",
              "      <td>1</td>\n",
              "    </tr>\n",
              "    <tr>\n",
              "      <th>31477</th>\n",
              "      <td>U001</td>\n",
              "      <td>1</td>\n",
              "    </tr>\n",
              "    <tr>\n",
              "      <th>...</th>\n",
              "      <td>...</td>\n",
              "      <td>...</td>\n",
              "    </tr>\n",
              "    <tr>\n",
              "      <th>44240</th>\n",
              "      <td>U001</td>\n",
              "      <td>1</td>\n",
              "    </tr>\n",
              "    <tr>\n",
              "      <th>13334</th>\n",
              "      <td>U001</td>\n",
              "      <td>1</td>\n",
              "    </tr>\n",
              "    <tr>\n",
              "      <th>20166</th>\n",
              "      <td>U001</td>\n",
              "      <td>1</td>\n",
              "    </tr>\n",
              "    <tr>\n",
              "      <th>18847</th>\n",
              "      <td>U001</td>\n",
              "      <td>1</td>\n",
              "    </tr>\n",
              "    <tr>\n",
              "      <th>29011</th>\n",
              "      <td>U001</td>\n",
              "      <td>1</td>\n",
              "    </tr>\n",
              "  </tbody>\n",
              "</table>\n",
              "<p>23494 rows × 2 columns</p>\n",
              "</div>\n",
              "      <button class=\"colab-df-convert\" onclick=\"convertToInteractive('df-225ce16c-a040-45ff-9504-72851ec679fd')\"\n",
              "              title=\"Convert this dataframe to an interactive table.\"\n",
              "              style=\"display:none;\">\n",
              "        \n",
              "  <svg xmlns=\"http://www.w3.org/2000/svg\" height=\"24px\"viewBox=\"0 0 24 24\"\n",
              "       width=\"24px\">\n",
              "    <path d=\"M0 0h24v24H0V0z\" fill=\"none\"/>\n",
              "    <path d=\"M18.56 5.44l.94 2.06.94-2.06 2.06-.94-2.06-.94-.94-2.06-.94 2.06-2.06.94zm-11 1L8.5 8.5l.94-2.06 2.06-.94-2.06-.94L8.5 2.5l-.94 2.06-2.06.94zm10 10l.94 2.06.94-2.06 2.06-.94-2.06-.94-.94-2.06-.94 2.06-2.06.94z\"/><path d=\"M17.41 7.96l-1.37-1.37c-.4-.4-.92-.59-1.43-.59-.52 0-1.04.2-1.43.59L10.3 9.45l-7.72 7.72c-.78.78-.78 2.05 0 2.83L4 21.41c.39.39.9.59 1.41.59.51 0 1.02-.2 1.41-.59l7.78-7.78 2.81-2.81c.8-.78.8-2.07 0-2.86zM5.41 20L4 18.59l7.72-7.72 1.47 1.35L5.41 20z\"/>\n",
              "  </svg>\n",
              "      </button>\n",
              "      \n",
              "  <style>\n",
              "    .colab-df-container {\n",
              "      display:flex;\n",
              "      flex-wrap:wrap;\n",
              "      gap: 12px;\n",
              "    }\n",
              "\n",
              "    .colab-df-convert {\n",
              "      background-color: #E8F0FE;\n",
              "      border: none;\n",
              "      border-radius: 50%;\n",
              "      cursor: pointer;\n",
              "      display: none;\n",
              "      fill: #1967D2;\n",
              "      height: 32px;\n",
              "      padding: 0 0 0 0;\n",
              "      width: 32px;\n",
              "    }\n",
              "\n",
              "    .colab-df-convert:hover {\n",
              "      background-color: #E2EBFA;\n",
              "      box-shadow: 0px 1px 2px rgba(60, 64, 67, 0.3), 0px 1px 3px 1px rgba(60, 64, 67, 0.15);\n",
              "      fill: #174EA6;\n",
              "    }\n",
              "\n",
              "    [theme=dark] .colab-df-convert {\n",
              "      background-color: #3B4455;\n",
              "      fill: #D2E3FC;\n",
              "    }\n",
              "\n",
              "    [theme=dark] .colab-df-convert:hover {\n",
              "      background-color: #434B5C;\n",
              "      box-shadow: 0px 1px 3px 1px rgba(0, 0, 0, 0.15);\n",
              "      filter: drop-shadow(0px 1px 2px rgba(0, 0, 0, 0.3));\n",
              "      fill: #FFFFFF;\n",
              "    }\n",
              "  </style>\n",
              "\n",
              "      <script>\n",
              "        const buttonEl =\n",
              "          document.querySelector('#df-225ce16c-a040-45ff-9504-72851ec679fd button.colab-df-convert');\n",
              "        buttonEl.style.display =\n",
              "          google.colab.kernel.accessAllowed ? 'block' : 'none';\n",
              "\n",
              "        async function convertToInteractive(key) {\n",
              "          const element = document.querySelector('#df-225ce16c-a040-45ff-9504-72851ec679fd');\n",
              "          const dataTable =\n",
              "            await google.colab.kernel.invokeFunction('convertToInteractive',\n",
              "                                                     [key], {});\n",
              "          if (!dataTable) return;\n",
              "\n",
              "          const docLinkHtml = 'Like what you see? Visit the ' +\n",
              "            '<a target=\"_blank\" href=https://colab.research.google.com/notebooks/data_table.ipynb>data table notebook</a>'\n",
              "            + ' to learn more about interactive tables.';\n",
              "          element.innerHTML = '';\n",
              "          dataTable['output_type'] = 'display_data';\n",
              "          await google.colab.output.renderOutput(dataTable, element);\n",
              "          const docLink = document.createElement('div');\n",
              "          docLink.innerHTML = docLinkHtml;\n",
              "          element.appendChild(docLink);\n",
              "        }\n",
              "      </script>\n",
              "    </div>\n",
              "  </div>\n",
              "  "
            ]
          },
          "metadata": {},
          "execution_count": 73
        }
      ],
      "source": [
        "X_train[['business_code','business_code_enc']]"
      ],
      "id": "1196a002"
    },
    {
      "cell_type": "markdown",
      "metadata": {
        "id": "11477224"
      },
      "source": [
        "#### Create a function called \"custom\" for dropping the columns 'business_code' from train, test and validation dataframe\n",
        "\n",
        "- Note - Fill in the blank to complete the code"
      ],
      "id": "11477224"
    },
    {
      "cell_type": "code",
      "execution_count": null,
      "metadata": {
        "id": "1052868a"
      },
      "outputs": [],
      "source": [
        "def custom(col ,traindf = X_train,valdf = X_val,testdf = X_test):\n",
        "    traindf.drop(col, axis =1,inplace=True)\n",
        "    valdf.drop(col,axis=1 , inplace=True)\n",
        "    testdf.drop(col,axis=1 , inplace=True)\n",
        "\n",
        "    return traindf,valdf ,testdf"
      ],
      "id": "1052868a"
    },
    {
      "cell_type": "markdown",
      "metadata": {
        "id": "rI--ZuMbNLne"
      },
      "source": [
        "### Call the function by passing the column name which needed to be dropped from train, test and validation dataframes. Return updated dataframes to be stored in X_train ,X_val, X_test  \n",
        "\n",
        "- Note = Fill in the blank to complete the code "
      ],
      "id": "rI--ZuMbNLne"
    },
    {
      "cell_type": "code",
      "execution_count": null,
      "metadata": {
        "id": "1a0f955c"
      },
      "outputs": [],
      "source": [
        "X_train , X_val , X_test = custom(['business_code'])"
      ],
      "id": "1a0f955c"
    },
    {
      "cell_type": "markdown",
      "metadata": {
        "id": "28b5b27e"
      },
      "source": [
        "### Manually replacing str values with numbers, Here we are trying manually replace the customer numbers with some specific values like, 'CCCA' as 1, 'CCU' as 2 and so on. Also we are converting the datatype \"cust_number\" field to int type.\n",
        "\n",
        "- We are doing it for all the three dataframes as shown below. This is fully completed code. No need to modify anything here \n",
        "\n"
      ],
      "id": "28b5b27e"
    },
    {
      "cell_type": "code",
      "execution_count": null,
      "metadata": {
        "id": "85dd129e"
      },
      "outputs": [],
      "source": [
        "X_train['cust_number'] = X_train['cust_number'].str.replace('CCCA',\"1\").str.replace('CCU',\"2\").str.replace('CC',\"3\").astype(int)\n",
        "X_test['cust_number'] = X_test['cust_number'].str.replace('CCCA',\"1\").str.replace('CCU',\"2\").str.replace('CC',\"3\").astype(int)\n",
        "X_val['cust_number'] = X_val['cust_number'].str.replace('CCCA',\"1\").str.replace('CCU',\"2\").str.replace('CC',\"3\").astype(int)"
      ],
      "id": "85dd129e"
    },
    {
      "cell_type": "markdown",
      "metadata": {
        "id": "U8vA-zmdPnJ8"
      },
      "source": [
        "#### It differs from LabelEncoder by handling new classes and providing a value for it [Unknown]. Unknown will be added in fit and transform will take care of new item. It gives unknown class id.\n",
        "\n",
        "#### This will fit the encoder for all the unique values and introduce unknown value\n",
        "\n",
        "- Note - Keep this code as it is, we will be using this later on.  "
      ],
      "id": "U8vA-zmdPnJ8"
    },
    {
      "cell_type": "code",
      "execution_count": null,
      "metadata": {
        "id": "151f48ba"
      },
      "outputs": [],
      "source": [
        "#For encoding unseen labels\n",
        "class EncoderExt(object):\n",
        "    def __init__(self):\n",
        "        self.label_encoder = LabelEncoder()\n",
        "    def fit(self, data_list):\n",
        "        self.label_encoder = self.label_encoder.fit(list(data_list) + ['Unknown'])\n",
        "        self.classes_ = self.label_encoder.classes_\n",
        "        return self\n",
        "    def transform(self, data_list):\n",
        "        new_data_list = list(data_list)\n",
        "        for unique_item in np.unique(data_list):\n",
        "            if unique_item not in self.label_encoder.classes_:\n",
        "                new_data_list = ['Unknown' if x==unique_item else x for x in new_data_list]\n",
        "        return self.label_encoder.transform(new_data_list)"
      ],
      "id": "151f48ba"
    },
    {
      "cell_type": "markdown",
      "metadata": {
        "id": "254c64e6"
      },
      "source": [
        "### Use the user define Label Encoder function called \"EncoderExt\" for the \"name_customer\" column\n",
        "\n",
        "- Note - Keep the code as it is, no need to change"
      ],
      "id": "254c64e6"
    },
    {
      "cell_type": "code",
      "execution_count": null,
      "metadata": {
        "id": "62b17eff"
      },
      "outputs": [],
      "source": [
        "label_encoder = EncoderExt()\n",
        "label_encoder.fit(X_train['name_customer'])\n",
        "X_train['name_customer_enc']=label_encoder.transform(X_train['name_customer'])\n",
        "X_val['name_customer_enc']=label_encoder.transform(X_val['name_customer'])\n",
        "X_test['name_customer_enc']=label_encoder.transform(X_test['name_customer'])"
      ],
      "id": "62b17eff"
    },
    {
      "cell_type": "markdown",
      "metadata": {
        "id": "mK7LMoy2QZhy"
      },
      "source": [
        "### As we have created the a new column \"name_customer_enc\", so now drop \"name_customer\" column from all three dataframes\n",
        "\n",
        "- Note - Keep the code as it is, no need to change"
      ],
      "id": "mK7LMoy2QZhy"
    },
    {
      "cell_type": "code",
      "execution_count": null,
      "metadata": {
        "id": "ef85f1c0"
      },
      "outputs": [],
      "source": [
        "X_train ,X_val, X_test = custom(['name_customer'])"
      ],
      "id": "ef85f1c0"
    },
    {
      "cell_type": "markdown",
      "metadata": {
        "id": "3aa09d22"
      },
      "source": [
        "### Using Label Encoder for the \"cust_payment_terms\" column\n",
        "\n",
        "- Note - Keep the code as it is, no need to change"
      ],
      "id": "3aa09d22"
    },
    {
      "cell_type": "code",
      "execution_count": null,
      "metadata": {
        "id": "6f9ab642"
      },
      "outputs": [],
      "source": [
        "label_encoder1 = EncoderExt()\n",
        "label_encoder1.fit(X_train['cust_payment_terms'])\n",
        "X_train['cust_payment_terms_enc']=label_encoder1.transform(X_train['cust_payment_terms'])\n",
        "X_val['cust_payment_terms_enc']=label_encoder1.transform(X_val['cust_payment_terms'])\n",
        "X_test['cust_payment_terms_enc']=label_encoder1.transform(X_test['cust_payment_terms'])"
      ],
      "id": "6f9ab642"
    },
    {
      "cell_type": "code",
      "execution_count": null,
      "metadata": {
        "id": "55f9a7c2"
      },
      "outputs": [],
      "source": [
        "X_train ,X_val, X_test = custom(['cust_payment_terms'])"
      ],
      "id": "55f9a7c2"
    },
    {
      "cell_type": "markdown",
      "metadata": {
        "id": "0788f42b"
      },
      "source": [
        "## Check the datatype of all the columns of Train, Test and Validation dataframes realted to X\n",
        "\n",
        "- Note - You are expected yo use dtype"
      ],
      "id": "0788f42b"
    },
    {
      "cell_type": "code",
      "execution_count": null,
      "metadata": {
        "colab": {
          "base_uri": "https://localhost:8080/"
        },
        "id": "bc79a316",
        "outputId": "d58d536b-493c-423a-a6be-252094be5515"
      },
      "outputs": [
        {
          "output_type": "stream",
          "name": "stdout",
          "text": [
            "<class 'pandas.core.frame.DataFrame'>\n",
            "Int64Index: 23494 entries, 46191 to 29011\n",
            "Data columns (total 10 columns):\n",
            " #   Column                  Non-Null Count  Dtype         \n",
            "---  ------                  --------------  -----         \n",
            " 0   cust_number             23494 non-null  int64         \n",
            " 1   buisness_year           23494 non-null  float64       \n",
            " 2   doc_id                  23494 non-null  float64       \n",
            " 3   posting_date            23494 non-null  datetime64[ns]\n",
            " 4   due_in_date             23494 non-null  datetime64[ns]\n",
            " 5   baseline_create_date    23494 non-null  datetime64[ns]\n",
            " 6   converted_usd           23494 non-null  float64       \n",
            " 7   business_code_enc       23494 non-null  int64         \n",
            " 8   name_customer_enc       23494 non-null  int64         \n",
            " 9   cust_payment_terms_enc  23494 non-null  int64         \n",
            "dtypes: datetime64[ns](3), float64(3), int64(4)\n",
            "memory usage: 2.0 MB\n",
            "<class 'pandas.core.frame.DataFrame'>\n",
            "Int64Index: 7832 entries, 28284 to 33953\n",
            "Data columns (total 10 columns):\n",
            " #   Column                  Non-Null Count  Dtype         \n",
            "---  ------                  --------------  -----         \n",
            " 0   cust_number             7832 non-null   int64         \n",
            " 1   buisness_year           7832 non-null   float64       \n",
            " 2   doc_id                  7832 non-null   float64       \n",
            " 3   posting_date            7832 non-null   datetime64[ns]\n",
            " 4   due_in_date             7832 non-null   datetime64[ns]\n",
            " 5   baseline_create_date    7832 non-null   datetime64[ns]\n",
            " 6   converted_usd           7832 non-null   float64       \n",
            " 7   business_code_enc       7832 non-null   int64         \n",
            " 8   name_customer_enc       7832 non-null   int64         \n",
            " 9   cust_payment_terms_enc  7832 non-null   int64         \n",
            "dtypes: datetime64[ns](3), float64(3), int64(4)\n",
            "memory usage: 673.1 KB\n",
            "<class 'pandas.core.frame.DataFrame'>\n",
            "Int64Index: 7832 entries, 35904 to 42414\n",
            "Data columns (total 10 columns):\n",
            " #   Column                  Non-Null Count  Dtype         \n",
            "---  ------                  --------------  -----         \n",
            " 0   cust_number             7832 non-null   int64         \n",
            " 1   buisness_year           7832 non-null   float64       \n",
            " 2   doc_id                  7832 non-null   float64       \n",
            " 3   posting_date            7832 non-null   datetime64[ns]\n",
            " 4   due_in_date             7832 non-null   datetime64[ns]\n",
            " 5   baseline_create_date    7832 non-null   datetime64[ns]\n",
            " 6   converted_usd           7832 non-null   float64       \n",
            " 7   business_code_enc       7832 non-null   int64         \n",
            " 8   name_customer_enc       7832 non-null   int64         \n",
            " 9   cust_payment_terms_enc  7832 non-null   int64         \n",
            "dtypes: datetime64[ns](3), float64(3), int64(4)\n",
            "memory usage: 673.1 KB\n",
            "None  None  None\n"
          ]
        }
      ],
      "source": [
        "print(f\"{X_train.info()}  {X_test.info()}  {X_val.info()}\")"
      ],
      "id": "bc79a316"
    },
    {
      "cell_type": "markdown",
      "metadata": {
        "id": "LVfvuPiWPeMB"
      },
      "source": [
        "### From the above output you can notice their are multiple date columns with datetime format\n",
        "\n",
        "### In order to pass it into our model, we need to convert it into float format"
      ],
      "id": "LVfvuPiWPeMB"
    },
    {
      "cell_type": "markdown",
      "metadata": {
        "id": "9d344db9"
      },
      "source": [
        "### You need to extract day, month and year from the \"posting_date\" column \n",
        "\n",
        "1.   Extract days from \"posting_date\" column and store it into a new column \"day_of_postingdate\" for train, test and validation dataset \n",
        "2.   Extract months from \"posting_date\" column and store it into a new column \"month_of_postingdate\" for train, test and validation dataset\n",
        "3.   Extract year from \"posting_date\" column and store it into a new column \"year_of_postingdate\" for train, test and validation dataset \n",
        "\n",
        "\n",
        "\n",
        "- Note - You are supposed yo use \n",
        "\n",
        "*   dt.day\n",
        "*   dt.month\n",
        "*   dt.year\n",
        "\n",
        "\n",
        "\n",
        "\n"
      ],
      "id": "9d344db9"
    },
    {
      "cell_type": "code",
      "execution_count": null,
      "metadata": {
        "id": "6e3cdfd6"
      },
      "outputs": [],
      "source": [
        "X_train['day_of_postingdate'] = X_train['posting_date'].dt.day\n",
        "X_train['month_of_postingdate'] = X_train['posting_date'].dt.month\n",
        "X_train['year_of_postingdate'] = X_train['posting_date'].dt.year\n",
        "\n",
        "X_val['day_of_postingdate'] = X_val['posting_date'].dt.day\n",
        "X_val['month_of_postingdate'] = X_val['posting_date'].dt.month\n",
        "X_val['year_of_postingdate'] = X_val['posting_date'].dt.year\n",
        "\n",
        "\n",
        "X_test['day_of_postingdate'] = X_test['posting_date'].dt.day\n",
        "X_test['month_of_postingdate'] = X_test['posting_date'].dt.month\n",
        "X_test['year_of_postingdate'] = X_test['posting_date'].dt.year"
      ],
      "id": "6e3cdfd6"
    },
    {
      "cell_type": "markdown",
      "metadata": {
        "id": "GyI-F853Rxa7"
      },
      "source": [
        "### pass the \"posting_date\" column into the Custom function for train, test and validation dataset"
      ],
      "id": "GyI-F853Rxa7"
    },
    {
      "cell_type": "code",
      "execution_count": null,
      "metadata": {
        "id": "FQHtQkrnRx_V"
      },
      "outputs": [],
      "source": [
        "X_train ,X_val, X_test = custom(['posting_date'])"
      ],
      "id": "FQHtQkrnRx_V"
    },
    {
      "cell_type": "markdown",
      "metadata": {
        "id": "GMnCaEcKReSw"
      },
      "source": [
        "### You need to extract day, month and year from the \"baseline_create_date\" column \n",
        "\n",
        "1.   Extract days from \"baseline_create_date\" column and store it into a new column \"day_of_createdate\" for train, test and validation dataset \n",
        "2.   Extract months from \"baseline_create_date\" column and store it into a new column \"month_of_createdate\" for train, test and validation dataset\n",
        "3.   Extract year from \"baseline_create_date\" column and store it into a new column \"year_of_createdate\" for train, test and validation dataset \n",
        "\n",
        "\n",
        "\n",
        "- Note - You are supposed yo use \n",
        "\n",
        "*   dt.day\n",
        "*   dt.month\n",
        "*   dt.year\n",
        "\n",
        "\n",
        "- Note - Do as it is been shown in the previous two code boxes"
      ],
      "id": "GMnCaEcKReSw"
    },
    {
      "cell_type": "markdown",
      "metadata": {
        "id": "ee4d83d0"
      },
      "source": [
        "### Extracting Day, Month, Year for 'baseline_create_date' column"
      ],
      "id": "ee4d83d0"
    },
    {
      "cell_type": "code",
      "execution_count": null,
      "metadata": {
        "id": "32b240e1"
      },
      "outputs": [],
      "source": [
        "X_train['day_of_baseline_create_date'] = X_train['baseline_create_date'].dt.day\n",
        "X_train['month_of_baseline_create_date'] = X_train['baseline_create_date'].dt.month\n",
        "X_train['year_of_baseline_create_date'] = X_train['baseline_create_date'].dt.year\n",
        "\n",
        "X_val['day_of_baseline_create_date'] = X_val['baseline_create_date'].dt.day\n",
        "X_val['month_of_baseline_create_date'] = X_val['baseline_create_date'].dt.month\n",
        "X_val['year_of_baseline_create_date'] = X_val['baseline_create_date'].dt.year\n",
        "\n",
        "\n",
        "X_test['day_of_baseline_create_date'] = X_test['baseline_create_date'].dt.day\n",
        "X_test['month_of_baseline_create_date'] = X_test['baseline_create_date'].dt.month\n",
        "X_test['year_of_baseline_create_date'] = X_test['baseline_create_date'].dt.year"
      ],
      "id": "32b240e1"
    },
    {
      "cell_type": "markdown",
      "metadata": {
        "id": "cFgwkS5rSDDs"
      },
      "source": [
        "### pass the \"baseline_create_date\" column into the Custom function for train, test and validation dataset"
      ],
      "id": "cFgwkS5rSDDs"
    },
    {
      "cell_type": "code",
      "execution_count": null,
      "metadata": {
        "id": "RGYa2BEQSDg3"
      },
      "outputs": [],
      "source": [
        "X_train ,X_val, X_test = custom(['baseline_create_date'])"
      ],
      "id": "RGYa2BEQSDg3"
    },
    {
      "cell_type": "markdown",
      "metadata": {
        "id": "77c7a0df"
      },
      "source": [
        "### You need to extract day, month and year from the \"due_in_date\" column \n",
        "\n",
        "1.   Extract days from \"due_in_date\" column and store it into a new column \"day_of_due\" for train, test and validation dataset \n",
        "2.   Extract months from \"due_in_date\" column and store it into a new column \"month_of_due\" for train, test and validation dataset\n",
        "3.   Extract year from \"due_in_date\" column and store it into a new column \"year_of_due\" for train, test and validation dataset \n",
        "\n",
        "\n",
        "\n",
        "- Note - You are supposed yo use \n",
        "\n",
        "*   dt.day\n",
        "*   dt.month\n",
        "*   dt.year\n",
        "\n",
        "- Note - Do as it is been shown in the previous code"
      ],
      "id": "77c7a0df"
    },
    {
      "cell_type": "code",
      "execution_count": null,
      "metadata": {
        "id": "5c745547"
      },
      "outputs": [],
      "source": [
        "X_train['day_of_due_in_date'] = X_train['due_in_date'].dt.day\n",
        "X_train['month_of_due_in_date'] = X_train['due_in_date'].dt.month\n",
        "X_train['year_of_due_in_date'] = X_train['due_in_date'].dt.year\n",
        "\n",
        "X_val['day_of_due_in_date'] = X_val['due_in_date'].dt.day\n",
        "X_val['month_of_due_in_date'] = X_val['due_in_date'].dt.month\n",
        "X_val['year_of_due_in_date'] = X_val['due_in_date'].dt.year\n",
        "\n",
        "\n",
        "X_test['day_of_due_in_date'] = X_test['due_in_date'].dt.day\n",
        "X_test['month_of_due_in_date'] = X_test['due_in_date'].dt.month\n",
        "X_test['year_of_due_in_date'] = X_test['due_in_date'].dt.year"
      ],
      "id": "5c745547"
    },
    {
      "cell_type": "markdown",
      "metadata": {
        "id": "FYLLzulGSvRd"
      },
      "source": [
        "pass the \"due_in_date\" column into the Custom function for train, test and validation dataset"
      ],
      "id": "FYLLzulGSvRd"
    },
    {
      "cell_type": "code",
      "execution_count": null,
      "metadata": {
        "id": "1-s6QuY9Svrh"
      },
      "outputs": [],
      "source": [
        "X_train ,X_val, X_test = custom(['due_in_date'])"
      ],
      "id": "1-s6QuY9Svrh"
    },
    {
      "cell_type": "markdown",
      "metadata": {
        "id": "1ae5d052"
      },
      "source": [
        "### Check for the datatypes for train, test and validation set again\n",
        "\n",
        "- Note - all the data type should be in either int64 or float64 format \n"
      ],
      "id": "1ae5d052"
    },
    {
      "cell_type": "code",
      "execution_count": null,
      "metadata": {
        "colab": {
          "base_uri": "https://localhost:8080/"
        },
        "id": "aee9d828",
        "outputId": "1a5c121d-6fb4-4f0c-a1b1-71b9e9ac3a7c"
      },
      "outputs": [
        {
          "output_type": "stream",
          "name": "stdout",
          "text": [
            "cust_number                        int64\n",
            "buisness_year                    float64\n",
            "doc_id                           float64\n",
            "converted_usd                    float64\n",
            "business_code_enc                  int64\n",
            "name_customer_enc                  int64\n",
            "cust_payment_terms_enc             int64\n",
            "day_of_postingdate                 int64\n",
            "month_of_postingdate               int64\n",
            "year_of_postingdate                int64\n",
            "day_of_baseline_create_date        int64\n",
            "month_of_baseline_create_date      int64\n",
            "year_of_baseline_create_date       int64\n",
            "day_of_due_in_date                 int64\n",
            "month_of_due_in_date               int64\n",
            "year_of_due_in_date                int64\n",
            "dtype: object  cust_number                        int64\n",
            "buisness_year                    float64\n",
            "doc_id                           float64\n",
            "converted_usd                    float64\n",
            "business_code_enc                  int64\n",
            "name_customer_enc                  int64\n",
            "cust_payment_terms_enc             int64\n",
            "day_of_postingdate                 int64\n",
            "month_of_postingdate               int64\n",
            "year_of_postingdate                int64\n",
            "day_of_baseline_create_date        int64\n",
            "month_of_baseline_create_date      int64\n",
            "year_of_baseline_create_date       int64\n",
            "day_of_due_in_date                 int64\n",
            "month_of_due_in_date               int64\n",
            "year_of_due_in_date                int64\n",
            "dtype: object  cust_number                        int64\n",
            "buisness_year                    float64\n",
            "doc_id                           float64\n",
            "converted_usd                    float64\n",
            "business_code_enc                  int64\n",
            "name_customer_enc                  int64\n",
            "cust_payment_terms_enc             int64\n",
            "day_of_postingdate                 int64\n",
            "month_of_postingdate               int64\n",
            "year_of_postingdate                int64\n",
            "day_of_baseline_create_date        int64\n",
            "month_of_baseline_create_date      int64\n",
            "year_of_baseline_create_date       int64\n",
            "day_of_due_in_date                 int64\n",
            "month_of_due_in_date               int64\n",
            "year_of_due_in_date                int64\n",
            "dtype: object\n"
          ]
        }
      ],
      "source": [
        "print(f\"{X_train.dtypes}  {X_test.dtypes}  {X_val.dtypes}\")"
      ],
      "id": "aee9d828"
    },
    {
      "cell_type": "markdown",
      "metadata": {
        "id": "65810f55"
      },
      "source": [
        "# Feature Selection"
      ],
      "id": "65810f55"
    },
    {
      "cell_type": "markdown",
      "metadata": {
        "id": "4bb1ad9f"
      },
      "source": [
        "### Filter Method\n",
        "\n",
        "- Calling the VarianceThreshold Function \n",
        "- Note - Keep the code as it is, no need to change "
      ],
      "id": "4bb1ad9f"
    },
    {
      "cell_type": "code",
      "execution_count": null,
      "metadata": {
        "colab": {
          "base_uri": "https://localhost:8080/"
        },
        "id": "e882509f",
        "outputId": "22f28485-3abe-48c8-c187-828777f4cfc8"
      },
      "outputs": [
        {
          "output_type": "execute_result",
          "data": {
            "text/plain": [
              "16"
            ]
          },
          "metadata": {},
          "execution_count": 90
        }
      ],
      "source": [
        "from sklearn.feature_selection import VarianceThreshold\n",
        "constant_filter = VarianceThreshold(threshold=0)\n",
        "constant_filter.fit(X_train)\n",
        "len(X_train.columns[constant_filter.get_support()])"
      ],
      "id": "e882509f"
    },
    {
      "cell_type": "markdown",
      "metadata": {
        "id": "V9531H3jR-W2"
      },
      "source": [
        "- Note - Keep the code as it is, no need to change \n"
      ],
      "id": "V9531H3jR-W2"
    },
    {
      "cell_type": "code",
      "execution_count": null,
      "metadata": {
        "colab": {
          "base_uri": "https://localhost:8080/"
        },
        "id": "c77c12e1",
        "outputId": "a16c3c96-2b51-4589-ceac-ead710aee9ef"
      },
      "outputs": [
        {
          "output_type": "stream",
          "name": "stdout",
          "text": [
            "0\n"
          ]
        }
      ],
      "source": [
        "constant_columns = [column for column in X_train.columns\n",
        "                    if column not in X_train.columns[constant_filter.get_support()]]\n",
        "print(len(constant_columns))"
      ],
      "id": "c77c12e1"
    },
    {
      "cell_type": "markdown",
      "metadata": {
        "id": "6d9b8610"
      },
      "source": [
        "- transpose the feature matrice\n",
        "- print the number of duplicated features\n",
        "- select the duplicated features columns names\n",
        "\n",
        "- Note - Keep the code as it is, no need to change \n"
      ],
      "id": "6d9b8610"
    },
    {
      "cell_type": "code",
      "execution_count": null,
      "metadata": {
        "colab": {
          "base_uri": "https://localhost:8080/"
        },
        "id": "0fb7db95",
        "outputId": "c846c74e-f02f-429a-ab4b-8ab374bf6bfd"
      },
      "outputs": [
        {
          "output_type": "stream",
          "name": "stdout",
          "text": [
            "0\n"
          ]
        }
      ],
      "source": [
        "x_train_T = X_train.T\n",
        "print(x_train_T.duplicated().sum())\n",
        "duplicated_columns = x_train_T[x_train_T.duplicated()].index.values"
      ],
      "id": "0fb7db95"
    },
    {
      "cell_type": "markdown",
      "metadata": {
        "id": "510fa831"
      },
      "source": [
        "### Filtering depending upon correlation matrix value\n",
        "- We have created a function called handling correlation which is going to return fields based on the correlation matrix value with a threshold of 0.8\n",
        "\n",
        "- Note - Keep the code as it is, no need to change "
      ],
      "id": "510fa831"
    },
    {
      "cell_type": "code",
      "execution_count": null,
      "metadata": {
        "id": "67731abc"
      },
      "outputs": [],
      "source": [
        "def handling_correlation(X_train,threshold=0.8):\n",
        "    corr_features = set()\n",
        "    corr_matrix = X_train.corr()\n",
        "    for i in range(len(corr_matrix .columns)):\n",
        "        for j in range(i):\n",
        "            if abs(corr_matrix.iloc[i, j]) >threshold:\n",
        "                colname = corr_matrix.columns[i]\n",
        "                corr_features.add(colname)\n",
        "    return list(corr_features)"
      ],
      "id": "67731abc"
    },
    {
      "cell_type": "markdown",
      "metadata": {
        "id": "JaE_6qVgSXl3"
      },
      "source": [
        "- Note : Here we are trying to find out the relevant fields, from X_train\n",
        "- Please fill in the blanks to call handling_correlation() function with a threshold value of 0.85"
      ],
      "id": "JaE_6qVgSXl3"
    },
    {
      "cell_type": "code",
      "execution_count": null,
      "metadata": {
        "colab": {
          "base_uri": "https://localhost:8080/"
        },
        "id": "dd91d1a2",
        "outputId": "21fdd5e9-7a7c-4824-95bd-51af741ec806"
      },
      "outputs": [
        {
          "output_type": "execute_result",
          "data": {
            "text/plain": [
              "['year_of_postingdate',\n",
              " 'month_of_due_in_date',\n",
              " 'year_of_due_in_date',\n",
              " 'year_of_baseline_create_date',\n",
              " 'month_of_baseline_create_date',\n",
              " 'day_of_baseline_create_date']"
            ]
          },
          "metadata": {},
          "execution_count": 94
        }
      ],
      "source": [
        "train=X_train.copy()\n",
        "handling_correlation(train.copy(),threshold=0.85)"
      ],
      "id": "dd91d1a2"
    },
    {
      "cell_type": "markdown",
      "metadata": {
        "id": "154da511"
      },
      "source": [
        "### Heatmap for X_train\n",
        "\n",
        "- Note - Keep the code as it is, no need to change"
      ],
      "id": "154da511"
    },
    {
      "cell_type": "code",
      "execution_count": null,
      "metadata": {
        "colab": {
          "base_uri": "https://localhost:8080/",
          "height": 890
        },
        "id": "2e8f2fe4",
        "outputId": "9dfdbf8f-a188-44a3-9288-f9231c028a9b"
      },
      "outputs": [
        {
          "output_type": "execute_result",
          "data": {
            "text/plain": [
              "<matplotlib.axes._subplots.AxesSubplot at 0x7f45e4c0f5d0>"
            ]
          },
          "metadata": {},
          "execution_count": 95
        },
        {
          "output_type": "display_data",
          "data": {
            "text/plain": [
              "<Figure size 1008x864 with 2 Axes>"
            ],
            "image/png": "[encoded data removed]"
          },
          "metadata": {
            "needs_background": "light"
          }
        }
      ],
      "source": [
        "colormap = plt.cm.RdBu\n",
        "plt.figure(figsize=(14,12))\n",
        "plt.title('Pearson Correlation of Features', y=1.05, size=20)\n",
        "sns.heatmap(X_train.merge(Y_train , on = X_train.index ).corr(),linewidths=0.1,vmax=1.0, \n",
        "            square=True, cmap='gist_rainbow_r', linecolor='white', annot=True)"
      ],
      "id": "2e8f2fe4"
    },
    {
      "cell_type": "markdown",
      "metadata": {
        "id": "e3b0d745"
      },
      "source": [
        "#### Calling variance threshold for threshold value = 0.8\n",
        "\n",
        "- Note -  Fill in the blanks to call the appropriate method"
      ],
      "id": "e3b0d745"
    },
    {
      "cell_type": "code",
      "execution_count": null,
      "metadata": {
        "colab": {
          "base_uri": "https://localhost:8080/"
        },
        "id": "a9b2080f",
        "outputId": "d66f3e4b-3ae8-4acb-94ed-7645ec6d7cf0"
      },
      "outputs": [
        {
          "output_type": "execute_result",
          "data": {
            "text/plain": [
              "VarianceThreshold(threshold=0.8)"
            ]
          },
          "metadata": {},
          "execution_count": 96
        }
      ],
      "source": [
        "from sklearn.feature_selection import VarianceThreshold\n",
        "sel = VarianceThreshold(0.8)\n",
        "sel.fit(X_train)"
      ],
      "id": "a9b2080f"
    },
    {
      "cell_type": "code",
      "execution_count": null,
      "metadata": {
        "colab": {
          "base_uri": "https://localhost:8080/"
        },
        "id": "6cb8c3dc",
        "outputId": "25570adf-195e-4b2f-a1d6-11c758c5e8c9"
      },
      "outputs": [
        {
          "output_type": "execute_result",
          "data": {
            "text/plain": [
              "array([1.78240248e+15, 1.13407871e-01, 8.60995289e+16, 1.34716264e+09,\n",
              "       2.79278804e-01, 1.07947586e+06, 1.20393007e+02, 7.56369758e+01,\n",
              "       1.22352317e+01, 1.13900371e-01, 7.71204400e+01, 1.22460341e+01,\n",
              "       1.14028799e-01, 7.64023131e+01, 1.20645714e+01, 1.16395030e-01])"
            ]
          },
          "metadata": {},
          "execution_count": 97
        }
      ],
      "source": [
        "sel.variances_"
      ],
      "id": "6cb8c3dc"
    },
    {
      "cell_type": "markdown",
      "metadata": {
        "id": "62633a84"
      },
      "source": [
        "### Features columns are \n",
        "- 'year_of_createdate' \n",
        "- 'year_of_due'\n",
        "- 'day_of_createdate'\n",
        "- 'year_of_postingdate'\n",
        "- 'month_of_due'\n",
        "- 'month_of_createdate'"
      ],
      "id": "62633a84"
    },
    {
      "cell_type": "markdown",
      "metadata": {
        "id": "651f1ad0"
      },
      "source": [
        "# Modelling \n",
        "\n",
        "#### Now you need to compare with different machine learning models, and needs to find out the best predicted model\n",
        "\n",
        "- Linear Regression\n",
        "- Decision Tree Regression\n",
        "- Random Forest Regression\n",
        "- Support Vector Regression\n",
        "- Extreme Gradient Boost Regression "
      ],
      "id": "651f1ad0"
    },
    {
      "cell_type": "markdown",
      "metadata": {
        "id": "PicEhSuUUOkt"
      },
      "source": [
        "### You need to make different blank list for different evaluation matrix \n",
        "\n",
        "- MSE\n",
        "- R2\n",
        "- Algorithm"
      ],
      "id": "PicEhSuUUOkt"
    },
    {
      "cell_type": "code",
      "execution_count": null,
      "metadata": {
        "id": "701e12b0"
      },
      "outputs": [],
      "source": [
        "MSE_Score = []\n",
        "R2_Score = []\n",
        "Algorithm = []\n",
        "from sklearn.metrics import mean_squared_error\n",
        "from sklearn.metrics import r2_score"
      ],
      "id": "701e12b0"
    },
    {
      "cell_type": "markdown",
      "metadata": {
        "id": "29310119"
      },
      "source": [
        "### You need to start with the baseline model Linear Regression\n",
        "\n",
        "- Step 1 : Call the Linear Regression from sklearn library\n",
        "- Step 2 : make an object of Linear Regression \n",
        "- Step 3 : fit the X_train and y_train dataframe into the object \n",
        "- Step 4 : Predict the output by passing the X_test Dataset into predict function\n",
        "\n",
        "\n",
        "\n",
        "\n",
        "- Note - Append the Algorithm name into the algorithm list for tracking purpose"
      ],
      "id": "29310119"
    },
    {
      "cell_type": "code",
      "execution_count": null,
      "metadata": {
        "id": "6bdea395"
      },
      "outputs": [],
      "source": [
        "from sklearn.linear_model import LinearRegression\n",
        "Algorithm.append('LinearRegression')\n",
        "regressor = LinearRegression()\n",
        "regressor.fit(X_train, Y_train)\n",
        "predicted= regressor.predict(X_test)"
      ],
      "id": "6bdea395"
    },
    {
      "cell_type": "markdown",
      "metadata": {
        "id": "G02cpnBhXJ14"
      },
      "source": [
        "### Check for the \n",
        "\n",
        "- Mean Square Error\n",
        "- R Square Error \n",
        "\n",
        "for y_test and predicted dataset and store those data inside respective list for comparison "
      ],
      "id": "G02cpnBhXJ14"
    },
    {
      "cell_type": "code",
      "execution_count": null,
      "metadata": {
        "id": "0f69ca19"
      },
      "outputs": [],
      "source": [
        "MSE_Score.append(mean_squared_error(Y_test, predicted))\n",
        "R2_Score.append(r2_score(Y_test, predicted))"
      ],
      "id": "0f69ca19"
    },
    {
      "cell_type": "markdown",
      "metadata": {
        "id": "CsmScbHjYMv1"
      },
      "source": [
        "### Check the same for the Validation set also "
      ],
      "id": "CsmScbHjYMv1"
    },
    {
      "cell_type": "code",
      "execution_count": null,
      "metadata": {
        "colab": {
          "base_uri": "https://localhost:8080/"
        },
        "id": "fe653295",
        "outputId": "8c495f9a-051a-4b53-a2ca-be182a542f2f"
      },
      "outputs": [
        {
          "output_type": "execute_result",
          "data": {
            "text/plain": [
              "536180.7293880726"
            ]
          },
          "metadata": {},
          "execution_count": 101
        }
      ],
      "source": [
        "predict_test= regressor.predict(X_val)\n",
        "mean_squared_error(Y_val, predict_test, squared=False)"
      ],
      "id": "fe653295"
    },
    {
      "cell_type": "markdown",
      "metadata": {
        "id": "LokxV2LGYUVh"
      },
      "source": [
        "### Display The Comparison Lists"
      ],
      "id": "LokxV2LGYUVh"
    },
    {
      "cell_type": "code",
      "execution_count": null,
      "metadata": {
        "colab": {
          "base_uri": "https://localhost:8080/"
        },
        "id": "9c405bd3",
        "outputId": "28723369-a677-4f87-f637-91c74f624a21"
      },
      "outputs": [
        {
          "output_type": "stream",
          "name": "stdout",
          "text": [
            "['LinearRegression'],[309463684230.49084],[0.32710689817674],"
          ]
        }
      ],
      "source": [
        "for i in Algorithm, MSE_Score, R2_Score:\n",
        "    print(i,end=',')"
      ],
      "id": "9c405bd3"
    },
    {
      "cell_type": "markdown",
      "metadata": {
        "id": "b0e65c86"
      },
      "source": [
        "### You need to start with the baseline model Support Vector Regression\n",
        "\n",
        "- Step 1 : Call the Support Vector Regressor from sklearn library\n",
        "- Step 2 : make an object of SVR\n",
        "- Step 3 : fit the X_train and y_train dataframe into the object \n",
        "- Step 4 : Predict the output by passing the X_test Dataset into predict function\n",
        "\n",
        "\n",
        "\n",
        "\n",
        "- Note - Append the Algorithm name into the algorithm list for tracking purpose"
      ],
      "id": "b0e65c86"
    },
    {
      "cell_type": "code",
      "execution_count": null,
      "metadata": {
        "colab": {
          "base_uri": "https://localhost:8080/"
        },
        "id": "ccb5de08",
        "outputId": "30beb2ad-3d56-47bf-ecbd-994a3e103315"
      },
      "outputs": [
        {
          "output_type": "stream",
          "name": "stderr",
          "text": [
            "/usr/local/lib/python3.7/dist-packages/sklearn/utils/validation.py:993: DataConversionWarning: A column-vector y was passed when a 1d array was expected. Please change the shape of y to (n_samples, ), for example using ravel().\n",
            "  y = column_or_1d(y, warn=True)\n"
          ]
        }
      ],
      "source": [
        "from sklearn.svm import SVR\n",
        "Algorithm.append('Support Vector Regressor')\n",
        "svr =SVR()\n",
        "svr.fit(X_train,Y_train)\n",
        "svr_predicted= svr.predict(X_test)"
      ],
      "id": "ccb5de08"
    },
    {
      "cell_type": "markdown",
      "metadata": {
        "id": "zz9kcrViYt7e"
      },
      "source": [
        "### Check for the \n",
        "\n",
        "- Mean Square Error\n",
        "- R Square Error \n",
        "\n",
        "for \"y_test\" and \"predicted\" dataset and store those data inside respective list for comparison "
      ],
      "id": "zz9kcrViYt7e"
    },
    {
      "cell_type": "code",
      "execution_count": null,
      "metadata": {
        "id": "5bb9db76"
      },
      "outputs": [],
      "source": [
        "MSE_Score.append(mean_squared_error(Y_test, svr_predicted))\n",
        "R2_Score.append(r2_score(Y_test, svr_predicted))"
      ],
      "id": "5bb9db76"
    },
    {
      "cell_type": "markdown",
      "metadata": {
        "id": "0YAxd8N9Y0hJ"
      },
      "source": [
        "### Check the same for the Validation set also "
      ],
      "id": "0YAxd8N9Y0hJ"
    },
    {
      "cell_type": "code",
      "execution_count": null,
      "metadata": {
        "colab": {
          "base_uri": "https://localhost:8080/"
        },
        "id": "d6ee71b1",
        "outputId": "607c7d62-4e18-43ba-8e58-34b2a74e8c80"
      },
      "outputs": [
        {
          "output_type": "execute_result",
          "data": {
            "text/plain": [
              "645810.6248612133"
            ]
          },
          "metadata": {},
          "execution_count": 105
        }
      ],
      "source": [
        "predict_test2= svr.predict(X_val)\n",
        "mean_squared_error(Y_val, predict_test2, squared=False)"
      ],
      "id": "d6ee71b1"
    },
    {
      "cell_type": "markdown",
      "metadata": {
        "id": "eGcqS5EcY4BI"
      },
      "source": [
        "### Display The Comparison Lists"
      ],
      "id": "eGcqS5EcY4BI"
    },
    {
      "cell_type": "code",
      "execution_count": null,
      "metadata": {
        "colab": {
          "base_uri": "https://localhost:8080/"
        },
        "id": "aa72c1ec",
        "outputId": "a93c5268-35e6-46cd-df8a-d115b463bb4b"
      },
      "outputs": [
        {
          "output_type": "stream",
          "name": "stdout",
          "text": [
            "['LinearRegression', 'Support Vector Regressor'],[309463684230.49084, 462614858675.3314],[0.32710689817674, -0.005902673128267422],"
          ]
        }
      ],
      "source": [
        "for i in Algorithm, MSE_Score, R2_Score:\n",
        "    print(i,end=',')"
      ],
      "id": "aa72c1ec"
    },
    {
      "cell_type": "markdown",
      "metadata": {
        "id": "dad18bb3"
      },
      "source": [
        "### Your next model would be Decision Tree Regression\n",
        "\n",
        "- Step 1 : Call the Decision Tree Regressor from sklearn library\n",
        "- Step 2 : make an object of Decision Tree\n",
        "- Step 3 : fit the X_train and y_train dataframe into the object \n",
        "- Step 4 : Predict the output by passing the X_test Dataset into predict function\n",
        "\n",
        "\n",
        "\n",
        "\n",
        "- Note - Append the Algorithm name into the algorithm list for tracking purpose"
      ],
      "id": "dad18bb3"
    },
    {
      "cell_type": "code",
      "execution_count": null,
      "metadata": {
        "id": "1b6a51eb"
      },
      "outputs": [],
      "source": [
        "from sklearn.tree import DecisionTreeRegressor\n",
        "Algorithm.append('Decision Tree Regressor')\n",
        "dtr =DecisionTreeRegressor()\n",
        "dtr.fit(X_train,Y_train)\n",
        "dtr_predicted= dtr.predict(X_test)"
      ],
      "id": "1b6a51eb"
    },
    {
      "cell_type": "markdown",
      "metadata": {
        "id": "AOzfgfeOZo3F"
      },
      "source": [
        "### Check for the \n",
        "\n",
        "- Mean Square Error\n",
        "- R Square Error \n",
        "\n",
        "for y_test and predicted dataset and store those data inside respective list for comparison "
      ],
      "id": "AOzfgfeOZo3F"
    },
    {
      "cell_type": "code",
      "execution_count": null,
      "metadata": {
        "id": "776e6983"
      },
      "outputs": [],
      "source": [
        "MSE_Score.append(mean_squared_error(Y_test, dtr_predicted))\n",
        "R2_Score.append(r2_score(Y_test, dtr_predicted))"
      ],
      "id": "776e6983"
    },
    {
      "cell_type": "markdown",
      "metadata": {
        "id": "eI6d49DQZrhW"
      },
      "source": [
        "### Check the same for the Validation set also "
      ],
      "id": "eI6d49DQZrhW"
    },
    {
      "cell_type": "code",
      "execution_count": null,
      "metadata": {
        "colab": {
          "base_uri": "https://localhost:8080/"
        },
        "id": "155fb55c",
        "outputId": "0b6db81a-b457-4b62-be27-b30eba6ecad1"
      },
      "outputs": [
        {
          "output_type": "execute_result",
          "data": {
            "text/plain": [
              "506735.4714014291"
            ]
          },
          "metadata": {},
          "execution_count": 109
        }
      ],
      "source": [
        "predict_test3= dtr.predict(X_val)\n",
        "mean_squared_error(Y_val, predict_test3, squared=False)"
      ],
      "id": "155fb55c"
    },
    {
      "cell_type": "markdown",
      "metadata": {
        "id": "sbGXvBLQZw5E"
      },
      "source": [
        "### Display The Comparison Lists"
      ],
      "id": "sbGXvBLQZw5E"
    },
    {
      "cell_type": "code",
      "execution_count": null,
      "metadata": {
        "colab": {
          "base_uri": "https://localhost:8080/"
        },
        "id": "1d74d515",
        "outputId": "af12e1f8-e892-4c61-c138-47c70feb4016"
      },
      "outputs": [
        {
          "output_type": "stream",
          "name": "stdout",
          "text": [
            "['LinearRegression', 'Support Vector Regressor', 'Decision Tree Regressor'],[309463684230.49084, 462614858675.3314, 229462452792.33652],[0.32710689817674, -0.005902673128267422, 0.501060352217588],"
          ]
        }
      ],
      "source": [
        "for i in Algorithm, MSE_Score, R2_Score:\n",
        "    print(i,end=',')"
      ],
      "id": "1d74d515"
    },
    {
      "cell_type": "markdown",
      "metadata": {
        "id": "4ae9979b"
      },
      "source": [
        "### Your next model would be Random Forest Regression\n",
        "\n",
        "- Step 1 : Call the Random Forest Regressor from sklearn library\n",
        "- Step 2 : make an object of Random Forest\n",
        "- Step 3 : fit the X_train and y_train dataframe into the object \n",
        "- Step 4 : Predict the output by passing the X_test Dataset into predict function\n",
        "\n",
        "\n",
        "\n",
        "\n",
        "- Note - Append the Algorithm name into the algorithm list for tracking purpose"
      ],
      "id": "4ae9979b"
    },
    {
      "cell_type": "code",
      "execution_count": null,
      "metadata": {
        "colab": {
          "base_uri": "https://localhost:8080/"
        },
        "id": "a69e476a",
        "outputId": "f3a68a6d-08e1-407f-b678-69c38c016f0c"
      },
      "outputs": [
        {
          "output_type": "stream",
          "name": "stderr",
          "text": [
            "/usr/local/lib/python3.7/dist-packages/ipykernel_launcher.py:4: DataConversionWarning: A column-vector y was passed when a 1d array was expected. Please change the shape of y to (n_samples,), for example using ravel().\n",
            "  after removing the cwd from sys.path.\n"
          ]
        }
      ],
      "source": [
        "from sklearn.ensemble import RandomForestRegressor\n",
        "Algorithm.append('Random Forest Regressor')\n",
        "rfr =RandomForestRegressor()\n",
        "rfr.fit(X_train,Y_train)\n",
        "rfr_predicted= svr.predict(X_test)"
      ],
      "id": "a69e476a"
    },
    {
      "cell_type": "markdown",
      "metadata": {
        "id": "XNcEJF-6anof"
      },
      "source": [
        "### Check for the \n",
        "\n",
        "- Mean Square Error\n",
        "- R Square Error \n",
        "\n",
        "for y_test and predicted dataset and store those data inside respective list for comparison "
      ],
      "id": "XNcEJF-6anof"
    },
    {
      "cell_type": "code",
      "execution_count": null,
      "metadata": {
        "id": "826f63f4"
      },
      "outputs": [],
      "source": [
        "MSE_Score.append(mean_squared_error(Y_test, rfr_predicted))\n",
        "R2_Score.append(r2_score(Y_test, rfr_predicted))"
      ],
      "id": "826f63f4"
    },
    {
      "cell_type": "markdown",
      "metadata": {
        "id": "yMbyr9V4ati1"
      },
      "source": [
        "### Check the same for the Validation set also "
      ],
      "id": "yMbyr9V4ati1"
    },
    {
      "cell_type": "code",
      "execution_count": null,
      "metadata": {
        "colab": {
          "base_uri": "https://localhost:8080/"
        },
        "id": "55b9fb54",
        "outputId": "7a0ea040-fbf2-4b5a-adf3-a1a0cfa2dcc5"
      },
      "outputs": [
        {
          "output_type": "execute_result",
          "data": {
            "text/plain": [
              "345236.5438536717"
            ]
          },
          "metadata": {},
          "execution_count": 113
        }
      ],
      "source": [
        "predict_test4= rfr.predict(X_val)\n",
        "mean_squared_error(Y_val, predict_test4, squared=False)"
      ],
      "id": "55b9fb54"
    },
    {
      "cell_type": "markdown",
      "metadata": {
        "id": "tiBawcCsaw_Z"
      },
      "source": [
        "### Display The Comparison Lists\n"
      ],
      "id": "tiBawcCsaw_Z"
    },
    {
      "cell_type": "code",
      "execution_count": null,
      "metadata": {
        "colab": {
          "base_uri": "https://localhost:8080/"
        },
        "id": "8277c13e",
        "outputId": "d08545be-ff8d-4cf0-95ca-d1ebe51c3e41"
      },
      "outputs": [
        {
          "output_type": "stream",
          "name": "stdout",
          "text": [
            "['LinearRegression', 'Support Vector Regressor', 'Decision Tree Regressor', 'Random Forest Regressor'],[309463684230.49084, 462614858675.3314, 229462452792.33652, 462614858675.3314],[0.32710689817674, -0.005902673128267422, 0.501060352217588, -0.005902673128267422],"
          ]
        }
      ],
      "source": [
        "for i in Algorithm, MSE_Score, R2_Score:\n",
        "    print(i,end=',')"
      ],
      "id": "8277c13e"
    },
    {
      "cell_type": "markdown",
      "metadata": {
        "id": "e6b21881"
      },
      "source": [
        "### The last but not the least model would be XGBoost or Extreme Gradient Boost Regression\n",
        "\n",
        "- Step 1 : Call the XGBoost Regressor from xgb library\n",
        "- Step 2 : make an object of Xgboost\n",
        "- Step 3 : fit the X_train and y_train dataframe into the object \n",
        "- Step 4 : Predict the output by passing the X_test Dataset into predict function\n",
        "\n",
        "\n",
        "\n",
        "\n",
        "- Note - Append the Algorithm name into the algorithm list for tracking purpose### Extreme Gradient Boost Regression\n",
        "- Note -  No need to change the code "
      ],
      "id": "e6b21881"
    },
    {
      "cell_type": "code",
      "execution_count": null,
      "metadata": {
        "colab": {
          "base_uri": "https://localhost:8080/"
        },
        "id": "705a38ec",
        "outputId": "40803ddb-7a98-4ad8-bf85-e20a4ba5cbbe"
      },
      "outputs": [
        {
          "output_type": "stream",
          "name": "stdout",
          "text": [
            "[12:11:51] WARNING: /workspace/src/objective/regression_obj.cu:152: reg:linear is now deprecated in favor of reg:squarederror.\n"
          ]
        }
      ],
      "source": [
        "import xgboost as xgb\n",
        "Algorithm.append('XGB Regressor')\n",
        "regressor2 = xgb.XGBRegressor()\n",
        "regressor2.fit(X_train, Y_train)\n",
        "xgb_predicted = regressor2.predict(X_test)"
      ],
      "id": "705a38ec"
    },
    {
      "cell_type": "markdown",
      "metadata": {
        "id": "ierNZkb9bQDD"
      },
      "source": [
        "### Check for the \n",
        "\n",
        "- Mean Square Error\n",
        "- R Square Error \n",
        "\n",
        "for y_test and predicted dataset and store those data inside respective list for comparison "
      ],
      "id": "ierNZkb9bQDD"
    },
    {
      "cell_type": "code",
      "execution_count": null,
      "metadata": {
        "id": "507a9d2f"
      },
      "outputs": [],
      "source": [
        "MSE_Score.append(mean_squared_error(Y_test, xgb_predicted))\n",
        "R2_Score.append(r2_score(Y_test, xgb_predicted))"
      ],
      "id": "507a9d2f"
    },
    {
      "cell_type": "markdown",
      "metadata": {
        "id": "84UZ2ojsbWaH"
      },
      "source": [
        "### Check the same for the Validation set also "
      ],
      "id": "84UZ2ojsbWaH"
    },
    {
      "cell_type": "code",
      "execution_count": null,
      "metadata": {
        "colab": {
          "base_uri": "https://localhost:8080/"
        },
        "id": "e78ac250",
        "outputId": "34a1ad48-5073-4330-b31e-22107c3db885"
      },
      "outputs": [
        {
          "output_type": "execute_result",
          "data": {
            "text/plain": [
              "377263.2873607911"
            ]
          },
          "metadata": {},
          "execution_count": 117
        }
      ],
      "source": [
        "predict_test5= regressor2.predict(X_val)\n",
        "mean_squared_error(Y_val, predict_test5, squared=False)"
      ],
      "id": "e78ac250"
    },
    {
      "cell_type": "markdown",
      "metadata": {
        "id": "9FJFyaVbbbAH"
      },
      "source": [
        "### Display The Comparison Lists\n"
      ],
      "id": "9FJFyaVbbbAH"
    },
    {
      "cell_type": "code",
      "execution_count": null,
      "metadata": {
        "colab": {
          "base_uri": "https://localhost:8080/"
        },
        "id": "f765ba35",
        "outputId": "1e6ba0bd-2989-482d-af3c-c15a9dd9515d"
      },
      "outputs": [
        {
          "output_type": "stream",
          "name": "stdout",
          "text": [
            "['LinearRegression', 'Support Vector Regressor', 'Decision Tree Regressor', 'Random Forest Regressor', 'XGB Regressor'],[309463684230.49084, 462614858675.3314, 229462452792.33652, 462614858675.3314, 126302270011.47188],[0.32710689817674, -0.005902673128267422, 0.501060352217588, -0.005902673128267422, 0.7253702758478162],"
          ]
        }
      ],
      "source": [
        "\n",
        "listed=[]\n",
        "for i in Algorithm, MSE_Score, R2_Score:\n",
        "    print(i,end=',')\n",
        "    listed.append(i)"
      ],
      "id": "f765ba35"
    },
    {
      "cell_type": "markdown",
      "metadata": {
        "id": "a71bc90f"
      },
      "source": [
        "## You need to make the comparison list into a comparison dataframe "
      ],
      "id": "a71bc90f"
    },
    {
      "cell_type": "code",
      "execution_count": null,
      "metadata": {
        "id": "ff5159a7"
      },
      "outputs": [],
      "source": [
        "comp_df = pd.DataFrame(listed).T"
      ],
      "id": "ff5159a7"
    },
    {
      "cell_type": "code",
      "execution_count": null,
      "metadata": {
        "colab": {
          "base_uri": "https://localhost:8080/",
          "height": 206
        },
        "id": "ZIKHVL6v6Enb",
        "outputId": "0704e69a-b56d-4cf5-91a4-f90579fb1316"
      },
      "outputs": [
        {
          "output_type": "execute_result",
          "data": {
            "text/plain": [
              "                  Algorithm            MSE_Score  R2_Score\n",
              "0          LinearRegression  309463684230.490845  0.327107\n",
              "1  Support Vector Regressor  462614858675.331421 -0.005903\n",
              "2   Decision Tree Regressor  229462452792.336517   0.50106\n",
              "3   Random Forest Regressor  462614858675.331421 -0.005903\n",
              "4             XGB Regressor  126302270011.471878   0.72537"
            ],
            "text/html": [
              "\n",
              "  <div id=\"df-923cb950-1a29-4506-ad04-00bc8007775d\">\n",
              "    <div class=\"colab-df-container\">\n",
              "      <div>\n",
              "<style scoped>\n",
              "    .dataframe tbody tr th:only-of-type {\n",
              "        vertical-align: middle;\n",
              "    }\n",
              "\n",
              "    .dataframe tbody tr th {\n",
              "        vertical-align: top;\n",
              "    }\n",
              "\n",
              "    .dataframe thead th {\n",
              "        text-align: right;\n",
              "    }\n",
              "</style>\n",
              "<table border=\"1\" class=\"dataframe\">\n",
              "  <thead>\n",
              "    <tr style=\"text-align: right;\">\n",
              "      <th></th>\n",
              "      <th>Algorithm</th>\n",
              "      <th>MSE_Score</th>\n",
              "      <th>R2_Score</th>\n",
              "    </tr>\n",
              "  </thead>\n",
              "  <tbody>\n",
              "    <tr>\n",
              "      <th>0</th>\n",
              "      <td>LinearRegression</td>\n",
              "      <td>309463684230.490845</td>\n",
              "      <td>0.327107</td>\n",
              "    </tr>\n",
              "    <tr>\n",
              "      <th>1</th>\n",
              "      <td>Support Vector Regressor</td>\n",
              "      <td>462614858675.331421</td>\n",
              "      <td>-0.005903</td>\n",
              "    </tr>\n",
              "    <tr>\n",
              "      <th>2</th>\n",
              "      <td>Decision Tree Regressor</td>\n",
              "      <td>229462452792.336517</td>\n",
              "      <td>0.50106</td>\n",
              "    </tr>\n",
              "    <tr>\n",
              "      <th>3</th>\n",
              "      <td>Random Forest Regressor</td>\n",
              "      <td>462614858675.331421</td>\n",
              "      <td>-0.005903</td>\n",
              "    </tr>\n",
              "    <tr>\n",
              "      <th>4</th>\n",
              "      <td>XGB Regressor</td>\n",
              "      <td>126302270011.471878</td>\n",
              "      <td>0.72537</td>\n",
              "    </tr>\n",
              "  </tbody>\n",
              "</table>\n",
              "</div>\n",
              "      <button class=\"colab-df-convert\" onclick=\"convertToInteractive('df-923cb950-1a29-4506-ad04-00bc8007775d')\"\n",
              "              title=\"Convert this dataframe to an interactive table.\"\n",
              "              style=\"display:none;\">\n",
              "        \n",
              "  <svg xmlns=\"http://www.w3.org/2000/svg\" height=\"24px\"viewBox=\"0 0 24 24\"\n",
              "       width=\"24px\">\n",
              "    <path d=\"M0 0h24v24H0V0z\" fill=\"none\"/>\n",
              "    <path d=\"M18.56 5.44l.94 2.06.94-2.06 2.06-.94-2.06-.94-.94-2.06-.94 2.06-2.06.94zm-11 1L8.5 8.5l.94-2.06 2.06-.94-2.06-.94L8.5 2.5l-.94 2.06-2.06.94zm10 10l.94 2.06.94-2.06 2.06-.94-2.06-.94-.94-2.06-.94 2.06-2.06.94z\"/><path d=\"M17.41 7.96l-1.37-1.37c-.4-.4-.92-.59-1.43-.59-.52 0-1.04.2-1.43.59L10.3 9.45l-7.72 7.72c-.78.78-.78 2.05 0 2.83L4 21.41c.39.39.9.59 1.41.59.51 0 1.02-.2 1.41-.59l7.78-7.78 2.81-2.81c.8-.78.8-2.07 0-2.86zM5.41 20L4 18.59l7.72-7.72 1.47 1.35L5.41 20z\"/>\n",
              "  </svg>\n",
              "      </button>\n",
              "      \n",
              "  <style>\n",
              "    .colab-df-container {\n",
              "      display:flex;\n",
              "      flex-wrap:wrap;\n",
              "      gap: 12px;\n",
              "    }\n",
              "\n",
              "    .colab-df-convert {\n",
              "      background-color: #E8F0FE;\n",
              "      border: none;\n",
              "      border-radius: 50%;\n",
              "      cursor: pointer;\n",
              "      display: none;\n",
              "      fill: #1967D2;\n",
              "      height: 32px;\n",
              "      padding: 0 0 0 0;\n",
              "      width: 32px;\n",
              "    }\n",
              "\n",
              "    .colab-df-convert:hover {\n",
              "      background-color: #E2EBFA;\n",
              "      box-shadow: 0px 1px 2px rgba(60, 64, 67, 0.3), 0px 1px 3px 1px rgba(60, 64, 67, 0.15);\n",
              "      fill: #174EA6;\n",
              "    }\n",
              "\n",
              "    [theme=dark] .colab-df-convert {\n",
              "      background-color: #3B4455;\n",
              "      fill: #D2E3FC;\n",
              "    }\n",
              "\n",
              "    [theme=dark] .colab-df-convert:hover {\n",
              "      background-color: #434B5C;\n",
              "      box-shadow: 0px 1px 3px 1px rgba(0, 0, 0, 0.15);\n",
              "      filter: drop-shadow(0px 1px 2px rgba(0, 0, 0, 0.3));\n",
              "      fill: #FFFFFF;\n",
              "    }\n",
              "  </style>\n",
              "\n",
              "      <script>\n",
              "        const buttonEl =\n",
              "          document.querySelector('#df-923cb950-1a29-4506-ad04-00bc8007775d button.colab-df-convert');\n",
              "        buttonEl.style.display =\n",
              "          google.colab.kernel.accessAllowed ? 'block' : 'none';\n",
              "\n",
              "        async function convertToInteractive(key) {\n",
              "          const element = document.querySelector('#df-923cb950-1a29-4506-ad04-00bc8007775d');\n",
              "          const dataTable =\n",
              "            await google.colab.kernel.invokeFunction('convertToInteractive',\n",
              "                                                     [key], {});\n",
              "          if (!dataTable) return;\n",
              "\n",
              "          const docLinkHtml = 'Like what you see? Visit the ' +\n",
              "            '<a target=\"_blank\" href=https://colab.research.google.com/notebooks/data_table.ipynb>data table notebook</a>'\n",
              "            + ' to learn more about interactive tables.';\n",
              "          element.innerHTML = '';\n",
              "          dataTable['output_type'] = 'display_data';\n",
              "          await google.colab.output.renderOutput(dataTable, element);\n",
              "          const docLink = document.createElement('div');\n",
              "          docLink.innerHTML = docLinkHtml;\n",
              "          element.appendChild(docLink);\n",
              "        }\n",
              "      </script>\n",
              "    </div>\n",
              "  </div>\n",
              "  "
            ]
          },
          "metadata": {},
          "execution_count": 120
        }
      ],
      "source": [
        "comp_df.rename(columns={0 : 'Algorithm' , 1 : 'MSE_Score', 2 : 'R2_Score'})"
      ],
      "id": "ZIKHVL6v6Enb"
    },
    {
      "cell_type": "markdown",
      "metadata": {
        "id": "62e61c60"
      },
      "source": [
        "## Now from the Comparison table, you need to choose the best fit model\n",
        "\n",
        "- Step 1 - Fit X_train and y_train inside the model \n",
        "- Step 2 - Predict the X_test dataset\n",
        "- Step 3 - Predict the X_val dataset\n",
        "\n",
        "\n",
        "- Note - No need to change the code"
      ],
      "id": "62e61c60"
    },
    {
      "cell_type": "code",
      "execution_count": null,
      "metadata": {
        "colab": {
          "base_uri": "https://localhost:8080/"
        },
        "id": "3e07c258",
        "outputId": "06fbe071-45fc-4c2e-d3ec-8b2b070430c5"
      },
      "outputs": [
        {
          "output_type": "stream",
          "name": "stdout",
          "text": [
            "[12:11:53] WARNING: /workspace/src/objective/regression_obj.cu:152: reg:linear is now deprecated in favor of reg:squarederror.\n"
          ]
        }
      ],
      "source": [
        "regressorfinal = xgb.XGBRegressor()\n",
        "regressorfinal.fit(X_train, Y_train)\n",
        "predictedfinal = regressorfinal.predict(X_test)\n",
        "predict_testfinal = regressorfinal.predict(X_val)"
      ],
      "id": "3e07c258"
    },
    {
      "cell_type": "markdown",
      "metadata": {
        "id": "8e4df6c4"
      },
      "source": [
        "### Calculate the Mean Square Error for test dataset\n",
        "\n",
        "- Note - No need to change the code"
      ],
      "id": "8e4df6c4"
    },
    {
      "cell_type": "code",
      "execution_count": null,
      "metadata": {
        "colab": {
          "base_uri": "https://localhost:8080/"
        },
        "id": "5fb466d0",
        "outputId": "15e703e4-9aa3-49e8-a496-e4d2416cabc2"
      },
      "outputs": [
        {
          "output_type": "execute_result",
          "data": {
            "text/plain": [
              "355390.30658062676"
            ]
          },
          "metadata": {},
          "execution_count": 122
        }
      ],
      "source": [
        "mean_squared_error(Y_test,predictedfinal,squared=False)"
      ],
      "id": "5fb466d0"
    },
    {
      "cell_type": "markdown",
      "metadata": {
        "id": "ce27f87f"
      },
      "source": [
        "### Calculate the mean Square Error for validation dataset"
      ],
      "id": "ce27f87f"
    },
    {
      "cell_type": "code",
      "execution_count": null,
      "metadata": {
        "colab": {
          "base_uri": "https://localhost:8080/"
        },
        "id": "b47978ea",
        "outputId": "27752ee7-d301-4618-a3cf-40eceead18c2"
      },
      "outputs": [
        {
          "output_type": "execute_result",
          "data": {
            "text/plain": [
              "377263.2873607911"
            ]
          },
          "metadata": {},
          "execution_count": 123
        }
      ],
      "source": [
        "mean_squared_error(Y_val,predict_testfinal,squared=False)"
      ],
      "id": "b47978ea"
    },
    {
      "cell_type": "markdown",
      "metadata": {
        "id": "30014dbd"
      },
      "source": [
        "### Calculate the R2 score for test"
      ],
      "id": "30014dbd"
    },
    {
      "cell_type": "code",
      "execution_count": null,
      "metadata": {
        "colab": {
          "base_uri": "https://localhost:8080/"
        },
        "id": "8a162737",
        "outputId": "d28a857f-47b4-485a-a60e-7ddf1df81f7d"
      },
      "outputs": [
        {
          "output_type": "execute_result",
          "data": {
            "text/plain": [
              "0.7253702758478162"
            ]
          },
          "metadata": {},
          "execution_count": 124
        }
      ],
      "source": [
        "r2_score(Y_test, predictedfinal)"
      ],
      "id": "8a162737"
    },
    {
      "cell_type": "markdown",
      "metadata": {
        "id": "1c9853b0"
      },
      "source": [
        "### Calculate the R2 score for Validation"
      ],
      "id": "1c9853b0"
    },
    {
      "cell_type": "code",
      "execution_count": null,
      "metadata": {
        "colab": {
          "base_uri": "https://localhost:8080/"
        },
        "id": "1a6dc77c",
        "outputId": "95384e76-d24b-4930-f1d4-b329774b374b"
      },
      "outputs": [
        {
          "output_type": "execute_result",
          "data": {
            "text/plain": [
              "0.656497072419361"
            ]
          },
          "metadata": {},
          "execution_count": 125
        }
      ],
      "source": [
        "r2_score(Y_val, predict_testfinal)"
      ],
      "id": "1a6dc77c"
    },
    {
      "cell_type": "markdown",
      "metadata": {
        "id": "499522d9"
      },
      "source": [
        "### Calculate the Accuracy for train Dataset "
      ],
      "id": "499522d9"
    },
    {
      "cell_type": "code",
      "execution_count": null,
      "metadata": {
        "colab": {
          "base_uri": "https://localhost:8080/"
        },
        "id": "7a4f1ce8",
        "outputId": "1c72fd3a-efd1-4c0b-982a-a043a0cd1045"
      },
      "outputs": [
        {
          "output_type": "stream",
          "name": "stdout",
          "text": [
            " Accuracy for train dataset =  74.56266450502171 %\n"
          ]
        }
      ],
      "source": [
        "r2_score1 = regressorfinal.score(X_train,Y_train)\n",
        "print(' Accuracy for train dataset = ',r2_score1*100,'%')"
      ],
      "id": "7a4f1ce8"
    },
    {
      "cell_type": "markdown",
      "metadata": {
        "id": "12a1c921"
      },
      "source": [
        "### Calculate the accuracy for validation"
      ],
      "id": "12a1c921"
    },
    {
      "cell_type": "code",
      "execution_count": null,
      "metadata": {
        "colab": {
          "base_uri": "https://localhost:8080/"
        },
        "id": "d2579b4f",
        "outputId": "ed664eb7-fad7-412b-c265-4ca790683aac"
      },
      "outputs": [
        {
          "output_type": "stream",
          "name": "stdout",
          "text": [
            " Accuracy for train dataset =  65.6497072419361 %\n"
          ]
        }
      ],
      "source": [
        "r2_score2 = regressorfinal.score(X_val,Y_val)\n",
        "print(' Accuracy for train dataset = ',r2_score2*100,'%')"
      ],
      "id": "d2579b4f"
    },
    {
      "cell_type": "markdown",
      "metadata": {
        "id": "79b82e84"
      },
      "source": [
        "### Calculate the accuracy for test"
      ],
      "id": "79b82e84"
    },
    {
      "cell_type": "code",
      "execution_count": null,
      "metadata": {
        "colab": {
          "base_uri": "https://localhost:8080/"
        },
        "id": "f09e6431",
        "outputId": "ac845eed-d81c-46a1-c5d6-4a0a2f0a7be3"
      },
      "outputs": [
        {
          "output_type": "stream",
          "name": "stdout",
          "text": [
            " Accuracy for train dataset =  72.53702758478163 %\n"
          ]
        }
      ],
      "source": [
        "r2_score2 = regressorfinal.score(X_test,Y_test)\n",
        "print(' Accuracy for train dataset = ',r2_score2*100,'%')"
      ],
      "id": "f09e6431"
    },
    {
      "cell_type": "markdown",
      "metadata": {
        "id": "9488a5d9"
      },
      "source": [
        "## Specify the reason behind choosing your machine learning model \n",
        "\n",
        "- Note : Provide your answer as a text here"
      ],
      "id": "9488a5d9"
    },
    {
      "cell_type": "markdown",
      "metadata": {
        "id": "387a6519"
      },
      "source": [
        "## Now you need to pass the Nulldata dataframe into this machine learning model\n",
        "\n",
        "#### In order to pass this Nulldata dataframe into the ML model, we need to perform the following\n",
        "\n",
        "- Step 1 : Label Encoding \n",
        "- Step 2 : Day, Month and Year extraction \n",
        "- Step 3 : Change all the column data type into int64 or float64\n",
        "- Step 4 : Need to drop the useless columns "
      ],
      "id": "387a6519"
    },
    {
      "cell_type": "markdown",
      "metadata": {
        "id": "I7JuxAkdiAdI"
      },
      "source": [
        "### Display the Nulldata "
      ],
      "id": "I7JuxAkdiAdI"
    },
    {
      "cell_type": "code",
      "execution_count": null,
      "metadata": {
        "colab": {
          "base_uri": "https://localhost:8080/",
          "height": 557
        },
        "id": "6d6a51d2",
        "outputId": "1d09ff4a-4faa-46d6-ccb9-738d7a60bfd1"
      },
      "outputs": [
        {
          "output_type": "execute_result",
          "data": {
            "text/plain": [
              "      business_code cust_number      name_customer clear_date  buisness_year  \\\n",
              "5              U001  0200744019            TARG us        NaT         2020.0   \n",
              "8              U001  0200418007                AM         NaT         2020.0   \n",
              "12             U001  0200739534         OK systems        NaT         2020.0   \n",
              "13             U001  0200353024   DECA corporation        NaT         2020.0   \n",
              "20             U001  0200744019    TARG associates        NaT         2020.0   \n",
              "...             ...         ...                ...        ...            ...   \n",
              "48809          CA02  0140104440     SO corporation        NaT         2020.0   \n",
              "48830          CA02  0140104472         MARTIN llc        NaT         2020.0   \n",
              "48833          CA02   140106408   WAL-M associates        NaT         2020.0   \n",
              "48834          CA02  0140104472  MARTIN associates        NaT         2020.0   \n",
              "48837          CA02  0140104409             LOB co        NaT         2020.0   \n",
              "\n",
              "             doc_id posting_date due_in_date baseline_create_date  \\\n",
              "5      1.930659e+09   2020-03-19  2020-04-03           2020-03-19   \n",
              "8      1.930611e+09   2020-03-11  2020-03-26           2020-03-11   \n",
              "12     1.930788e+09   2020-04-15  2020-04-30           2020-04-15   \n",
              "13     1.930817e+09   2020-04-23  2020-04-26           2020-04-16   \n",
              "20     1.930676e+09   2020-03-21  2020-04-05           2020-03-21   \n",
              "...             ...          ...         ...                  ...   \n",
              "48809  2.960622e+09   2020-03-16  2020-03-28           2020-03-18   \n",
              "48830  2.960618e+09   2020-03-04  2020-03-16           2020-03-06   \n",
              "48833  2.960628e+09   2020-04-12  2020-04-22           2020-04-12   \n",
              "48834  2.960628e+09   2020-04-17  2020-05-02           2020-04-22   \n",
              "48837  2.960631e+09   2020-04-25  2020-05-15           2020-05-05   \n",
              "\n",
              "      cust_payment_terms  converted_usd  \n",
              "5                   NAA8      11173.020  \n",
              "8                   NAA8       3525.590  \n",
              "12                  NAA8     121105.650  \n",
              "13                  NAM2       3726.060  \n",
              "20                  NAA8       5893.010  \n",
              "...                  ...            ...  \n",
              "48809               CA10      42516.719  \n",
              "48830               CA10      21149.100  \n",
              "48833               CA10       5978.266  \n",
              "48834               CA10       1153.152  \n",
              "48837               CA10      65370.767  \n",
              "\n",
              "[9681 rows x 11 columns]"
            ],
            "text/html": [
              "\n",
              "  <div id=\"df-d7a613b8-6c98-4df2-a601-10950c9f2290\">\n",
              "    <div class=\"colab-df-container\">\n",
              "      <div>\n",
              "<style scoped>\n",
              "    .dataframe tbody tr th:only-of-type {\n",
              "        vertical-align: middle;\n",
              "    }\n",
              "\n",
              "    .dataframe tbody tr th {\n",
              "        vertical-align: top;\n",
              "    }\n",
              "\n",
              "    .dataframe thead th {\n",
              "        text-align: right;\n",
              "    }\n",
              "</style>\n",
              "<table border=\"1\" class=\"dataframe\">\n",
              "  <thead>\n",
              "    <tr style=\"text-align: right;\">\n",
              "      <th></th>\n",
              "      <th>business_code</th>\n",
              "      <th>cust_number</th>\n",
              "      <th>name_customer</th>\n",
              "      <th>clear_date</th>\n",
              "      <th>buisness_year</th>\n",
              "      <th>doc_id</th>\n",
              "      <th>posting_date</th>\n",
              "      <th>due_in_date</th>\n",
              "      <th>baseline_create_date</th>\n",
              "      <th>cust_payment_terms</th>\n",
              "      <th>converted_usd</th>\n",
              "    </tr>\n",
              "  </thead>\n",
              "  <tbody>\n",
              "    <tr>\n",
              "      <th>5</th>\n",
              "      <td>U001</td>\n",
              "      <td>0200744019</td>\n",
              "      <td>TARG us</td>\n",
              "      <td>NaT</td>\n",
              "      <td>2020.0</td>\n",
              "      <td>1.930659e+09</td>\n",
              "      <td>2020-03-19</td>\n",
              "      <td>2020-04-03</td>\n",
              "      <td>2020-03-19</td>\n",
              "      <td>NAA8</td>\n",
              "      <td>11173.020</td>\n",
              "    </tr>\n",
              "    <tr>\n",
              "      <th>8</th>\n",
              "      <td>U001</td>\n",
              "      <td>0200418007</td>\n",
              "      <td>AM</td>\n",
              "      <td>NaT</td>\n",
              "      <td>2020.0</td>\n",
              "      <td>1.930611e+09</td>\n",
              "      <td>2020-03-11</td>\n",
              "      <td>2020-03-26</td>\n",
              "      <td>2020-03-11</td>\n",
              "      <td>NAA8</td>\n",
              "      <td>3525.590</td>\n",
              "    </tr>\n",
              "    <tr>\n",
              "      <th>12</th>\n",
              "      <td>U001</td>\n",
              "      <td>0200739534</td>\n",
              "      <td>OK systems</td>\n",
              "      <td>NaT</td>\n",
              "      <td>2020.0</td>\n",
              "      <td>1.930788e+09</td>\n",
              "      <td>2020-04-15</td>\n",
              "      <td>2020-04-30</td>\n",
              "      <td>2020-04-15</td>\n",
              "      <td>NAA8</td>\n",
              "      <td>121105.650</td>\n",
              "    </tr>\n",
              "    <tr>\n",
              "      <th>13</th>\n",
              "      <td>U001</td>\n",
              "      <td>0200353024</td>\n",
              "      <td>DECA corporation</td>\n",
              "      <td>NaT</td>\n",
              "      <td>2020.0</td>\n",
              "      <td>1.930817e+09</td>\n",
              "      <td>2020-04-23</td>\n",
              "      <td>2020-04-26</td>\n",
              "      <td>2020-04-16</td>\n",
              "      <td>NAM2</td>\n",
              "      <td>3726.060</td>\n",
              "    </tr>\n",
              "    <tr>\n",
              "      <th>20</th>\n",
              "      <td>U001</td>\n",
              "      <td>0200744019</td>\n",
              "      <td>TARG associates</td>\n",
              "      <td>NaT</td>\n",
              "      <td>2020.0</td>\n",
              "      <td>1.930676e+09</td>\n",
              "      <td>2020-03-21</td>\n",
              "      <td>2020-04-05</td>\n",
              "      <td>2020-03-21</td>\n",
              "      <td>NAA8</td>\n",
              "      <td>5893.010</td>\n",
              "    </tr>\n",
              "    <tr>\n",
              "      <th>...</th>\n",
              "      <td>...</td>\n",
              "      <td>...</td>\n",
              "      <td>...</td>\n",
              "      <td>...</td>\n",
              "      <td>...</td>\n",
              "      <td>...</td>\n",
              "      <td>...</td>\n",
              "      <td>...</td>\n",
              "      <td>...</td>\n",
              "      <td>...</td>\n",
              "      <td>...</td>\n",
              "    </tr>\n",
              "    <tr>\n",
              "      <th>48809</th>\n",
              "      <td>CA02</td>\n",
              "      <td>0140104440</td>\n",
              "      <td>SO corporation</td>\n",
              "      <td>NaT</td>\n",
              "      <td>2020.0</td>\n",
              "      <td>2.960622e+09</td>\n",
              "      <td>2020-03-16</td>\n",
              "      <td>2020-03-28</td>\n",
              "      <td>2020-03-18</td>\n",
              "      <td>CA10</td>\n",
              "      <td>42516.719</td>\n",
              "    </tr>\n",
              "    <tr>\n",
              "      <th>48830</th>\n",
              "      <td>CA02</td>\n",
              "      <td>0140104472</td>\n",
              "      <td>MARTIN llc</td>\n",
              "      <td>NaT</td>\n",
              "      <td>2020.0</td>\n",
              "      <td>2.960618e+09</td>\n",
              "      <td>2020-03-04</td>\n",
              "      <td>2020-03-16</td>\n",
              "      <td>2020-03-06</td>\n",
              "      <td>CA10</td>\n",
              "      <td>21149.100</td>\n",
              "    </tr>\n",
              "    <tr>\n",
              "      <th>48833</th>\n",
              "      <td>CA02</td>\n",
              "      <td>140106408</td>\n",
              "      <td>WAL-M associates</td>\n",
              "      <td>NaT</td>\n",
              "      <td>2020.0</td>\n",
              "      <td>2.960628e+09</td>\n",
              "      <td>2020-04-12</td>\n",
              "      <td>2020-04-22</td>\n",
              "      <td>2020-04-12</td>\n",
              "      <td>CA10</td>\n",
              "      <td>5978.266</td>\n",
              "    </tr>\n",
              "    <tr>\n",
              "      <th>48834</th>\n",
              "      <td>CA02</td>\n",
              "      <td>0140104472</td>\n",
              "      <td>MARTIN associates</td>\n",
              "      <td>NaT</td>\n",
              "      <td>2020.0</td>\n",
              "      <td>2.960628e+09</td>\n",
              "      <td>2020-04-17</td>\n",
              "      <td>2020-05-02</td>\n",
              "      <td>2020-04-22</td>\n",
              "      <td>CA10</td>\n",
              "      <td>1153.152</td>\n",
              "    </tr>\n",
              "    <tr>\n",
              "      <th>48837</th>\n",
              "      <td>CA02</td>\n",
              "      <td>0140104409</td>\n",
              "      <td>LOB co</td>\n",
              "      <td>NaT</td>\n",
              "      <td>2020.0</td>\n",
              "      <td>2.960631e+09</td>\n",
              "      <td>2020-04-25</td>\n",
              "      <td>2020-05-15</td>\n",
              "      <td>2020-05-05</td>\n",
              "      <td>CA10</td>\n",
              "      <td>65370.767</td>\n",
              "    </tr>\n",
              "  </tbody>\n",
              "</table>\n",
              "<p>9681 rows × 11 columns</p>\n",
              "</div>\n",
              "      <button class=\"colab-df-convert\" onclick=\"convertToInteractive('df-d7a613b8-6c98-4df2-a601-10950c9f2290')\"\n",
              "              title=\"Convert this dataframe to an interactive table.\"\n",
              "              style=\"display:none;\">\n",
              "        \n",
              "  <svg xmlns=\"http://www.w3.org/2000/svg\" height=\"24px\"viewBox=\"0 0 24 24\"\n",
              "       width=\"24px\">\n",
              "    <path d=\"M0 0h24v24H0V0z\" fill=\"none\"/>\n",
              "    <path d=\"M18.56 5.44l.94 2.06.94-2.06 2.06-.94-2.06-.94-.94-2.06-.94 2.06-2.06.94zm-11 1L8.5 8.5l.94-2.06 2.06-.94-2.06-.94L8.5 2.5l-.94 2.06-2.06.94zm10 10l.94 2.06.94-2.06 2.06-.94-2.06-.94-.94-2.06-.94 2.06-2.06.94z\"/><path d=\"M17.41 7.96l-1.37-1.37c-.4-.4-.92-.59-1.43-.59-.52 0-1.04.2-1.43.59L10.3 9.45l-7.72 7.72c-.78.78-.78 2.05 0 2.83L4 21.41c.39.39.9.59 1.41.59.51 0 1.02-.2 1.41-.59l7.78-7.78 2.81-2.81c.8-.78.8-2.07 0-2.86zM5.41 20L4 18.59l7.72-7.72 1.47 1.35L5.41 20z\"/>\n",
              "  </svg>\n",
              "      </button>\n",
              "      \n",
              "  <style>\n",
              "    .colab-df-container {\n",
              "      display:flex;\n",
              "      flex-wrap:wrap;\n",
              "      gap: 12px;\n",
              "    }\n",
              "\n",
              "    .colab-df-convert {\n",
              "      background-color: #E8F0FE;\n",
              "      border: none;\n",
              "      border-radius: 50%;\n",
              "      cursor: pointer;\n",
              "      display: none;\n",
              "      fill: #1967D2;\n",
              "      height: 32px;\n",
              "      padding: 0 0 0 0;\n",
              "      width: 32px;\n",
              "    }\n",
              "\n",
              "    .colab-df-convert:hover {\n",
              "      background-color: #E2EBFA;\n",
              "      box-shadow: 0px 1px 2px rgba(60, 64, 67, 0.3), 0px 1px 3px 1px rgba(60, 64, 67, 0.15);\n",
              "      fill: #174EA6;\n",
              "    }\n",
              "\n",
              "    [theme=dark] .colab-df-convert {\n",
              "      background-color: #3B4455;\n",
              "      fill: #D2E3FC;\n",
              "    }\n",
              "\n",
              "    [theme=dark] .colab-df-convert:hover {\n",
              "      background-color: #434B5C;\n",
              "      box-shadow: 0px 1px 3px 1px rgba(0, 0, 0, 0.15);\n",
              "      filter: drop-shadow(0px 1px 2px rgba(0, 0, 0, 0.3));\n",
              "      fill: #FFFFFF;\n",
              "    }\n",
              "  </style>\n",
              "\n",
              "      <script>\n",
              "        const buttonEl =\n",
              "          document.querySelector('#df-d7a613b8-6c98-4df2-a601-10950c9f2290 button.colab-df-convert');\n",
              "        buttonEl.style.display =\n",
              "          google.colab.kernel.accessAllowed ? 'block' : 'none';\n",
              "\n",
              "        async function convertToInteractive(key) {\n",
              "          const element = document.querySelector('#df-d7a613b8-6c98-4df2-a601-10950c9f2290');\n",
              "          const dataTable =\n",
              "            await google.colab.kernel.invokeFunction('convertToInteractive',\n",
              "                                                     [key], {});\n",
              "          if (!dataTable) return;\n",
              "\n",
              "          const docLinkHtml = 'Like what you see? Visit the ' +\n",
              "            '<a target=\"_blank\" href=https://colab.research.google.com/notebooks/data_table.ipynb>data table notebook</a>'\n",
              "            + ' to learn more about interactive tables.';\n",
              "          element.innerHTML = '';\n",
              "          dataTable['output_type'] = 'display_data';\n",
              "          await google.colab.output.renderOutput(dataTable, element);\n",
              "          const docLink = document.createElement('div');\n",
              "          docLink.innerHTML = docLinkHtml;\n",
              "          element.appendChild(docLink);\n",
              "        }\n",
              "      </script>\n",
              "    </div>\n",
              "  </div>\n",
              "  "
            ]
          },
          "metadata": {},
          "execution_count": 129
        }
      ],
      "source": [
        "null_data"
      ],
      "id": "6d6a51d2"
    },
    {
      "cell_type": "markdown",
      "metadata": {
        "id": "Vamx5xqtiHCH"
      },
      "source": [
        "### Check for the number of rows and columns in the nulldata"
      ],
      "id": "Vamx5xqtiHCH"
    },
    {
      "cell_type": "code",
      "execution_count": null,
      "metadata": {
        "colab": {
          "base_uri": "https://localhost:8080/"
        },
        "id": "59de1092",
        "outputId": "b410c240-c013-4ac0-ea60-dd9a7225e4dc"
      },
      "outputs": [
        {
          "output_type": "stream",
          "name": "stdout",
          "text": [
            "number of rows :  9681\n",
            "number of columns :  11\n"
          ]
        }
      ],
      "source": [
        "print('number of rows : ' , null_data.shape[0])\n",
        "print('number of columns : ' , null_data.shape[1])"
      ],
      "id": "59de1092"
    },
    {
      "cell_type": "markdown",
      "metadata": {
        "id": "BxzHNbBjpqXL"
      },
      "source": [
        "### Check the Description and Information of the nulldata "
      ],
      "id": "BxzHNbBjpqXL"
    },
    {
      "cell_type": "code",
      "execution_count": null,
      "metadata": {
        "colab": {
          "base_uri": "https://localhost:8080/"
        },
        "id": "a6294d29",
        "outputId": "d5965051-06b5-49fd-e3c0-a345469667e3"
      },
      "outputs": [
        {
          "output_type": "stream",
          "name": "stdout",
          "text": [
            "       buisness_year        doc_id  converted_usd\n",
            "count         9681.0  9.681000e+03    9681.000000\n",
            "mean          2020.0  2.006165e+09   32065.681125\n",
            "std              0.0  2.673629e+08   35419.613688\n",
            "min           2020.0  1.930535e+09       0.720000\n",
            "25%           2020.0  1.930658e+09    5607.190000\n",
            "50%           2020.0  1.930731e+09   19024.190000\n",
            "75%           2020.0  1.930818e+09   47752.640000\n",
            "max           2020.0  2.960636e+09  653644.800000\n",
            "<class 'pandas.core.frame.DataFrame'>\n",
            "Int64Index: 9681 entries, 5 to 48837\n",
            "Data columns (total 11 columns):\n",
            " #   Column                Non-Null Count  Dtype         \n",
            "---  ------                --------------  -----         \n",
            " 0   business_code         9681 non-null   object        \n",
            " 1   cust_number           9681 non-null   object        \n",
            " 2   name_customer         9681 non-null   object        \n",
            " 3   clear_date            0 non-null      datetime64[ns]\n",
            " 4   buisness_year         9681 non-null   float64       \n",
            " 5   doc_id                9681 non-null   float64       \n",
            " 6   posting_date          9681 non-null   datetime64[ns]\n",
            " 7   due_in_date           9681 non-null   datetime64[ns]\n",
            " 8   baseline_create_date  9681 non-null   datetime64[ns]\n",
            " 9   cust_payment_terms    9681 non-null   object        \n",
            " 10  converted_usd         9681 non-null   float64       \n",
            "dtypes: datetime64[ns](4), float64(3), object(4)\n",
            "memory usage: 907.6+ KB\n",
            "None\n"
          ]
        }
      ],
      "source": [
        "print(null_data.describe())\n",
        "print(null_data.info())"
      ],
      "id": "a6294d29"
    },
    {
      "cell_type": "markdown",
      "metadata": {
        "id": "fe860d94"
      },
      "source": [
        "### Storing the Nulldata into a different dataset \n",
        "# for BACKUP"
      ],
      "id": "fe860d94"
    },
    {
      "cell_type": "code",
      "execution_count": null,
      "metadata": {
        "id": "16352034"
      },
      "outputs": [],
      "source": [
        "null_data2 = null_data"
      ],
      "id": "16352034"
    },
    {
      "cell_type": "markdown",
      "metadata": {
        "id": "00f35b8c"
      },
      "source": [
        "### Call the Label Encoder for Nulldata\n",
        "\n",
        "- Note - you are expected to fit \"business_code\" as it is a categorical variable\n",
        "- Note - No need to change the code"
      ],
      "id": "00f35b8c"
    },
    {
      "cell_type": "code",
      "execution_count": null,
      "metadata": {
        "colab": {
          "base_uri": "https://localhost:8080/"
        },
        "id": "baf04b17",
        "outputId": "fb7512a4-e80d-4928-a49f-336aa97bffce"
      },
      "outputs": [
        {
          "output_type": "stream",
          "name": "stderr",
          "text": [
            "/usr/local/lib/python3.7/dist-packages/ipykernel_launcher.py:4: SettingWithCopyWarning: \n",
            "A value is trying to be set on a copy of a slice from a DataFrame.\n",
            "Try using .loc[row_indexer,col_indexer] = value instead\n",
            "\n",
            "See the caveats in the documentation: https://pandas.pydata.org/pandas-docs/stable/user_guide/indexing.html#returning-a-view-versus-a-copy\n",
            "  after removing the cwd from sys.path.\n"
          ]
        }
      ],
      "source": [
        "from sklearn.preprocessing import LabelEncoder\n",
        "business_codern = LabelEncoder()\n",
        "business_codern.fit(null_data['business_code'])\n",
        "null_data['business_code_enc'] = business_codern.transform(null_data['business_code'])"
      ],
      "id": "baf04b17"
    },
    {
      "cell_type": "markdown",
      "metadata": {
        "id": "ZCPBK9karIR-"
      },
      "source": [
        "### Now you need to manually replacing str values with numbers\n",
        "- Note - No need to change the code"
      ],
      "id": "ZCPBK9karIR-"
    },
    {
      "cell_type": "code",
      "execution_count": null,
      "metadata": {
        "colab": {
          "base_uri": "https://localhost:8080/"
        },
        "id": "c64924be",
        "outputId": "ae14f074-2211-4031-ab39-0a4ef54d2eaf"
      },
      "outputs": [
        {
          "output_type": "stream",
          "name": "stderr",
          "text": [
            "/usr/local/lib/python3.7/dist-packages/ipykernel_launcher.py:1: SettingWithCopyWarning: \n",
            "A value is trying to be set on a copy of a slice from a DataFrame.\n",
            "Try using .loc[row_indexer,col_indexer] = value instead\n",
            "\n",
            "See the caveats in the documentation: https://pandas.pydata.org/pandas-docs/stable/user_guide/indexing.html#returning-a-view-versus-a-copy\n",
            "  \"\"\"Entry point for launching an IPython kernel.\n"
          ]
        }
      ],
      "source": [
        "null_data['cust_number'] = null_data['cust_number'].str.replace('CCCA',\"1\").str.replace('CCU',\"2\").str.replace('CC',\"3\").astype(int)"
      ],
      "id": "c64924be"
    },
    {
      "cell_type": "markdown",
      "metadata": {
        "id": "9a55f5f6"
      },
      "source": [
        "## You need to extract day, month and year from the \"clear_date\", \"posting_date\", \"due_in_date\", \"baseline_create_date\" columns\n",
        "\n",
        "\n",
        "##### 1.   Extract day from \"clear_date\" column and store it into 'day_of_cleardate'\n",
        "##### 2.   Extract month from \"clear_date\" column and store it into 'month_of_cleardate'\n",
        "##### 3.   Extract year from \"clear_date\" column and store it into 'year_of_cleardate'\n",
        "\n",
        "\n",
        "\n",
        "##### 4.   Extract day from \"posting_date\" column and store it into 'day_of_postingdate'\n",
        "##### 5.   Extract month from \"posting_date\" column and store it into 'month_of_postingdate'\n",
        "##### 6.   Extract year from \"posting_date\" column and store it into 'year_of_postingdate'\n",
        "\n",
        "\n",
        "\n",
        "\n",
        "##### 7.   Extract day from \"due_in_date\" column and store it into 'day_of_due'\n",
        "##### 8.   Extract month from \"due_in_date\" column and store it into 'month_of_due'\n",
        "##### 9.   Extract year from \"due_in_date\" column and store it into 'year_of_due'\n",
        "\n",
        "\n",
        "\n",
        "\n",
        "##### 10.   Extract day from \"baseline_create_date\" column and store it into 'day_of_createdate'\n",
        "##### 11.   Extract month from \"baseline_create_date\" column and store it into 'month_of_createdate'\n",
        "##### 12.   Extract year from \"baseline_create_date\" column and store it into 'year_of_createdate'\n",
        "\n",
        "\n",
        "\n",
        "\n",
        "- Note - You are supposed To use - \n",
        "\n",
        "*   dt.day\n",
        "*   dt.month\n",
        "*   dt.year"
      ],
      "id": "9a55f5f6"
    },
    {
      "cell_type": "code",
      "execution_count": null,
      "metadata": {
        "colab": {
          "base_uri": "https://localhost:8080/"
        },
        "id": "4166fbe4",
        "outputId": "a15c89d6-fe81-47f4-979a-b0b34b9d2205"
      },
      "outputs": [
        {
          "output_type": "stream",
          "name": "stderr",
          "text": [
            "/usr/local/lib/python3.7/dist-packages/ipykernel_launcher.py:1: SettingWithCopyWarning: \n",
            "A value is trying to be set on a copy of a slice from a DataFrame.\n",
            "Try using .loc[row_indexer,col_indexer] = value instead\n",
            "\n",
            "See the caveats in the documentation: https://pandas.pydata.org/pandas-docs/stable/user_guide/indexing.html#returning-a-view-versus-a-copy\n",
            "  \"\"\"Entry point for launching an IPython kernel.\n",
            "/usr/local/lib/python3.7/dist-packages/ipykernel_launcher.py:2: SettingWithCopyWarning: \n",
            "A value is trying to be set on a copy of a slice from a DataFrame.\n",
            "Try using .loc[row_indexer,col_indexer] = value instead\n",
            "\n",
            "See the caveats in the documentation: https://pandas.pydata.org/pandas-docs/stable/user_guide/indexing.html#returning-a-view-versus-a-copy\n",
            "  \n",
            "/usr/local/lib/python3.7/dist-packages/ipykernel_launcher.py:3: SettingWithCopyWarning: \n",
            "A value is trying to be set on a copy of a slice from a DataFrame.\n",
            "Try using .loc[row_indexer,col_indexer] = value instead\n",
            "\n",
            "See the caveats in the documentation: https://pandas.pydata.org/pandas-docs/stable/user_guide/indexing.html#returning-a-view-versus-a-copy\n",
            "  This is separate from the ipykernel package so we can avoid doing imports until\n",
            "/usr/local/lib/python3.7/dist-packages/ipykernel_launcher.py:5: SettingWithCopyWarning: \n",
            "A value is trying to be set on a copy of a slice from a DataFrame.\n",
            "Try using .loc[row_indexer,col_indexer] = value instead\n",
            "\n",
            "See the caveats in the documentation: https://pandas.pydata.org/pandas-docs/stable/user_guide/indexing.html#returning-a-view-versus-a-copy\n",
            "  \"\"\"\n",
            "/usr/local/lib/python3.7/dist-packages/ipykernel_launcher.py:6: SettingWithCopyWarning: \n",
            "A value is trying to be set on a copy of a slice from a DataFrame.\n",
            "Try using .loc[row_indexer,col_indexer] = value instead\n",
            "\n",
            "See the caveats in the documentation: https://pandas.pydata.org/pandas-docs/stable/user_guide/indexing.html#returning-a-view-versus-a-copy\n",
            "  \n",
            "/usr/local/lib/python3.7/dist-packages/ipykernel_launcher.py:7: SettingWithCopyWarning: \n",
            "A value is trying to be set on a copy of a slice from a DataFrame.\n",
            "Try using .loc[row_indexer,col_indexer] = value instead\n",
            "\n",
            "See the caveats in the documentation: https://pandas.pydata.org/pandas-docs/stable/user_guide/indexing.html#returning-a-view-versus-a-copy\n",
            "  import sys\n",
            "/usr/local/lib/python3.7/dist-packages/ipykernel_launcher.py:9: SettingWithCopyWarning: \n",
            "A value is trying to be set on a copy of a slice from a DataFrame.\n",
            "Try using .loc[row_indexer,col_indexer] = value instead\n",
            "\n",
            "See the caveats in the documentation: https://pandas.pydata.org/pandas-docs/stable/user_guide/indexing.html#returning-a-view-versus-a-copy\n",
            "  if __name__ == '__main__':\n",
            "/usr/local/lib/python3.7/dist-packages/ipykernel_launcher.py:10: SettingWithCopyWarning: \n",
            "A value is trying to be set on a copy of a slice from a DataFrame.\n",
            "Try using .loc[row_indexer,col_indexer] = value instead\n",
            "\n",
            "See the caveats in the documentation: https://pandas.pydata.org/pandas-docs/stable/user_guide/indexing.html#returning-a-view-versus-a-copy\n",
            "  # Remove the CWD from sys.path while we load stuff.\n",
            "/usr/local/lib/python3.7/dist-packages/ipykernel_launcher.py:11: SettingWithCopyWarning: \n",
            "A value is trying to be set on a copy of a slice from a DataFrame.\n",
            "Try using .loc[row_indexer,col_indexer] = value instead\n",
            "\n",
            "See the caveats in the documentation: https://pandas.pydata.org/pandas-docs/stable/user_guide/indexing.html#returning-a-view-versus-a-copy\n",
            "  # This is added back by InteractiveShellApp.init_path()\n",
            "/usr/local/lib/python3.7/dist-packages/ipykernel_launcher.py:13: SettingWithCopyWarning: \n",
            "A value is trying to be set on a copy of a slice from a DataFrame.\n",
            "Try using .loc[row_indexer,col_indexer] = value instead\n",
            "\n",
            "See the caveats in the documentation: https://pandas.pydata.org/pandas-docs/stable/user_guide/indexing.html#returning-a-view-versus-a-copy\n",
            "  del sys.path[0]\n",
            "/usr/local/lib/python3.7/dist-packages/ipykernel_launcher.py:14: SettingWithCopyWarning: \n",
            "A value is trying to be set on a copy of a slice from a DataFrame.\n",
            "Try using .loc[row_indexer,col_indexer] = value instead\n",
            "\n",
            "See the caveats in the documentation: https://pandas.pydata.org/pandas-docs/stable/user_guide/indexing.html#returning-a-view-versus-a-copy\n",
            "  \n",
            "/usr/local/lib/python3.7/dist-packages/ipykernel_launcher.py:15: SettingWithCopyWarning: \n",
            "A value is trying to be set on a copy of a slice from a DataFrame.\n",
            "Try using .loc[row_indexer,col_indexer] = value instead\n",
            "\n",
            "See the caveats in the documentation: https://pandas.pydata.org/pandas-docs/stable/user_guide/indexing.html#returning-a-view-versus-a-copy\n",
            "  from ipykernel import kernelapp as app\n"
          ]
        }
      ],
      "source": [
        "null_data['day_of_due_in_date'] = null_data['due_in_date'].dt.day\n",
        "null_data['month_of_due_in_date'] = null_data['due_in_date'].dt.month\n",
        "null_data['year_of_due_in_date'] = null_data['due_in_date'].dt.year\n",
        "\n",
        "null_data['day_of_postingdate'] = null_data['posting_date'].dt.day\n",
        "null_data['month_of_postingdate'] = null_data['posting_date'].dt.month\n",
        "null_data['year_of_postingdate'] = null_data['posting_date'].dt.year\n",
        "\n",
        "null_data['day_of_cleardate'] = null_data['clear_date'].dt.day\n",
        "null_data['month_of_cleardate'] = null_data['clear_date'].dt.month\n",
        "null_data['year_of_cleardate'] = null_data['clear_date'].dt.year\n",
        "\n",
        "null_data['day_of_baseline_create_date'] = null_data['baseline_create_date'].dt.day\n",
        "null_data['month_of_baseline_create_date'] = null_data['baseline_create_date'].dt.month\n",
        "null_data['year_of_baseline_create_date'] = null_data['baseline_create_date'].dt.year"
      ],
      "id": "4166fbe4"
    },
    {
      "cell_type": "markdown",
      "metadata": {
        "id": "QeHWJYrAvOC6"
      },
      "source": [
        "### Use Label Encoder1 of all the following columns - \n",
        "- 'cust_payment_terms' and store into 'cust_payment_terms_enc'\n",
        "- 'business_code' and store into 'business_code_enc'\n",
        "- 'name_customer' and store into 'name_customer_enc'\n",
        "\n",
        "Note - No need to change the code"
      ],
      "id": "QeHWJYrAvOC6"
    },
    {
      "cell_type": "code",
      "execution_count": null,
      "metadata": {
        "colab": {
          "base_uri": "https://localhost:8080/"
        },
        "id": "bac330e2",
        "outputId": "44b1786f-28cc-4070-95c3-44995040e969"
      },
      "outputs": [
        {
          "output_type": "stream",
          "name": "stderr",
          "text": [
            "/usr/local/lib/python3.7/dist-packages/ipykernel_launcher.py:1: SettingWithCopyWarning: \n",
            "A value is trying to be set on a copy of a slice from a DataFrame.\n",
            "Try using .loc[row_indexer,col_indexer] = value instead\n",
            "\n",
            "See the caveats in the documentation: https://pandas.pydata.org/pandas-docs/stable/user_guide/indexing.html#returning-a-view-versus-a-copy\n",
            "  \"\"\"Entry point for launching an IPython kernel.\n",
            "/usr/local/lib/python3.7/dist-packages/ipykernel_launcher.py:2: SettingWithCopyWarning: \n",
            "A value is trying to be set on a copy of a slice from a DataFrame.\n",
            "Try using .loc[row_indexer,col_indexer] = value instead\n",
            "\n",
            "See the caveats in the documentation: https://pandas.pydata.org/pandas-docs/stable/user_guide/indexing.html#returning-a-view-versus-a-copy\n",
            "  \n",
            "/usr/local/lib/python3.7/dist-packages/ipykernel_launcher.py:3: SettingWithCopyWarning: \n",
            "A value is trying to be set on a copy of a slice from a DataFrame.\n",
            "Try using .loc[row_indexer,col_indexer] = value instead\n",
            "\n",
            "See the caveats in the documentation: https://pandas.pydata.org/pandas-docs/stable/user_guide/indexing.html#returning-a-view-versus-a-copy\n",
            "  This is separate from the ipykernel package so we can avoid doing imports until\n"
          ]
        }
      ],
      "source": [
        "null_data['cust_payment_terms_enc']=label_encoder1.transform(null_data['cust_payment_terms'])\n",
        "null_data['business_code_enc']=label_encoder1.transform(null_data['business_code'])\n",
        "null_data['name_customer_enc']=label_encoder.transform(null_data['name_customer'])"
      ],
      "id": "bac330e2"
    },
    {
      "cell_type": "markdown",
      "metadata": {
        "id": "zD9I-XqQwC28"
      },
      "source": [
        "### Check for the datatypes of all the columns of Nulldata"
      ],
      "id": "zD9I-XqQwC28"
    },
    {
      "cell_type": "code",
      "execution_count": null,
      "metadata": {
        "colab": {
          "base_uri": "https://localhost:8080/"
        },
        "id": "d4f72517",
        "outputId": "7ebd2305-944f-44a6-ccb7-2a9cbd70ef9e"
      },
      "outputs": [
        {
          "output_type": "execute_result",
          "data": {
            "text/plain": [
              "business_code                            object\n",
              "cust_number                               int64\n",
              "name_customer                            object\n",
              "clear_date                       datetime64[ns]\n",
              "buisness_year                           float64\n",
              "doc_id                                  float64\n",
              "posting_date                     datetime64[ns]\n",
              "due_in_date                      datetime64[ns]\n",
              "baseline_create_date             datetime64[ns]\n",
              "cust_payment_terms                       object\n",
              "converted_usd                           float64\n",
              "business_code_enc                         int64\n",
              "day_of_due_in_date                        int64\n",
              "month_of_due_in_date                      int64\n",
              "year_of_due_in_date                       int64\n",
              "day_of_postingdate                        int64\n",
              "month_of_postingdate                      int64\n",
              "year_of_postingdate                       int64\n",
              "day_of_cleardate                        float64\n",
              "month_of_cleardate                      float64\n",
              "year_of_cleardate                       float64\n",
              "day_of_baseline_create_date               int64\n",
              "month_of_baseline_create_date             int64\n",
              "year_of_baseline_create_date              int64\n",
              "cust_payment_terms_enc                    int64\n",
              "name_customer_enc                         int64\n",
              "dtype: object"
            ]
          },
          "metadata": {},
          "execution_count": 137
        }
      ],
      "source": [
        "null_data.dtypes"
      ],
      "id": "d4f72517"
    },
    {
      "cell_type": "markdown",
      "metadata": {
        "id": "17cd5452"
      },
      "source": [
        "### Now you need to drop all the unnecessary columns - \n",
        "\n",
        "- 'business_code'\n",
        "- \"baseline_create_date\"\n",
        "- \"due_in_date\"\n",
        "- \"posting_date\"\n",
        "- \"name_customer\"\n",
        "- \"clear_date\"\n",
        "- \"cust_payment_terms\"\n",
        "- 'day_of_cleardate'\n",
        "- \"month_of_cleardate\"\n",
        "- \"year_of_cleardate\""
      ],
      "id": "17cd5452"
    },
    {
      "cell_type": "code",
      "execution_count": null,
      "metadata": {
        "id": "d7c82076"
      },
      "outputs": [],
      "source": [
        "null_data=null_data.drop(['business_code','baseline_create_date','due_in_date','posting_date','name_customer','clear_date','cust_payment_terms','day_of_cleardate','month_of_cleardate','year_of_cleardate'],axis = 1)"
      ],
      "id": "d7c82076"
    },
    {
      "cell_type": "markdown",
      "metadata": {
        "id": "Q_NCr9IPweVq"
      },
      "source": [
        "### Check the information of the \"nulldata\" dataframe"
      ],
      "id": "Q_NCr9IPweVq"
    },
    {
      "cell_type": "code",
      "execution_count": null,
      "metadata": {
        "colab": {
          "base_uri": "https://localhost:8080/"
        },
        "id": "4e7ffee0",
        "outputId": "9565beb4-ff29-473a-bb5f-44167a1efc5c"
      },
      "outputs": [
        {
          "output_type": "stream",
          "name": "stdout",
          "text": [
            "<class 'pandas.core.frame.DataFrame'>\n",
            "Int64Index: 9681 entries, 5 to 48837\n",
            "Data columns (total 16 columns):\n",
            " #   Column                         Non-Null Count  Dtype  \n",
            "---  ------                         --------------  -----  \n",
            " 0   cust_number                    9681 non-null   int64  \n",
            " 1   buisness_year                  9681 non-null   float64\n",
            " 2   doc_id                         9681 non-null   float64\n",
            " 3   converted_usd                  9681 non-null   float64\n",
            " 4   business_code_enc              9681 non-null   int64  \n",
            " 5   day_of_due_in_date             9681 non-null   int64  \n",
            " 6   month_of_due_in_date           9681 non-null   int64  \n",
            " 7   year_of_due_in_date            9681 non-null   int64  \n",
            " 8   day_of_postingdate             9681 non-null   int64  \n",
            " 9   month_of_postingdate           9681 non-null   int64  \n",
            " 10  year_of_postingdate            9681 non-null   int64  \n",
            " 11  day_of_baseline_create_date    9681 non-null   int64  \n",
            " 12  month_of_baseline_create_date  9681 non-null   int64  \n",
            " 13  year_of_baseline_create_date   9681 non-null   int64  \n",
            " 14  cust_payment_terms_enc         9681 non-null   int64  \n",
            " 15  name_customer_enc              9681 non-null   int64  \n",
            "dtypes: float64(3), int64(13)\n",
            "memory usage: 1.3 MB\n"
          ]
        }
      ],
      "source": [
        "null_data.info()"
      ],
      "id": "4e7ffee0"
    },
    {
      "cell_type": "markdown",
      "metadata": {
        "id": "-XvjhWqmwi-C"
      },
      "source": [
        "### Compare \"nulldata\" with the \"X_test\" dataframe \n",
        "\n",
        "- use info() method"
      ],
      "id": "-XvjhWqmwi-C"
    },
    {
      "cell_type": "code",
      "execution_count": null,
      "metadata": {
        "colab": {
          "base_uri": "https://localhost:8080/"
        },
        "id": "02f4b62d",
        "outputId": "0a02970e-6137-435f-bef2-847ee4486a71"
      },
      "outputs": [
        {
          "output_type": "stream",
          "name": "stdout",
          "text": [
            "<class 'pandas.core.frame.DataFrame'>\n",
            "Int64Index: 7832 entries, 28284 to 33953\n",
            "Data columns (total 16 columns):\n",
            " #   Column                         Non-Null Count  Dtype  \n",
            "---  ------                         --------------  -----  \n",
            " 0   cust_number                    7832 non-null   int64  \n",
            " 1   buisness_year                  7832 non-null   float64\n",
            " 2   doc_id                         7832 non-null   float64\n",
            " 3   converted_usd                  7832 non-null   float64\n",
            " 4   business_code_enc              7832 non-null   int64  \n",
            " 5   name_customer_enc              7832 non-null   int64  \n",
            " 6   cust_payment_terms_enc         7832 non-null   int64  \n",
            " 7   day_of_postingdate             7832 non-null   int64  \n",
            " 8   month_of_postingdate           7832 non-null   int64  \n",
            " 9   year_of_postingdate            7832 non-null   int64  \n",
            " 10  day_of_baseline_create_date    7832 non-null   int64  \n",
            " 11  month_of_baseline_create_date  7832 non-null   int64  \n",
            " 12  year_of_baseline_create_date   7832 non-null   int64  \n",
            " 13  day_of_due_in_date             7832 non-null   int64  \n",
            " 14  month_of_due_in_date           7832 non-null   int64  \n",
            " 15  year_of_due_in_date            7832 non-null   int64  \n",
            "dtypes: float64(3), int64(13)\n",
            "memory usage: 1.0 MB\n"
          ]
        }
      ],
      "source": [
        "X_test.info()"
      ],
      "id": "02f4b62d"
    },
    {
      "cell_type": "markdown",
      "metadata": {
        "id": "Us3ey-9zwqjq"
      },
      "source": [
        "### You must have noticed that there is a mismatch in the column sequence while compairing the dataframes\n",
        "\n",
        "- Note - In order to fed into the machine learning model, you need to edit the sequence of \"nulldata\", similar to the \"X_test\" dataframe"
      ],
      "id": "Us3ey-9zwqjq"
    },
    {
      "cell_type": "markdown",
      "metadata": {
        "id": "vduVNt1kxPW-"
      },
      "source": [
        "- Display all the columns of the X_test dataframe \n",
        "- Display all the columns of the Nulldata dataframe \n",
        "- Store the Nulldata with new sequence into a new dataframe \n",
        "\n",
        "\n",
        "- Note - The code is given below, no need to change "
      ],
      "id": "vduVNt1kxPW-"
    },
    {
      "cell_type": "code",
      "execution_count": null,
      "metadata": {
        "colab": {
          "base_uri": "https://localhost:8080/"
        },
        "id": "6729353e",
        "outputId": "a482f37c-6048-477c-f6da-ce98530a1583"
      },
      "outputs": [
        {
          "output_type": "execute_result",
          "data": {
            "text/plain": [
              "Index(['cust_number', 'buisness_year', 'doc_id', 'converted_usd',\n",
              "       'business_code_enc', 'name_customer_enc', 'cust_payment_terms_enc',\n",
              "       'day_of_postingdate', 'month_of_postingdate', 'year_of_postingdate',\n",
              "       'day_of_baseline_create_date', 'month_of_baseline_create_date',\n",
              "       'year_of_baseline_create_date', 'day_of_due_in_date',\n",
              "       'month_of_due_in_date', 'year_of_due_in_date'],\n",
              "      dtype='object')"
            ]
          },
          "metadata": {},
          "execution_count": 141
        }
      ],
      "source": [
        "X_test.columns"
      ],
      "id": "6729353e"
    },
    {
      "cell_type": "code",
      "execution_count": null,
      "metadata": {
        "colab": {
          "base_uri": "https://localhost:8080/"
        },
        "id": "47bd9c5e",
        "outputId": "836de57b-2846-4fbe-9142-64554f292c8b"
      },
      "outputs": [
        {
          "output_type": "execute_result",
          "data": {
            "text/plain": [
              "Index(['cust_number', 'buisness_year', 'doc_id', 'converted_usd',\n",
              "       'business_code_enc', 'day_of_due_in_date', 'month_of_due_in_date',\n",
              "       'year_of_due_in_date', 'day_of_postingdate', 'month_of_postingdate',\n",
              "       'year_of_postingdate', 'day_of_baseline_create_date',\n",
              "       'month_of_baseline_create_date', 'year_of_baseline_create_date',\n",
              "       'cust_payment_terms_enc', 'name_customer_enc'],\n",
              "      dtype='object')"
            ]
          },
          "metadata": {},
          "execution_count": 142
        }
      ],
      "source": [
        "null_data.columns"
      ],
      "id": "47bd9c5e"
    },
    {
      "cell_type": "code",
      "execution_count": null,
      "metadata": {
        "id": "aa5a2103"
      },
      "outputs": [],
      "source": [
        "nulldata3=null_data[['cust_number', 'buisness_year', 'doc_id', 'converted_usd',\n",
        "       'business_code_enc', 'name_customer_enc', 'cust_payment_terms_enc',\n",
        "       'day_of_postingdate', 'month_of_postingdate', 'year_of_postingdate',\n",
        "       'day_of_baseline_create_date', 'month_of_baseline_create_date', 'year_of_baseline_create_date',\n",
        "       'day_of_due_in_date', 'month_of_due_in_date', 'year_of_due_in_date']]"
      ],
      "id": "aa5a2103"
    },
    {
      "cell_type": "markdown",
      "metadata": {
        "id": "1dc8b021"
      },
      "source": [
        "### Display the Final Dataset"
      ],
      "id": "1dc8b021"
    },
    {
      "cell_type": "code",
      "execution_count": null,
      "metadata": {
        "colab": {
          "base_uri": "https://localhost:8080/",
          "height": 488
        },
        "id": "2f39785a",
        "outputId": "6d81e93e-fd08-4072-ec82-51170f1bca72"
      },
      "outputs": [
        {
          "output_type": "execute_result",
          "data": {
            "text/plain": [
              "       cust_number  buisness_year        doc_id  converted_usd  \\\n",
              "5        200744019         2020.0  1.930659e+09      11173.020   \n",
              "8        200418007         2020.0  1.930611e+09       3525.590   \n",
              "12       200739534         2020.0  1.930788e+09     121105.650   \n",
              "13       200353024         2020.0  1.930817e+09       3726.060   \n",
              "20       200744019         2020.0  1.930676e+09       5893.010   \n",
              "...            ...            ...           ...            ...   \n",
              "48809    140104440         2020.0  2.960622e+09      42516.719   \n",
              "48830    140104472         2020.0  2.960618e+09      21149.100   \n",
              "48833    140106408         2020.0  2.960628e+09       5978.266   \n",
              "48834    140104472         2020.0  2.960628e+09       1153.152   \n",
              "48837    140104409         2020.0  2.960631e+09      65370.767   \n",
              "\n",
              "       business_code_enc  name_customer_enc  cust_payment_terms_enc  \\\n",
              "5                     63               2804                      20   \n",
              "8                     63                 96                      20   \n",
              "12                    63               2023                      20   \n",
              "13                    63                717                      35   \n",
              "20                    63               2795                      20   \n",
              "...                  ...                ...                     ...   \n",
              "48809                 63               2557                       5   \n",
              "48830                 63               1763                       5   \n",
              "48833                 63               2994                       5   \n",
              "48834                 63               2929                       5   \n",
              "48837                 63               1657                       5   \n",
              "\n",
              "       day_of_postingdate  month_of_postingdate  year_of_postingdate  \\\n",
              "5                      19                     3                 2020   \n",
              "8                      11                     3                 2020   \n",
              "12                     15                     4                 2020   \n",
              "13                     23                     4                 2020   \n",
              "20                     21                     3                 2020   \n",
              "...                   ...                   ...                  ...   \n",
              "48809                  16                     3                 2020   \n",
              "48830                   4                     3                 2020   \n",
              "48833                  12                     4                 2020   \n",
              "48834                  17                     4                 2020   \n",
              "48837                  25                     4                 2020   \n",
              "\n",
              "       day_of_baseline_create_date  month_of_baseline_create_date  \\\n",
              "5                               19                              3   \n",
              "8                               11                              3   \n",
              "12                              15                              4   \n",
              "13                              16                              4   \n",
              "20                              21                              3   \n",
              "...                            ...                            ...   \n",
              "48809                           18                              3   \n",
              "48830                            6                              3   \n",
              "48833                           12                              4   \n",
              "48834                           22                              4   \n",
              "48837                            5                              5   \n",
              "\n",
              "       year_of_baseline_create_date  day_of_due_in_date  month_of_due_in_date  \\\n",
              "5                              2020                   3                     4   \n",
              "8                              2020                  26                     3   \n",
              "12                             2020                  30                     4   \n",
              "13                             2020                  26                     4   \n",
              "20                             2020                   5                     4   \n",
              "...                             ...                 ...                   ...   \n",
              "48809                          2020                  28                     3   \n",
              "48830                          2020                  16                     3   \n",
              "48833                          2020                  22                     4   \n",
              "48834                          2020                   2                     5   \n",
              "48837                          2020                  15                     5   \n",
              "\n",
              "       year_of_due_in_date  \n",
              "5                     2020  \n",
              "8                     2020  \n",
              "12                    2020  \n",
              "13                    2020  \n",
              "20                    2020  \n",
              "...                    ...  \n",
              "48809                 2020  \n",
              "48830                 2020  \n",
              "48833                 2020  \n",
              "48834                 2020  \n",
              "48837                 2020  \n",
              "\n",
              "[9681 rows x 16 columns]"
            ],
            "text/html": [
              "\n",
              "  <div id=\"df-8695348b-c062-4268-95b5-d4ddf31a430f\">\n",
              "    <div class=\"colab-df-container\">\n",
              "      <div>\n",
              "<style scoped>\n",
              "    .dataframe tbody tr th:only-of-type {\n",
              "        vertical-align: middle;\n",
              "    }\n",
              "\n",
              "    .dataframe tbody tr th {\n",
              "        vertical-align: top;\n",
              "    }\n",
              "\n",
              "    .dataframe thead th {\n",
              "        text-align: right;\n",
              "    }\n",
              "</style>\n",
              "<table border=\"1\" class=\"dataframe\">\n",
              "  <thead>\n",
              "    <tr style=\"text-align: right;\">\n",
              "      <th></th>\n",
              "      <th>cust_number</th>\n",
              "      <th>buisness_year</th>\n",
              "      <th>doc_id</th>\n",
              "      <th>converted_usd</th>\n",
              "      <th>business_code_enc</th>\n",
              "      <th>name_customer_enc</th>\n",
              "      <th>cust_payment_terms_enc</th>\n",
              "      <th>day_of_postingdate</th>\n",
              "      <th>month_of_postingdate</th>\n",
              "      <th>year_of_postingdate</th>\n",
              "      <th>day_of_baseline_create_date</th>\n",
              "      <th>month_of_baseline_create_date</th>\n",
              "      <th>year_of_baseline_create_date</th>\n",
              "      <th>day_of_due_in_date</th>\n",
              "      <th>month_of_due_in_date</th>\n",
              "      <th>year_of_due_in_date</th>\n",
              "    </tr>\n",
              "  </thead>\n",
              "  <tbody>\n",
              "    <tr>\n",
              "      <th>5</th>\n",
              "      <td>200744019</td>\n",
              "      <td>2020.0</td>\n",
              "      <td>1.930659e+09</td>\n",
              "      <td>11173.020</td>\n",
              "      <td>63</td>\n",
              "      <td>2804</td>\n",
              "      <td>20</td>\n",
              "      <td>19</td>\n",
              "      <td>3</td>\n",
              "      <td>2020</td>\n",
              "      <td>19</td>\n",
              "      <td>3</td>\n",
              "      <td>2020</td>\n",
              "      <td>3</td>\n",
              "      <td>4</td>\n",
              "      <td>2020</td>\n",
              "    </tr>\n",
              "    <tr>\n",
              "      <th>8</th>\n",
              "      <td>200418007</td>\n",
              "      <td>2020.0</td>\n",
              "      <td>1.930611e+09</td>\n",
              "      <td>3525.590</td>\n",
              "      <td>63</td>\n",
              "      <td>96</td>\n",
              "      <td>20</td>\n",
              "      <td>11</td>\n",
              "      <td>3</td>\n",
              "      <td>2020</td>\n",
              "      <td>11</td>\n",
              "      <td>3</td>\n",
              "      <td>2020</td>\n",
              "      <td>26</td>\n",
              "      <td>3</td>\n",
              "      <td>2020</td>\n",
              "    </tr>\n",
              "    <tr>\n",
              "      <th>12</th>\n",
              "      <td>200739534</td>\n",
              "      <td>2020.0</td>\n",
              "      <td>1.930788e+09</td>\n",
              "      <td>121105.650</td>\n",
              "      <td>63</td>\n",
              "      <td>2023</td>\n",
              "      <td>20</td>\n",
              "      <td>15</td>\n",
              "      <td>4</td>\n",
              "      <td>2020</td>\n",
              "      <td>15</td>\n",
              "      <td>4</td>\n",
              "      <td>2020</td>\n",
              "      <td>30</td>\n",
              "      <td>4</td>\n",
              "      <td>2020</td>\n",
              "    </tr>\n",
              "    <tr>\n",
              "      <th>13</th>\n",
              "      <td>200353024</td>\n",
              "      <td>2020.0</td>\n",
              "      <td>1.930817e+09</td>\n",
              "      <td>3726.060</td>\n",
              "      <td>63</td>\n",
              "      <td>717</td>\n",
              "      <td>35</td>\n",
              "      <td>23</td>\n",
              "      <td>4</td>\n",
              "      <td>2020</td>\n",
              "      <td>16</td>\n",
              "      <td>4</td>\n",
              "      <td>2020</td>\n",
              "      <td>26</td>\n",
              "      <td>4</td>\n",
              "      <td>2020</td>\n",
              "    </tr>\n",
              "    <tr>\n",
              "      <th>20</th>\n",
              "      <td>200744019</td>\n",
              "      <td>2020.0</td>\n",
              "      <td>1.930676e+09</td>\n",
              "      <td>5893.010</td>\n",
              "      <td>63</td>\n",
              "      <td>2795</td>\n",
              "      <td>20</td>\n",
              "      <td>21</td>\n",
              "      <td>3</td>\n",
              "      <td>2020</td>\n",
              "      <td>21</td>\n",
              "      <td>3</td>\n",
              "      <td>2020</td>\n",
              "      <td>5</td>\n",
              "      <td>4</td>\n",
              "      <td>2020</td>\n",
              "    </tr>\n",
              "    <tr>\n",
              "      <th>...</th>\n",
              "      <td>...</td>\n",
              "      <td>...</td>\n",
              "      <td>...</td>\n",
              "      <td>...</td>\n",
              "      <td>...</td>\n",
              "      <td>...</td>\n",
              "      <td>...</td>\n",
              "      <td>...</td>\n",
              "      <td>...</td>\n",
              "      <td>...</td>\n",
              "      <td>...</td>\n",
              "      <td>...</td>\n",
              "      <td>...</td>\n",
              "      <td>...</td>\n",
              "      <td>...</td>\n",
              "      <td>...</td>\n",
              "    </tr>\n",
              "    <tr>\n",
              "      <th>48809</th>\n",
              "      <td>140104440</td>\n",
              "      <td>2020.0</td>\n",
              "      <td>2.960622e+09</td>\n",
              "      <td>42516.719</td>\n",
              "      <td>63</td>\n",
              "      <td>2557</td>\n",
              "      <td>5</td>\n",
              "      <td>16</td>\n",
              "      <td>3</td>\n",
              "      <td>2020</td>\n",
              "      <td>18</td>\n",
              "      <td>3</td>\n",
              "      <td>2020</td>\n",
              "      <td>28</td>\n",
              "      <td>3</td>\n",
              "      <td>2020</td>\n",
              "    </tr>\n",
              "    <tr>\n",
              "      <th>48830</th>\n",
              "      <td>140104472</td>\n",
              "      <td>2020.0</td>\n",
              "      <td>2.960618e+09</td>\n",
              "      <td>21149.100</td>\n",
              "      <td>63</td>\n",
              "      <td>1763</td>\n",
              "      <td>5</td>\n",
              "      <td>4</td>\n",
              "      <td>3</td>\n",
              "      <td>2020</td>\n",
              "      <td>6</td>\n",
              "      <td>3</td>\n",
              "      <td>2020</td>\n",
              "      <td>16</td>\n",
              "      <td>3</td>\n",
              "      <td>2020</td>\n",
              "    </tr>\n",
              "    <tr>\n",
              "      <th>48833</th>\n",
              "      <td>140106408</td>\n",
              "      <td>2020.0</td>\n",
              "      <td>2.960628e+09</td>\n",
              "      <td>5978.266</td>\n",
              "      <td>63</td>\n",
              "      <td>2994</td>\n",
              "      <td>5</td>\n",
              "      <td>12</td>\n",
              "      <td>4</td>\n",
              "      <td>2020</td>\n",
              "      <td>12</td>\n",
              "      <td>4</td>\n",
              "      <td>2020</td>\n",
              "      <td>22</td>\n",
              "      <td>4</td>\n",
              "      <td>2020</td>\n",
              "    </tr>\n",
              "    <tr>\n",
              "      <th>48834</th>\n",
              "      <td>140104472</td>\n",
              "      <td>2020.0</td>\n",
              "      <td>2.960628e+09</td>\n",
              "      <td>1153.152</td>\n",
              "      <td>63</td>\n",
              "      <td>2929</td>\n",
              "      <td>5</td>\n",
              "      <td>17</td>\n",
              "      <td>4</td>\n",
              "      <td>2020</td>\n",
              "      <td>22</td>\n",
              "      <td>4</td>\n",
              "      <td>2020</td>\n",
              "      <td>2</td>\n",
              "      <td>5</td>\n",
              "      <td>2020</td>\n",
              "    </tr>\n",
              "    <tr>\n",
              "      <th>48837</th>\n",
              "      <td>140104409</td>\n",
              "      <td>2020.0</td>\n",
              "      <td>2.960631e+09</td>\n",
              "      <td>65370.767</td>\n",
              "      <td>63</td>\n",
              "      <td>1657</td>\n",
              "      <td>5</td>\n",
              "      <td>25</td>\n",
              "      <td>4</td>\n",
              "      <td>2020</td>\n",
              "      <td>5</td>\n",
              "      <td>5</td>\n",
              "      <td>2020</td>\n",
              "      <td>15</td>\n",
              "      <td>5</td>\n",
              "      <td>2020</td>\n",
              "    </tr>\n",
              "  </tbody>\n",
              "</table>\n",
              "<p>9681 rows × 16 columns</p>\n",
              "</div>\n",
              "      <button class=\"colab-df-convert\" onclick=\"convertToInteractive('df-8695348b-c062-4268-95b5-d4ddf31a430f')\"\n",
              "              title=\"Convert this dataframe to an interactive table.\"\n",
              "              style=\"display:none;\">\n",
              "        \n",
              "  <svg xmlns=\"http://www.w3.org/2000/svg\" height=\"24px\"viewBox=\"0 0 24 24\"\n",
              "       width=\"24px\">\n",
              "    <path d=\"M0 0h24v24H0V0z\" fill=\"none\"/>\n",
              "    <path d=\"M18.56 5.44l.94 2.06.94-2.06 2.06-.94-2.06-.94-.94-2.06-.94 2.06-2.06.94zm-11 1L8.5 8.5l.94-2.06 2.06-.94-2.06-.94L8.5 2.5l-.94 2.06-2.06.94zm10 10l.94 2.06.94-2.06 2.06-.94-2.06-.94-.94-2.06-.94 2.06-2.06.94z\"/><path d=\"M17.41 7.96l-1.37-1.37c-.4-.4-.92-.59-1.43-.59-.52 0-1.04.2-1.43.59L10.3 9.45l-7.72 7.72c-.78.78-.78 2.05 0 2.83L4 21.41c.39.39.9.59 1.41.59.51 0 1.02-.2 1.41-.59l7.78-7.78 2.81-2.81c.8-.78.8-2.07 0-2.86zM5.41 20L4 18.59l7.72-7.72 1.47 1.35L5.41 20z\"/>\n",
              "  </svg>\n",
              "      </button>\n",
              "      \n",
              "  <style>\n",
              "    .colab-df-container {\n",
              "      display:flex;\n",
              "      flex-wrap:wrap;\n",
              "      gap: 12px;\n",
              "    }\n",
              "\n",
              "    .colab-df-convert {\n",
              "      background-color: #E8F0FE;\n",
              "      border: none;\n",
              "      border-radius: 50%;\n",
              "      cursor: pointer;\n",
              "      display: none;\n",
              "      fill: #1967D2;\n",
              "      height: 32px;\n",
              "      padding: 0 0 0 0;\n",
              "      width: 32px;\n",
              "    }\n",
              "\n",
              "    .colab-df-convert:hover {\n",
              "      background-color: #E2EBFA;\n",
              "      box-shadow: 0px 1px 2px rgba(60, 64, 67, 0.3), 0px 1px 3px 1px rgba(60, 64, 67, 0.15);\n",
              "      fill: #174EA6;\n",
              "    }\n",
              "\n",
              "    [theme=dark] .colab-df-convert {\n",
              "      background-color: #3B4455;\n",
              "      fill: #D2E3FC;\n",
              "    }\n",
              "\n",
              "    [theme=dark] .colab-df-convert:hover {\n",
              "      background-color: #434B5C;\n",
              "      box-shadow: 0px 1px 3px 1px rgba(0, 0, 0, 0.15);\n",
              "      filter: drop-shadow(0px 1px 2px rgba(0, 0, 0, 0.3));\n",
              "      fill: #FFFFFF;\n",
              "    }\n",
              "  </style>\n",
              "\n",
              "      <script>\n",
              "        const buttonEl =\n",
              "          document.querySelector('#df-8695348b-c062-4268-95b5-d4ddf31a430f button.colab-df-convert');\n",
              "        buttonEl.style.display =\n",
              "          google.colab.kernel.accessAllowed ? 'block' : 'none';\n",
              "\n",
              "        async function convertToInteractive(key) {\n",
              "          const element = document.querySelector('#df-8695348b-c062-4268-95b5-d4ddf31a430f');\n",
              "          const dataTable =\n",
              "            await google.colab.kernel.invokeFunction('convertToInteractive',\n",
              "                                                     [key], {});\n",
              "          if (!dataTable) return;\n",
              "\n",
              "          const docLinkHtml = 'Like what you see? Visit the ' +\n",
              "            '<a target=\"_blank\" href=https://colab.research.google.com/notebooks/data_table.ipynb>data table notebook</a>'\n",
              "            + ' to learn more about interactive tables.';\n",
              "          element.innerHTML = '';\n",
              "          dataTable['output_type'] = 'display_data';\n",
              "          await google.colab.output.renderOutput(dataTable, element);\n",
              "          const docLink = document.createElement('div');\n",
              "          docLink.innerHTML = docLinkHtml;\n",
              "          element.appendChild(docLink);\n",
              "        }\n",
              "      </script>\n",
              "    </div>\n",
              "  </div>\n",
              "  "
            ]
          },
          "metadata": {},
          "execution_count": 144
        }
      ],
      "source": [
        "nulldata3"
      ],
      "id": "2f39785a"
    },
    {
      "cell_type": "markdown",
      "metadata": {
        "id": "27b88c5a"
      },
      "source": [
        "### Now you can pass this dataset into you final model and store it into \"final_result\""
      ],
      "id": "27b88c5a"
    },
    {
      "cell_type": "code",
      "execution_count": null,
      "metadata": {
        "id": "9e0b6388"
      },
      "outputs": [],
      "source": [
        "final_result=regressorfinal.predict (nulldata3)"
      ],
      "id": "9e0b6388"
    },
    {
      "cell_type": "markdown",
      "metadata": {
        "id": "9653d3c6"
      },
      "source": [
        "### you need to make the final_result as dataframe, with a column name \"avg_delay\"\n",
        "\n",
        "- Note - No need to change the code"
      ],
      "id": "9653d3c6"
    },
    {
      "cell_type": "code",
      "execution_count": null,
      "metadata": {
        "id": "25ef814d"
      },
      "outputs": [],
      "source": [
        "final_result = pd.Series(final_result,name='avg_delay')"
      ],
      "id": "25ef814d"
    },
    {
      "cell_type": "markdown",
      "metadata": {
        "id": "C86staIhyf2C"
      },
      "source": [
        "### Display the \"avg_delay\" column"
      ],
      "id": "C86staIhyf2C"
    },
    {
      "cell_type": "code",
      "execution_count": null,
      "metadata": {
        "colab": {
          "base_uri": "https://localhost:8080/"
        },
        "id": "4fd46406",
        "outputId": "6ad4e87e-e9af-4a2f-f93c-98120774c76d"
      },
      "outputs": [
        {
          "output_type": "execute_result",
          "data": {
            "text/plain": [
              "0       330995.812500\n",
              "1       144505.343750\n",
              "2       119277.304688\n",
              "3      -274251.781250\n",
              "4       253839.390625\n",
              "            ...      \n",
              "9676    402490.656250\n",
              "9677    315225.843750\n",
              "9678    901419.500000\n",
              "9679    959129.937500\n",
              "9680    256799.781250\n",
              "Name: avg_delay, Length: 9681, dtype: float32"
            ]
          },
          "metadata": {},
          "execution_count": 147
        }
      ],
      "source": [
        "final_result"
      ],
      "id": "4fd46406"
    },
    {
      "cell_type": "markdown",
      "metadata": {
        "id": "44f71a7e"
      },
      "source": [
        "### Now you need to merge this final_result dataframe with the BACKUP of \"nulldata\" Dataframe which we have created in earlier steps"
      ],
      "id": "44f71a7e"
    },
    {
      "cell_type": "code",
      "execution_count": null,
      "metadata": {
        "id": "e8f0969d"
      },
      "outputs": [],
      "source": [
        "null_data2.reset_index(drop=True,inplace=True)\n",
        "Final = null_data2.merge(final_result , on = nulldata3.index )"
      ],
      "id": "e8f0969d"
    },
    {
      "cell_type": "markdown",
      "metadata": {
        "id": "G-hLtxXgy4GZ"
      },
      "source": [
        "### Display the \"Final\" dataframe "
      ],
      "id": "G-hLtxXgy4GZ"
    },
    {
      "cell_type": "code",
      "execution_count": null,
      "metadata": {
        "colab": {
          "base_uri": "https://localhost:8080/",
          "height": 557
        },
        "id": "71fb4dc0",
        "outputId": "1665364d-16dd-469e-cdc6-a361eda10651"
      },
      "outputs": [
        {
          "output_type": "execute_result",
          "data": {
            "text/plain": [
              "      key_0 business_code  cust_number      name_customer clear_date  \\\n",
              "0         5          U001    200744019            TARG us        NaT   \n",
              "1         8          U001    200418007                AM         NaT   \n",
              "2        12          U001    200739534         OK systems        NaT   \n",
              "3        13          U001    200353024   DECA corporation        NaT   \n",
              "4        20          U001    200744019    TARG associates        NaT   \n",
              "...     ...           ...          ...                ...        ...   \n",
              "9676  48809          CA02    140104440     SO corporation        NaT   \n",
              "9677  48830          CA02    140104472         MARTIN llc        NaT   \n",
              "9678  48833          CA02    140106408   WAL-M associates        NaT   \n",
              "9679  48834          CA02    140104472  MARTIN associates        NaT   \n",
              "9680  48837          CA02    140104409             LOB co        NaT   \n",
              "\n",
              "      buisness_year        doc_id posting_date due_in_date  \\\n",
              "0            2020.0  1.930659e+09   2020-03-19  2020-04-03   \n",
              "1            2020.0  1.930611e+09   2020-03-11  2020-03-26   \n",
              "2            2020.0  1.930788e+09   2020-04-15  2020-04-30   \n",
              "3            2020.0  1.930817e+09   2020-04-23  2020-04-26   \n",
              "4            2020.0  1.930676e+09   2020-03-21  2020-04-05   \n",
              "...             ...           ...          ...         ...   \n",
              "9676         2020.0  2.960622e+09   2020-03-16  2020-03-28   \n",
              "9677         2020.0  2.960618e+09   2020-03-04  2020-03-16   \n",
              "9678         2020.0  2.960628e+09   2020-04-12  2020-04-22   \n",
              "9679         2020.0  2.960628e+09   2020-04-17  2020-05-02   \n",
              "9680         2020.0  2.960631e+09   2020-04-25  2020-05-15   \n",
              "\n",
              "     baseline_create_date  ... year_of_postingdate  day_of_cleardate  \\\n",
              "0              2020-03-19  ...                2020               NaN   \n",
              "1              2020-03-11  ...                2020               NaN   \n",
              "2              2020-04-15  ...                2020               NaN   \n",
              "3              2020-04-16  ...                2020               NaN   \n",
              "4              2020-03-21  ...                2020               NaN   \n",
              "...                   ...  ...                 ...               ...   \n",
              "9676           2020-03-18  ...                2020               NaN   \n",
              "9677           2020-03-06  ...                2020               NaN   \n",
              "9678           2020-04-12  ...                2020               NaN   \n",
              "9679           2020-04-22  ...                2020               NaN   \n",
              "9680           2020-05-05  ...                2020               NaN   \n",
              "\n",
              "      month_of_cleardate  year_of_cleardate  day_of_baseline_create_date  \\\n",
              "0                    NaN                NaN                           19   \n",
              "1                    NaN                NaN                           11   \n",
              "2                    NaN                NaN                           15   \n",
              "3                    NaN                NaN                           16   \n",
              "4                    NaN                NaN                           21   \n",
              "...                  ...                ...                          ...   \n",
              "9676                 NaN                NaN                           18   \n",
              "9677                 NaN                NaN                            6   \n",
              "9678                 NaN                NaN                           12   \n",
              "9679                 NaN                NaN                           22   \n",
              "9680                 NaN                NaN                            5   \n",
              "\n",
              "      month_of_baseline_create_date  year_of_baseline_create_date  \\\n",
              "0                                 3                          2020   \n",
              "1                                 3                          2020   \n",
              "2                                 4                          2020   \n",
              "3                                 4                          2020   \n",
              "4                                 3                          2020   \n",
              "...                             ...                           ...   \n",
              "9676                              3                          2020   \n",
              "9677                              3                          2020   \n",
              "9678                              4                          2020   \n",
              "9679                              4                          2020   \n",
              "9680                              5                          2020   \n",
              "\n",
              "      cust_payment_terms_enc  name_customer_enc      avg_delay  \n",
              "0                         20               2804  330995.812500  \n",
              "1                         20                 96  144505.343750  \n",
              "2                         20               2023  119277.304688  \n",
              "3                         35                717 -274251.781250  \n",
              "4                         20               2795  253839.390625  \n",
              "...                      ...                ...            ...  \n",
              "9676                       5               2557  402490.656250  \n",
              "9677                       5               1763  315225.843750  \n",
              "9678                       5               2994  901419.500000  \n",
              "9679                       5               2929  959129.937500  \n",
              "9680                       5               1657  256799.781250  \n",
              "\n",
              "[9681 rows x 28 columns]"
            ],
            "text/html": [
              "\n",
              "  <div id=\"df-3c05d233-bede-4c72-9bb6-2a4887ab640e\">\n",
              "    <div class=\"colab-df-container\">\n",
              "      <div>\n",
              "<style scoped>\n",
              "    .dataframe tbody tr th:only-of-type {\n",
              "        vertical-align: middle;\n",
              "    }\n",
              "\n",
              "    .dataframe tbody tr th {\n",
              "        vertical-align: top;\n",
              "    }\n",
              "\n",
              "    .dataframe thead th {\n",
              "        text-align: right;\n",
              "    }\n",
              "</style>\n",
              "<table border=\"1\" class=\"dataframe\">\n",
              "  <thead>\n",
              "    <tr style=\"text-align: right;\">\n",
              "      <th></th>\n",
              "      <th>key_0</th>\n",
              "      <th>business_code</th>\n",
              "      <th>cust_number</th>\n",
              "      <th>name_customer</th>\n",
              "      <th>clear_date</th>\n",
              "      <th>buisness_year</th>\n",
              "      <th>doc_id</th>\n",
              "      <th>posting_date</th>\n",
              "      <th>due_in_date</th>\n",
              "      <th>baseline_create_date</th>\n",
              "      <th>...</th>\n",
              "      <th>year_of_postingdate</th>\n",
              "      <th>day_of_cleardate</th>\n",
              "      <th>month_of_cleardate</th>\n",
              "      <th>year_of_cleardate</th>\n",
              "      <th>day_of_baseline_create_date</th>\n",
              "      <th>month_of_baseline_create_date</th>\n",
              "      <th>year_of_baseline_create_date</th>\n",
              "      <th>cust_payment_terms_enc</th>\n",
              "      <th>name_customer_enc</th>\n",
              "      <th>avg_delay</th>\n",
              "    </tr>\n",
              "  </thead>\n",
              "  <tbody>\n",
              "    <tr>\n",
              "      <th>0</th>\n",
              "      <td>5</td>\n",
              "      <td>U001</td>\n",
              "      <td>200744019</td>\n",
              "      <td>TARG us</td>\n",
              "      <td>NaT</td>\n",
              "      <td>2020.0</td>\n",
              "      <td>1.930659e+09</td>\n",
              "      <td>2020-03-19</td>\n",
              "      <td>2020-04-03</td>\n",
              "      <td>2020-03-19</td>\n",
              "      <td>...</td>\n",
              "      <td>2020</td>\n",
              "      <td>NaN</td>\n",
              "      <td>NaN</td>\n",
              "      <td>NaN</td>\n",
              "      <td>19</td>\n",
              "      <td>3</td>\n",
              "      <td>2020</td>\n",
              "      <td>20</td>\n",
              "      <td>2804</td>\n",
              "      <td>330995.812500</td>\n",
              "    </tr>\n",
              "    <tr>\n",
              "      <th>1</th>\n",
              "      <td>8</td>\n",
              "      <td>U001</td>\n",
              "      <td>200418007</td>\n",
              "      <td>AM</td>\n",
              "      <td>NaT</td>\n",
              "      <td>2020.0</td>\n",
              "      <td>1.930611e+09</td>\n",
              "      <td>2020-03-11</td>\n",
              "      <td>2020-03-26</td>\n",
              "      <td>2020-03-11</td>\n",
              "      <td>...</td>\n",
              "      <td>2020</td>\n",
              "      <td>NaN</td>\n",
              "      <td>NaN</td>\n",
              "      <td>NaN</td>\n",
              "      <td>11</td>\n",
              "      <td>3</td>\n",
              "      <td>2020</td>\n",
              "      <td>20</td>\n",
              "      <td>96</td>\n",
              "      <td>144505.343750</td>\n",
              "    </tr>\n",
              "    <tr>\n",
              "      <th>2</th>\n",
              "      <td>12</td>\n",
              "      <td>U001</td>\n",
              "      <td>200739534</td>\n",
              "      <td>OK systems</td>\n",
              "      <td>NaT</td>\n",
              "      <td>2020.0</td>\n",
              "      <td>1.930788e+09</td>\n",
              "      <td>2020-04-15</td>\n",
              "      <td>2020-04-30</td>\n",
              "      <td>2020-04-15</td>\n",
              "      <td>...</td>\n",
              "      <td>2020</td>\n",
              "      <td>NaN</td>\n",
              "      <td>NaN</td>\n",
              "      <td>NaN</td>\n",
              "      <td>15</td>\n",
              "      <td>4</td>\n",
              "      <td>2020</td>\n",
              "      <td>20</td>\n",
              "      <td>2023</td>\n",
              "      <td>119277.304688</td>\n",
              "    </tr>\n",
              "    <tr>\n",
              "      <th>3</th>\n",
              "      <td>13</td>\n",
              "      <td>U001</td>\n",
              "      <td>200353024</td>\n",
              "      <td>DECA corporation</td>\n",
              "      <td>NaT</td>\n",
              "      <td>2020.0</td>\n",
              "      <td>1.930817e+09</td>\n",
              "      <td>2020-04-23</td>\n",
              "      <td>2020-04-26</td>\n",
              "      <td>2020-04-16</td>\n",
              "      <td>...</td>\n",
              "      <td>2020</td>\n",
              "      <td>NaN</td>\n",
              "      <td>NaN</td>\n",
              "      <td>NaN</td>\n",
              "      <td>16</td>\n",
              "      <td>4</td>\n",
              "      <td>2020</td>\n",
              "      <td>35</td>\n",
              "      <td>717</td>\n",
              "      <td>-274251.781250</td>\n",
              "    </tr>\n",
              "    <tr>\n",
              "      <th>4</th>\n",
              "      <td>20</td>\n",
              "      <td>U001</td>\n",
              "      <td>200744019</td>\n",
              "      <td>TARG associates</td>\n",
              "      <td>NaT</td>\n",
              "      <td>2020.0</td>\n",
              "      <td>1.930676e+09</td>\n",
              "      <td>2020-03-21</td>\n",
              "      <td>2020-04-05</td>\n",
              "      <td>2020-03-21</td>\n",
              "      <td>...</td>\n",
              "      <td>2020</td>\n",
              "      <td>NaN</td>\n",
              "      <td>NaN</td>\n",
              "      <td>NaN</td>\n",
              "      <td>21</td>\n",
              "      <td>3</td>\n",
              "      <td>2020</td>\n",
              "      <td>20</td>\n",
              "      <td>2795</td>\n",
              "      <td>253839.390625</td>\n",
              "    </tr>\n",
              "    <tr>\n",
              "      <th>...</th>\n",
              "      <td>...</td>\n",
              "      <td>...</td>\n",
              "      <td>...</td>\n",
              "      <td>...</td>\n",
              "      <td>...</td>\n",
              "      <td>...</td>\n",
              "      <td>...</td>\n",
              "      <td>...</td>\n",
              "      <td>...</td>\n",
              "      <td>...</td>\n",
              "      <td>...</td>\n",
              "      <td>...</td>\n",
              "      <td>...</td>\n",
              "      <td>...</td>\n",
              "      <td>...</td>\n",
              "      <td>...</td>\n",
              "      <td>...</td>\n",
              "      <td>...</td>\n",
              "      <td>...</td>\n",
              "      <td>...</td>\n",
              "      <td>...</td>\n",
              "    </tr>\n",
              "    <tr>\n",
              "      <th>9676</th>\n",
              "      <td>48809</td>\n",
              "      <td>CA02</td>\n",
              "      <td>140104440</td>\n",
              "      <td>SO corporation</td>\n",
              "      <td>NaT</td>\n",
              "      <td>2020.0</td>\n",
              "      <td>2.960622e+09</td>\n",
              "      <td>2020-03-16</td>\n",
              "      <td>2020-03-28</td>\n",
              "      <td>2020-03-18</td>\n",
              "      <td>...</td>\n",
              "      <td>2020</td>\n",
              "      <td>NaN</td>\n",
              "      <td>NaN</td>\n",
              "      <td>NaN</td>\n",
              "      <td>18</td>\n",
              "      <td>3</td>\n",
              "      <td>2020</td>\n",
              "      <td>5</td>\n",
              "      <td>2557</td>\n",
              "      <td>402490.656250</td>\n",
              "    </tr>\n",
              "    <tr>\n",
              "      <th>9677</th>\n",
              "      <td>48830</td>\n",
              "      <td>CA02</td>\n",
              "      <td>140104472</td>\n",
              "      <td>MARTIN llc</td>\n",
              "      <td>NaT</td>\n",
              "      <td>2020.0</td>\n",
              "      <td>2.960618e+09</td>\n",
              "      <td>2020-03-04</td>\n",
              "      <td>2020-03-16</td>\n",
              "      <td>2020-03-06</td>\n",
              "      <td>...</td>\n",
              "      <td>2020</td>\n",
              "      <td>NaN</td>\n",
              "      <td>NaN</td>\n",
              "      <td>NaN</td>\n",
              "      <td>6</td>\n",
              "      <td>3</td>\n",
              "      <td>2020</td>\n",
              "      <td>5</td>\n",
              "      <td>1763</td>\n",
              "      <td>315225.843750</td>\n",
              "    </tr>\n",
              "    <tr>\n",
              "      <th>9678</th>\n",
              "      <td>48833</td>\n",
              "      <td>CA02</td>\n",
              "      <td>140106408</td>\n",
              "      <td>WAL-M associates</td>\n",
              "      <td>NaT</td>\n",
              "      <td>2020.0</td>\n",
              "      <td>2.960628e+09</td>\n",
              "      <td>2020-04-12</td>\n",
              "      <td>2020-04-22</td>\n",
              "      <td>2020-04-12</td>\n",
              "      <td>...</td>\n",
              "      <td>2020</td>\n",
              "      <td>NaN</td>\n",
              "      <td>NaN</td>\n",
              "      <td>NaN</td>\n",
              "      <td>12</td>\n",
              "      <td>4</td>\n",
              "      <td>2020</td>\n",
              "      <td>5</td>\n",
              "      <td>2994</td>\n",
              "      <td>901419.500000</td>\n",
              "    </tr>\n",
              "    <tr>\n",
              "      <th>9679</th>\n",
              "      <td>48834</td>\n",
              "      <td>CA02</td>\n",
              "      <td>140104472</td>\n",
              "      <td>MARTIN associates</td>\n",
              "      <td>NaT</td>\n",
              "      <td>2020.0</td>\n",
              "      <td>2.960628e+09</td>\n",
              "      <td>2020-04-17</td>\n",
              "      <td>2020-05-02</td>\n",
              "      <td>2020-04-22</td>\n",
              "      <td>...</td>\n",
              "      <td>2020</td>\n",
              "      <td>NaN</td>\n",
              "      <td>NaN</td>\n",
              "      <td>NaN</td>\n",
              "      <td>22</td>\n",
              "      <td>4</td>\n",
              "      <td>2020</td>\n",
              "      <td>5</td>\n",
              "      <td>2929</td>\n",
              "      <td>959129.937500</td>\n",
              "    </tr>\n",
              "    <tr>\n",
              "      <th>9680</th>\n",
              "      <td>48837</td>\n",
              "      <td>CA02</td>\n",
              "      <td>140104409</td>\n",
              "      <td>LOB co</td>\n",
              "      <td>NaT</td>\n",
              "      <td>2020.0</td>\n",
              "      <td>2.960631e+09</td>\n",
              "      <td>2020-04-25</td>\n",
              "      <td>2020-05-15</td>\n",
              "      <td>2020-05-05</td>\n",
              "      <td>...</td>\n",
              "      <td>2020</td>\n",
              "      <td>NaN</td>\n",
              "      <td>NaN</td>\n",
              "      <td>NaN</td>\n",
              "      <td>5</td>\n",
              "      <td>5</td>\n",
              "      <td>2020</td>\n",
              "      <td>5</td>\n",
              "      <td>1657</td>\n",
              "      <td>256799.781250</td>\n",
              "    </tr>\n",
              "  </tbody>\n",
              "</table>\n",
              "<p>9681 rows × 28 columns</p>\n",
              "</div>\n",
              "      <button class=\"colab-df-convert\" onclick=\"convertToInteractive('df-3c05d233-bede-4c72-9bb6-2a4887ab640e')\"\n",
              "              title=\"Convert this dataframe to an interactive table.\"\n",
              "              style=\"display:none;\">\n",
              "        \n",
              "  <svg xmlns=\"http://www.w3.org/2000/svg\" height=\"24px\"viewBox=\"0 0 24 24\"\n",
              "       width=\"24px\">\n",
              "    <path d=\"M0 0h24v24H0V0z\" fill=\"none\"/>\n",
              "    <path d=\"M18.56 5.44l.94 2.06.94-2.06 2.06-.94-2.06-.94-.94-2.06-.94 2.06-2.06.94zm-11 1L8.5 8.5l.94-2.06 2.06-.94-2.06-.94L8.5 2.5l-.94 2.06-2.06.94zm10 10l.94 2.06.94-2.06 2.06-.94-2.06-.94-.94-2.06-.94 2.06-2.06.94z\"/><path d=\"M17.41 7.96l-1.37-1.37c-.4-.4-.92-.59-1.43-.59-.52 0-1.04.2-1.43.59L10.3 9.45l-7.72 7.72c-.78.78-.78 2.05 0 2.83L4 21.41c.39.39.9.59 1.41.59.51 0 1.02-.2 1.41-.59l7.78-7.78 2.81-2.81c.8-.78.8-2.07 0-2.86zM5.41 20L4 18.59l7.72-7.72 1.47 1.35L5.41 20z\"/>\n",
              "  </svg>\n",
              "      </button>\n",
              "      \n",
              "  <style>\n",
              "    .colab-df-container {\n",
              "      display:flex;\n",
              "      flex-wrap:wrap;\n",
              "      gap: 12px;\n",
              "    }\n",
              "\n",
              "    .colab-df-convert {\n",
              "      background-color: #E8F0FE;\n",
              "      border: none;\n",
              "      border-radius: 50%;\n",
              "      cursor: pointer;\n",
              "      display: none;\n",
              "      fill: #1967D2;\n",
              "      height: 32px;\n",
              "      padding: 0 0 0 0;\n",
              "      width: 32px;\n",
              "    }\n",
              "\n",
              "    .colab-df-convert:hover {\n",
              "      background-color: #E2EBFA;\n",
              "      box-shadow: 0px 1px 2px rgba(60, 64, 67, 0.3), 0px 1px 3px 1px rgba(60, 64, 67, 0.15);\n",
              "      fill: #174EA6;\n",
              "    }\n",
              "\n",
              "    [theme=dark] .colab-df-convert {\n",
              "      background-color: #3B4455;\n",
              "      fill: #D2E3FC;\n",
              "    }\n",
              "\n",
              "    [theme=dark] .colab-df-convert:hover {\n",
              "      background-color: #434B5C;\n",
              "      box-shadow: 0px 1px 3px 1px rgba(0, 0, 0, 0.15);\n",
              "      filter: drop-shadow(0px 1px 2px rgba(0, 0, 0, 0.3));\n",
              "      fill: #FFFFFF;\n",
              "    }\n",
              "  </style>\n",
              "\n",
              "      <script>\n",
              "        const buttonEl =\n",
              "          document.querySelector('#df-3c05d233-bede-4c72-9bb6-2a4887ab640e button.colab-df-convert');\n",
              "        buttonEl.style.display =\n",
              "          google.colab.kernel.accessAllowed ? 'block' : 'none';\n",
              "\n",
              "        async function convertToInteractive(key) {\n",
              "          const element = document.querySelector('#df-3c05d233-bede-4c72-9bb6-2a4887ab640e');\n",
              "          const dataTable =\n",
              "            await google.colab.kernel.invokeFunction('convertToInteractive',\n",
              "                                                     [key], {});\n",
              "          if (!dataTable) return;\n",
              "\n",
              "          const docLinkHtml = 'Like what you see? Visit the ' +\n",
              "            '<a target=\"_blank\" href=https://colab.research.google.com/notebooks/data_table.ipynb>data table notebook</a>'\n",
              "            + ' to learn more about interactive tables.';\n",
              "          element.innerHTML = '';\n",
              "          dataTable['output_type'] = 'display_data';\n",
              "          await google.colab.output.renderOutput(dataTable, element);\n",
              "          const docLink = document.createElement('div');\n",
              "          docLink.innerHTML = docLinkHtml;\n",
              "          element.appendChild(docLink);\n",
              "        }\n",
              "      </script>\n",
              "    </div>\n",
              "  </div>\n",
              "  "
            ]
          },
          "metadata": {},
          "execution_count": 149
        }
      ],
      "source": [
        "Final"
      ],
      "id": "71fb4dc0"
    },
    {
      "cell_type": "markdown",
      "metadata": {
        "id": "4sc27Uz-y-0O"
      },
      "source": [
        "### Check for the Number of Rows and Columns in your \"Final\" dataframe "
      ],
      "id": "4sc27Uz-y-0O"
    },
    {
      "cell_type": "code",
      "execution_count": null,
      "metadata": {
        "colab": {
          "base_uri": "https://localhost:8080/"
        },
        "id": "5iUXOIhzy_HR",
        "outputId": "2bc73fb8-ea63-44e4-e015-1f5fb68fd9b8"
      },
      "outputs": [
        {
          "output_type": "execute_result",
          "data": {
            "text/plain": [
              "(9681, 28)"
            ]
          },
          "metadata": {},
          "execution_count": 150
        }
      ],
      "source": [
        "Final.shape"
      ],
      "id": "5iUXOIhzy_HR"
    },
    {
      "cell_type": "markdown",
      "metadata": {
        "id": "48886d2c"
      },
      "source": [
        "### Now, you need to do convert the below fields back into date and time format \n",
        "\n",
        "- Convert \"due_in_date\" into datetime format\n",
        "- Convert \"avg_delay\" into datetime format\n",
        "- Create a new column \"clear_date\" and store the sum of \"due_in_date\" and \"avg_delay\"\n",
        "- display the new \"clear_date\" column\n",
        "- Note - Code is given below, no need to change "
      ],
      "id": "48886d2c"
    },
    {
      "cell_type": "code",
      "execution_count": null,
      "metadata": {
        "id": "243abc2d"
      },
      "outputs": [],
      "source": [
        "Final['clear_date'] = pd.to_datetime(Final['due_in_date']) + pd.to_timedelta(Final['avg_delay'], unit='s')"
      ],
      "id": "243abc2d"
    },
    {
      "cell_type": "markdown",
      "metadata": {
        "id": "9QcX_fAjIkYR"
      },
      "source": [
        "### Display the \"clear_date\" column"
      ],
      "id": "9QcX_fAjIkYR"
    },
    {
      "cell_type": "code",
      "execution_count": null,
      "metadata": {
        "colab": {
          "base_uri": "https://localhost:8080/"
        },
        "id": "740e1486",
        "outputId": "b063d8a8-50d3-4061-e7aa-ef91788efb79"
      },
      "outputs": [
        {
          "output_type": "execute_result",
          "data": {
            "text/plain": [
              "0      2020-04-06 19:56:35.812500000\n",
              "1      2020-03-27 16:08:25.343750000\n",
              "2      2020-05-01 09:07:57.304687500\n",
              "3      2020-04-22 19:49:08.218750000\n",
              "4      2020-04-07 22:30:39.390625000\n",
              "                    ...             \n",
              "9676   2020-04-01 15:48:10.656250000\n",
              "9677   2020-03-19 15:33:45.843750000\n",
              "9678   2020-05-02 10:23:39.500000000\n",
              "9679   2020-05-13 02:25:29.937500000\n",
              "9680   2020-05-17 23:19:59.781250000\n",
              "Name: clear_date, Length: 9681, dtype: datetime64[ns]"
            ]
          },
          "metadata": {},
          "execution_count": 152
        }
      ],
      "source": [
        "Final['clear_date']"
      ],
      "id": "740e1486"
    },
    {
      "cell_type": "markdown",
      "metadata": {
        "id": "MSkNLq6-z7rZ"
      },
      "source": [
        "### Convert the average delay into number of days format \n",
        "\n",
        "- Note - Formula = avg_delay//(24 * 3600)\n",
        "- Note - full code is given for this, no need to change "
      ],
      "id": "MSkNLq6-z7rZ"
    },
    {
      "cell_type": "code",
      "execution_count": null,
      "metadata": {
        "id": "ce6b618a"
      },
      "outputs": [],
      "source": [
        "Final['avg_delay'] = Final.apply(lambda row: row.avg_delay//(24 * 3600), axis = 1)"
      ],
      "id": "ce6b618a"
    },
    {
      "cell_type": "markdown",
      "metadata": {
        "id": "wbBBZPjP0W7o"
      },
      "source": [
        "### Display the \"avg_delay\" column "
      ],
      "id": "wbBBZPjP0W7o"
    },
    {
      "cell_type": "code",
      "execution_count": null,
      "metadata": {
        "colab": {
          "base_uri": "https://localhost:8080/"
        },
        "id": "a494982f",
        "scrolled": true,
        "outputId": "33183ba2-b4b9-4227-d732-5c200dd32007"
      },
      "outputs": [
        {
          "output_type": "execute_result",
          "data": {
            "text/plain": [
              " 0.0     4145\n",
              " 1.0     2406\n",
              " 3.0      764\n",
              " 2.0      589\n",
              "-4.0      516\n",
              "-1.0      231\n",
              " 4.0      158\n",
              " 7.0      140\n",
              " 10.0     106\n",
              " 6.0      104\n",
              "-2.0      103\n",
              " 8.0       95\n",
              "-3.0       92\n",
              " 41.0      60\n",
              " 5.0       36\n",
              " 9.0       30\n",
              " 11.0      25\n",
              "-5.0       19\n",
              " 16.0       9\n",
              " 24.0       8\n",
              " 20.0       7\n",
              " 17.0       6\n",
              " 40.0       5\n",
              " 19.0       4\n",
              "-6.0        4\n",
              " 45.0       4\n",
              " 35.0       3\n",
              " 23.0       3\n",
              " 25.0       2\n",
              " 14.0       2\n",
              "-7.0        1\n",
              " 42.0       1\n",
              " 21.0       1\n",
              "-9.0        1\n",
              " 12.0       1\n",
              "Name: avg_delay, dtype: int64"
            ]
          },
          "metadata": {},
          "execution_count": 154
        }
      ],
      "source": [
        "Final['avg_delay'].value_counts()"
      ],
      "id": "a494982f"
    },
    {
      "cell_type": "code",
      "execution_count": null,
      "metadata": {
        "id": "pqw9ga0UTJYN"
      },
      "outputs": [],
      "source": [
        ""
      ],
      "id": "pqw9ga0UTJYN"
    },
    {
      "cell_type": "markdown",
      "metadata": {
        "id": "815d8811"
      },
      "source": [
        "### Now you need to convert average delay column into bucket\n",
        "\n",
        "- Need to perform binning \n",
        "- create a list of bins i.e. bins= [0,15,30,45,60,100]\n",
        "- create a list of labels i.e. labels = ['0-15','16-30','31-45','46-60','Greatar than 60']\n",
        "- perform binning by using cut() function from \"Final\" dataframe\n",
        "\n",
        "\n",
        "- Please fill up the first two rows of the code"
      ],
      "id": "815d8811"
    },
    {
      "cell_type": "code",
      "execution_count": null,
      "metadata": {
        "id": "c797e4b5"
      },
      "outputs": [],
      "source": [
        "\n",
        "bins= [0,15,30,45,60,100]\n",
        "labels = ['0-15','16-30','31-45','46-60','Greatar than 60']\n",
        "Final['Aging Bucket'] = pd.cut(Final['avg_delay'], bins=bins, labels=labels, right=False)"
      ],
      "id": "c797e4b5"
    },
    {
      "cell_type": "markdown",
      "metadata": {
        "id": "1c35725f"
      },
      "source": [
        "### Now you need to drop \"key_0\" and \"avg_delay\" columns from the \"Final\" Dataframe"
      ],
      "id": "1c35725f"
    },
    {
      "cell_type": "code",
      "execution_count": null,
      "metadata": {
        "id": "b31bc6a3"
      },
      "outputs": [],
      "source": [
        "Final= Final.drop(['key_0','avg_delay'],axis=1)"
      ],
      "id": "b31bc6a3"
    },
    {
      "cell_type": "code",
      "execution_count": null,
      "metadata": {
        "id": "XwcxWFV1SAy7"
      },
      "outputs": [],
      "source": [
        ""
      ],
      "id": "XwcxWFV1SAy7"
    },
    {
      "cell_type": "markdown",
      "metadata": {
        "id": "Ui-tyIvU0-5u"
      },
      "source": [
        "### Display the count of each categoty of new \"Aging Bucket\" column "
      ],
      "id": "Ui-tyIvU0-5u"
    },
    {
      "cell_type": "code",
      "execution_count": null,
      "metadata": {
        "colab": {
          "base_uri": "https://localhost:8080/"
        },
        "id": "a6e16218",
        "outputId": "e0d275ad-f9a6-4dca-c04d-657a41e17f37"
      },
      "outputs": [
        {
          "output_type": "execute_result",
          "data": {
            "text/plain": [
              "0-15               8601\n",
              "31-45                69\n",
              "16-30                40\n",
              "46-60                 4\n",
              "Greatar than 60       0\n",
              "Name: Aging Bucket, dtype: int64"
            ]
          },
          "metadata": {},
          "execution_count": 157
        }
      ],
      "source": [
        "Final['Aging Bucket'].value_counts()"
      ],
      "id": "a6e16218"
    },
    {
      "cell_type": "markdown",
      "metadata": {
        "id": "kgYegy551GKJ"
      },
      "source": [
        "### Display your final dataset with aging buckets "
      ],
      "id": "kgYegy551GKJ"
    },
    {
      "cell_type": "code",
      "execution_count": null,
      "metadata": {
        "colab": {
          "base_uri": "https://localhost:8080/",
          "height": 679
        },
        "id": "c4bc87ec",
        "outputId": "b5bf0004-4b8d-4dd3-a88b-c50b9666d53e"
      },
      "outputs": [
        {
          "output_type": "execute_result",
          "data": {
            "text/plain": [
              "     business_code  cust_number      name_customer  \\\n",
              "0             U001    200744019            TARG us   \n",
              "1             U001    200418007                AM    \n",
              "2             U001    200739534         OK systems   \n",
              "3             U001    200353024   DECA corporation   \n",
              "4             U001    200744019    TARG associates   \n",
              "...            ...          ...                ...   \n",
              "9676          CA02    140104440     SO corporation   \n",
              "9677          CA02    140104472         MARTIN llc   \n",
              "9678          CA02    140106408   WAL-M associates   \n",
              "9679          CA02    140104472  MARTIN associates   \n",
              "9680          CA02    140104409             LOB co   \n",
              "\n",
              "                        clear_date  buisness_year        doc_id posting_date  \\\n",
              "0    2020-04-06 19:56:35.812500000         2020.0  1.930659e+09   2020-03-19   \n",
              "1    2020-03-27 16:08:25.343750000         2020.0  1.930611e+09   2020-03-11   \n",
              "2    2020-05-01 09:07:57.304687500         2020.0  1.930788e+09   2020-04-15   \n",
              "3    2020-04-22 19:49:08.218750000         2020.0  1.930817e+09   2020-04-23   \n",
              "4    2020-04-07 22:30:39.390625000         2020.0  1.930676e+09   2020-03-21   \n",
              "...                            ...            ...           ...          ...   \n",
              "9676 2020-04-01 15:48:10.656250000         2020.0  2.960622e+09   2020-03-16   \n",
              "9677 2020-03-19 15:33:45.843750000         2020.0  2.960618e+09   2020-03-04   \n",
              "9678 2020-05-02 10:23:39.500000000         2020.0  2.960628e+09   2020-04-12   \n",
              "9679 2020-05-13 02:25:29.937500000         2020.0  2.960628e+09   2020-04-17   \n",
              "9680 2020-05-17 23:19:59.781250000         2020.0  2.960631e+09   2020-04-25   \n",
              "\n",
              "     due_in_date baseline_create_date cust_payment_terms  ...  \\\n",
              "0     2020-04-03           2020-03-19               NAA8  ...   \n",
              "1     2020-03-26           2020-03-11               NAA8  ...   \n",
              "2     2020-04-30           2020-04-15               NAA8  ...   \n",
              "3     2020-04-26           2020-04-16               NAM2  ...   \n",
              "4     2020-04-05           2020-03-21               NAA8  ...   \n",
              "...          ...                  ...                ...  ...   \n",
              "9676  2020-03-28           2020-03-18               CA10  ...   \n",
              "9677  2020-03-16           2020-03-06               CA10  ...   \n",
              "9678  2020-04-22           2020-04-12               CA10  ...   \n",
              "9679  2020-05-02           2020-04-22               CA10  ...   \n",
              "9680  2020-05-15           2020-05-05               CA10  ...   \n",
              "\n",
              "      year_of_postingdate  day_of_cleardate  month_of_cleardate  \\\n",
              "0                    2020               NaN                 NaN   \n",
              "1                    2020               NaN                 NaN   \n",
              "2                    2020               NaN                 NaN   \n",
              "3                    2020               NaN                 NaN   \n",
              "4                    2020               NaN                 NaN   \n",
              "...                   ...               ...                 ...   \n",
              "9676                 2020               NaN                 NaN   \n",
              "9677                 2020               NaN                 NaN   \n",
              "9678                 2020               NaN                 NaN   \n",
              "9679                 2020               NaN                 NaN   \n",
              "9680                 2020               NaN                 NaN   \n",
              "\n",
              "      year_of_cleardate  day_of_baseline_create_date  \\\n",
              "0                   NaN                           19   \n",
              "1                   NaN                           11   \n",
              "2                   NaN                           15   \n",
              "3                   NaN                           16   \n",
              "4                   NaN                           21   \n",
              "...                 ...                          ...   \n",
              "9676                NaN                           18   \n",
              "9677                NaN                            6   \n",
              "9678                NaN                           12   \n",
              "9679                NaN                           22   \n",
              "9680                NaN                            5   \n",
              "\n",
              "      month_of_baseline_create_date  year_of_baseline_create_date  \\\n",
              "0                                 3                          2020   \n",
              "1                                 3                          2020   \n",
              "2                                 4                          2020   \n",
              "3                                 4                          2020   \n",
              "4                                 3                          2020   \n",
              "...                             ...                           ...   \n",
              "9676                              3                          2020   \n",
              "9677                              3                          2020   \n",
              "9678                              4                          2020   \n",
              "9679                              4                          2020   \n",
              "9680                              5                          2020   \n",
              "\n",
              "      cust_payment_terms_enc  name_customer_enc  Aging Bucket  \n",
              "0                         20               2804          0-15  \n",
              "1                         20                 96          0-15  \n",
              "2                         20               2023          0-15  \n",
              "3                         35                717           NaN  \n",
              "4                         20               2795          0-15  \n",
              "...                      ...                ...           ...  \n",
              "9676                       5               2557          0-15  \n",
              "9677                       5               1763          0-15  \n",
              "9678                       5               2994          0-15  \n",
              "9679                       5               2929          0-15  \n",
              "9680                       5               1657          0-15  \n",
              "\n",
              "[9681 rows x 27 columns]"
            ],
            "text/html": [
              "\n",
              "  <div id=\"df-9e7d49df-edf3-4d02-b2d4-5f5dcae020db\">\n",
              "    <div class=\"colab-df-container\">\n",
              "      <div>\n",
              "<style scoped>\n",
              "    .dataframe tbody tr th:only-of-type {\n",
              "        vertical-align: middle;\n",
              "    }\n",
              "\n",
              "    .dataframe tbody tr th {\n",
              "        vertical-align: top;\n",
              "    }\n",
              "\n",
              "    .dataframe thead th {\n",
              "        text-align: right;\n",
              "    }\n",
              "</style>\n",
              "<table border=\"1\" class=\"dataframe\">\n",
              "  <thead>\n",
              "    <tr style=\"text-align: right;\">\n",
              "      <th></th>\n",
              "      <th>business_code</th>\n",
              "      <th>cust_number</th>\n",
              "      <th>name_customer</th>\n",
              "      <th>clear_date</th>\n",
              "      <th>buisness_year</th>\n",
              "      <th>doc_id</th>\n",
              "      <th>posting_date</th>\n",
              "      <th>due_in_date</th>\n",
              "      <th>baseline_create_date</th>\n",
              "      <th>cust_payment_terms</th>\n",
              "      <th>...</th>\n",
              "      <th>year_of_postingdate</th>\n",
              "      <th>day_of_cleardate</th>\n",
              "      <th>month_of_cleardate</th>\n",
              "      <th>year_of_cleardate</th>\n",
              "      <th>day_of_baseline_create_date</th>\n",
              "      <th>month_of_baseline_create_date</th>\n",
              "      <th>year_of_baseline_create_date</th>\n",
              "      <th>cust_payment_terms_enc</th>\n",
              "      <th>name_customer_enc</th>\n",
              "      <th>Aging Bucket</th>\n",
              "    </tr>\n",
              "  </thead>\n",
              "  <tbody>\n",
              "    <tr>\n",
              "      <th>0</th>\n",
              "      <td>U001</td>\n",
              "      <td>200744019</td>\n",
              "      <td>TARG us</td>\n",
              "      <td>2020-04-06 19:56:35.812500000</td>\n",
              "      <td>2020.0</td>\n",
              "      <td>1.930659e+09</td>\n",
              "      <td>2020-03-19</td>\n",
              "      <td>2020-04-03</td>\n",
              "      <td>2020-03-19</td>\n",
              "      <td>NAA8</td>\n",
              "      <td>...</td>\n",
              "      <td>2020</td>\n",
              "      <td>NaN</td>\n",
              "      <td>NaN</td>\n",
              "      <td>NaN</td>\n",
              "      <td>19</td>\n",
              "      <td>3</td>\n",
              "      <td>2020</td>\n",
              "      <td>20</td>\n",
              "      <td>2804</td>\n",
              "      <td>0-15</td>\n",
              "    </tr>\n",
              "    <tr>\n",
              "      <th>1</th>\n",
              "      <td>U001</td>\n",
              "      <td>200418007</td>\n",
              "      <td>AM</td>\n",
              "      <td>2020-03-27 16:08:25.343750000</td>\n",
              "      <td>2020.0</td>\n",
              "      <td>1.930611e+09</td>\n",
              "      <td>2020-03-11</td>\n",
              "      <td>2020-03-26</td>\n",
              "      <td>2020-03-11</td>\n",
              "      <td>NAA8</td>\n",
              "      <td>...</td>\n",
              "      <td>2020</td>\n",
              "      <td>NaN</td>\n",
              "      <td>NaN</td>\n",
              "      <td>NaN</td>\n",
              "      <td>11</td>\n",
              "      <td>3</td>\n",
              "      <td>2020</td>\n",
              "      <td>20</td>\n",
              "      <td>96</td>\n",
              "      <td>0-15</td>\n",
              "    </tr>\n",
              "    <tr>\n",
              "      <th>2</th>\n",
              "      <td>U001</td>\n",
              "      <td>200739534</td>\n",
              "      <td>OK systems</td>\n",
              "      <td>2020-05-01 09:07:57.304687500</td>\n",
              "      <td>2020.0</td>\n",
              "      <td>1.930788e+09</td>\n",
              "      <td>2020-04-15</td>\n",
              "      <td>2020-04-30</td>\n",
              "      <td>2020-04-15</td>\n",
              "      <td>NAA8</td>\n",
              "      <td>...</td>\n",
              "      <td>2020</td>\n",
              "      <td>NaN</td>\n",
              "      <td>NaN</td>\n",
              "      <td>NaN</td>\n",
              "      <td>15</td>\n",
              "      <td>4</td>\n",
              "      <td>2020</td>\n",
              "      <td>20</td>\n",
              "      <td>2023</td>\n",
              "      <td>0-15</td>\n",
              "    </tr>\n",
              "    <tr>\n",
              "      <th>3</th>\n",
              "      <td>U001</td>\n",
              "      <td>200353024</td>\n",
              "      <td>DECA corporation</td>\n",
              "      <td>2020-04-22 19:49:08.218750000</td>\n",
              "      <td>2020.0</td>\n",
              "      <td>1.930817e+09</td>\n",
              "      <td>2020-04-23</td>\n",
              "      <td>2020-04-26</td>\n",
              "      <td>2020-04-16</td>\n",
              "      <td>NAM2</td>\n",
              "      <td>...</td>\n",
              "      <td>2020</td>\n",
              "      <td>NaN</td>\n",
              "      <td>NaN</td>\n",
              "      <td>NaN</td>\n",
              "      <td>16</td>\n",
              "      <td>4</td>\n",
              "      <td>2020</td>\n",
              "      <td>35</td>\n",
              "      <td>717</td>\n",
              "      <td>NaN</td>\n",
              "    </tr>\n",
              "    <tr>\n",
              "      <th>4</th>\n",
              "      <td>U001</td>\n",
              "      <td>200744019</td>\n",
              "      <td>TARG associates</td>\n",
              "      <td>2020-04-07 22:30:39.390625000</td>\n",
              "      <td>2020.0</td>\n",
              "      <td>1.930676e+09</td>\n",
              "      <td>2020-03-21</td>\n",
              "      <td>2020-04-05</td>\n",
              "      <td>2020-03-21</td>\n",
              "      <td>NAA8</td>\n",
              "      <td>...</td>\n",
              "      <td>2020</td>\n",
              "      <td>NaN</td>\n",
              "      <td>NaN</td>\n",
              "      <td>NaN</td>\n",
              "      <td>21</td>\n",
              "      <td>3</td>\n",
              "      <td>2020</td>\n",
              "      <td>20</td>\n",
              "      <td>2795</td>\n",
              "      <td>0-15</td>\n",
              "    </tr>\n",
              "    <tr>\n",
              "      <th>...</th>\n",
              "      <td>...</td>\n",
              "      <td>...</td>\n",
              "      <td>...</td>\n",
              "      <td>...</td>\n",
              "      <td>...</td>\n",
              "      <td>...</td>\n",
              "      <td>...</td>\n",
              "      <td>...</td>\n",
              "      <td>...</td>\n",
              "      <td>...</td>\n",
              "      <td>...</td>\n",
              "      <td>...</td>\n",
              "      <td>...</td>\n",
              "      <td>...</td>\n",
              "      <td>...</td>\n",
              "      <td>...</td>\n",
              "      <td>...</td>\n",
              "      <td>...</td>\n",
              "      <td>...</td>\n",
              "      <td>...</td>\n",
              "      <td>...</td>\n",
              "    </tr>\n",
              "    <tr>\n",
              "      <th>9676</th>\n",
              "      <td>CA02</td>\n",
              "      <td>140104440</td>\n",
              "      <td>SO corporation</td>\n",
              "      <td>2020-04-01 15:48:10.656250000</td>\n",
              "      <td>2020.0</td>\n",
              "      <td>2.960622e+09</td>\n",
              "      <td>2020-03-16</td>\n",
              "      <td>2020-03-28</td>\n",
              "      <td>2020-03-18</td>\n",
              "      <td>CA10</td>\n",
              "      <td>...</td>\n",
              "      <td>2020</td>\n",
              "      <td>NaN</td>\n",
              "      <td>NaN</td>\n",
              "      <td>NaN</td>\n",
              "      <td>18</td>\n",
              "      <td>3</td>\n",
              "      <td>2020</td>\n",
              "      <td>5</td>\n",
              "      <td>2557</td>\n",
              "      <td>0-15</td>\n",
              "    </tr>\n",
              "    <tr>\n",
              "      <th>9677</th>\n",
              "      <td>CA02</td>\n",
              "      <td>140104472</td>\n",
              "      <td>MARTIN llc</td>\n",
              "      <td>2020-03-19 15:33:45.843750000</td>\n",
              "      <td>2020.0</td>\n",
              "      <td>2.960618e+09</td>\n",
              "      <td>2020-03-04</td>\n",
              "      <td>2020-03-16</td>\n",
              "      <td>2020-03-06</td>\n",
              "      <td>CA10</td>\n",
              "      <td>...</td>\n",
              "      <td>2020</td>\n",
              "      <td>NaN</td>\n",
              "      <td>NaN</td>\n",
              "      <td>NaN</td>\n",
              "      <td>6</td>\n",
              "      <td>3</td>\n",
              "      <td>2020</td>\n",
              "      <td>5</td>\n",
              "      <td>1763</td>\n",
              "      <td>0-15</td>\n",
              "    </tr>\n",
              "    <tr>\n",
              "      <th>9678</th>\n",
              "      <td>CA02</td>\n",
              "      <td>140106408</td>\n",
              "      <td>WAL-M associates</td>\n",
              "      <td>2020-05-02 10:23:39.500000000</td>\n",
              "      <td>2020.0</td>\n",
              "      <td>2.960628e+09</td>\n",
              "      <td>2020-04-12</td>\n",
              "      <td>2020-04-22</td>\n",
              "      <td>2020-04-12</td>\n",
              "      <td>CA10</td>\n",
              "      <td>...</td>\n",
              "      <td>2020</td>\n",
              "      <td>NaN</td>\n",
              "      <td>NaN</td>\n",
              "      <td>NaN</td>\n",
              "      <td>12</td>\n",
              "      <td>4</td>\n",
              "      <td>2020</td>\n",
              "      <td>5</td>\n",
              "      <td>2994</td>\n",
              "      <td>0-15</td>\n",
              "    </tr>\n",
              "    <tr>\n",
              "      <th>9679</th>\n",
              "      <td>CA02</td>\n",
              "      <td>140104472</td>\n",
              "      <td>MARTIN associates</td>\n",
              "      <td>2020-05-13 02:25:29.937500000</td>\n",
              "      <td>2020.0</td>\n",
              "      <td>2.960628e+09</td>\n",
              "      <td>2020-04-17</td>\n",
              "      <td>2020-05-02</td>\n",
              "      <td>2020-04-22</td>\n",
              "      <td>CA10</td>\n",
              "      <td>...</td>\n",
              "      <td>2020</td>\n",
              "      <td>NaN</td>\n",
              "      <td>NaN</td>\n",
              "      <td>NaN</td>\n",
              "      <td>22</td>\n",
              "      <td>4</td>\n",
              "      <td>2020</td>\n",
              "      <td>5</td>\n",
              "      <td>2929</td>\n",
              "      <td>0-15</td>\n",
              "    </tr>\n",
              "    <tr>\n",
              "      <th>9680</th>\n",
              "      <td>CA02</td>\n",
              "      <td>140104409</td>\n",
              "      <td>LOB co</td>\n",
              "      <td>2020-05-17 23:19:59.781250000</td>\n",
              "      <td>2020.0</td>\n",
              "      <td>2.960631e+09</td>\n",
              "      <td>2020-04-25</td>\n",
              "      <td>2020-05-15</td>\n",
              "      <td>2020-05-05</td>\n",
              "      <td>CA10</td>\n",
              "      <td>...</td>\n",
              "      <td>2020</td>\n",
              "      <td>NaN</td>\n",
              "      <td>NaN</td>\n",
              "      <td>NaN</td>\n",
              "      <td>5</td>\n",
              "      <td>5</td>\n",
              "      <td>2020</td>\n",
              "      <td>5</td>\n",
              "      <td>1657</td>\n",
              "      <td>0-15</td>\n",
              "    </tr>\n",
              "  </tbody>\n",
              "</table>\n",
              "<p>9681 rows × 27 columns</p>\n",
              "</div>\n",
              "      <button class=\"colab-df-convert\" onclick=\"convertToInteractive('df-9e7d49df-edf3-4d02-b2d4-5f5dcae020db')\"\n",
              "              title=\"Convert this dataframe to an interactive table.\"\n",
              "              style=\"display:none;\">\n",
              "        \n",
              "  <svg xmlns=\"http://www.w3.org/2000/svg\" height=\"24px\"viewBox=\"0 0 24 24\"\n",
              "       width=\"24px\">\n",
              "    <path d=\"M0 0h24v24H0V0z\" fill=\"none\"/>\n",
              "    <path d=\"M18.56 5.44l.94 2.06.94-2.06 2.06-.94-2.06-.94-.94-2.06-.94 2.06-2.06.94zm-11 1L8.5 8.5l.94-2.06 2.06-.94-2.06-.94L8.5 2.5l-.94 2.06-2.06.94zm10 10l.94 2.06.94-2.06 2.06-.94-2.06-.94-.94-2.06-.94 2.06-2.06.94z\"/><path d=\"M17.41 7.96l-1.37-1.37c-.4-.4-.92-.59-1.43-.59-.52 0-1.04.2-1.43.59L10.3 9.45l-7.72 7.72c-.78.78-.78 2.05 0 2.83L4 21.41c.39.39.9.59 1.41.59.51 0 1.02-.2 1.41-.59l7.78-7.78 2.81-2.81c.8-.78.8-2.07 0-2.86zM5.41 20L4 18.59l7.72-7.72 1.47 1.35L5.41 20z\"/>\n",
              "  </svg>\n",
              "      </button>\n",
              "      \n",
              "  <style>\n",
              "    .colab-df-container {\n",
              "      display:flex;\n",
              "      flex-wrap:wrap;\n",
              "      gap: 12px;\n",
              "    }\n",
              "\n",
              "    .colab-df-convert {\n",
              "      background-color: #E8F0FE;\n",
              "      border: none;\n",
              "      border-radius: 50%;\n",
              "      cursor: pointer;\n",
              "      display: none;\n",
              "      fill: #1967D2;\n",
              "      height: 32px;\n",
              "      padding: 0 0 0 0;\n",
              "      width: 32px;\n",
              "    }\n",
              "\n",
              "    .colab-df-convert:hover {\n",
              "      background-color: #E2EBFA;\n",
              "      box-shadow: 0px 1px 2px rgba(60, 64, 67, 0.3), 0px 1px 3px 1px rgba(60, 64, 67, 0.15);\n",
              "      fill: #174EA6;\n",
              "    }\n",
              "\n",
              "    [theme=dark] .colab-df-convert {\n",
              "      background-color: #3B4455;\n",
              "      fill: #D2E3FC;\n",
              "    }\n",
              "\n",
              "    [theme=dark] .colab-df-convert:hover {\n",
              "      background-color: #434B5C;\n",
              "      box-shadow: 0px 1px 3px 1px rgba(0, 0, 0, 0.15);\n",
              "      filter: drop-shadow(0px 1px 2px rgba(0, 0, 0, 0.3));\n",
              "      fill: #FFFFFF;\n",
              "    }\n",
              "  </style>\n",
              "\n",
              "      <script>\n",
              "        const buttonEl =\n",
              "          document.querySelector('#df-9e7d49df-edf3-4d02-b2d4-5f5dcae020db button.colab-df-convert');\n",
              "        buttonEl.style.display =\n",
              "          google.colab.kernel.accessAllowed ? 'block' : 'none';\n",
              "\n",
              "        async function convertToInteractive(key) {\n",
              "          const element = document.querySelector('#df-9e7d49df-edf3-4d02-b2d4-5f5dcae020db');\n",
              "          const dataTable =\n",
              "            await google.colab.kernel.invokeFunction('convertToInteractive',\n",
              "                                                     [key], {});\n",
              "          if (!dataTable) return;\n",
              "\n",
              "          const docLinkHtml = 'Like what you see? Visit the ' +\n",
              "            '<a target=\"_blank\" href=https://colab.research.google.com/notebooks/data_table.ipynb>data table notebook</a>'\n",
              "            + ' to learn more about interactive tables.';\n",
              "          element.innerHTML = '';\n",
              "          dataTable['output_type'] = 'display_data';\n",
              "          await google.colab.output.renderOutput(dataTable, element);\n",
              "          const docLink = document.createElement('div');\n",
              "          docLink.innerHTML = docLinkHtml;\n",
              "          element.appendChild(docLink);\n",
              "        }\n",
              "      </script>\n",
              "    </div>\n",
              "  </div>\n",
              "  "
            ]
          },
          "metadata": {},
          "execution_count": 158
        }
      ],
      "source": [
        "Final"
      ],
      "id": "c4bc87ec"
    },
    {
      "cell_type": "markdown",
      "metadata": {
        "id": "Ji7AoDCB1L_x"
      },
      "source": [
        "### Store this dataframe into the .csv format"
      ],
      "id": "Ji7AoDCB1L_x"
    },
    {
      "cell_type": "code",
      "execution_count": null,
      "metadata": {
        "id": "727d0b8d"
      },
      "outputs": [],
      "source": [
        "Final.to_csv('Final_data.csv', index=False)"
      ],
      "id": "727d0b8d"
    },
    {
      "cell_type": "markdown",
      "metadata": {
        "id": "FK0fabl61SkC"
      },
      "source": [
        "# END OF THE PROJECT"
      ],
      "id": "FK0fabl61SkC"
    }
  ],
  "metadata": {
    "colab": {
      "collapsed_sections": [
        "62633a84"
      ],
      "name": "HR_Payment_date_prediction.ipynb",
      "provenance": []
    },
    "kernelspec": {
      "display_name": "Python 3",
      "language": "python",
      "name": "python3"
    },
    "language_info": {
      "codemirror_mode": {
        "name": "ipython",
        "version": 3
      },
      "file_extension": ".py",
      "mimetype": "text/x-python",
      "name": "python",
      "nbconvert_exporter": "python",
      "pygments_lexer": "ipython3",
      "version": "3.8.8"
    }
  },
  "nbformat": 4,
  "nbformat_minor": 5
}